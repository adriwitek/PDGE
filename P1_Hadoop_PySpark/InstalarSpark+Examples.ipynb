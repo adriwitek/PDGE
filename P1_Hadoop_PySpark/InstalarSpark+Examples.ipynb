{
  "nbformat": 4,
  "nbformat_minor": 0,
  "metadata": {
    "colab": {
      "name": "InstalarSpark+Examples.ipynb",
      "provenance": [],
      "collapsed_sections": [
        "GJ_OaFzTPIpZ"
      ]
    },
    "kernelspec": {
      "display_name": "Python 3",
      "language": "python",
      "name": "python3"
    },
    "language_info": {
      "codemirror_mode": {
        "name": "ipython",
        "version": 3
      },
      "file_extension": ".py",
      "mimetype": "text/x-python",
      "name": "python",
      "nbconvert_exporter": "python",
      "pygments_lexer": "ipython3",
      "version": "3.8.5"
    }
  },
  "cells": [
    {
      "cell_type": "markdown",
      "metadata": {
        "id": "6aD1ALMdAy6O"
      },
      "source": [
        "# PySpark en Google Colab\n",
        "\n",
        "Instalacion Octubre/2021\n",
        "\n",
        "1.   Instalacion Java\n",
        "2.   Instalacion de Spark\n",
        "3.   Instalar PySpark\n",
        "\n",
        "## De forma General para usar pyspark en Colab (2021) siga los siguientes pasos en una celda en Colab:"
      ]
    },
    {
      "cell_type": "code",
      "metadata": {
        "id": "8JuWZdteAmvv"
      },
      "source": [
        "# instalar Java\n",
        "!apt-get install openjdk-8-jdk-headless -qq > /dev/null\n"
      ],
      "execution_count": 16,
      "outputs": []
    },
    {
      "cell_type": "code",
      "metadata": {
        "id": "SoApfKfpRunp"
      },
      "source": [
        "# Descargar la ultima versión de java ( comprobar que existen los path de descarga)\n",
        "# Download latest release. Update if necessary\n",
        "\n",
        "!wget -q https://downloads.apache.org/spark/spark-3.1.2/spark-3.1.2-bin-hadoop2.7.tgz"
      ],
      "execution_count": 17,
      "outputs": []
    },
    {
      "cell_type": "code",
      "metadata": {
        "id": "PzHJ0bpuN-od",
        "colab": {
          "base_uri": "https://localhost:8080/"
        },
        "outputId": "c97359b9-204b-4fcd-f46f-3edd92e23a58"
      },
      "source": [
        "%ls -la /content/\n",
        "\n"
      ],
      "execution_count": 18,
      "outputs": [
        {
          "output_type": "stream",
          "name": "stdout",
          "text": [
            "total 438396\n",
            "drwxr-xr-x  1 root root      4096 Oct  5 07:52 \u001b[0m\u001b[01;34m.\u001b[0m/\n",
            "drwxr-xr-x  1 root root      4096 Oct  5 06:54 \u001b[01;34m..\u001b[0m/\n",
            "drwxr-xr-x  4 root root      4096 Sep 30 17:11 \u001b[01;34m.config\u001b[0m/\n",
            "drwxr-xr-x  1 root root      4096 Sep 30 17:12 \u001b[01;34msample_data\u001b[0m/\n",
            "drwxr-xr-x 13 1000 1000      4096 May 24 05:00 \u001b[01;34mspark-3.1.2-bin-hadoop2.7\u001b[0m/\n",
            "-rw-r--r--  1 root root 224445805 May 24 05:01 spark-3.1.2-bin-hadoop2.7.tgz\n",
            "-rw-r--r--  1 root root 224445805 May 24 05:01 spark-3.1.2-bin-hadoop2.7.tgz.1\n"
          ]
        }
      ]
    },
    {
      "cell_type": "code",
      "metadata": {
        "id": "uXpriDwJLP1I"
      },
      "source": [
        "!tar xf spark-3.1.2-bin-hadoop2.7.tgz"
      ],
      "execution_count": 19,
      "outputs": []
    },
    {
      "cell_type": "code",
      "metadata": {
        "id": "aRYGR8EsycZ1",
        "colab": {
          "base_uri": "https://localhost:8080/"
        },
        "outputId": "bbb3b135-f7bf-4ef8-e679-aa543c478efe"
      },
      "source": [
        "%ls -la"
      ],
      "execution_count": 20,
      "outputs": [
        {
          "output_type": "stream",
          "name": "stdout",
          "text": [
            "total 438396\n",
            "drwxr-xr-x  1 root root      4096 Oct  5 07:52 \u001b[0m\u001b[01;34m.\u001b[0m/\n",
            "drwxr-xr-x  1 root root      4096 Oct  5 06:54 \u001b[01;34m..\u001b[0m/\n",
            "drwxr-xr-x  4 root root      4096 Sep 30 17:11 \u001b[01;34m.config\u001b[0m/\n",
            "drwxr-xr-x  1 root root      4096 Sep 30 17:12 \u001b[01;34msample_data\u001b[0m/\n",
            "drwxr-xr-x 13 1000 1000      4096 May 24 05:00 \u001b[01;34mspark-3.1.2-bin-hadoop2.7\u001b[0m/\n",
            "-rw-r--r--  1 root root 224445805 May 24 05:01 spark-3.1.2-bin-hadoop2.7.tgz\n",
            "-rw-r--r--  1 root root 224445805 May 24 05:01 spark-3.1.2-bin-hadoop2.7.tgz.1\n"
          ]
        }
      ]
    },
    {
      "cell_type": "markdown",
      "metadata": {
        "id": "7Qih8Kt1MJla"
      },
      "source": [
        ""
      ]
    },
    {
      "cell_type": "code",
      "metadata": {
        "id": "gKlOUyKuMEr7"
      },
      "source": [
        "# instalar pyspark\n",
        "!pip install -q pyspark"
      ],
      "execution_count": 21,
      "outputs": []
    },
    {
      "cell_type": "markdown",
      "metadata": {
        "id": "EzkJ4JKkCgno"
      },
      "source": [
        "# Variables de entorno"
      ]
    },
    {
      "cell_type": "code",
      "metadata": {
        "id": "WVEIOATyCYc6"
      },
      "source": [
        "import os # libreria de manejo del sistema operativo\n",
        "os.environ[\"JAVA_HOME\"] = \"/usr/lib/jvm/java-8-openjdk-amd64\"\n",
        "os.environ[\"SPARK_HOME\"] = \"/content/spark-3.1.2-bin-hadoop2.7\""
      ],
      "execution_count": 22,
      "outputs": []
    },
    {
      "cell_type": "markdown",
      "metadata": {
        "id": "9UCH8MwWGA-Q"
      },
      "source": [
        "# Cargar pyspark en el sistema"
      ]
    },
    {
      "cell_type": "code",
      "metadata": {
        "id": "38_3RcUSCiwb",
        "colab": {
          "base_uri": "https://localhost:8080/",
          "height": 219
        },
        "outputId": "a757a94d-960e-40f0-c869-b62690c1bd48"
      },
      "source": [
        "from pyspark.sql import SparkSession\n",
        "\n",
        "APP_NAME = \"PDGE-tutorialSpark1\"\n",
        "SPARK_URL = \"local[*]\"\n",
        "spark = SparkSession.builder.appName(APP_NAME).master(SPARK_URL).getOrCreate()\n",
        "spark"
      ],
      "execution_count": 23,
      "outputs": [
        {
          "output_type": "execute_result",
          "data": {
            "text/html": [
              "\n",
              "            <div>\n",
              "                <p><b>SparkSession - in-memory</b></p>\n",
              "                \n",
              "        <div>\n",
              "            <p><b>SparkContext</b></p>\n",
              "\n",
              "            <p><a href=\"http://e8f8c5e00a2d:4040\">Spark UI</a></p>\n",
              "\n",
              "            <dl>\n",
              "              <dt>Version</dt>\n",
              "                <dd><code>v3.1.2</code></dd>\n",
              "              <dt>Master</dt>\n",
              "                <dd><code>local[*]</code></dd>\n",
              "              <dt>AppName</dt>\n",
              "                <dd><code>PDGE-tutorialSpark1</code></dd>\n",
              "            </dl>\n",
              "        </div>\n",
              "        \n",
              "            </div>\n",
              "        "
            ],
            "text/plain": [
              "<pyspark.sql.session.SparkSession at 0x7ff36afb6450>"
            ]
          },
          "metadata": {},
          "execution_count": 23
        }
      ]
    },
    {
      "cell_type": "markdown",
      "metadata": {
        "id": "TX-3Z9fcy5bB"
      },
      "source": [
        "Pruebas\n"
      ]
    },
    {
      "cell_type": "code",
      "metadata": {
        "colab": {
          "base_uri": "https://localhost:8080/",
          "height": 196
        },
        "id": "zRK16gv0zAnN",
        "outputId": "702223b2-5ea1-4774-fc51-a8924a1aa0ab"
      },
      "source": [
        "sc = spark.sparkContext\n",
        "#obtener el contexto de ejecución de Spark del Driver.\n",
        "sc"
      ],
      "execution_count": 24,
      "outputs": [
        {
          "output_type": "execute_result",
          "data": {
            "text/html": [
              "\n",
              "        <div>\n",
              "            <p><b>SparkContext</b></p>\n",
              "\n",
              "            <p><a href=\"http://e8f8c5e00a2d:4040\">Spark UI</a></p>\n",
              "\n",
              "            <dl>\n",
              "              <dt>Version</dt>\n",
              "                <dd><code>v3.1.2</code></dd>\n",
              "              <dt>Master</dt>\n",
              "                <dd><code>local[*]</code></dd>\n",
              "              <dt>AppName</dt>\n",
              "                <dd><code>PDGE-tutorialSpark1</code></dd>\n",
              "            </dl>\n",
              "        </div>\n",
              "        "
            ],
            "text/plain": [
              "<SparkContext master=local[*] appName=PDGE-tutorialSpark1>"
            ]
          },
          "metadata": {},
          "execution_count": 24
        }
      ]
    },
    {
      "cell_type": "code",
      "metadata": {
        "id": "DoAGmb4GY829",
        "colab": {
          "base_uri": "https://localhost:8080/"
        },
        "outputId": "a8dc907e-9ead-492b-80bd-204638dea160"
      },
      "source": [
        "array = sc.parallelize([1,2,3,4,5,6,7,8,9,10], 2)\n",
        "array"
      ],
      "execution_count": 25,
      "outputs": [
        {
          "output_type": "execute_result",
          "data": {
            "text/plain": [
              "ParallelCollectionRDD[4] at readRDDFromFile at PythonRDD.scala:274"
            ]
          },
          "metadata": {},
          "execution_count": 25
        }
      ]
    },
    {
      "cell_type": "code",
      "metadata": {
        "id": "eOLHf13HZ2h1",
        "colab": {
          "base_uri": "https://localhost:8080/"
        },
        "outputId": "78bc0aeb-bbca-419a-abd7-55697bbfbe79"
      },
      "source": [
        "print(array.collect())"
      ],
      "execution_count": 26,
      "outputs": [
        {
          "output_type": "stream",
          "name": "stdout",
          "text": [
            "[1, 2, 3, 4, 5, 6, 7, 8, 9, 10]\n"
          ]
        }
      ]
    },
    {
      "cell_type": "code",
      "metadata": {
        "id": "iuZ5GDGqVwrS",
        "colab": {
          "base_uri": "https://localhost:8080/"
        },
        "outputId": "9a7a5ed0-14cb-46b6-9860-69f2ce9da0b1"
      },
      "source": [
        "print(array.count())\n"
      ],
      "execution_count": 27,
      "outputs": [
        {
          "output_type": "stream",
          "name": "stdout",
          "text": [
            "10\n"
          ]
        }
      ]
    },
    {
      "cell_type": "code",
      "metadata": {
        "id": "gy-anBhZ4f0-"
      },
      "source": [
        "num3 = array.map(lambda elemento: 3*elemento)"
      ],
      "execution_count": 28,
      "outputs": []
    },
    {
      "cell_type": "code",
      "metadata": {
        "id": "MKCuCvPI4sgZ",
        "colab": {
          "base_uri": "https://localhost:8080/"
        },
        "outputId": "7a84a10f-6e1a-45cd-e794-434eab494c47"
      },
      "source": [
        "print(num3.collect())"
      ],
      "execution_count": 29,
      "outputs": [
        {
          "output_type": "stream",
          "name": "stdout",
          "text": [
            "[3, 6, 9, 12, 15, 18, 21, 24, 27, 30]\n"
          ]
        }
      ]
    },
    {
      "cell_type": "markdown",
      "metadata": {
        "id": "ogJwPyVjZWcd"
      },
      "source": [
        "# Ejemplos de operaciones con RDDs de Spark"
      ]
    },
    {
      "cell_type": "code",
      "metadata": {
        "id": "h_sTML7yZzuH",
        "colab": {
          "base_uri": "https://localhost:8080/"
        },
        "outputId": "703156d3-2d31-4989-fb9d-4aadcb2449b1"
      },
      "source": [
        "numeros = sc.parallelize([1,2,3,4,5,6,7,8,9,10],2)\n",
        "\n",
        "print(numeros.reduce(lambda e1,e2: e1+e2))"
      ],
      "execution_count": 30,
      "outputs": [
        {
          "output_type": "stream",
          "name": "stdout",
          "text": [
            "55\n"
          ]
        }
      ]
    },
    {
      "cell_type": "code",
      "metadata": {
        "id": "7PjaW8UhaPoj",
        "colab": {
          "base_uri": "https://localhost:8080/"
        },
        "outputId": "a090dbc3-0ec5-4b32-bf5a-b5fc89c8bee4"
      },
      "source": [
        "pnumeros = sc.parallelize([1,2,3,4,5,6,7,8,9,10])\n",
        "\n",
        "rdd = pnumeros.map(lambda e: 2*e)\n",
        "\n",
        "print(rdd.collect())\n"
      ],
      "execution_count": 31,
      "outputs": [
        {
          "output_type": "stream",
          "name": "stdout",
          "text": [
            "[2, 4, 6, 8, 10, 12, 14, 16, 18, 20]\n"
          ]
        }
      ]
    },
    {
      "cell_type": "markdown",
      "metadata": {
        "id": "7EObylHIaZKC"
      },
      "source": [
        "## Pregunta TS1.1 ¿Cómo hacer para obtener una lista de los elementos al cuadrado?"
      ]
    },
    {
      "cell_type": "code",
      "metadata": {
        "id": "320brSCvaj9N",
        "colab": {
          "base_uri": "https://localhost:8080/"
        },
        "outputId": "55fbb4c7-0476-4f07-ab9a-849eba2b85d2"
      },
      "source": [
        "#Mapeamos un lambda \n",
        "pnumeros = sc.parallelize([1,2,3,4,5,6,7,8,9,10])\n",
        "\n",
        "rdd = pnumeros.map(lambda e: e**2)\n",
        "\n",
        "print(rdd.collect())"
      ],
      "execution_count": 32,
      "outputs": [
        {
          "output_type": "stream",
          "name": "stdout",
          "text": [
            "[1, 4, 9, 16, 25, 36, 49, 64, 81, 100]\n"
          ]
        }
      ]
    },
    {
      "cell_type": "code",
      "metadata": {
        "id": "IpED25-ga6MX",
        "colab": {
          "base_uri": "https://localhost:8080/"
        },
        "outputId": "f81e71dc-afb3-4fbf-b27e-40171900c8b1"
      },
      "source": [
        "numeros = sc.parallelize([1,2,3,4,5,6,7,8,9,10])\n",
        "\n",
        "rdd = numeros.filter(lambda elemento: elemento%2==0)\n",
        "\n",
        "print (rdd.collect())"
      ],
      "execution_count": 33,
      "outputs": [
        {
          "output_type": "stream",
          "name": "stdout",
          "text": [
            "[2, 4, 6, 8, 10]\n"
          ]
        }
      ]
    },
    {
      "cell_type": "markdown",
      "metadata": {
        "id": "2LtU6J3ia8Hw"
      },
      "source": [
        "## Pregunta TS1.2 ¿Cómo filtrar los impares?"
      ]
    },
    {
      "cell_type": "code",
      "metadata": {
        "id": "r5pQG0VDZzkY",
        "colab": {
          "base_uri": "https://localhost:8080/"
        },
        "outputId": "5bc3a0cd-eab6-43c7-82d7-b7d4ab680beb"
      },
      "source": [
        "rddi = numeros.filter (lambda e: e%2==1)\n",
        "print (rddi.collect())"
      ],
      "execution_count": 34,
      "outputs": [
        {
          "output_type": "stream",
          "name": "stdout",
          "text": [
            "[1, 3, 5, 7, 9]\n"
          ]
        }
      ]
    },
    {
      "cell_type": "markdown",
      "metadata": {
        "id": "qc_udeL9kDXu"
      },
      "source": [
        "#Operaciones con números"
      ]
    },
    {
      "cell_type": "markdown",
      "metadata": {
        "id": "RsbMVChlP5r0"
      },
      "source": [
        "Sumar n numeros"
      ]
    },
    {
      "cell_type": "code",
      "metadata": {
        "id": "ial-4tcjjMUj",
        "colab": {
          "base_uri": "https://localhost:8080/"
        },
        "outputId": "342f43cf-dfb5-406f-c87c-7c47e9b56bf3"
      },
      "source": [
        "rddnum=sc.range(1000000)\n",
        "rddnum.reduce(lambda a,b: a+b)"
      ],
      "execution_count": 35,
      "outputs": [
        {
          "output_type": "execute_result",
          "data": {
            "text/plain": [
              "499999500000"
            ]
          },
          "metadata": {},
          "execution_count": 35
        }
      ]
    },
    {
      "cell_type": "code",
      "metadata": {
        "id": "EYsRY4yMoB3C",
        "colab": {
          "base_uri": "https://localhost:8080/"
        },
        "outputId": "e141e0e7-e365-4ecf-a945-7b9e831853fe"
      },
      "source": [
        "numeros = sc.parallelize([1,1,2,2,5])\n",
        "\n",
        "unicos = numeros.distinct()\n",
        "\n",
        "print (unicos.collect())"
      ],
      "execution_count": 36,
      "outputs": [
        {
          "output_type": "stream",
          "name": "stdout",
          "text": [
            "[2, 1, 5]\n"
          ]
        }
      ]
    },
    {
      "cell_type": "code",
      "metadata": {
        "id": "5uRY-KHycVim",
        "colab": {
          "base_uri": "https://localhost:8080/"
        },
        "outputId": "0d829a6b-a106-4068-b72f-cd207caaccb8"
      },
      "source": [
        "numeros = sc.parallelize([1,2,3,4,5])\n",
        "\n",
        "rdd = numeros.flatMap(lambda elemento: [elemento, 10*elemento])\n",
        "\n",
        "print (rdd.collect())"
      ],
      "execution_count": 37,
      "outputs": [
        {
          "output_type": "stream",
          "name": "stdout",
          "text": [
            "[1, 10, 2, 20, 3, 30, 4, 40, 5, 50]\n"
          ]
        }
      ]
    },
    {
      "cell_type": "markdown",
      "metadata": {
        "id": "2Iz55urM7Kl3"
      },
      "source": [
        "Muestreo"
      ]
    },
    {
      "cell_type": "code",
      "metadata": {
        "id": "4m70js9d7N8x",
        "colab": {
          "base_uri": "https://localhost:8080/"
        },
        "outputId": "e8cb7999-76eb-458b-a615-1cc89f999a8b"
      },
      "source": [
        "numeros = sc.parallelize([1,2,3,4,5,6,7,8,9,10])\n",
        "\n",
        "rdd = numeros.sample(True, 1.0)\n",
        "# True = sin reemplazar\n",
        "# 1.0 = fracción de elementos = 100%\n",
        "print (rdd.collect())"
      ],
      "execution_count": 38,
      "outputs": [
        {
          "output_type": "stream",
          "name": "stdout",
          "text": [
            "[1, 2, 2, 3, 3, 5, 5, 6, 7, 8, 8, 8, 9]\n"
          ]
        }
      ]
    },
    {
      "cell_type": "markdown",
      "metadata": {
        "id": "6MlNG4--Pns0"
      },
      "source": [
        "Union "
      ]
    },
    {
      "cell_type": "code",
      "metadata": {
        "id": "Nib7-OKadSEn",
        "colab": {
          "base_uri": "https://localhost:8080/"
        },
        "outputId": "d5784138-8c43-4db5-a5f4-0508b4ac3951"
      },
      "source": [
        "pares = sc.parallelize([2,4,6,8,10])\n",
        "impares = sc.parallelize([1,3,5,7,9])\n",
        "\n",
        "numeros = pares.union(impares)\n",
        "\n",
        "print (numeros.collect())"
      ],
      "execution_count": 39,
      "outputs": [
        {
          "output_type": "stream",
          "name": "stdout",
          "text": [
            "[2, 4, 6, 8, 10, 1, 3, 5, 7, 9]\n"
          ]
        }
      ]
    },
    {
      "cell_type": "markdown",
      "metadata": {
        "id": "YexhndIY7ikM"
      },
      "source": [
        "reducción\n"
      ]
    },
    {
      "cell_type": "code",
      "metadata": {
        "id": "x3R31PVc7k_L",
        "colab": {
          "base_uri": "https://localhost:8080/"
        },
        "outputId": "081264d4-dcf9-4d1a-9f69-fb3211efca14"
      },
      "source": [
        "numeros = sc.parallelize([1,2,3,4,5])\n",
        "# operación asociativa y conmutativa\n",
        "# orden no está definido\n",
        "print (numeros.reduce(lambda elem1,elem2: elem2+elem1))"
      ],
      "execution_count": 40,
      "outputs": [
        {
          "output_type": "stream",
          "name": "stdout",
          "text": [
            "15\n"
          ]
        }
      ]
    },
    {
      "cell_type": "markdown",
      "metadata": {
        "id": "Z-KQK9fj78uU"
      },
      "source": [
        "## Pregunta TS1.3 ¿Tiene sentido esta operación? ¿Si se repite se obtiene siempre el mismo resultado?"
      ]
    },
    {
      "cell_type": "markdown",
      "metadata": {
        "id": "FlHkVk31D9aM"
      },
      "source": [
        "No, no tiene sentido ya que la función pasada a reduce debe de ser asociativa y conmutativa. En este caso es una resta, que no tiene ninguna de las 2 propiedades. Dado que en reduce el orden no está definido, al parelelizar, cada vez que hacemos la operación obtenemos resultados distintos"
      ]
    },
    {
      "cell_type": "code",
      "metadata": {
        "id": "Gvr3unXn8NOO",
        "colab": {
          "base_uri": "https://localhost:8080/"
        },
        "outputId": "ea57e5de-9b94-4f8a-d003-e5d72fde5efe"
      },
      "source": [
        "#Tiene sentido esta operación?\n",
        "numeros = sc.parallelize([1,2,3,4,5])\n",
        "\n",
        "print (numeros.reduce(lambda elem1,elem2: elem1-elem2))"
      ],
      "execution_count": 41,
      "outputs": [
        {
          "output_type": "stream",
          "name": "stdout",
          "text": [
            "5\n"
          ]
        }
      ]
    },
    {
      "cell_type": "code",
      "metadata": {
        "id": "A6c147To8T4s",
        "colab": {
          "base_uri": "https://localhost:8080/"
        },
        "outputId": "4f4d17f1-866f-4486-d266-cfcf2dce60b4"
      },
      "source": [
        "#Tiene sentido esta operación?\n",
        "numeros = sc.parallelize([1,2,4,3,5])\n",
        "\n",
        "print (numeros.reduce(lambda elem1,elem2: elem1-elem2))"
      ],
      "execution_count": 42,
      "outputs": [
        {
          "output_type": "stream",
          "name": "stdout",
          "text": [
            "3\n"
          ]
        }
      ]
    },
    {
      "cell_type": "markdown",
      "metadata": {
        "id": "c9iVsHyW8lBj"
      },
      "source": [
        "#Acciones"
      ]
    },
    {
      "cell_type": "code",
      "metadata": {
        "id": "vNyMypQj8o__",
        "colab": {
          "base_uri": "https://localhost:8080/"
        },
        "outputId": "e7184624-572d-4ab6-ebe6-1d4936ebfbf1"
      },
      "source": [
        "numeros = sc.parallelize([5,3,2,1,4])\n",
        "\n",
        "print (numeros.take(3))\n",
        "#¿Qué sucede si ponemos 30 en vez de 3 elementos?"
      ],
      "execution_count": 43,
      "outputs": [
        {
          "output_type": "stream",
          "name": "stdout",
          "text": [
            "[5, 3, 2]\n"
          ]
        }
      ]
    },
    {
      "cell_type": "markdown",
      "metadata": {
        "id": "AXVLmTJTEhm9"
      },
      "source": [
        "Que obtenemos el mismo resultado ya que take solo toma los n primeros elementos, en este caso los 3 primeros"
      ]
    },
    {
      "cell_type": "code",
      "metadata": {
        "id": "RRuJczUX8kSv",
        "colab": {
          "base_uri": "https://localhost:8080/"
        },
        "outputId": "f47c64d9-8e5a-4558-e7fe-aae5ba0eb5ae"
      },
      "source": [
        "numeros = sc.parallelize([3,2,1,4,5])\n",
        "# \n",
        "print (numeros.takeOrdered(3, lambda elem: -elem))\n",
        "# La función lambda se está utilizando para crear el índice de la lista de ordenación "
      ],
      "execution_count": 44,
      "outputs": [
        {
          "output_type": "stream",
          "name": "stdout",
          "text": [
            "[5, 4, 3]\n"
          ]
        }
      ]
    },
    {
      "cell_type": "markdown",
      "metadata": {
        "id": "ltQB9md2ME1l"
      },
      "source": [
        "## Pregunta TS1.4 ¿Cómo lo ordenarías para que primero aparezcan los impares y luego los pares?"
      ]
    },
    {
      "cell_type": "code",
      "metadata": {
        "id": "BIaKzQy1M98H",
        "colab": {
          "base_uri": "https://localhost:8080/"
        },
        "outputId": "da3a8d0c-60ee-4fa3-a1b9-6b2bd3bfce18"
      },
      "source": [
        "numeros = sc.parallelize([1,2,3,4,5,6,7,8,9,10])\n",
        "pares = numeros.filter(lambda e: e%2==0)\n",
        "impares = numeros.filter(lambda e: e%2==1)\n",
        "nums_ordenados_impar_par = impares.union(pares)\n",
        "\n",
        "nums_ordenados_impar_par.collect()"
      ],
      "execution_count": 45,
      "outputs": [
        {
          "output_type": "execute_result",
          "data": {
            "text/plain": [
              "[1, 3, 5, 7, 9, 2, 4, 6, 8, 10]"
            ]
          },
          "metadata": {},
          "execution_count": 45
        }
      ]
    },
    {
      "cell_type": "markdown",
      "metadata": {
        "id": "ctm29gO0ZIbZ"
      },
      "source": [
        "# RDDs con string"
      ]
    },
    {
      "cell_type": "code",
      "metadata": {
        "id": "wzdO64iKaC1q",
        "colab": {
          "base_uri": "https://localhost:8080/"
        },
        "outputId": "e1b060d3-a11d-49bc-821b-6d6c0042bac0"
      },
      "source": [
        "palabras = sc.parallelize(['HOLA', 'Que', 'TAL', 'Bien'])\n",
        "\n",
        "pal_minus = palabras.map(lambda elemento: elemento.lower())\n",
        "\n",
        "print (pal_minus.collect())"
      ],
      "execution_count": 46,
      "outputs": [
        {
          "output_type": "stream",
          "name": "stdout",
          "text": [
            "['hola', 'que', 'tal', 'bien']\n"
          ]
        }
      ]
    },
    {
      "cell_type": "code",
      "metadata": {
        "id": "_7Pn8FjtakNG",
        "colab": {
          "base_uri": "https://localhost:8080/"
        },
        "outputId": "50bb094e-6988-47a3-bc34-877aad440178"
      },
      "source": [
        "palabras = sc.parallelize(['HOLA', 'Que', 'TAL', 'Bien'])\n",
        "\n",
        "pal_long = palabras.map(lambda elemento: len(elemento))\n",
        "\n",
        "print (pal_long.collect())"
      ],
      "execution_count": 47,
      "outputs": [
        {
          "output_type": "stream",
          "name": "stdout",
          "text": [
            "[4, 3, 3, 4]\n"
          ]
        }
      ]
    },
    {
      "cell_type": "code",
      "metadata": {
        "id": "rmZwI0MGbAOS",
        "colab": {
          "base_uri": "https://localhost:8080/"
        },
        "outputId": "2c0d1b30-5ab6-4995-8ff1-32b646c1be72"
      },
      "source": [
        "log = sc.parallelize(['E: e21', 'W: w12', 'W: w13', 'E: e45'])\n",
        "\n",
        "errors = log.filter(lambda elemento: elemento[0]=='E')\n",
        "\n",
        "print (errors.collect())"
      ],
      "execution_count": 48,
      "outputs": [
        {
          "output_type": "stream",
          "name": "stdout",
          "text": [
            "['E: e21', 'E: e45']\n"
          ]
        }
      ]
    },
    {
      "cell_type": "code",
      "metadata": {
        "id": "KKDB9UzIcbau",
        "colab": {
          "base_uri": "https://localhost:8080/"
        },
        "outputId": "8741765d-8ee7-48c9-e2d8-d5a659478fb5"
      },
      "source": [
        "lineas = sc.parallelize(['', 'a', 'a b', 'a b c'])\n",
        "\n",
        "palabras = lineas.flatMap(lambda elemento: elemento.split())\n",
        "\n",
        "print (palabras.collect())"
      ],
      "execution_count": 49,
      "outputs": [
        {
          "output_type": "stream",
          "name": "stdout",
          "text": [
            "['a', 'a', 'b', 'a', 'b', 'c']\n"
          ]
        }
      ]
    },
    {
      "cell_type": "code",
      "metadata": {
        "id": "ZpM4oMF_cnW4",
        "colab": {
          "base_uri": "https://localhost:8080/"
        },
        "outputId": "72cf550a-984d-4cfa-9e91-c5f4e39077f1"
      },
      "source": [
        "lineas = sc.parallelize(['', 'a', 'a b', 'a b c'])\n",
        "\n",
        "palabras_flat = lineas.flatMap(lambda elemento: elemento.split())\n",
        "palabras_map = lineas.map(lambda elemento: elemento.split())\n",
        "\n",
        "print (palabras_flat.collect())\n",
        "print (palabras_map.collect())\n"
      ],
      "execution_count": 50,
      "outputs": [
        {
          "output_type": "stream",
          "name": "stdout",
          "text": [
            "['a', 'a', 'b', 'a', 'b', 'c']\n",
            "[[], ['a'], ['a', 'b'], ['a', 'b', 'c']]\n"
          ]
        }
      ]
    },
    {
      "cell_type": "markdown",
      "metadata": {
        "id": "saVy72uncpMC"
      },
      "source": [
        "## Pregunta TS1.5 ¿Cuántos elementos tiene cada rdd? ¿Cuál tiene más?\n"
      ]
    },
    {
      "cell_type": "markdown",
      "metadata": {
        "id": "jbnkJfJmGAAC"
      },
      "source": [
        "El primero tiene 6 elementos, el segundo 4(ya que estamos aplicando lamba a cada elemento y cada elemento produce una salida). En el primero aplicamos flatmap, donde cada elemento puede producir más de una salida, por eso el primer rdd tiene más elementos"
      ]
    },
    {
      "cell_type": "markdown",
      "metadata": {
        "id": "cDgvc1iU3MA2"
      },
      "source": [
        "## Pregunta TS1.6 ¿De qué tipo son los elementos del rdd palabras_map? ¿Por qué palabras_map tiene el primer elemento vacío?"
      ]
    },
    {
      "cell_type": "markdown",
      "metadata": {
        "id": "PPPxHeZgGg8n"
      },
      "source": [
        "Son listas. Porque al aplicar la función split sobre un string vacio no obtenemos ningun elemento(es decir, una lista vacía)"
      ]
    },
    {
      "cell_type": "code",
      "metadata": {
        "id": "zsa9OFbhc0-i",
        "colab": {
          "base_uri": "https://localhost:8080/"
        },
        "outputId": "b3388876-b0c9-486b-90dd-4eb3a6c2a62a"
      },
      "source": [
        "palabras_flat.take(1)"
      ],
      "execution_count": 51,
      "outputs": [
        {
          "output_type": "execute_result",
          "data": {
            "text/plain": [
              "['a']"
            ]
          },
          "metadata": {},
          "execution_count": 51
        }
      ]
    },
    {
      "cell_type": "code",
      "metadata": {
        "id": "Gwn33hfO0XoJ",
        "colab": {
          "base_uri": "https://localhost:8080/"
        },
        "outputId": "78557687-3786-48f6-8e97-0488a5e4f0e3"
      },
      "source": [
        "palabras_map\n"
      ],
      "execution_count": 52,
      "outputs": [
        {
          "output_type": "execute_result",
          "data": {
            "text/plain": [
              "PythonRDD[56] at collect at <ipython-input-50-9e9e885b2c3e>:7"
            ]
          },
          "metadata": {},
          "execution_count": 52
        }
      ]
    },
    {
      "cell_type": "markdown",
      "metadata": {
        "id": "1Lv-KrP0dNdE"
      },
      "source": [
        "## Pregunta TS1.7. Prueba la transformación distinct si lo aplicamos a cadenas."
      ]
    },
    {
      "cell_type": "code",
      "metadata": {
        "id": "6oyxAO8KdIWH",
        "colab": {
          "base_uri": "https://localhost:8080/"
        },
        "outputId": "a32855d7-b3e2-4392-d250-01854b7de09b"
      },
      "source": [
        "rep_info = sc.parallelize(['a', 'A','b', 'b', 'c', 'd','e','f','f'])\n",
        "rdd_distinct_info = rep_info.distinct()\n",
        "print(rdd_distinct_info.collect())"
      ],
      "execution_count": 53,
      "outputs": [
        {
          "output_type": "stream",
          "name": "stdout",
          "text": [
            "['b', 'c', 'd', 'a', 'A', 'e', 'f']\n"
          ]
        }
      ]
    },
    {
      "cell_type": "code",
      "metadata": {
        "id": "Y2NdOdomdoHP",
        "colab": {
          "base_uri": "https://localhost:8080/"
        },
        "outputId": "04b95d2b-5d22-42ff-fa43-ab175574585e"
      },
      "source": [
        "log = sc.parallelize(['E: e21', 'I: i11', 'W: w12', 'I: i11', 'W: w13', 'E: e45'])\n",
        "\n",
        "infos = log.filter(lambda elemento: elemento[0]=='I')\n",
        "errors = log.filter(lambda elemento: elemento[0]=='E')\n",
        "\n",
        "inferr = infos.union(errors)\n",
        "\n",
        "print (inferr.collect())"
      ],
      "execution_count": 54,
      "outputs": [
        {
          "output_type": "stream",
          "name": "stdout",
          "text": [
            "['I: i11', 'I: i11', 'E: e21', 'E: e45']\n"
          ]
        }
      ]
    },
    {
      "cell_type": "markdown",
      "metadata": {
        "id": "mjuin2jgcqCo"
      },
      "source": [
        "## Pregunta TS1.8 ¿Cómo se podría obtener la misma salida pero utilizando una sola transformación y sin realizar la unión?"
      ]
    },
    {
      "cell_type": "markdown",
      "metadata": {
        "id": "hwY8ll1JKnUj"
      },
      "source": [
        "Añadiendo un or a la lambda por ejemplo:"
      ]
    },
    {
      "cell_type": "code",
      "metadata": {
        "colab": {
          "base_uri": "https://localhost:8080/"
        },
        "id": "Jl9gQcV9KY9-",
        "outputId": "30c0ce30-cd55-4f2c-e1e1-a6d8e4751f80"
      },
      "source": [
        "log = sc.parallelize(['E: e21', 'I: i11', 'W: w12', 'I: i11', 'W: w13', 'E: e45'])\n",
        "\n",
        "infos_and_errors = log.filter(lambda elemento: elemento[0]=='I' or elemento[0]=='E' )\n",
        "\n",
        "print (infos_and_errors.collect())"
      ],
      "execution_count": 55,
      "outputs": [
        {
          "output_type": "stream",
          "name": "stdout",
          "text": [
            "['E: e21', 'I: i11', 'I: i11', 'E: e45']\n"
          ]
        }
      ]
    },
    {
      "cell_type": "code",
      "metadata": {
        "id": "mv4rsT2Fd_1p",
        "colab": {
          "base_uri": "https://localhost:8080/"
        },
        "outputId": "2ddf9a6b-c258-4436-d064-73eba0276c9c"
      },
      "source": [
        "numeros = sc.parallelize([1,2,3,4,5])\n",
        "\n",
        "print (numeros.reduce(lambda elem1,elem2: elem2+elem1))"
      ],
      "execution_count": 56,
      "outputs": [
        {
          "output_type": "stream",
          "name": "stdout",
          "text": [
            "15\n"
          ]
        }
      ]
    },
    {
      "cell_type": "code",
      "metadata": {
        "id": "Ej3-MXZDeFmy",
        "colab": {
          "base_uri": "https://localhost:8080/"
        },
        "outputId": "df7adf3b-39a5-461c-bb8d-161ea35c3a00"
      },
      "source": [
        "#Tiene sentido esta operación?\n",
        "numeros = sc.parallelize([1,2,3,4,5])\n",
        "\n",
        "print (numeros.reduce(lambda elem1,elem2: elem1-elem2))"
      ],
      "execution_count": 57,
      "outputs": [
        {
          "output_type": "stream",
          "name": "stdout",
          "text": [
            "5\n"
          ]
        }
      ]
    },
    {
      "cell_type": "markdown",
      "metadata": {
        "id": "9lDZ5K-UJNxW"
      },
      "source": [
        "No, la resta no es asociativa ni conmutativa para meterla en reduce"
      ]
    },
    {
      "cell_type": "code",
      "metadata": {
        "id": "jgXmpVzveNaW",
        "colab": {
          "base_uri": "https://localhost:8080/"
        },
        "outputId": "47b8cc7a-b21b-4062-fb38-ca39aa2515ec"
      },
      "source": [
        "palabras = sc.parallelize(['HOLA', 'Que', 'TAL', 'Bien'])\n",
        "\n",
        "pal_minus = palabras.map(lambda elemento: elemento.lower())\n",
        "\n",
        "print (pal_minus.reduce(lambda elem1,elem2: elem1+\"-\"+elem2))\n",
        "#y esta tiene sentido esta operación?\n",
        "# Qué pasa si ponemos elem2+\"-\"+elem1"
      ],
      "execution_count": 58,
      "outputs": [
        {
          "output_type": "stream",
          "name": "stdout",
          "text": [
            "hola-que-tal-bien\n"
          ]
        }
      ]
    },
    {
      "cell_type": "markdown",
      "metadata": {
        "id": "tG8ub7noJlJ7"
      },
      "source": [
        "RESPUESTA: \n",
        "  Si queremos que siempre de la misma salida: \"hola-que-tal-bien\" no, ya que esa lambda no es conmuntativa"
      ]
    },
    {
      "cell_type": "code",
      "metadata": {
        "colab": {
          "base_uri": "https://localhost:8080/"
        },
        "id": "3GpRbM3-JnBJ",
        "outputId": "9c2292d0-6051-488e-9d09-a017821503e1"
      },
      "source": [
        "print (pal_minus.reduce(lambda elem1,elem2: elem2+\"-\"+elem1))\n"
      ],
      "execution_count": 59,
      "outputs": [
        {
          "output_type": "stream",
          "name": "stdout",
          "text": [
            "bien-tal-que-hola\n"
          ]
        }
      ]
    },
    {
      "cell_type": "code",
      "metadata": {
        "id": "1lzjZV5xeVze",
        "colab": {
          "base_uri": "https://localhost:8080/"
        },
        "outputId": "bf76c363-44c5-4705-c876-c1cfb42e0c8f"
      },
      "source": [
        "r = sc.parallelize([('A', 1),('C', 4),('A', 1),('B', 1),('B', 4)])\n",
        "rr = r.reduceByKey(lambda v1,v2:v1+v2)\n",
        "print (rr.collect())"
      ],
      "execution_count": 60,
      "outputs": [
        {
          "output_type": "stream",
          "name": "stdout",
          "text": [
            "[('C', 4), ('A', 2), ('B', 5)]\n"
          ]
        }
      ]
    },
    {
      "cell_type": "code",
      "metadata": {
        "id": "EZ3sOeL5ebOw",
        "colab": {
          "base_uri": "https://localhost:8080/"
        },
        "outputId": "e0508800-35c9-4d19-c182-0112fb69f108"
      },
      "source": [
        "r = sc.parallelize([('A', 1),('C', 4),('A', 1),('B', 1),('B', 4)])\n",
        "rr1 = r.reduceByKey(lambda v1,v2:v1+v2)\n",
        "print (rr1.collect())\n",
        "rr2 = rr1.reduceByKey(lambda v1,v2:v1)\n",
        "print (rr2.collect())\n"
      ],
      "execution_count": 61,
      "outputs": [
        {
          "output_type": "stream",
          "name": "stdout",
          "text": [
            "[('C', 4), ('A', 2), ('B', 5)]\n",
            "[('C', 4), ('A', 2), ('B', 5)]\n"
          ]
        }
      ]
    },
    {
      "cell_type": "markdown",
      "metadata": {
        "id": "LLPvqqELz-Pt"
      },
      "source": [
        "## Pregunta TS1.9 ¿Cómo explica el funcionamiento de las celdas anteriores?"
      ]
    },
    {
      "cell_type": "markdown",
      "metadata": {
        "id": "YS1m70G6LSw1"
      },
      "source": [
        "rr2 no hace reduceByKey de r (como rr1), si que que hace reduceByKey de rr1, donde todos los elementos tienen clave única, por lo que realmente no está aplicando nada y obtenemos la misma salida"
      ]
    },
    {
      "cell_type": "code",
      "metadata": {
        "id": "fR2ruD-TeeK2",
        "colab": {
          "base_uri": "https://localhost:8080/"
        },
        "outputId": "459b91b7-f3c3-4352-8943-0a13432583d7"
      },
      "source": [
        "r = sc.parallelize([('A', 1),('C', 4),('A', 1),('B', 1),('B', 4)])\n",
        "rr1 = r.reduceByKey(lambda v1,v2:'hola')\n",
        "print (rr1.collect())\n",
        "rr2 = rr1.reduceByKey(lambda v1,v2:'hola')\n",
        "print (rr2.collect())"
      ],
      "execution_count": 62,
      "outputs": [
        {
          "output_type": "stream",
          "name": "stdout",
          "text": [
            "[('C', 4), ('A', 'hola'), ('B', 'hola')]\n",
            "[('C', 4), ('A', 'hola'), ('B', 'hola')]\n"
          ]
        }
      ]
    },
    {
      "cell_type": "code",
      "metadata": {
        "id": "gKbP8VKzeitK",
        "colab": {
          "base_uri": "https://localhost:8080/"
        },
        "outputId": "9bf09917-8d41-4091-dd96-800aa9928a1a"
      },
      "source": [
        "r = sc.parallelize([('A', 1),('C', 2),('A', 3),('B', 4),('B', 5)])\n",
        "rr = r.groupByKey()\n",
        "res= rr.collect()\n",
        "for k,v in res:\n",
        "    print (k, list(v))\n",
        "# Que operación realizar al RDD rr para que la operacion sea como un reduceByKey\n",
        "#¿Y simular un group con un reduceByKey y un map?"
      ],
      "execution_count": 63,
      "outputs": [
        {
          "output_type": "stream",
          "name": "stdout",
          "text": [
            "C [2]\n",
            "A [1, 3]\n",
            "B [4, 5]\n"
          ]
        }
      ]
    },
    {
      "cell_type": "code",
      "metadata": {
        "id": "1UBMxjgi19V8",
        "colab": {
          "base_uri": "https://localhost:8080/"
        },
        "outputId": "cf482eb2-d360-4e8a-ae19-b36a2f9379a0"
      },
      "source": [
        "rdd1 = sc.parallelize([('A',1),('B',2),('C',3)])\n",
        "rdd2 = sc.parallelize([('A',4),('B',5),('C',6)])\n",
        "\n",
        "rddjoin = rdd1.join(rdd2)\n",
        "\n",
        "print (rddjoin.collect())\n",
        "# Prueba a cambiar las claves del rdd1 y rdd2 para ver cuántos elementos se crean"
      ],
      "execution_count": 64,
      "outputs": [
        {
          "output_type": "stream",
          "name": "stdout",
          "text": [
            "[('A', (1, 4)), ('B', (2, 5)), ('C', (3, 6))]\n"
          ]
        }
      ]
    },
    {
      "cell_type": "code",
      "metadata": {
        "id": "XXVC6hoC2Kw-",
        "colab": {
          "base_uri": "https://localhost:8080/"
        },
        "outputId": "7cef0ade-2b17-4da3-9874-69247502fba9"
      },
      "source": [
        "rdd1 = sc.parallelize([('A',1),('B',2),('C',3)])\n",
        "rdd2 = sc.parallelize([('A',4),('A',5),('B',6),('D',7)])\n",
        "\n",
        "rddjoin = rdd1.join(rdd2)\n",
        "\n",
        "print (rddjoin.collect())\n",
        "#Modifica join por leftOuterJoin, rightOuterJoin y fullOuterJoin ¿Qué sucede? \n"
      ],
      "execution_count": 65,
      "outputs": [
        {
          "output_type": "stream",
          "name": "stdout",
          "text": [
            "[('A', (1, 4)), ('A', (1, 5)), ('B', (2, 6))]\n"
          ]
        }
      ]
    },
    {
      "cell_type": "markdown",
      "metadata": {
        "id": "eYYvI4yd-Zlw"
      },
      "source": [
        "Con leftOuterJoin: [('A', (1, 4)), ('A', (1, 5)), ('B', (2, 6)), ('C', (3, None))]\n",
        "\n",
        "Con rightOuterJoin: [('A', (1, 4)), ('A', (1, 5)), ('B', (2, 6)), ('D', (None, 7))]\n",
        "\n",
        "Con fullOuterJoin : [('A', (1, 4)), ('A', (1, 5)), ('B', (2, 6)), ('C', (3, None)), ('D', (None, 7))]\n",
        "\n",
        "Es decir, con el left obliga a combinar todas las claves de la izquierda, aunque no estén en el lado derecho, por eso la entrada None en la clave C.\n",
        "De manera similar ocurre con el right y la Clave D.\n",
        "Con el full en obtenemos las claves C y D, es decir, obligamos a combinar las claves de cada lado, si están en un lado y en el otro no, aparecerán con un valor None.\n"
      ]
    },
    {
      "cell_type": "code",
      "metadata": {
        "id": "quNvzEdK2gv5",
        "colab": {
          "base_uri": "https://localhost:8080/"
        },
        "outputId": "a3df192b-9982-4d0c-8391-f8c843a2be9a"
      },
      "source": [
        "rdd = sc.parallelize([('A',1),('B',2),('C',3),('A',4),('A',5),('B',6)])\n",
        "\n",
        "res = rdd.sortByKey(False)\n",
        "\n",
        "print (res.collect())"
      ],
      "execution_count": 66,
      "outputs": [
        {
          "output_type": "stream",
          "name": "stdout",
          "text": [
            "[('C', 3), ('B', 2), ('B', 6), ('A', 1), ('A', 4), ('A', 5)]\n"
          ]
        }
      ]
    },
    {
      "cell_type": "markdown",
      "metadata": {
        "id": "zOir6ry549KP"
      },
      "source": [
        "# Utilización de ficheros"
      ]
    },
    {
      "cell_type": "code",
      "metadata": {
        "id": "0HSk78ba3DTv"
      },
      "source": [
        "\n",
        "# Crea una lista de 1000 números y la guarda.\n",
        "# Da error si 'salida' existe, descomenta la linea de borrar en ese caso.\n",
        "%rm -rf salida\n",
        "#numeros = sc.parallelize(range(0,1000))\n",
        "numeros = sc.parallelize(range(0,1000),8)\n",
        "\n",
        "\n",
        "numeros.saveAsTextFile('salida')\n"
      ],
      "execution_count": 67,
      "outputs": []
    },
    {
      "cell_type": "code",
      "metadata": {
        "id": "r1oOMj9U3azd",
        "colab": {
          "base_uri": "https://localhost:8080/"
        },
        "outputId": "76043b7e-a8c7-448f-ca4c-4a8d51fbcb59"
      },
      "source": [
        "ls -la"
      ],
      "execution_count": 68,
      "outputs": [
        {
          "output_type": "stream",
          "name": "stdout",
          "text": [
            "total 438400\n",
            "drwxr-xr-x  1 root root      4096 Oct  5 07:53 \u001b[0m\u001b[01;34m.\u001b[0m/\n",
            "drwxr-xr-x  1 root root      4096 Oct  5 06:54 \u001b[01;34m..\u001b[0m/\n",
            "drwxr-xr-x  4 root root      4096 Sep 30 17:11 \u001b[01;34m.config\u001b[0m/\n",
            "drwxr-xr-x  2 root root      4096 Oct  5 07:53 \u001b[01;34msalida\u001b[0m/\n",
            "drwxr-xr-x  1 root root      4096 Sep 30 17:12 \u001b[01;34msample_data\u001b[0m/\n",
            "drwxr-xr-x 13 1000 1000      4096 May 24 05:00 \u001b[01;34mspark-3.1.2-bin-hadoop2.7\u001b[0m/\n",
            "-rw-r--r--  1 root root 224445805 May 24 05:01 spark-3.1.2-bin-hadoop2.7.tgz\n",
            "-rw-r--r--  1 root root 224445805 May 24 05:01 spark-3.1.2-bin-hadoop2.7.tgz.1\n"
          ]
        }
      ]
    },
    {
      "cell_type": "code",
      "metadata": {
        "id": "y3T8t98g3koT",
        "colab": {
          "base_uri": "https://localhost:8080/"
        },
        "outputId": "71c73dd8-ddf9-4306-b16e-adb936b33e0b"
      },
      "source": [
        "%ls -la salida/*\n"
      ],
      "execution_count": 69,
      "outputs": [
        {
          "output_type": "stream",
          "name": "stdout",
          "text": [
            "-rw-r--r-- 1 root root 390 Oct  5 07:53 salida/part-00000\n",
            "-rw-r--r-- 1 root root 500 Oct  5 07:53 salida/part-00001\n",
            "-rw-r--r-- 1 root root 500 Oct  5 07:53 salida/part-00002\n",
            "-rw-r--r-- 1 root root 500 Oct  5 07:53 salida/part-00003\n",
            "-rw-r--r-- 1 root root 500 Oct  5 07:53 salida/part-00004\n",
            "-rw-r--r-- 1 root root 500 Oct  5 07:53 salida/part-00005\n",
            "-rw-r--r-- 1 root root 500 Oct  5 07:53 salida/part-00006\n",
            "-rw-r--r-- 1 root root 500 Oct  5 07:53 salida/part-00007\n",
            "-rw-r--r-- 1 root root   0 Oct  5 07:53 salida/_SUCCESS\n"
          ]
        }
      ]
    },
    {
      "cell_type": "code",
      "metadata": {
        "id": "2yWrIYA83q_c",
        "colab": {
          "base_uri": "https://localhost:8080/"
        },
        "outputId": "b296d4c5-d518-4cca-eeb4-cde08fcf32a6"
      },
      "source": [
        "%cat salida/part-00000"
      ],
      "execution_count": 70,
      "outputs": [
        {
          "output_type": "stream",
          "name": "stdout",
          "text": [
            "0\n",
            "1\n",
            "2\n",
            "3\n",
            "4\n",
            "5\n",
            "6\n",
            "7\n",
            "8\n",
            "9\n",
            "10\n",
            "11\n",
            "12\n",
            "13\n",
            "14\n",
            "15\n",
            "16\n",
            "17\n",
            "18\n",
            "19\n",
            "20\n",
            "21\n",
            "22\n",
            "23\n",
            "24\n",
            "25\n",
            "26\n",
            "27\n",
            "28\n",
            "29\n",
            "30\n",
            "31\n",
            "32\n",
            "33\n",
            "34\n",
            "35\n",
            "36\n",
            "37\n",
            "38\n",
            "39\n",
            "40\n",
            "41\n",
            "42\n",
            "43\n",
            "44\n",
            "45\n",
            "46\n",
            "47\n",
            "48\n",
            "49\n",
            "50\n",
            "51\n",
            "52\n",
            "53\n",
            "54\n",
            "55\n",
            "56\n",
            "57\n",
            "58\n",
            "59\n",
            "60\n",
            "61\n",
            "62\n",
            "63\n",
            "64\n",
            "65\n",
            "66\n",
            "67\n",
            "68\n",
            "69\n",
            "70\n",
            "71\n",
            "72\n",
            "73\n",
            "74\n",
            "75\n",
            "76\n",
            "77\n",
            "78\n",
            "79\n",
            "80\n",
            "81\n",
            "82\n",
            "83\n",
            "84\n",
            "85\n",
            "86\n",
            "87\n",
            "88\n",
            "89\n",
            "90\n",
            "91\n",
            "92\n",
            "93\n",
            "94\n",
            "95\n",
            "96\n",
            "97\n",
            "98\n",
            "99\n",
            "100\n",
            "101\n",
            "102\n",
            "103\n",
            "104\n",
            "105\n",
            "106\n",
            "107\n",
            "108\n",
            "109\n",
            "110\n",
            "111\n",
            "112\n",
            "113\n",
            "114\n",
            "115\n",
            "116\n",
            "117\n",
            "118\n",
            "119\n",
            "120\n",
            "121\n",
            "122\n",
            "123\n",
            "124\n"
          ]
        }
      ]
    },
    {
      "cell_type": "code",
      "metadata": {
        "id": "D6_KGg9w3Rqm",
        "colab": {
          "base_uri": "https://localhost:8080/"
        },
        "outputId": "24f9b079-938f-4b85-ab98-1a4000c26791"
      },
      "source": [
        "# Recupera el fichero guardado y realiza la suma\n",
        "n2 = sc.textFile('salida').map(lambda a:int(a))\n",
        "print(n2.reduce(lambda v1,v2: v1 + v2))\n",
        "\n",
        "# Prueba este código y mira qué genera?\n",
        "# Borra la salida y cambia las particiones en parallelize ¿Qué sucede? \n",
        "#    (pe c.parallelize(xrange(0,1000),8))\n"
      ],
      "execution_count": 71,
      "outputs": [
        {
          "output_type": "stream",
          "name": "stdout",
          "text": [
            "499500\n"
          ]
        }
      ]
    },
    {
      "cell_type": "markdown",
      "metadata": {
        "id": "33FiLTWp6LQ2"
      },
      "source": [
        "## Pregunta TS1.10 Borra la salida y cambia las particiones en parallelize ¿Qué sucede? \n",
        "  (pe c.parallelize(xrange(0,1000),8))\n"
      ]
    },
    {
      "cell_type": "code",
      "metadata": {
        "id": "H4lLsBhy4Yxq",
        "colab": {
          "base_uri": "https://localhost:8080/"
        },
        "outputId": "2db970e4-8ae9-4537-ad0f-e43da169b8be"
      },
      "source": [
        "%rm -rf salida\n",
        "%ls -la\n"
      ],
      "execution_count": 72,
      "outputs": [
        {
          "output_type": "stream",
          "name": "stdout",
          "text": [
            "total 438396\n",
            "drwxr-xr-x  1 root root      4096 Oct  5 07:53 \u001b[0m\u001b[01;34m.\u001b[0m/\n",
            "drwxr-xr-x  1 root root      4096 Oct  5 06:54 \u001b[01;34m..\u001b[0m/\n",
            "drwxr-xr-x  4 root root      4096 Sep 30 17:11 \u001b[01;34m.config\u001b[0m/\n",
            "drwxr-xr-x  1 root root      4096 Sep 30 17:12 \u001b[01;34msample_data\u001b[0m/\n",
            "drwxr-xr-x 13 1000 1000      4096 May 24 05:00 \u001b[01;34mspark-3.1.2-bin-hadoop2.7\u001b[0m/\n",
            "-rw-r--r--  1 root root 224445805 May 24 05:01 spark-3.1.2-bin-hadoop2.7.tgz\n",
            "-rw-r--r--  1 root root 224445805 May 24 05:01 spark-3.1.2-bin-hadoop2.7.tgz.1\n"
          ]
        }
      ]
    },
    {
      "cell_type": "markdown",
      "metadata": {
        "id": "SuREfBbwAprP"
      },
      "source": [
        "Que en salida obtenemos 8 particiones del RDD, desde part-00000 a part-00007 y ahora part-00000 solo contiene los primeros 125 numeros(hasta 124).\n"
      ]
    },
    {
      "cell_type": "markdown",
      "metadata": {
        "id": "SyfefweJenb8"
      },
      "source": [
        "# El quijote"
      ]
    },
    {
      "cell_type": "markdown",
      "metadata": {
        "id": "xcxH-o_ZQSje"
      },
      "source": [
        "Montar el directorio de trabajo utilizando Google Drive\n",
        "Loading Your Data into Google Colaboratory.\n",
        "1. First of all, Upload your Data to your Google Drive.\n",
        "2. Run the following script in colab shell.\n",
        "3. Copy the authorization code of your account.\n",
        "4. Paste the authorization code into the output shell.\n",
        "5. Congrats! Now your Google Drive is mounted to this location /content/gdrive/MyDrive/\n",
        "\n",
        "\n"
      ]
    },
    {
      "cell_type": "markdown",
      "metadata": {
        "id": "5aS_Xvk2_kSN"
      },
      "source": [
        ""
      ]
    },
    {
      "cell_type": "code",
      "metadata": {
        "id": "Vl0Fq5nChoYj",
        "colab": {
          "base_uri": "https://localhost:8080/"
        },
        "outputId": "a5cb8f39-43af-439a-b402-a35fef686e05"
      },
      "source": [
        "from google.colab import drive\n",
        "#drive.flush_and_unmount()\n",
        "drive.mount('/content/gdrive')"
      ],
      "execution_count": 73,
      "outputs": [
        {
          "output_type": "stream",
          "name": "stdout",
          "text": [
            "Mounted at /content/gdrive\n"
          ]
        }
      ]
    },
    {
      "cell_type": "code",
      "metadata": {
        "id": "jL-wqZOCZzrL",
        "colab": {
          "base_uri": "https://localhost:8080/"
        },
        "outputId": "86779c06-39f7-4b01-ab9e-d7a9b3b80014"
      },
      "source": [
        "%ls /content/gdrive/MyDrive/PDGE/"
      ],
      "execution_count": 74,
      "outputs": [
        {
          "output_type": "stream",
          "name": "stdout",
          "text": [
            "elquijote.txt\n"
          ]
        }
      ]
    },
    {
      "cell_type": "code",
      "metadata": {
        "id": "YpBiHwBjauJk"
      },
      "source": [
        "!cp \"/content/gdrive/My Drive/PDGE/elquijote.txt\" ."
      ],
      "execution_count": 75,
      "outputs": []
    },
    {
      "cell_type": "code",
      "metadata": {
        "id": "TmlBII6cbiIt",
        "colab": {
          "base_uri": "https://localhost:8080/"
        },
        "outputId": "79cbdb67-43c3-4d26-975c-1e11c1aabd95"
      },
      "source": [
        "%ls -la"
      ],
      "execution_count": 76,
      "outputs": [
        {
          "output_type": "stream",
          "name": "stdout",
          "text": [
            "total 438712\n",
            "drwxr-xr-x  1 root root      4096 Oct  5 07:58 \u001b[0m\u001b[01;34m.\u001b[0m/\n",
            "drwxr-xr-x  1 root root      4096 Oct  5 06:54 \u001b[01;34m..\u001b[0m/\n",
            "drwxr-xr-x  4 root root      4096 Sep 30 17:11 \u001b[01;34m.config\u001b[0m/\n",
            "-rw-------  1 root root    317618 Oct  5 07:58 elquijote.txt\n",
            "drwx------  5 root root      4096 Oct  5 07:58 \u001b[01;34mgdrive\u001b[0m/\n",
            "drwxr-xr-x  1 root root      4096 Sep 30 17:12 \u001b[01;34msample_data\u001b[0m/\n",
            "drwxr-xr-x 13 1000 1000      4096 May 24 05:00 \u001b[01;34mspark-3.1.2-bin-hadoop2.7\u001b[0m/\n",
            "-rw-r--r--  1 root root 224445805 May 24 05:01 spark-3.1.2-bin-hadoop2.7.tgz\n",
            "-rw-r--r--  1 root root 224445805 May 24 05:01 spark-3.1.2-bin-hadoop2.7.tgz.1\n"
          ]
        }
      ]
    },
    {
      "cell_type": "code",
      "metadata": {
        "colab": {
          "base_uri": "https://localhost:8080/",
          "height": 35
        },
        "id": "OgqJUkLqb5ZG",
        "outputId": "586d9704-c2d0-42cd-d94e-63cd990ceee0"
      },
      "source": [
        "%pwd"
      ],
      "execution_count": 77,
      "outputs": [
        {
          "output_type": "execute_result",
          "data": {
            "application/vnd.google.colaboratory.intrinsic+json": {
              "type": "string"
            },
            "text/plain": [
              "'/content'"
            ]
          },
          "metadata": {},
          "execution_count": 77
        }
      ]
    },
    {
      "cell_type": "markdown",
      "metadata": {
        "id": "y9E6_qc-a7GE"
      },
      "source": [
        "# Procesando el QUIJOTE"
      ]
    },
    {
      "cell_type": "code",
      "metadata": {
        "id": "_Li3mX8ebMSi",
        "colab": {
          "base_uri": "https://localhost:8080/"
        },
        "outputId": "b0db8b76-d045-435b-88ce-5d00671dd562"
      },
      "source": [
        "quijote = sc.textFile(\"elquijote.txt\")\n",
        "quijote.take(10)"
      ],
      "execution_count": 78,
      "outputs": [
        {
          "output_type": "execute_result",
          "data": {
            "text/plain": [
              "['EL INGENIOSO HIDALGO DON QUIJOTE DE LA MANCHA',\n",
              " '',\n",
              " 'Miguel de Cervantes Saavedra',\n",
              " '',\n",
              " '     Capítulo primero',\n",
              " '',\n",
              " '     Que trata de la condición y ejercicio del famoso hidalgo D.',\n",
              " 'Quijote de la ',\n",
              " '     Mancha',\n",
              " '']"
            ]
          },
          "metadata": {},
          "execution_count": 78
        }
      ]
    },
    {
      "cell_type": "markdown",
      "metadata": {
        "id": "GDVSZOrYbrEt"
      },
      "source": [
        "Transformaciones"
      ]
    },
    {
      "cell_type": "code",
      "metadata": {
        "id": "ITsCl47JbfM_"
      },
      "source": [
        "charsPerLine = quijote.map(lambda s: len(s))\n",
        "allWords = quijote.flatMap(lambda s: s.split())\n",
        "allWordsNoArticles = allWords.filter(lambda a: a.lower() not in [\"el\", \"la\"])\n",
        "allWordsUnique = allWords.map(lambda s: s.lower()).distinct()\n",
        "sampleWords = allWords.sample(withReplacement=True, fraction=0.2, seed=666)\n",
        "weirdSampling = sampleWords.union(allWordsNoArticles.sample(False, fraction=0.3))\n",
        "# cómo funciona cada transformación"
      ],
      "execution_count": 79,
      "outputs": []
    },
    {
      "cell_type": "code",
      "metadata": {
        "id": "4kpZSOS7cAYr",
        "colab": {
          "base_uri": "https://localhost:8080/"
        },
        "outputId": "64c92381-bf0e-4a1d-8a7b-e6374a4b531a"
      },
      "source": [
        "allWordsUnique.take(10)"
      ],
      "execution_count": 80,
      "outputs": [
        {
          "output_type": "execute_result",
          "data": {
            "text/plain": [
              "['el',\n",
              " 'hidalgo',\n",
              " 'don',\n",
              " 'mancha',\n",
              " 'saavedra',\n",
              " 'que',\n",
              " 'condición',\n",
              " 'y',\n",
              " 'del',\n",
              " 'd.']"
            ]
          },
          "metadata": {},
          "execution_count": 80
        }
      ]
    },
    {
      "cell_type": "markdown",
      "metadata": {
        "id": "PpAuT-AkcRyf"
      },
      "source": [
        "## Pregunta TS2.1 Explica la utilidad de cada transformación y detalle para cada una de ellas si cambia el número de elementos en el RDD resultante. Es decir si el RDD de partida tiene N elementos, y el de salida M elementos, indica si N>M, N=M o N<M."
      ]
    },
    {
      "cell_type": "markdown",
      "metadata": {
        "id": "-0Xj_MR9eVCf"
      },
      "source": [
        "* map: N=M Devuelve un nuevo rdd pasandole una función func a cada elemento del dataset origen \n",
        "* flatmap: N<=M lo mismo que map pero cada entrada puede ser mapeada a varias salidas(tambien conocido como secuencia).\n",
        "* filter: N>=M Devuelve un rdd con aquellos elementos del dataset cuya función pasada quede evaluada como verdadero.\n",
        "* distinct: N>=M Devuelve un rdd cuyos elementos son unicos y no repetidos\n",
        "* sample: N>=M Devuelve una fracción de los elementos del rdd origen. Con o sin remplazamiento y de manera aleatoria. Es posible pasarle una semilla.\n",
        "* union: N<=M Devuelve un rdd con la union del dataset origen con el pasado por argumento.\n"
      ]
    },
    {
      "cell_type": "code",
      "metadata": {
        "id": "PWJlgOUDcQhc",
        "colab": {
          "base_uri": "https://localhost:8080/"
        },
        "outputId": "36a8ca84-dec5-451c-ab27-ecd9f512effb"
      },
      "source": [
        "numLines = quijote.count()\n",
        "numChars = charsPerLine.reduce(lambda a,b: a+b) # also charsPerLine.sum()\n",
        "sortedWordsByLength = allWordsNoArticles.takeOrdered(20, key=lambda x: -len(x))\n",
        "numLines, numChars, sortedWordsByLength"
      ],
      "execution_count": 81,
      "outputs": [
        {
          "output_type": "execute_result",
          "data": {
            "text/plain": [
              "(5534,\n",
              " 305678,\n",
              " ['procuremos.Levántate,',\n",
              "  'estrechísimamente,',\n",
              "  'Pintiquiniestra,',\n",
              "  'entretenimiento,',\n",
              "  'maravillosamente',\n",
              "  'descansadamente;',\n",
              "  'desenfadadamente',\n",
              "  'quebrantamientos',\n",
              "  'quebrantamiento,',\n",
              "  'alternativamente',\n",
              "  'encantamientos,',\n",
              "  'Placerdemivida,',\n",
              "  'encantamientos;',\n",
              "  'malbaratándolas',\n",
              "  'regocijadamente',\n",
              "  'consentimiento,',\n",
              "  'desaconsejaban,',\n",
              "  'acontecimiento.',\n",
              "  'agradeciéndoles',\n",
              "  'encantamientos,'])"
            ]
          },
          "metadata": {},
          "execution_count": 81
        }
      ]
    },
    {
      "cell_type": "markdown",
      "metadata": {
        "id": "hIpuogySgB4N"
      },
      "source": [
        "## Pregunta TS2.2 Explica el funcionamiento de cada acción anterior \n",
        "\n",
        "Implementa la opción count de otra manera:\n",
        "\n",
        "\n",
        "*   utilizando transformaciones map y reduce\n",
        "*   utilizando solo reduce en caso de que sea posible.\n",
        "\n"
      ]
    },
    {
      "cell_type": "markdown",
      "metadata": {
        "id": "GJ_OaFzTPIpZ"
      },
      "source": [
        "### TS2.2 RESPUESTA:\n",
        "\n",
        "1. En la primera linea contamos el nuemro de lineas que tiene el quijote\n",
        "\n",
        "2. numChars: para calcular el numero de caracteres, totales utilizamos el rdd  anterior charsperline y le aplicamos una lambda para que nos cuente todos los conteos de cada linea individual para obtener el total de caracteres\n",
        "\n",
        "3. sortedWordsByLength: De nuevo utilizando el rdd anterior allWordsNoArticles, donde tenemos todas las palabras, y ordenamos por claves (las palabras en si), de mayor a menor segun la longitud de las palabras. Es decir, obtenemos las 20 palabras más largas."
      ]
    },
    {
      "cell_type": "code",
      "metadata": {
        "colab": {
          "base_uri": "https://localhost:8080/"
        },
        "id": "muXrHLeKQrv7",
        "outputId": "7f6ba0ea-e89d-4c32-9391-9bab3ff050ed"
      },
      "source": [
        "numLines_2_mapped = quijote.map(lambda a:1 )  \n",
        "\n",
        "numLines_2 = numLines_2_mapped.reduce(lambda a,b: a+b )  \n",
        "numLines_2"
      ],
      "execution_count": 82,
      "outputs": [
        {
          "output_type": "execute_result",
          "data": {
            "text/plain": [
              "5534"
            ]
          },
          "metadata": {},
          "execution_count": 82
        }
      ]
    },
    {
      "cell_type": "markdown",
      "metadata": {
        "id": "PkXwuhGuhrQD"
      },
      "source": [
        "# Operaciones K-V (Clave Valor)"
      ]
    },
    {
      "cell_type": "code",
      "metadata": {
        "id": "5JAWu58dhpWk"
      },
      "source": [
        "import requests\n",
        "import re\n",
        "allWords = allWords.flatMap(lambda w: re.sub(\"\"\";|:|\\.|,|-|–|\"|'|\\s\"\"\",\" \", w.lower()).split(\" \")).filter(lambda a: len(a)>0)\n",
        "allWords2 = sc.parallelize(requests.get(\"https://gist.githubusercontent.com/jsdario/9d871ed773c81bf217f57d1db2d2503f/raw/585de69b0631c805dabc6280506717943b82ba4a/el_quijote_ii.txt\").iter_lines())\n",
        "allWords2 = allWords2.flatMap(lambda w: re.sub(\"\"\";|:|\\.|,|-|–|\"|'|\\s\"\"\",\" \", w.decode(\"utf8\").lower()).split(\" \")).filter(lambda a: len(a)>0)"
      ],
      "execution_count": 83,
      "outputs": []
    },
    {
      "cell_type": "markdown",
      "metadata": {
        "id": "JMWyas52U4Sp"
      },
      "source": [
        "allWords y allWords2 representan todas las palabras del quijote. allWords se ha obtenido del fichero local, allWords2 de un url con el archivo en remoto. \n",
        "Para obtener todas las palabras se ha aplicado un flatmap a cada linea, cuya funcion lambda consiste en un expresion regular que quita los espacios para ver los conjunto de \"aparentes palabras\" y luego filtrarlas para quitar los simbulos y signos de puntuacion"
      ]
    },
    {
      "cell_type": "code",
      "metadata": {
        "id": "NCsub2OPjCyD",
        "colab": {
          "base_uri": "https://localhost:8080/"
        },
        "outputId": "dc277589-755f-4722-ce31-8d2bb66ac964"
      },
      "source": [
        "allWords.take(10)"
      ],
      "execution_count": 84,
      "outputs": [
        {
          "output_type": "execute_result",
          "data": {
            "text/plain": [
              "['el',\n",
              " 'ingenioso',\n",
              " 'hidalgo',\n",
              " 'don',\n",
              " 'quijote',\n",
              " 'de',\n",
              " 'la',\n",
              " 'mancha',\n",
              " 'miguel',\n",
              " 'de']"
            ]
          },
          "metadata": {},
          "execution_count": 84
        }
      ]
    },
    {
      "cell_type": "markdown",
      "metadata": {
        "id": "PCc0-gcvVWlw"
      },
      "source": [
        "Tomamos 10 palabras del primer conjunto "
      ]
    },
    {
      "cell_type": "code",
      "metadata": {
        "id": "1W2pNxR1jKib",
        "colab": {
          "base_uri": "https://localhost:8080/"
        },
        "outputId": "b69904f8-329f-4301-9e74-66c8f55b8670"
      },
      "source": [
        "allWords2.take(10)"
      ],
      "execution_count": 85,
      "outputs": [
        {
          "output_type": "execute_result",
          "data": {
            "text/plain": [
              "['don',\n",
              " 'quijote',\n",
              " 'de',\n",
              " 'la',\n",
              " 'mancha',\n",
              " 'miguel',\n",
              " 'de',\n",
              " 'cervantes',\n",
              " 'saavedra',\n",
              " 'segunda']"
            ]
          },
          "metadata": {},
          "execution_count": 85
        }
      ]
    },
    {
      "cell_type": "markdown",
      "metadata": {
        "id": "MQjZiw-wVaY4"
      },
      "source": [
        "Tomamos 10 palabras del segundo conjunto "
      ]
    },
    {
      "cell_type": "code",
      "metadata": {
        "id": "L61OV1NHkBLZ",
        "colab": {
          "base_uri": "https://localhost:8080/"
        },
        "outputId": "24d75c9a-cce8-401f-b027-b7d38f9aca45"
      },
      "source": [
        "words = allWords.map(lambda e: (e,1))\n",
        "words2 = allWords2.map(lambda e: (e,1))\n",
        "\n",
        "words.take(10)"
      ],
      "execution_count": 86,
      "outputs": [
        {
          "output_type": "execute_result",
          "data": {
            "text/plain": [
              "[('el', 1),\n",
              " ('ingenioso', 1),\n",
              " ('hidalgo', 1),\n",
              " ('don', 1),\n",
              " ('quijote', 1),\n",
              " ('de', 1),\n",
              " ('la', 1),\n",
              " ('mancha', 1),\n",
              " ('miguel', 1),\n",
              " ('de', 1)]"
            ]
          },
          "metadata": {},
          "execution_count": 86
        }
      ]
    },
    {
      "cell_type": "markdown",
      "metadata": {
        "id": "fwI1hEQnVeBK"
      },
      "source": [
        "A cada palabra la convertirmos(en otro rdd) en un diccionario tal que (clave=palabra,valor=1)"
      ]
    },
    {
      "cell_type": "code",
      "metadata": {
        "id": "wqtEo2j9kPuk",
        "colab": {
          "base_uri": "https://localhost:8080/"
        },
        "outputId": "372df605-03ad-4570-e5e0-2a62ec67b08b"
      },
      "source": [
        "frequencies = words.reduceByKey(lambda a,b: a+b)\n",
        "frequencies2 = words2.reduceByKey(lambda a,b: a+b)\n",
        "frequencies.takeOrdered(10, key=lambda a: -a[1])"
      ],
      "execution_count": 87,
      "outputs": [
        {
          "output_type": "execute_result",
          "data": {
            "text/plain": [
              "[('que', 3032),\n",
              " ('de', 2809),\n",
              " ('y', 2573),\n",
              " ('a', 1426),\n",
              " ('la', 1423),\n",
              " ('el', 1232),\n",
              " ('en', 1155),\n",
              " ('no', 903),\n",
              " ('se', 753),\n",
              " ('los', 696)]"
            ]
          },
          "metadata": {},
          "execution_count": 87
        }
      ]
    },
    {
      "cell_type": "markdown",
      "metadata": {
        "id": "CraZzh4DVu4d"
      },
      "source": [
        "Ya que tenemos diccionarios con claves repetidas, siguiendo el modelo map reduce, hacemos un reducebykey para obtener la frecuencia de cada palabra"
      ]
    },
    {
      "cell_type": "code",
      "metadata": {
        "id": "CtlQosYPk3M7",
        "colab": {
          "base_uri": "https://localhost:8080/"
        },
        "outputId": "96805250-ba1b-4136-caaa-7c9eabfc034e"
      },
      "source": [
        "res = words.groupByKey().takeOrdered(10, key=lambda a: -len(a))\n",
        "res # To see the content, res[i][1].data\n",
        "#for i in range(0,10):\n",
        "#  print(res[i][1].data)\n",
        "\n",
        "# el: print(sum(res[0][1].data)) da 1232 como abajo"
      ],
      "execution_count": 88,
      "outputs": [
        {
          "output_type": "execute_result",
          "data": {
            "text/plain": [
              "[('el', <pyspark.resultiterable.ResultIterable at 0x7ff36477d0d0>),\n",
              " ('hidalgo', <pyspark.resultiterable.ResultIterable at 0x7ff36477d2d0>),\n",
              " ('don', <pyspark.resultiterable.ResultIterable at 0x7ff36477d350>),\n",
              " ('mancha', <pyspark.resultiterable.ResultIterable at 0x7ff36477d1d0>),\n",
              " ('saavedra', <pyspark.resultiterable.ResultIterable at 0x7ff36477d090>),\n",
              " ('que', <pyspark.resultiterable.ResultIterable at 0x7ff36477dbd0>),\n",
              " ('condición', <pyspark.resultiterable.ResultIterable at 0x7ff36477dc10>),\n",
              " ('y', <pyspark.resultiterable.ResultIterable at 0x7ff36477de10>),\n",
              " ('del', <pyspark.resultiterable.ResultIterable at 0x7ff36477db10>),\n",
              " ('d', <pyspark.resultiterable.ResultIterable at 0x7ff36477dd50>)]"
            ]
          },
          "metadata": {},
          "execution_count": 88
        }
      ]
    },
    {
      "cell_type": "markdown",
      "metadata": {
        "id": "KxTShJJBgOv4"
      },
      "source": [
        "Agrupamos las palabras por clave para obtener la frecuencia y cogemos las 10 con más frecuencia"
      ]
    },
    {
      "cell_type": "code",
      "metadata": {
        "id": "7nmgk3ZmlFlW",
        "colab": {
          "base_uri": "https://localhost:8080/"
        },
        "outputId": "4cee447d-fbc9-4e29-af13-5260d80296f4"
      },
      "source": [
        "joinFreq = frequencies.join(frequencies2)\n",
        "joinFreq.take(10)"
      ],
      "execution_count": 89,
      "outputs": [
        {
          "output_type": "execute_result",
          "data": {
            "text/plain": [
              "[('el', (1232, 4394)),\n",
              " ('hidalgo', (14, 42)),\n",
              " ('don', (370, 1606)),\n",
              " ('mancha', (26, 101)),\n",
              " ('saavedra', (1, 1)),\n",
              " ('que', (3032, 10040)),\n",
              " ('y', (2573, 9650)),\n",
              " ('del', (415, 1344)),\n",
              " ('en', (1155, 4223)),\n",
              " ('cuyo', (11, 35))]"
            ]
          },
          "metadata": {},
          "execution_count": 89
        }
      ]
    },
    {
      "cell_type": "markdown",
      "metadata": {
        "id": "Dg3e2uB7gnIh"
      },
      "source": [
        "Hacemos un join de las frecuecias obtenidas por cada metodo descrito arriba y tomamos 10 ejemplos (join da  el siguiente formato de salida(K, (V, W))) siendo K la clave de unión y V y W valores  de las tablas"
      ]
    },
    {
      "cell_type": "code",
      "metadata": {
        "colab": {
          "base_uri": "https://localhost:8080/"
        },
        "id": "X2ouyMHBmYk8",
        "outputId": "f086148d-8613-40ff-8aeb-04332d3d5fa0"
      },
      "source": [
        "test = frequencies.filter(lambda e: e[0] == 'pieza')\n",
        "t = test.collect()\n",
        "\n",
        "print(t[0][1])\n"
      ],
      "execution_count": 90,
      "outputs": [
        {
          "output_type": "stream",
          "name": "stdout",
          "text": [
            "9\n"
          ]
        }
      ]
    },
    {
      "cell_type": "code",
      "metadata": {
        "colab": {
          "base_uri": "https://localhost:8080/"
        },
        "id": "nqrUP_L3m07L",
        "outputId": "66cf47b7-7a72-456c-82fe-fe491cc63a33"
      },
      "source": [
        "test2 = frequencies2.filter(lambda e: e[0] == 'pieza')\n",
        "test2.collect()"
      ],
      "execution_count": 91,
      "outputs": [
        {
          "output_type": "execute_result",
          "data": {
            "text/plain": [
              "[('pieza', 1)]"
            ]
          },
          "metadata": {},
          "execution_count": 91
        }
      ]
    },
    {
      "cell_type": "code",
      "metadata": {
        "id": "UOY-R88Fl1vq",
        "colab": {
          "base_uri": "https://localhost:8080/"
        },
        "outputId": "18083733-2df7-4936-dfd9-e95939c648c1"
      },
      "source": [
        "joinFreq.map(lambda e: (e[0], (e[1][0] - e[1][1])/(e[1][0] + e[1][1]))).takeOrdered(10, lambda v: -v[1]), joinFreq.map(lambda e: (e[0], (e[1][0] - e[1][1])/(e[1][0] + e[1][1]))).takeOrdered(10, lambda v: +v[1])"
      ],
      "execution_count": 92,
      "outputs": [
        {
          "output_type": "execute_result",
          "data": {
            "text/plain": [
              "([('pieza', 0.8),\n",
              "  ('corral', 0.8),\n",
              "  ('rodela', 0.7777777777777778),\n",
              "  ('curar', 0.75),\n",
              "  ('valle', 0.75),\n",
              "  ('entierro', 0.75),\n",
              "  ('oh', 0.7142857142857143),\n",
              "  ('licor', 0.7142857142857143),\n",
              "  ('difunto', 0.7142857142857143),\n",
              "  ('pago', 0.6666666666666666)],\n",
              " [('teresa', -0.9767441860465116),\n",
              "  ('roque', -0.96),\n",
              "  ('paje', -0.9565217391304348),\n",
              "  ('duque', -0.9565217391304348),\n",
              "  ('blanca', -0.9565217391304348),\n",
              "  ('gobernador', -0.9503105590062112),\n",
              "  ('diego', -0.9459459459459459),\n",
              "  ('tarde', -0.9428571428571428),\n",
              "  ('mesmo', -0.9381443298969072),\n",
              "  ('letras', -0.9354838709677419)])"
            ]
          },
          "metadata": {},
          "execution_count": 92
        }
      ]
    },
    {
      "cell_type": "markdown",
      "metadata": {
        "id": "QLdLuRpFnp-D"
      },
      "source": [
        "Para cada uno de los métodos frecuencies y frecuencies2 calcula cociente entre la diferencia de ambos resultados y la suma de ambos resultados.\n",
        "Por ejemplo \"pieza\" en frecuencies nos da \"9\" y en frecuencies 2 da \"1\" por lo que 8/10 = 0.8\n",
        "Todos los resultados los da ordenados de mayor a menor(tomando solo los 10 primero), esto es, el resultado de esta operación.\n",
        "\n",
        "Repetimos el resultado solo que ahora con resultados negativos"
      ]
    },
    {
      "cell_type": "markdown",
      "metadata": {
        "id": "Xzt9cj-RmLta"
      },
      "source": [
        "## Pregunta TS2.3 Explica el proposito de cada una de las operaciones anteriores"
      ]
    },
    {
      "cell_type": "markdown",
      "metadata": {
        "id": "hks5NJc0UzUN"
      },
      "source": [
        "(Ver cuadro de texto debajo de cada operacion)"
      ]
    },
    {
      "cell_type": "markdown",
      "metadata": {
        "id": "I9Hx1bZ2mc-V"
      },
      "source": [
        "## Pregunta TS2.4 ¿Cómo puede implementarse la frecuencia con groupByKey y transformaciones?"
      ]
    },
    {
      "cell_type": "markdown",
      "metadata": {
        "id": "h5xgqId9p1Qe"
      },
      "source": [
        "Como hemos realizado en los apartado anteriores. Cremos un conjunto clave valor (K=palabra,1) para cada palabra, y hacemos un groupbykey. Finalmente con la secuencia de groupbykey(de 1's) calculamos su longitud obteniendo el resultado(frecuencia)."
      ]
    },
    {
      "cell_type": "code",
      "metadata": {
        "id": "HiuL6clvl-JS",
        "colab": {
          "base_uri": "https://localhost:8080/"
        },
        "outputId": "a6a62ad1-94ba-4360-8d91-0d5c5238d5f7"
      },
      "source": [
        "#Partiendo del rdd \"allWords\"con todas las palabras \n",
        "words = allWords.map(lambda e: (e,1))\n",
        "#frequencies = words.groupByKey().mapValues(len).collect() # to get all freqs\n",
        "frequencies = words.groupByKey().mapValues(len).take(10)\n",
        "\n",
        "frequencies\n",
        "\n"
      ],
      "execution_count": 93,
      "outputs": [
        {
          "output_type": "execute_result",
          "data": {
            "text/plain": [
              "[('el', 1232),\n",
              " ('hidalgo', 14),\n",
              " ('don', 370),\n",
              " ('mancha', 26),\n",
              " ('saavedra', 1),\n",
              " ('que', 3032),\n",
              " ('condición', 16),\n",
              " ('y', 2573),\n",
              " ('del', 415),\n",
              " ('d', 14)]"
            ]
          },
          "metadata": {},
          "execution_count": 93
        }
      ]
    },
    {
      "cell_type": "markdown",
      "metadata": {
        "id": "BiZwz7sOnBvF"
      },
      "source": [
        "# Optimizaciones\n"
      ]
    },
    {
      "cell_type": "markdown",
      "metadata": {
        "id": "avupEVWQnIL5"
      },
      "source": [
        "## Pregunta TS2.5 ¿Cuál de las dos siguientes celdas es más eficiente? Justifique la respuesta."
      ]
    },
    {
      "cell_type": "code",
      "metadata": {
        "id": "I0_XRWcOndr6",
        "colab": {
          "base_uri": "https://localhost:8080/"
        },
        "outputId": "99c8d71c-58ea-4bf7-aa19-f0b829cd0efa"
      },
      "source": [
        "joinFreq.map(lambda e: (e[0], (e[1][0] - e[1][1])/(e[1][0] + e[1][1]))).takeOrdered(10, lambda v: -v[1]), joinFreq.map(lambda e: (e[0], (e[1][0] - e[1][1])/(e[1][0] + e[1][1]))).takeOrdered(10, lambda v: +v[1])"
      ],
      "execution_count": 94,
      "outputs": [
        {
          "output_type": "execute_result",
          "data": {
            "text/plain": [
              "([('pieza', 0.8),\n",
              "  ('corral', 0.8),\n",
              "  ('rodela', 0.7777777777777778),\n",
              "  ('curar', 0.75),\n",
              "  ('valle', 0.75),\n",
              "  ('entierro', 0.75),\n",
              "  ('oh', 0.7142857142857143),\n",
              "  ('licor', 0.7142857142857143),\n",
              "  ('difunto', 0.7142857142857143),\n",
              "  ('pago', 0.6666666666666666)],\n",
              " [('teresa', -0.9767441860465116),\n",
              "  ('roque', -0.96),\n",
              "  ('paje', -0.9565217391304348),\n",
              "  ('duque', -0.9565217391304348),\n",
              "  ('blanca', -0.9565217391304348),\n",
              "  ('gobernador', -0.9503105590062112),\n",
              "  ('diego', -0.9459459459459459),\n",
              "  ('tarde', -0.9428571428571428),\n",
              "  ('mesmo', -0.9381443298969072),\n",
              "  ('letras', -0.9354838709677419)])"
            ]
          },
          "metadata": {},
          "execution_count": 94
        }
      ]
    },
    {
      "cell_type": "code",
      "metadata": {
        "id": "XKw7IizNnaKA",
        "colab": {
          "base_uri": "https://localhost:8080/"
        },
        "outputId": "d9d68453-9871-4222-8e7f-2dde124c0306"
      },
      "source": [
        "result = joinFreq.map(lambda e: (e[0], (e[1][0] - e[1][1])/(e[1][0] + e[1][1])))\n",
        "result.cache()\n",
        "result.takeOrdered(10, lambda v: -v[1]), result.takeOrdered(10, lambda v: +v[1])"
      ],
      "execution_count": 111,
      "outputs": [
        {
          "output_type": "execute_result",
          "data": {
            "text/plain": [
              "([('pieza', 0.8),\n",
              "  ('corral', 0.8),\n",
              "  ('rodela', 0.7777777777777778),\n",
              "  ('curar', 0.75),\n",
              "  ('valle', 0.75),\n",
              "  ('entierro', 0.75),\n",
              "  ('oh', 0.7142857142857143),\n",
              "  ('licor', 0.7142857142857143),\n",
              "  ('difunto', 0.7142857142857143),\n",
              "  ('pago', 0.6666666666666666)],\n",
              " [('teresa', -0.9767441860465116),\n",
              "  ('roque', -0.96),\n",
              "  ('paje', -0.9565217391304348),\n",
              "  ('duque', -0.9565217391304348),\n",
              "  ('blanca', -0.9565217391304348),\n",
              "  ('gobernador', -0.9503105590062112),\n",
              "  ('diego', -0.9459459459459459),\n",
              "  ('tarde', -0.9428571428571428),\n",
              "  ('mesmo', -0.9381443298969072),\n",
              "  ('letras', -0.9354838709677419)])"
            ]
          },
          "metadata": {},
          "execution_count": 111
        }
      ]
    },
    {
      "cell_type": "markdown",
      "metadata": {
        "id": "6NahcjCW2qOs"
      },
      "source": [
        "La segunda. Ya que la primera calcula la lambda sobre el rdd para obtener result 2 veces. En la segunda cacheamos el resultado para queries que requieren de la misma transformación intermedia, haciendo más rapido la ejecución"
      ]
    },
    {
      "cell_type": "code",
      "metadata": {
        "id": "Nq0ME9-NqJ2w",
        "colab": {
          "base_uri": "https://localhost:8080/"
        },
        "outputId": "3b9fd909-dc61-4d5b-bbe1-b5d269f42acb"
      },
      "source": [
        "result.coalesce(numPartitions=2) # Avoids the data movement, so it tries to balance inside each machine\n",
        "result.repartition(numPartitions=2) # We don't care about data movement, this balance the whole thing to ensure all machines are used"
      ],
      "execution_count": 112,
      "outputs": [
        {
          "output_type": "execute_result",
          "data": {
            "text/plain": [
              "MapPartitionsRDD[240] at coalesce at NativeMethodAccessorImpl.java:0"
            ]
          },
          "metadata": {},
          "execution_count": 112
        }
      ]
    },
    {
      "cell_type": "code",
      "metadata": {
        "id": "79DLzM3WqaEF",
        "colab": {
          "base_uri": "https://localhost:8080/"
        },
        "outputId": "f8d8222a-6726-448f-ef4f-13d17fbf75b2"
      },
      "source": [
        "result.take(10)\n",
        "allWords.cache() # allWords RDD must  stay in memory after computation, we made a checkpoint (well, it's a best effort, so must might be too strong)\n",
        "result.take(10)"
      ],
      "execution_count": 113,
      "outputs": [
        {
          "output_type": "execute_result",
          "data": {
            "text/plain": [
              "[('el', -0.5620334162815499),\n",
              " ('hidalgo', -0.5),\n",
              " ('don', -0.6255060728744939),\n",
              " ('mancha', -0.5905511811023622),\n",
              " ('saavedra', 0.0),\n",
              " ('que', -0.5361077111383109),\n",
              " ('y', -0.5789904278818621),\n",
              " ('del', -0.5281409891984082),\n",
              " ('en', -0.5704722945332837),\n",
              " ('cuyo', -0.5217391304347826)]"
            ]
          },
          "metadata": {},
          "execution_count": 113
        }
      ]
    },
    {
      "cell_type": "code",
      "metadata": {
        "id": "NmdxjbAAqjIC",
        "colab": {
          "base_uri": "https://localhost:8080/"
        },
        "outputId": "8225fe9f-b8ea-4bb3-c0ff-648e528c19b2"
      },
      "source": [
        "from pyspark import StorageLevel\n",
        "# https://spark.apache.org/docs/2.2.0/rdd-programming-guide.html#rdd-persistence\n",
        "allWords2.persist(StorageLevel.MEMORY_AND_DISK) # Now it will be preserved on disk also"
      ],
      "execution_count": 114,
      "outputs": [
        {
          "output_type": "execute_result",
          "data": {
            "text/plain": [
              "PythonRDD[198] at RDD at PythonRDD.scala:53"
            ]
          },
          "metadata": {},
          "execution_count": 114
        }
      ]
    },
    {
      "cell_type": "code",
      "metadata": {
        "id": "lPbqq1tYqo5H"
      },
      "source": [
        "!rm -rf palabras_parte2\n",
        "#allWords2.saveAsTextFile(\"palabras_parte2\")\n",
        "\n",
        "allWords2.coalesce(numPartitions=6).saveAsTextFile(\"palabras_parte2\")\n"
      ],
      "execution_count": 120,
      "outputs": []
    },
    {
      "cell_type": "code",
      "metadata": {
        "id": "wjBusUNgrMdB",
        "colab": {
          "base_uri": "https://localhost:8080/"
        },
        "outputId": "1c8a7e01-fe97-4ea7-fb68-89700bdae4b9"
      },
      "source": [
        "\n",
        "%ls -la /content/palabras_parte2/"
      ],
      "execution_count": 121,
      "outputs": [
        {
          "output_type": "stream",
          "name": "stdout",
          "text": [
            "total 1100\n",
            "drwxr-xr-x 2 root root   4096 Oct  5 08:01 \u001b[0m\u001b[01;34m.\u001b[0m/\n",
            "drwxr-xr-x 1 root root   4096 Oct  5 08:01 \u001b[01;34m..\u001b[0m/\n",
            "-rw-r--r-- 1 root root 666813 Oct  5 08:01 part-00000\n",
            "-rw-r--r-- 1 root root   5220 Oct  5 08:01 .part-00000.crc\n",
            "-rw-r--r-- 1 root root 430302 Oct  5 08:01 part-00001\n",
            "-rw-r--r-- 1 root root   3372 Oct  5 08:01 .part-00001.crc\n",
            "-rw-r--r-- 1 root root      0 Oct  5 08:01 _SUCCESS\n",
            "-rw-r--r-- 1 root root      8 Oct  5 08:01 ._SUCCESS.crc\n"
          ]
        }
      ]
    },
    {
      "cell_type": "markdown",
      "metadata": {
        "id": "nW3ELXvSqtdn"
      },
      "source": [
        "## Pregunta TS2.6 Antes de guardar el fichero, utilice coalesce con diferente valores ¿Cuál es la diferencia?"
      ]
    },
    {
      "cell_type": "markdown",
      "metadata": {
        "id": "082OQEHi3dzv"
      },
      "source": [
        "Que reduce el número de particiones del rdd cuando lo guarda. Lo podemos ver haciendo un ls al directorio(ver codigo de arriba). Cabe destacar que como el número de particiones es originalmente 2, si ponemos un 1 lo reduce a 1 particion, 2 lo mantiene, y valores superiores lo mantiene también(puesto que solo reduce el numero de particiones). Logicamente el valor 0 no es aceptado."
      ]
    },
    {
      "cell_type": "markdown",
      "metadata": {
        "id": "Rrlv7SpGrOvA"
      },
      "source": [
        "Variables Globales"
      ]
    },
    {
      "cell_type": "code",
      "metadata": {
        "id": "QhsyqMMXrVZ9",
        "colab": {
          "base_uri": "https://localhost:8080/"
        },
        "outputId": "eda86f69-8358-4631-847b-fa3323562a23"
      },
      "source": [
        "articles = sc.broadcast([\"el\", \"la\"])\n",
        "articles.value"
      ],
      "execution_count": 101,
      "outputs": [
        {
          "output_type": "execute_result",
          "data": {
            "text/plain": [
              "['el', 'la']"
            ]
          },
          "metadata": {},
          "execution_count": 101
        }
      ]
    },
    {
      "cell_type": "code",
      "metadata": {
        "id": "Z51vqUrasDqz",
        "colab": {
          "base_uri": "https://localhost:8080/"
        },
        "outputId": "21acbc02-42f7-4779-8460-f4513e97c3ba"
      },
      "source": [
        "acc = sc.accumulator(0)\n",
        "def incrementar(x):\n",
        "  global acc\n",
        "  acc += x\n",
        "\n",
        "allWords.map(lambda l:1).foreach(incrementar)\n",
        "acc"
      ],
      "execution_count": 102,
      "outputs": [
        {
          "output_type": "execute_result",
          "data": {
            "text/plain": [
              "Accumulator<id=0, value=56521>"
            ]
          },
          "metadata": {},
          "execution_count": 102
        }
      ]
    },
    {
      "cell_type": "code",
      "metadata": {
        "id": "N2CkixrL7Ams",
        "colab": {
          "base_uri": "https://localhost:8080/"
        },
        "outputId": "269fd4f7-5a8b-47c1-d485-de6cc6540f1d"
      },
      "source": [
        "print (rdd.getStorageLevel())\n",
        "rdd = sc.textFile('elquijote.txt')\n",
        "%time print (rdd.count())\n",
        "%time print (rdd.count())\n",
        "rdd.cache()\n",
        "%time print (rdd.count())\n",
        "%time print (rdd.count())\n"
      ],
      "execution_count": 103,
      "outputs": [
        {
          "output_type": "stream",
          "name": "stdout",
          "text": [
            "Serialized 1x Replicated\n",
            "5534\n",
            "CPU times: user 9.44 ms, sys: 1.21 ms, total: 10.7 ms\n",
            "Wall time: 94.9 ms\n",
            "5534\n",
            "CPU times: user 12.7 ms, sys: 0 ns, total: 12.7 ms\n",
            "Wall time: 112 ms\n",
            "5534\n",
            "CPU times: user 9.69 ms, sys: 787 µs, total: 10.5 ms\n",
            "Wall time: 150 ms\n",
            "5534\n",
            "CPU times: user 16.1 ms, sys: 780 µs, total: 16.8 ms\n",
            "Wall time: 154 ms\n"
          ]
        }
      ]
    },
    {
      "cell_type": "code",
      "metadata": {
        "id": "bYVHFmzs7Ow3",
        "colab": {
          "base_uri": "https://localhost:8080/"
        },
        "outputId": "d77d887f-f6d7-400b-fe2f-280d73b7b36f"
      },
      "source": [
        "pals_a_eliminar = ['a', 'ante', 'bajo', 'segun', 'que', 'de']\n",
        "\n",
        "def elimPalabras(p):\n",
        "    global pals_a_eliminar\n",
        "    return p not in pals_a_eliminar\n",
        "\n",
        "lineas = sc.textFile('elquijote.txt', 8)\n",
        "pals = (lineas.flatMap(lambda linea: linea.lower().split())\n",
        "              .filter(elimPalabras)\n",
        "              .map(lambda pal: (pal, 1))\n",
        "              .reduceByKey(lambda elem1,elem2: elem1 + elem2))\n",
        "\n",
        "print (pals.takeOrdered(15, key=lambda a:-a[1]))"
      ],
      "execution_count": 104,
      "outputs": [
        {
          "output_type": "stream",
          "name": "stdout",
          "text": [
            "[('y', 2571), ('la', 1423), ('el', 1224), ('en', 1155), ('no', 880), ('se', 753), ('los', 696), ('con', 621), ('su', 617), ('por', 573), ('le', 534), ('las', 514), ('lo', 508), ('del', 415), ('don', 368)]\n"
          ]
        }
      ]
    },
    {
      "cell_type": "code",
      "metadata": {
        "id": "SBPm64s-7wsO",
        "colab": {
          "base_uri": "https://localhost:8080/"
        },
        "outputId": "3e718e23-d52a-4be5-85be-78cd9e081edd"
      },
      "source": [
        "counter = sc.accumulator(0)\n",
        "\n",
        "rdd = sc.textFile('elquijote.txt')\n",
        "\n",
        "def increment_counter(x):\n",
        "    global counter\n",
        "    counter += x\n",
        "    \n",
        "rdd.map(lambda l:len(l)).foreach(increment_counter)\n",
        "\n",
        "print (\"Counter value: %d\" % counter.value)"
      ],
      "execution_count": 105,
      "outputs": [
        {
          "output_type": "stream",
          "name": "stdout",
          "text": [
            "Counter value: 305678\n"
          ]
        }
      ]
    },
    {
      "cell_type": "markdown",
      "metadata": {
        "id": "D7ggyYHwJikN"
      },
      "source": [
        ""
      ]
    }
  ]
}