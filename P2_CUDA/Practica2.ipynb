{
 "cells": [
  {
   "cell_type": "markdown",
   "metadata": {
    "id": "Mus5Vhq10lPH"
   },
   "source": [
    "## AUTORES Carlos Ramos Mateos y Adrián Rubio Pintado\n"
   ]
  },
  {
   "cell_type": "markdown",
   "metadata": {
    "id": "ogl-cuYNKDzf"
   },
   "source": [
    "# Parte 1: Programación en GPU"
   ]
  },
  {
   "cell_type": "markdown",
   "metadata": {
    "id": "Mg0xg8sShDJN"
   },
   "source": [
    "## Tutorial suma de vectores "
   ]
  },
  {
   "cell_type": "markdown",
   "metadata": {
    "id": "lwCNKx3Bih_H"
   },
   "source": [
    " Click  Entorno de ejecución > Cambiar tipo de Entorno >  Accelerador por Hardware GPU."
   ]
  },
  {
   "cell_type": "markdown",
   "metadata": {
    "id": "J5l-UxqSDUWZ"
   },
   "source": [
    "## Entorno de Ejecución\n",
    "Compilador y GPU"
   ]
  },
  {
   "cell_type": "markdown",
   "metadata": {
    "id": "WE01tzqdC_Mv"
   },
   "source": [
    "Comprobamos la version del compilador cuda y que GPU tenemos disponible"
   ]
  },
  {
   "cell_type": "code",
   "execution_count": null,
   "metadata": {
    "colab": {
     "base_uri": "https://localhost:8080/"
    },
    "id": "UoplIeXOhAkV",
    "outputId": "eba5b7d0-45d2-4bde-cd24-505872a81fa9"
   },
   "outputs": [
    {
     "name": "stdout",
     "output_type": "stream",
     "text": [
      "nvcc: NVIDIA (R) Cuda compiler driver\n",
      "Copyright (c) 2005-2020 NVIDIA Corporation\n",
      "Built on Mon_Oct_12_20:09:46_PDT_2020\n",
      "Cuda compilation tools, release 11.1, V11.1.105\n",
      "Build cuda_11.1.TC455_06.29190527_0\n",
      "Mon Nov  1 16:05:52 2021       \n",
      "+-----------------------------------------------------------------------------+\n",
      "| NVIDIA-SMI 495.29.05    Driver Version: 460.32.03    CUDA Version: 11.2     |\n",
      "|-------------------------------+----------------------+----------------------+\n",
      "| GPU  Name        Persistence-M| Bus-Id        Disp.A | Volatile Uncorr. ECC |\n",
      "| Fan  Temp  Perf  Pwr:Usage/Cap|         Memory-Usage | GPU-Util  Compute M. |\n",
      "|                               |                      |               MIG M. |\n",
      "|===============================+======================+======================|\n",
      "|   0  Tesla K80           Off  | 00000000:00:04.0 Off |                    0 |\n",
      "| N/A   70C    P8    34W / 149W |      0MiB / 11441MiB |      0%      Default |\n",
      "|                               |                      |                  N/A |\n",
      "+-------------------------------+----------------------+----------------------+\n",
      "                                                                               \n",
      "+-----------------------------------------------------------------------------+\n",
      "| Processes:                                                                  |\n",
      "|  GPU   GI   CI        PID   Type   Process name                  GPU Memory |\n",
      "|        ID   ID                                                   Usage      |\n",
      "|=============================================================================|\n",
      "|  No running processes found                                                 |\n",
      "+-----------------------------------------------------------------------------+\n"
     ]
    }
   ],
   "source": [
    "!nvcc --version\n",
    "!nvidia-smi"
   ]
  },
  {
   "cell_type": "markdown",
   "metadata": {
    "id": "zTjP7cFyDv2J"
   },
   "source": [
    "Directorio de trabajo"
   ]
  },
  {
   "cell_type": "code",
   "execution_count": null,
   "metadata": {
    "colab": {
     "base_uri": "https://localhost:8080/"
    },
    "id": "OJm31NuLD0-3",
    "outputId": "902fdb55-94dd-4ec3-db83-71e84d38b872"
   },
   "outputs": [
    {
     "name": "stdout",
     "output_type": "stream",
     "text": [
      "/content\n",
      "total 16\n",
      "drwxr-xr-x 1 root root 4096 Oct 26 13:34 .\n",
      "drwxr-xr-x 1 root root 4096 Nov  1 16:02 ..\n",
      "drwxr-xr-x 4 root root 4096 Oct 26 13:33 .config\n",
      "drwxr-xr-x 1 root root 4096 Oct 26 13:34 sample_data\n"
     ]
    }
   ],
   "source": [
    "!pwd\n",
    "!ls -la ."
   ]
  },
  {
   "cell_type": "markdown",
   "metadata": {
    "id": "b0RvgOeVEp2V"
   },
   "source": [
    "Creamos un subditectorio para el trabajo con cuda"
   ]
  },
  {
   "cell_type": "code",
   "execution_count": null,
   "metadata": {
    "colab": {
     "base_uri": "https://localhost:8080/"
    },
    "id": "pvFbkzJeEuSj",
    "outputId": "7a3e9e8f-3cd1-4f65-9f32-106a48dafae9"
   },
   "outputs": [
    {
     "name": "stdout",
     "output_type": "stream",
     "text": [
      "total 20\n",
      "drwxr-xr-x 1 root root 4096 Nov  1 16:05 .\n",
      "drwxr-xr-x 1 root root 4096 Nov  1 16:02 ..\n",
      "drwxr-xr-x 4 root root 4096 Oct 26 13:33 .config\n",
      "drwxr-xr-x 1 root root 4096 Oct 26 13:34 sample_data\n",
      "drwxr-xr-x 2 root root 4096 Nov  1 16:05 workcuda\n"
     ]
    }
   ],
   "source": [
    "!mkdir workcuda\n",
    "!ls -la "
   ]
  },
  {
   "cell_type": "markdown",
   "metadata": {
    "id": "vreaPZpqF_NG"
   },
   "source": [
    "## Suma en la CPU\n",
    "Directorio de trabajo /content/workcuda\n"
   ]
  },
  {
   "cell_type": "markdown",
   "metadata": {
    "id": "tlI-_lVqGnKF"
   },
   "source": [
    "Cambiar al directorio de trabjo"
   ]
  },
  {
   "cell_type": "code",
   "execution_count": null,
   "metadata": {
    "colab": {
     "base_uri": "https://localhost:8080/"
    },
    "id": "YjlaVIZ5Gyrb",
    "outputId": "359e28ed-863e-471b-add6-e53b71e2906a"
   },
   "outputs": [
    {
     "name": "stdout",
     "output_type": "stream",
     "text": [
      "/content/workcuda\n",
      "total 8\n",
      "drwxr-xr-x 2 root root 4096 Nov  1 16:05 .\n",
      "drwxr-xr-x 1 root root 4096 Nov  1 16:05 ..\n",
      "/content/workcuda\n"
     ]
    }
   ],
   "source": [
    "%cd /content/workcuda/\n",
    "!ls -la\n",
    "!pwd"
   ]
  },
  {
   "cell_type": "markdown",
   "metadata": {
    "id": "v1HWfoW6HFs1"
   },
   "source": [
    "Escribir en el directorio actual el fichero suma0.cu\n"
   ]
  },
  {
   "cell_type": "code",
   "execution_count": null,
   "metadata": {
    "colab": {
     "base_uri": "https://localhost:8080/"
    },
    "id": "8A4rx7-4HPpu",
    "outputId": "6b6b26f8-46ea-4eba-a86b-c2a57bd16812"
   },
   "outputs": [
    {
     "name": "stdout",
     "output_type": "stream",
     "text": [
      "Writing suma0.cu\n"
     ]
    }
   ],
   "source": [
    "%%writefile suma0.cu\n",
    "\n",
    "#include <iostream>\n",
    "#include <math.h>\n",
    "\n",
    "#include <time.h>\n",
    "#include <sys/time.h>\n",
    "\n",
    "void add(int n, float *x, float *y) {\n",
    "\n",
    "  for (int i =0; i < n; i++ ){\n",
    "    y[i]=x[i]+y[i];\n",
    "  }\n",
    "}\n",
    "\n",
    "\n",
    "int main(void) {\n",
    "    \n",
    "    int N = 1 <<20;  // N = 2^20 = 1024*1024= 1.048.576\n",
    "    struct timeval tv;\n",
    "\t  unsigned long long start;\n",
    "\n",
    "    float *x = new float[N];\n",
    "    float *y = new float[N]; \n",
    "    \n",
    "    for (int i =0; i < N; i++ ){\n",
    "        x[i]= 1.0f;\n",
    "        y[i]= 2.0f;\n",
    "    }\n",
    "    gettimeofday(&tv, NULL); \n",
    "    start=tv.tv_sec*1000000+tv.tv_usec;\n",
    "   \n",
    "    add(N, x, y);\n",
    "  \n",
    "    gettimeofday(&tv, NULL); \n",
    "\t  printf(\"Tiempo del cálculo : %lf ms\\n\", (tv.tv_sec*1000000+tv.tv_usec - start)/1000.0);\n",
    "  \n",
    "    float maxError = 0.0f;\n",
    "    int contError = 0;\n",
    "   \n",
    "    for (int i=0; i <N; i++){\n",
    "      maxError=fmax(maxError,fabs(y[i]-3.0f));\n",
    "      if (y[i] != 3.0) contError++; \n",
    "    }\n",
    "    std::cout << \"suma de \" << N << \" Elementos\" << std::endl;\n",
    "    std::cout << \"Número de Errores: \" <<contError << std::endl;\n",
    "    std::cout << \"Max error: \" <<maxError << std::endl;\n",
    "\n",
    "    delete [] x;\n",
    "    delete [] y;\n",
    "\n",
    "    return 0;\n",
    "}"
   ]
  },
  {
   "cell_type": "markdown",
   "metadata": {
    "id": "HuPPmwavIOFA"
   },
   "source": [
    "Comprobamos el fichero que se ha escrito"
   ]
  },
  {
   "cell_type": "code",
   "execution_count": null,
   "metadata": {
    "colab": {
     "base_uri": "https://localhost:8080/"
    },
    "id": "RwYeCGzQIXkx",
    "outputId": "e89d5311-3284-4ad2-8786-88e7b5fa7995"
   },
   "outputs": [
    {
     "name": "stdout",
     "output_type": "stream",
     "text": [
      "total 12\n",
      "drwxr-xr-x 2 root root 4096 Nov  1 16:06 .\n",
      "drwxr-xr-x 1 root root 4096 Nov  1 16:05 ..\n",
      "-rw-r--r-- 1 root root 1090 Nov  1 16:06 suma0.cu\n",
      "\n",
      "#include <iostream>\n",
      "#include <math.h>\n",
      "\n",
      "#include <time.h>\n",
      "#include <sys/time.h>\n",
      "\n",
      "void add(int n, float *x, float *y) {\n",
      "    \n",
      "    for (int i =0; i < n; i++ ){\n",
      "        y[i]=x[i]+y[i];\n",
      "    }\n",
      "}\n",
      "\n",
      "\n",
      "int main(void) {\n",
      "    \n",
      "    int N = 1 <<20;  // N = 2^20 = 1024*1024= 1.048.576\n",
      "    struct timeval tv;\n",
      "\t  unsigned long long start;\n",
      "\n",
      "    float *x = new float[N];\n",
      "    float *y = new float[N]; \n",
      "    \n",
      "    for (int i =0; i < N; i++ ){\n",
      "        x[i]= 1.0f;\n",
      "        y[i]= 2.0f;\n",
      "    }\n",
      "    gettimeofday(&tv, NULL); \n",
      "    start=tv.tv_sec*1000000+tv.tv_usec;\n",
      "   \n",
      "    add(N, x, y);\n",
      "  \n",
      "    gettimeofday(&tv, NULL); \n",
      "\t  printf(\"Tiempo del cálculo : %lf ms\\n\", (tv.tv_sec*1000000+tv.tv_usec - start)/1000.0);\n",
      "  \n",
      "   float maxError = 0.0f;\n",
      "   int contError = 0;\n",
      "   \n",
      "   for (int i=0; i <N; i++){\n",
      "       maxError=fmax(maxError,fabs(y[i]-3.0f));\n",
      "       if (y[i] != 3.0) contError++; \n",
      "   }\n",
      "   std::cout << \"suma de \" << N << \" Elementos\" << std::endl;\n",
      "   std::cout << \"Número de Errores: \" <<contError << std::endl;\n",
      "   std::cout << \"Max error: \" <<maxError << std::endl;\n",
      "\n",
      "   \n",
      "   delete [] x;\n",
      "   delete [] y;\n",
      "   return 0;\n",
      "}"
     ]
    }
   ],
   "source": [
    "!ls -la\n",
    "%cat suma0.cu"
   ]
  },
  {
   "cell_type": "markdown",
   "metadata": {
    "id": "2SyXSbmnIv0M"
   },
   "source": [
    "Compilamos el archivo suma0.cu"
   ]
  },
  {
   "cell_type": "code",
   "execution_count": null,
   "metadata": {
    "colab": {
     "base_uri": "https://localhost:8080/"
    },
    "id": "7zYIG87OI3ml",
    "outputId": "3f4aa2ab-fbff-4cac-c7d9-96bbd0a724a9"
   },
   "outputs": [
    {
     "name": "stdout",
     "output_type": "stream",
     "text": [
      "nvcc warning : The 'compute_35', 'compute_37', 'compute_50', 'sm_35', 'sm_37' and 'sm_50' architectures are deprecated, and may be removed in a future release (Use -Wno-deprecated-gpu-targets to suppress warning).\n"
     ]
    }
   ],
   "source": [
    "!/usr/local/cuda/bin/nvcc -arch=sm_37 -rdc=true suma0.cu -o suma0 -lcudadevrt"
   ]
  },
  {
   "cell_type": "code",
   "execution_count": null,
   "metadata": {
    "colab": {
     "base_uri": "https://localhost:8080/"
    },
    "id": "EdK140EvJEIG",
    "outputId": "feb00e10-a7d0-4f6a-96a1-6219535ab0b5"
   },
   "outputs": [
    {
     "name": "stdout",
     "output_type": "stream",
     "text": [
      "suma0  suma0.cu\n"
     ]
    }
   ],
   "source": [
    "!ls"
   ]
  },
  {
   "cell_type": "markdown",
   "metadata": {
    "id": "WS4zH1EFJMG1"
   },
   "source": [
    "Corremos el fichero ejecutable"
   ]
  },
  {
   "cell_type": "code",
   "execution_count": null,
   "metadata": {
    "colab": {
     "base_uri": "https://localhost:8080/"
    },
    "id": "17UsypZDJWjH",
    "outputId": "537ee805-8cd5-4032-e1ea-2af4c464f2cc"
   },
   "outputs": [
    {
     "name": "stdout",
     "output_type": "stream",
     "text": [
      "Tiempo del cálculo : 3.968000 ms\n",
      "suma de 1048576 Elementos\n",
      "Número de Errores: 0\n",
      "Max error: 0\n"
     ]
    }
   ],
   "source": [
    "!./suma0"
   ]
  },
  {
   "cell_type": "markdown",
   "metadata": {
    "id": "emXuYnmEJi8c"
   },
   "source": [
    "## Suma en la GPU con un solo thread (serie)"
   ]
  },
  {
   "cell_type": "markdown",
   "metadata": {
    "id": "bsezodqfLF9j"
   },
   "source": [
    "Escribir en el directorio actual el fichero suma1.cu\n"
   ]
  },
  {
   "cell_type": "code",
   "execution_count": null,
   "metadata": {
    "colab": {
     "base_uri": "https://localhost:8080/"
    },
    "id": "7f42S3DELF9l",
    "outputId": "e6396498-778a-4773-82b9-50e82bd64469"
   },
   "outputs": [
    {
     "name": "stdout",
     "output_type": "stream",
     "text": [
      "Writing suma1.cu\n"
     ]
    }
   ],
   "source": [
    "%%writefile suma1.cu\n",
    "\n",
    "#include <iostream>\n",
    "#include <math.h>\n",
    "\n",
    "#include <time.h>\n",
    "#include <sys/time.h>\n",
    "\n",
    "__global__ void add(int n, float *x, float *y) {\n",
    "\n",
    "  for (int i =0; i < n; i++ ){\n",
    "    y[i]=x[i]+y[i];\n",
    "  }\n",
    "}\n",
    "\n",
    "int main(void) {\n",
    "  \n",
    "  int N = 1 <<20;  // N = 2^20 = 1024*1024= 1.048.576\n",
    "  struct timeval tv;\n",
    "\tunsigned long long start;\n",
    "  float *x; // = new float[N];\n",
    "  float *y; // = new float[N]; \n",
    "\n",
    "  cudaMallocManaged(&x, N*sizeof(float));\n",
    "  cudaMallocManaged(&y, N*sizeof(float));\n",
    "    \n",
    "  for (int i =0; i < N; i++ ){\n",
    "    x[i]= 1.0f;\n",
    "    y[i]= 2.0f;\n",
    "  }\n",
    "\n",
    "  gettimeofday(&tv, NULL); \n",
    "  start=tv.tv_sec*1000000+tv.tv_usec;\n",
    "   \n",
    "  add<<<1,1>>>(N, x, y);\n",
    "  \n",
    "  gettimeofday(&tv, NULL); \n",
    "\tprintf(\"Tiempo del cálculo : %lf ms\\n\", (tv.tv_sec*1000000+tv.tv_usec - start)/1000.0);\n",
    "  \n",
    "  cudaDeviceSynchronize();\n",
    "  gettimeofday(&tv, NULL); \n",
    "\tprintf(\"Tiempo con el synchronize  : %lf ms\\n\", (tv.tv_sec*1000000+tv.tv_usec - start)/1000.0);\n",
    "  \n",
    "  float maxError = 0.0f;\n",
    "  int contError = 0;\n",
    "   \n",
    "  for (int i=0; i <N; i++){\n",
    "    maxError=fmax(maxError,fabs(y[i]-3.0f));\n",
    "    if (y[i] != 3.0) contError++; \n",
    "  }\n",
    "   \n",
    "  std::cout << \"suma de \" << N << \" Elementos\" << std::endl;\n",
    "  std::cout << \"Número de Errores: \" <<contError << std::endl;\n",
    "  std::cout << \"Max error: \" <<maxError << std::endl;\n",
    "\n",
    "  cudaFree (x);\n",
    "  cudaFree (y);\n",
    "   \n",
    "  return 0;\n",
    "}"
   ]
  },
  {
   "cell_type": "markdown",
   "metadata": {
    "id": "s5_1F1X2M1tP"
   },
   "source": [
    "Compilamos el archivo suma1.cu"
   ]
  },
  {
   "cell_type": "code",
   "execution_count": null,
   "metadata": {
    "colab": {
     "base_uri": "https://localhost:8080/"
    },
    "id": "zQmb_dmeDfFy",
    "outputId": "4e568bca-7323-411d-d486-88a0d2c8470b"
   },
   "outputs": [
    {
     "name": "stdout",
     "output_type": "stream",
     "text": [
      "total 712\n",
      "drwxr-xr-x 2 root root   4096 Nov  1 16:14 .\n",
      "drwxr-xr-x 1 root root   4096 Nov  1 16:05 ..\n",
      "-rwxr-xr-x 1 root root 711464 Nov  1 16:07 suma0\n",
      "-rw-r--r-- 1 root root   1090 Nov  1 16:06 suma0.cu\n",
      "-rw-r--r-- 1 root root   1369 Nov  1 16:14 suma1.cu\n"
     ]
    }
   ],
   "source": [
    "!ls -la"
   ]
  },
  {
   "cell_type": "code",
   "execution_count": null,
   "metadata": {
    "colab": {
     "base_uri": "https://localhost:8080/"
    },
    "id": "GNag5MzZNCn0",
    "outputId": "6db4dbbd-6ba8-483a-d0e1-31e874d28f06"
   },
   "outputs": [
    {
     "name": "stdout",
     "output_type": "stream",
     "text": [
      "nvcc warning : The 'compute_35', 'compute_37', 'compute_50', 'sm_35', 'sm_37' and 'sm_50' architectures are deprecated, and may be removed in a future release (Use -Wno-deprecated-gpu-targets to suppress warning).\n"
     ]
    }
   ],
   "source": [
    "!/usr/local/cuda/bin/nvcc -arch=sm_37 -rdc=true suma1.cu -o suma1 -lcudadevrt"
   ]
  },
  {
   "cell_type": "code",
   "execution_count": null,
   "metadata": {
    "id": "6iUYakngaG-z"
   },
   "outputs": [],
   "source": [
    "!/usr/local/cuda/bin/nvcc -rdc=true suma1.cu -o suma1sinarch -lcudadevrt"
   ]
  },
  {
   "cell_type": "code",
   "execution_count": null,
   "metadata": {
    "colab": {
     "base_uri": "https://localhost:8080/"
    },
    "id": "9rv2-cv_M2T1",
    "outputId": "766f9b75-f15d-4c14-c94d-019415588b72"
   },
   "outputs": [
    {
     "name": "stdout",
     "output_type": "stream",
     "text": [
      "suma0  suma0.cu  suma1\tsuma1.cu  suma1sinarch\n"
     ]
    }
   ],
   "source": [
    "!ls"
   ]
  },
  {
   "cell_type": "markdown",
   "metadata": {
    "id": "CkhdRO6NM2T5"
   },
   "source": [
    "Corremos el fichero ejecutable compilado sin flag -arch (Modelo de computación de la GPU)"
   ]
  },
  {
   "cell_type": "code",
   "execution_count": null,
   "metadata": {
    "colab": {
     "base_uri": "https://localhost:8080/"
    },
    "id": "Kx04T2vAaRML",
    "outputId": "33711b04-f012-46a6-bba8-c1ec4f88cce7"
   },
   "outputs": [
    {
     "name": "stdout",
     "output_type": "stream",
     "text": [
      "Tiempo del cálculo : 0.004000 ms\n",
      "Tiempo con el synchronize  : 0.045000 ms\n",
      "suma de 1048576 Elementos\n",
      "Número de Errores: 1048576\n",
      "Max error: 1\n"
     ]
    }
   ],
   "source": [
    "!./suma1sinarch"
   ]
  },
  {
   "cell_type": "markdown",
   "metadata": {
    "id": "6Knf_zZkEFgg"
   },
   "source": [
    "No está funcionando correctamente. "
   ]
  },
  {
   "cell_type": "markdown",
   "metadata": {
    "id": "Ld1bEfvJEULj"
   },
   "source": [
    "Ejecutamos el compilado con flag -arch (Modelo de computación de la GPU)"
   ]
  },
  {
   "cell_type": "code",
   "execution_count": null,
   "metadata": {
    "colab": {
     "base_uri": "https://localhost:8080/"
    },
    "id": "cFPGdn_ZNIJL",
    "outputId": "9974e3d5-1700-4116-81f3-20bd7773dfba"
   },
   "outputs": [
    {
     "name": "stdout",
     "output_type": "stream",
     "text": [
      "Tiempo del cálculo : 1.431000 ms\n",
      "Tiempo con el synchronize  : 377.629000 ms\n",
      "suma de 1048576 Elementos\n",
      "Número de Errores: 0\n",
      "Max error: 0\n"
     ]
    }
   ],
   "source": [
    "!./suma1"
   ]
  },
  {
   "cell_type": "markdown",
   "metadata": {
    "id": "gYqbgwF2Ey2E"
   },
   "source": [
    "## P1 ¿Qué característica del modelo de computación esta siendo necesaria? "
   ]
  },
  {
   "cell_type": "markdown",
   "metadata": {
    "id": "hoFe6peWT7mt"
   },
   "source": [
    "Es necesario añadir el flag -arch=sm_37 espeficicando la arquitectura del modelo, ya que estamos utilizando la memoria compartida, y en adición para conseguir un resultado correcto, un syncronize de la misma para evitar carrera de datos. Si al compilador no le indicamos que estamos utilizando esta arquitectura con dichas carácteristicas, lo ignorará y no manejará correctamente la sincronización, dando como resultado datos erróneos como ya hemos visto."
   ]
  },
  {
   "cell_type": "markdown",
   "metadata": {
    "id": "E2mP2xx_NRwG"
   },
   "source": [
    "Hacemos el profile de ejecución"
   ]
  },
  {
   "cell_type": "code",
   "execution_count": null,
   "metadata": {
    "colab": {
     "base_uri": "https://localhost:8080/"
    },
    "id": "Qh2wbWvMNVq1",
    "outputId": "4db82cab-71be-49b3-d205-e43f1778b816"
   },
   "outputs": [
    {
     "name": "stdout",
     "output_type": "stream",
     "text": [
      "==344== NVPROF is profiling process 344, command: ./suma1\n",
      "==344== Warning: Auto boost enabled on device 0. Profiling results may be inconsistent.\n",
      "Tiempo del cálculo : 1.219000 ms\n",
      "Tiempo con el synchronize  : 307.565000 ms\n",
      "suma de 1048576 Elementos\n",
      "Número de Errores: 0\n",
      "Max error: 0\n",
      "==344== Profiling application: ./suma1\n",
      "==344== Profiling result:\n",
      "            Type  Time(%)      Time     Calls       Avg       Min       Max  Name\n",
      " GPU activities:  100.00%  306.31ms         1  306.31ms  306.31ms  306.31ms  add(int, float*, float*)\n",
      "      API calls:   55.43%  306.32ms         1  306.32ms  306.32ms  306.32ms  cudaDeviceSynchronize\n",
      "                   44.07%  243.52ms         2  121.76ms  604.46us  242.92ms  cudaMallocManaged\n",
      "                    0.22%  1.2071ms         1  1.2071ms  1.2071ms  1.2071ms  cudaLaunchKernel\n",
      "                    0.17%  934.93us         2  467.47us  444.60us  490.34us  cudaFree\n",
      "                    0.08%  438.17us         1  438.17us  438.17us  438.17us  cuDeviceTotalMem\n",
      "                    0.03%  161.12us       101  1.5950us     130ns  71.460us  cuDeviceGetAttribute\n",
      "                    0.00%  22.666us         1  22.666us  22.666us  22.666us  cuDeviceGetName\n",
      "                    0.00%  6.4060us         1  6.4060us  6.4060us  6.4060us  cuDeviceGetPCIBusId\n",
      "                    0.00%  1.6450us         3     548ns     193ns     922ns  cuDeviceGetCount\n",
      "                    0.00%  1.3170us         2     658ns     298ns  1.0190us  cuDeviceGet\n",
      "                    0.00%     310ns         1     310ns     310ns     310ns  cuDeviceGetUuid\n",
      "\n",
      "==344== Unified Memory profiling result:\n",
      "Device \"Tesla K80 (0)\"\n",
      "   Count  Avg Size  Min Size  Max Size  Total Size  Total Time  Name\n",
      "       6  1.3333MB  128.00KB  2.0000MB  8.000000MB  902.4230us  Host To Device\n",
      "      84  146.29KB  4.0000KB  0.9961MB  12.00000MB  1.424370ms  Device To Host\n",
      "Total CPU Page faults: 42\n"
     ]
    }
   ],
   "source": [
    "!nvprof ./suma1"
   ]
  },
  {
   "cell_type": "markdown",
   "metadata": {
    "id": "Dwbiv0LGNd2c"
   },
   "source": [
    "## P2 ¿La suma ha tardado más  o menos que en la CPU? Justifique como está funcionando."
   ]
  },
  {
   "cell_type": "markdown",
   "metadata": {
    "id": "UeuQjhqGSlzW"
   },
   "source": [
    "En tiempo solo de la operación de suma, ha tardado menos la GPU, ya que ha paralelizado la operación. Teniendo un tiempo de cálculo en la CPU de *3.968000 ms* mientras que en la GPU es de *1.219000 ms*.\n",
    "Sin embargo, dado que es necesario hacer el synchronize, en caso de que hagamos la operación con la GPU para evitar la carrera de datos, que nos suma un tiempo de *306.32ms*, haciendo un total de *307.565000 ms* necesarios para realizar el cálculo(de forma correcta) y haciéndolo más lento al final que con la CPU."
   ]
  },
  {
   "cell_type": "markdown",
   "metadata": {
    "id": "bZRK8kdhN50m"
   },
   "source": [
    "## Suma en la GPU con mas threads <<<1,256>>. Paralelismo sin aprovechar y posible Data Race"
   ]
  },
  {
   "cell_type": "markdown",
   "metadata": {
    "id": "JYi1KesMF8Pk"
   },
   "source": [
    "NOTA: Con este ejercicio se pretende comprobar un funcionamiento no deseado"
   ]
  },
  {
   "cell_type": "markdown",
   "metadata": {
    "id": "Pe60qyQGN50o"
   },
   "source": [
    "Escribir en el directorio actual el fichero suma1.cu\n"
   ]
  },
  {
   "cell_type": "code",
   "execution_count": null,
   "metadata": {
    "colab": {
     "base_uri": "https://localhost:8080/"
    },
    "id": "x7MhFhQFN50p",
    "outputId": "9c573c91-dacf-45cc-d75e-0f52fc3aff80"
   },
   "outputs": [
    {
     "name": "stdout",
     "output_type": "stream",
     "text": [
      "Overwriting suma2.cu\n"
     ]
    }
   ],
   "source": [
    "%%writefile suma2.cu\n",
    "\n",
    "#include <iostream>\n",
    "#include <math.h>\n",
    "#include <time.h>\n",
    "#include <sys/time.h>\n",
    "\n",
    "__global__ void add(int n, float *x, float *y) {\n",
    "    \n",
    "    for (int i =0; i < n; i++ ){\n",
    "        y[i]=x[i]+y[i];\n",
    "    }\n",
    "}\n",
    "\n",
    "int main(void) {\n",
    "    \n",
    "    int N = 1 <<20;  // N = 2^20 = 1024*1024= 1.048.576\n",
    "    struct timeval tv;\n",
    "\t  unsigned long long start;\n",
    "    float *x; // = new float[N];\n",
    "    float *y; // = new float[N]; \n",
    "\n",
    "    cudaMallocManaged(&x, N*sizeof(float));\n",
    "    cudaMallocManaged(&y, N*sizeof(float));\n",
    "    \n",
    "    for (int i =0; i < N; i++ ){\n",
    "        x[i]= 1.0f;\n",
    "        y[i]= 2.0f;\n",
    "    }\n",
    "\n",
    "    gettimeofday(&tv, NULL); \n",
    "    start=tv.tv_sec*1000000+tv.tv_usec;\n",
    "   \n",
    "    add<<<1,256>>>(N, x, y);\n",
    "  \n",
    "    gettimeofday(&tv, NULL); \n",
    "\t  printf(\"Tiempo del cálculo suma2 : %lf ms\\n\", (tv.tv_sec*1000000+tv.tv_usec - start)/1000.0);\n",
    "  \n",
    "    cudaDeviceSynchronize();\n",
    "    gettimeofday(&tv, NULL); \n",
    "\t  printf(\"Tiempo con el synchronize  : %lf ms\\n\", (tv.tv_sec*1000000+tv.tv_usec - start)/1000.0);\n",
    "\n",
    "\n",
    "    float maxError = 0.0f;\n",
    "    int contError = 0;\n",
    "   \n",
    "    for (int i=0; i <N; i++){\n",
    "      maxError=fmax(maxError,fabs(y[i]-3.0f));\n",
    "      if (y[i] != 3.0) contError++; \n",
    "    }\n",
    "   \n",
    "    std::cout << \"Suma de \" << N << \" elementos\" << std::endl;\n",
    "    std::cout << \"Número de errores: \" <<contError << std::endl;\n",
    "    std::cout << \"Max error: \" <<maxError << std::endl;\n",
    "  \n",
    "    cudaFree (x);\n",
    "    cudaFree (y);\n",
    "  \n",
    "    return 0;\n",
    "}"
   ]
  },
  {
   "cell_type": "code",
   "execution_count": null,
   "metadata": {
    "colab": {
     "base_uri": "https://localhost:8080/"
    },
    "id": "dQm-GJFTGzVE",
    "outputId": "a83d9618-f953-408e-fd27-1b7fd4c43f7d"
   },
   "outputs": [
    {
     "name": "stdout",
     "output_type": "stream",
     "text": [
      "\u001b[0m\u001b[01;32msuma0\u001b[0m*  suma0.cu  \u001b[01;32msuma1\u001b[0m*  suma1.cu  \u001b[01;32msuma1sinarch\u001b[0m*  \u001b[01;32msuma2\u001b[0m*  suma2.cu\n"
     ]
    }
   ],
   "source": [
    "%ls"
   ]
  },
  {
   "cell_type": "markdown",
   "metadata": {
    "id": "nrP6cUd_N50t"
   },
   "source": [
    "Compilamos el archivo suma1.cu"
   ]
  },
  {
   "cell_type": "code",
   "execution_count": null,
   "metadata": {
    "colab": {
     "base_uri": "https://localhost:8080/"
    },
    "id": "FRMbGzPHN50u",
    "outputId": "850650c0-8d7b-4571-c5af-fd47f9d5674b"
   },
   "outputs": [
    {
     "name": "stdout",
     "output_type": "stream",
     "text": [
      "nvcc warning : The 'compute_35', 'compute_37', 'compute_50', 'sm_35', 'sm_37' and 'sm_50' architectures are deprecated, and may be removed in a future release (Use -Wno-deprecated-gpu-targets to suppress warning).\n"
     ]
    }
   ],
   "source": [
    "!/usr/local/cuda/bin/nvcc -arch=sm_37 -rdc=true suma2.cu -o suma2 -lcudadevrt"
   ]
  },
  {
   "cell_type": "code",
   "execution_count": null,
   "metadata": {
    "colab": {
     "base_uri": "https://localhost:8080/"
    },
    "id": "waZ15QNtN50w",
    "outputId": "55d11b5f-e942-4ff7-a3ec-705b71d630a8"
   },
   "outputs": [
    {
     "name": "stdout",
     "output_type": "stream",
     "text": [
      "suma0  suma0.cu  suma1\tsuma1.cu  suma1sinarch\tsuma2  suma2.cu\n"
     ]
    }
   ],
   "source": [
    "!ls"
   ]
  },
  {
   "cell_type": "markdown",
   "metadata": {
    "id": "j-FCel6ON50y"
   },
   "source": [
    "Corremos el fichero ejecutable"
   ]
  },
  {
   "cell_type": "code",
   "execution_count": null,
   "metadata": {
    "colab": {
     "base_uri": "https://localhost:8080/"
    },
    "id": "oPSq7s4cN50z",
    "outputId": "e4e91857-4b8c-4c6b-fec3-e1d219c57f45"
   },
   "outputs": [
    {
     "name": "stdout",
     "output_type": "stream",
     "text": [
      "Tiempo del cálculo suma2 : 1.482000 ms\n",
      "Tiempo con el synchronize  : 411.170000 ms\n",
      "Suma de 1048576 elementos\n",
      "Número de errores: 0\n",
      "Max error: 0\n"
     ]
    }
   ],
   "source": [
    "!./suma2"
   ]
  },
  {
   "cell_type": "markdown",
   "metadata": {
    "id": "_D-ddWHZN501"
   },
   "source": [
    "Hacemos el profile de ejecución"
   ]
  },
  {
   "cell_type": "code",
   "execution_count": null,
   "metadata": {
    "colab": {
     "base_uri": "https://localhost:8080/"
    },
    "id": "1jdvyZjzN501",
    "outputId": "ba171dbc-c0be-42a4-977c-9039c0c8e142"
   },
   "outputs": [
    {
     "name": "stdout",
     "output_type": "stream",
     "text": [
      "==642== NVPROF is profiling process 642, command: ./suma2\n",
      "==642== Warning: Auto boost enabled on device 0. Profiling results may be inconsistent.\n",
      "Tiempo del cálculo suma2 : 1.237000 ms\n",
      "Tiempo con el synchronize  : 339.235000 ms\n",
      "Suma de 1048576 elementos\n",
      "Número de errores: 0\n",
      "Max error: 0\n",
      "==642== Profiling application: ./suma2\n",
      "==642== Profiling result:\n",
      "            Type  Time(%)      Time     Calls       Avg       Min       Max  Name\n",
      " GPU activities:  100.00%  337.97ms         1  337.97ms  337.97ms  337.97ms  add(int, float*, float*)\n",
      "      API calls:   60.12%  337.97ms         1  337.97ms  337.97ms  337.97ms  cudaDeviceSynchronize\n",
      "                   39.38%  221.38ms         2  110.69ms  677.18us  220.70ms  cudaMallocManaged\n",
      "                    0.22%  1.2250ms         1  1.2250ms  1.2250ms  1.2250ms  cudaLaunchKernel\n",
      "                    0.16%  888.24us         2  444.12us  410.24us  478.00us  cudaFree\n",
      "                    0.08%  461.85us         1  461.85us  461.85us  461.85us  cuDeviceTotalMem\n",
      "                    0.03%  175.89us       101  1.7410us     141ns  80.332us  cuDeviceGetAttribute\n",
      "                    0.00%  22.874us         1  22.874us  22.874us  22.874us  cuDeviceGetName\n",
      "                    0.00%  5.3890us         1  5.3890us  5.3890us  5.3890us  cuDeviceGetPCIBusId\n",
      "                    0.00%  1.5720us         3     524ns     169ns  1.0020us  cuDeviceGetCount\n",
      "                    0.00%  1.4230us         2     711ns     287ns  1.1360us  cuDeviceGet\n",
      "                    0.00%     385ns         1     385ns     385ns     385ns  cuDeviceGetUuid\n",
      "\n",
      "==642== Unified Memory profiling result:\n",
      "Device \"Tesla K80 (0)\"\n",
      "   Count  Avg Size  Min Size  Max Size  Total Size  Total Time  Name\n",
      "       6  1.3333MB  128.00KB  2.0000MB  8.000000MB  953.3660us  Host To Device\n",
      "      84  146.29KB  4.0000KB  0.9961MB  12.00000MB  1.530253ms  Device To Host\n",
      "Total CPU Page faults: 42\n"
     ]
    }
   ],
   "source": [
    "!nvprof ./suma2"
   ]
  },
  {
   "cell_type": "markdown",
   "metadata": {
    "id": "tPeOg_2DN503"
   },
   "source": [
    "##P3 ¿La suma ha funcionado? ¿ Ha tardado más o menos que en el caso anterior? Justifique como está funcionando.\n",
    "Sí, ha funcionado. Ha tardado más, en este caso obtenemos un tiempo total de *339.235000 ms* mientras que en el caso anterior obteníamos una marca de *307.565000 ms* Es decir, que ha tardado algo más. Pero en ningún caso esto significa que este implementado bien, ya que si nos fijamos en la función kernel usada en este caso, se puede apreciar que no comtempla paralelismo.\n",
    "\n",
    "En el caso anterior teníamos un hilo de ejecución que realmente es equivalente a no paralelizar porque realiza la operación secuencialmente en un único bloque de un hilo.\n",
    "La diferencia con el caso actual con 256 hilos y 1 bloque, radica en que sigue sin estar bien paralelizado realmente, ya que el modo en que se reparten los índices los hilos se hace de un modo totalmente desorganizado, y eso implica que a la hora de hacer sincronización en la memoria compartida, esto lleve mucho más tiempo.\n",
    "### Explique si podrían generarse situaciones de funcionamiento incorrecto.\n",
    "No debería, ya que se hace un synchronize, que evita las posibles carreras de datos."
   ]
  },
  {
   "cell_type": "markdown",
   "metadata": {
    "id": "R520eYI-OVtf"
   },
   "source": [
    "## Suma en la GPU con mas threads <<<256,1>> sin paralelismo y Data Race"
   ]
  },
  {
   "cell_type": "markdown",
   "metadata": {
    "id": "3z9LXM-7HrZn"
   },
   "source": [
    "NOTA: Con este ejercicio se pretende comprobar un funcionamiento no deseado"
   ]
  },
  {
   "cell_type": "markdown",
   "metadata": {
    "id": "tRqrEeOPOVth"
   },
   "source": [
    "Escribir en el directorio actual el fichero suma3.cu\n"
   ]
  },
  {
   "cell_type": "code",
   "execution_count": null,
   "metadata": {
    "colab": {
     "base_uri": "https://localhost:8080/"
    },
    "id": "Wu5CukLFOVti",
    "outputId": "25a20465-b260-40db-c180-4849ed6d33e3"
   },
   "outputs": [
    {
     "name": "stdout",
     "output_type": "stream",
     "text": [
      "Writing suma3.cu\n"
     ]
    }
   ],
   "source": [
    "%%writefile suma3.cu\n",
    "\n",
    "#include <iostream>\n",
    "#include <math.h>\n",
    "#include <time.h>\n",
    "#include <sys/time.h>\n",
    "\n",
    "\n",
    "__global__ void add(int n, float *x, float *y) {\n",
    "    \n",
    "    for (int i =0; i < n; i++ ){\n",
    "        y[i]=x[i]+y[i];\n",
    "    }\n",
    "}\n",
    "\n",
    "\n",
    "int main(void) {\n",
    "    \n",
    "    int N = 1 <<20;  // N = 2^20 = 1024*1024= 1.048.576\n",
    "    struct timeval tv;\n",
    "\t  unsigned long long start;\n",
    "    float *x; // = new float[N];\n",
    "    float *y; // = new float[N]; \n",
    "\n",
    "    cudaMallocManaged(&x, N*sizeof(float));\n",
    "    cudaMallocManaged(&y, N*sizeof(float));\n",
    "    \n",
    "    for (int i =0; i < N; i++ ){\n",
    "        x[i]= 1.0f;\n",
    "        y[i]= 2.0f;\n",
    "    }\n",
    "\n",
    "    gettimeofday(&tv, NULL); \n",
    "    start=tv.tv_sec*1000000+tv.tv_usec;\n",
    "   \n",
    "    add<<<256,1>>>(N, x, y);\n",
    "  \n",
    "    gettimeofday(&tv, NULL); \n",
    "\t  printf(\"Tiempo del cálculo suma3 : %lf ms\\n\", (tv.tv_sec*1000000+tv.tv_usec - start)/1000.0);\n",
    "  \n",
    "   cudaDeviceSynchronize();\n",
    "    gettimeofday(&tv, NULL); \n",
    "\t  printf(\"Tiempo con el synchronize  : %lf ms\\n\", (tv.tv_sec*1000000+tv.tv_usec - start)/1000.0);\n",
    "\n",
    "   float maxError = 0.0f;\n",
    "   int contError = 0;\n",
    "   \n",
    "   for (int i=0; i <N; i++){\n",
    "       maxError=fmax(maxError,fabs(y[i]-3.0f));\n",
    "       if (y[i] != 3.0) contError++; \n",
    "   }\n",
    "   std::cout << \"suma de \" << N << \" Elementos\" << std::endl;\n",
    "   std::cout << \"Número de Errores: \" <<contError << std::endl;\n",
    "   std::cout << \"Max error: \" <<maxError << std::endl;\n",
    "\n",
    "   cudaFree (x);\n",
    "   cudaFree (y);\n",
    "   \n",
    "   return 0;\n",
    "}"
   ]
  },
  {
   "cell_type": "code",
   "execution_count": null,
   "metadata": {
    "colab": {
     "base_uri": "https://localhost:8080/"
    },
    "id": "URu0umz2IyHj",
    "outputId": "8a9fc480-e2fc-4832-9871-eec171c2a8c4"
   },
   "outputs": [
    {
     "name": "stdout",
     "output_type": "stream",
     "text": [
      "suma0  suma0.cu  suma1\tsuma1.cu  suma1sinarch\tsuma2  suma2.cu  suma3.cu\n"
     ]
    }
   ],
   "source": [
    "!ls"
   ]
  },
  {
   "cell_type": "markdown",
   "metadata": {
    "id": "4nDiEvslOVtl"
   },
   "source": [
    "Compilamos el archivo suma3.cu"
   ]
  },
  {
   "cell_type": "code",
   "execution_count": null,
   "metadata": {
    "colab": {
     "base_uri": "https://localhost:8080/"
    },
    "id": "T2BRS0PuOVtn",
    "outputId": "8c501dca-f7c7-49f5-814d-9a952a7686d8"
   },
   "outputs": [
    {
     "name": "stdout",
     "output_type": "stream",
     "text": [
      "nvcc warning : The 'compute_35', 'compute_37', 'compute_50', 'sm_35', 'sm_37' and 'sm_50' architectures are deprecated, and may be removed in a future release (Use -Wno-deprecated-gpu-targets to suppress warning).\n"
     ]
    }
   ],
   "source": [
    "!/usr/local/cuda/bin/nvcc -arch=sm_37 -rdc=true suma3.cu -o suma3 -lcudadevrt"
   ]
  },
  {
   "cell_type": "code",
   "execution_count": null,
   "metadata": {
    "colab": {
     "base_uri": "https://localhost:8080/"
    },
    "id": "MAX7HJ2oOVtp",
    "outputId": "8ce39288-576c-489b-ce41-7bffd56c572a"
   },
   "outputs": [
    {
     "name": "stdout",
     "output_type": "stream",
     "text": [
      "suma0\t  suma1     suma1sinarch  suma2.cu  suma3.cu\n",
      "suma0.cu  suma1.cu  suma2\t  suma3\n"
     ]
    }
   ],
   "source": [
    "!ls"
   ]
  },
  {
   "cell_type": "markdown",
   "metadata": {
    "id": "jUBE3QQKOVts"
   },
   "source": [
    "Corremos el fichero ejecutable"
   ]
  },
  {
   "cell_type": "code",
   "execution_count": null,
   "metadata": {
    "colab": {
     "base_uri": "https://localhost:8080/"
    },
    "id": "mg_fqxfkOVts",
    "outputId": "008e53b4-c275-4a2f-cb55-2a94b11e31a1"
   },
   "outputs": [
    {
     "name": "stdout",
     "output_type": "stream",
     "text": [
      "Tiempo del cálculo suma3 : 1.429000 ms\n",
      "Tiempo con el synchronize  : 818.425000 ms\n",
      "suma de 1048576 Elementos\n",
      "Número de Errores: 1048576\n",
      "Max error: 223\n"
     ]
    }
   ],
   "source": [
    "!./suma3"
   ]
  },
  {
   "cell_type": "markdown",
   "metadata": {
    "id": "YmGBWUqTI7Ct"
   },
   "source": [
    "Ejecutamos varias veces"
   ]
  },
  {
   "cell_type": "code",
   "execution_count": null,
   "metadata": {
    "colab": {
     "base_uri": "https://localhost:8080/"
    },
    "id": "jwBp51QmgcuY",
    "outputId": "45788bbe-f71e-4b0b-eb6a-0891d9878fb7"
   },
   "outputs": [
    {
     "name": "stdout",
     "output_type": "stream",
     "text": [
      "Tiempo del cálculo suma3 : 1.451000 ms\n",
      "Tiempo con el synchronize  : 783.738000 ms\n",
      "suma de 1048576 Elementos\n",
      "Número de Errores: 1048576\n",
      "Max error: 218\n"
     ]
    }
   ],
   "source": [
    "!./suma3"
   ]
  },
  {
   "cell_type": "code",
   "execution_count": null,
   "metadata": {
    "colab": {
     "base_uri": "https://localhost:8080/"
    },
    "id": "eDjzxmqKgiC0",
    "outputId": "2d38567f-152f-403f-ab0e-013b939de65a"
   },
   "outputs": [
    {
     "name": "stdout",
     "output_type": "stream",
     "text": [
      "Tiempo del cálculo suma3 : 1.186000 ms\n",
      "Tiempo con el synchronize  : 639.327000 ms\n",
      "suma de 1048576 Elementos\n",
      "Número de Errores: 1048576\n",
      "Max error: 217\n"
     ]
    }
   ],
   "source": [
    "!./suma3"
   ]
  },
  {
   "cell_type": "markdown",
   "metadata": {
    "id": "6mtB0pIDOVtu"
   },
   "source": [
    "Hacemos el profile de ejecución"
   ]
  },
  {
   "cell_type": "code",
   "execution_count": null,
   "metadata": {
    "colab": {
     "base_uri": "https://localhost:8080/"
    },
    "id": "2K_SwhK5OVtu",
    "outputId": "0d640b80-9cd9-49c8-c799-35cef9887e25"
   },
   "outputs": [
    {
     "name": "stdout",
     "output_type": "stream",
     "text": [
      "==926== NVPROF is profiling process 926, command: ./suma3\n",
      "==926== Warning: Auto boost enabled on device 0. Profiling results may be inconsistent.\n",
      "Tiempo del cálculo suma3 : 1.184000 ms\n",
      "Tiempo con el synchronize  : 655.783000 ms\n",
      "suma de 1048576 Elementos\n",
      "Número de Errores: 1048576\n",
      "Max error: 215\n",
      "==926== Profiling application: ./suma3\n",
      "==926== Profiling result:\n",
      "            Type  Time(%)      Time     Calls       Avg       Min       Max  Name\n",
      " GPU activities:  100.00%  654.58ms         1  654.58ms  654.58ms  654.58ms  add(int, float*, float*)\n",
      "      API calls:   74.88%  654.57ms         1  654.57ms  654.57ms  654.57ms  cudaDeviceSynchronize\n",
      "                   24.82%  216.99ms         2  108.50ms  560.74us  216.43ms  cudaMallocManaged\n",
      "                    0.13%  1.1581ms         1  1.1581ms  1.1581ms  1.1581ms  cudaLaunchKernel\n",
      "                    0.09%  818.86us         2  409.43us  384.00us  434.86us  cudaFree\n",
      "                    0.05%  463.90us         1  463.90us  463.90us  463.90us  cuDeviceTotalMem\n",
      "                    0.02%  160.55us       101  1.5890us     137ns  67.936us  cuDeviceGetAttribute\n",
      "                    0.00%  24.673us         1  24.673us  24.673us  24.673us  cuDeviceGetName\n",
      "                    0.00%  4.5710us         1  4.5710us  4.5710us  4.5710us  cuDeviceGetPCIBusId\n",
      "                    0.00%  2.2040us         3     734ns     258ns  1.1950us  cuDeviceGetCount\n",
      "                    0.00%  1.6200us         2     810ns     286ns  1.3340us  cuDeviceGet\n",
      "                    0.00%     291ns         1     291ns     291ns     291ns  cuDeviceGetUuid\n",
      "\n",
      "==926== Unified Memory profiling result:\n",
      "Device \"Tesla K80 (0)\"\n",
      "   Count  Avg Size  Min Size  Max Size  Total Size  Total Time  Name\n",
      "       6  1.3333MB  128.00KB  2.0000MB  8.000000MB  829.9430us  Host To Device\n",
      "      84  146.29KB  4.0000KB  0.9961MB  12.00000MB  1.281586ms  Device To Host\n",
      "Total CPU Page faults: 42\n"
     ]
    }
   ],
   "source": [
    "!nvprof ./suma3"
   ]
  },
  {
   "cell_type": "markdown",
   "metadata": {
    "id": "581_6XfWOVty"
   },
   "source": [
    "##P5 La suma ha tardado más tiempo y con errores ¿Qué está pasando?\n",
    "\n",
    "Tarda un total de 642.330000 ms, algo más que los 628.041000 ms del caso anterior. Si nos fijamos en las tres ejecuciones, podemos observar que se obtienen siempre tantos fallos como suma de elementos realizadas (1048576 elementos) por lo que el nº errores es constante.\n",
    "\n",
    "Por otro lado, el máximo error oscila alrededor del 215, un número relativamente similar al nº de bloques que usamos.\n",
    "\n",
    "Creemos que los errores se producen debido a que la función cudaDeviceSynchronize() tan solo garantiza la sincronización en los threads pertenecientes a un mismo bloque, es decir solo afecta a la memoria compartida, por lo que no se aplicaría a la memoria global que es la que se comunican(comparten) los diferentes bloques.\n",
    "\n",
    "Por lo tanto, es necesario algo más para poder ejecutar este código con paralelismo."
   ]
  },
  {
   "cell_type": "markdown",
   "metadata": {
    "id": "5hKgX8yw5bLC"
   },
   "source": [
    "## Suma en la GPU con paralelismo <<<1,256>>"
   ]
  },
  {
   "cell_type": "markdown",
   "metadata": {
    "id": "UF6Ewyyn5bLE"
   },
   "source": [
    "Escribir en el directorio actual el fichero suma4.cu\n"
   ]
  },
  {
   "cell_type": "code",
   "execution_count": null,
   "metadata": {
    "colab": {
     "base_uri": "https://localhost:8080/"
    },
    "id": "lzQbJcWY5bLF",
    "outputId": "3811ab21-d52b-4469-fc22-c80ec13473e2"
   },
   "outputs": [
    {
     "name": "stdout",
     "output_type": "stream",
     "text": [
      "Writing suma4.cu\n"
     ]
    }
   ],
   "source": [
    "%%writefile suma4.cu\n",
    "\n",
    "#include <iostream>\n",
    "#include <math.h>\n",
    "#include <time.h>\n",
    "#include <sys/time.h>\n",
    "\n",
    "__global__\n",
    "void add(int n, float *x, float *y)\n",
    "{\n",
    "  int index = threadIdx.x;\n",
    "  int stride = blockDim.x;\n",
    "  for (int i = index; i < n; i += stride)\n",
    "      y[i] = x[i] + y[i];\n",
    "}\n",
    "\n",
    "//__global__ void add(int n, float *x, float *y) {\n",
    "//    for (int i =0; i < n; i++ ){\n",
    "//        y[i]=x[i]+y[i];\n",
    "//    }\n",
    "//}\n",
    "\n",
    "int main(void) {\n",
    "    \n",
    "    int N = 1 <<20;  // N = 2^20 = 1024*1024= 1.048.576\n",
    "    struct timeval tv;\n",
    "\t  unsigned long long start;\n",
    "    float *x; // = new float[N];\n",
    "    float *y; // = new float[N]; \n",
    "\n",
    "  // Allocate Unified Memory -- accessible from CPU or GPU\n",
    "    cudaMallocManaged(&x, N*sizeof(float));\n",
    "    cudaMallocManaged(&y, N*sizeof(float));\n",
    "    \n",
    "    for (int i =0; i < N; i++ ){\n",
    "        x[i]= 1.0f;\n",
    "        y[i]= 2.0f;\n",
    "    }\n",
    "\n",
    "    gettimeofday(&tv, NULL); \n",
    "    start=tv.tv_sec*1000000+tv.tv_usec;\n",
    "   \n",
    "    add<<<1,256>>>(N, x, y);\n",
    "  \n",
    "    gettimeofday(&tv, NULL); \n",
    "\t  printf(\"Tiempo del cálculo suma 4 : %lf ms\\n\", (tv.tv_sec*1000000+tv.tv_usec - start)/1000.0);\n",
    "  \n",
    "   cudaDeviceSynchronize();\n",
    "    gettimeofday(&tv, NULL); \n",
    "\t  printf(\"Tiempo con el synchronize  : %lf ms\\n\", (tv.tv_sec*1000000+tv.tv_usec - start)/1000.0);\n",
    "\n",
    "    cudaDeviceSynchronize();\n",
    "\n",
    "   float maxError = 0.0f;\n",
    "  int contError = 0;\n",
    "   \n",
    "   for (int i=0; i <N; i++){\n",
    "       maxError=fmax(maxError,fabs(y[i]-3.0f));\n",
    "       if (y[i] != 3.0) contError++; \n",
    "   }\n",
    "   std::cout << \"Suma de \" << N << \" elementos\" << std::endl;\n",
    "   std::cout << \"Número de errores: \" <<contError << std::endl;\n",
    "   std::cout << \"Max error: \" <<maxError << std::endl;\n",
    "  \n",
    " \n",
    "  // Free memory\n",
    "   cudaFree (x);\n",
    "   cudaFree (y);\n",
    "   \n",
    "   return 0;\n",
    "}"
   ]
  },
  {
   "cell_type": "code",
   "execution_count": null,
   "metadata": {
    "colab": {
     "base_uri": "https://localhost:8080/"
    },
    "id": "Z-t4ZwzNOC96",
    "outputId": "d1943621-f46f-4ff1-ae0c-22ca560e056c"
   },
   "outputs": [
    {
     "name": "stdout",
     "output_type": "stream",
     "text": [
      "sample_data  suma4.cu\n"
     ]
    }
   ],
   "source": [
    "!ls"
   ]
  },
  {
   "cell_type": "markdown",
   "metadata": {
    "id": "zpu9o1rY5bLJ"
   },
   "source": [
    "Compilamos el archivo suma4.cu"
   ]
  },
  {
   "cell_type": "code",
   "execution_count": null,
   "metadata": {
    "colab": {
     "base_uri": "https://localhost:8080/"
    },
    "id": "yTAbNsgW5bLK",
    "outputId": "9635445b-c081-43d7-dc5d-ec4978d48447"
   },
   "outputs": [
    {
     "name": "stdout",
     "output_type": "stream",
     "text": [
      "nvcc warning : The 'compute_35', 'compute_37', 'compute_50', 'sm_35', 'sm_37' and 'sm_50' architectures are deprecated, and may be removed in a future release (Use -Wno-deprecated-gpu-targets to suppress warning).\n"
     ]
    }
   ],
   "source": [
    "!/usr/local/cuda/bin/nvcc -arch=sm_37 -rdc=true suma4.cu -o suma4 -lcudadevrt"
   ]
  },
  {
   "cell_type": "code",
   "execution_count": null,
   "metadata": {
    "colab": {
     "base_uri": "https://localhost:8080/"
    },
    "id": "Y2sl6Th_5bLM",
    "outputId": "44a71344-f224-4410-b6d2-03290e2a014e"
   },
   "outputs": [
    {
     "name": "stdout",
     "output_type": "stream",
     "text": [
      "sample_data  suma4  suma4.cu\n"
     ]
    }
   ],
   "source": [
    "!ls"
   ]
  },
  {
   "cell_type": "markdown",
   "metadata": {
    "id": "pWjvAX6U5bLO"
   },
   "source": [
    "Corremos el fichero ejecutable"
   ]
  },
  {
   "cell_type": "code",
   "execution_count": null,
   "metadata": {
    "colab": {
     "base_uri": "https://localhost:8080/"
    },
    "id": "tpfCnfeO5bLO",
    "outputId": "757b5519-934e-453f-9b93-fa8ae3bd1ccd"
   },
   "outputs": [
    {
     "name": "stdout",
     "output_type": "stream",
     "text": [
      "Tiempo del cálculo suma 4 : 1.387000 ms\n",
      "Tiempo con el synchronize  : 4.214000 ms\n",
      "Suma de 1048576 elementos\n",
      "Número de errores: 0\n",
      "Max error: 0\n"
     ]
    }
   ],
   "source": [
    "!./suma4"
   ]
  },
  {
   "cell_type": "markdown",
   "metadata": {
    "id": "Y2-Xh65X5bLQ"
   },
   "source": [
    "Hacemos el profile de ejecución"
   ]
  },
  {
   "cell_type": "code",
   "execution_count": null,
   "metadata": {
    "colab": {
     "base_uri": "https://localhost:8080/"
    },
    "id": "aqBX8hhW5bLQ",
    "outputId": "471ee6ea-f609-4063-f628-6031226b9fec"
   },
   "outputs": [
    {
     "name": "stdout",
     "output_type": "stream",
     "text": [
      "==163== NVPROF is profiling process 163, command: ./suma4\n",
      "==163== Warning: Auto boost enabled on device 0. Profiling results may be inconsistent.\n",
      "Tiempo del cálculo suma 4 : 1.447000 ms\n",
      "Tiempo con el synchronize  : 4.266000 ms\n",
      "Suma de 1048576 elementos\n",
      "Número de errores: 0\n",
      "Max error: 0\n",
      "==163== Profiling application: ./suma4\n",
      "==163== Profiling result:\n",
      "            Type  Time(%)      Time     Calls       Avg       Min       Max  Name\n",
      " GPU activities:  100.00%  2.8015ms         1  2.8015ms  2.8015ms  2.8015ms  add(int, float*, float*)\n",
      "      API calls:   97.85%  282.03ms         2  141.02ms  799.64us  281.24ms  cudaMallocManaged\n",
      "                    0.97%  2.7936ms         2  1.3968ms  6.0970us  2.7875ms  cudaDeviceSynchronize\n",
      "                    0.50%  1.4351ms         1  1.4351ms  1.4351ms  1.4351ms  cudaLaunchKernel\n",
      "                    0.39%  1.1102ms         2  555.12us  484.91us  625.33us  cudaFree\n",
      "                    0.20%  575.13us         1  575.13us  575.13us  575.13us  cuDeviceTotalMem\n",
      "                    0.08%  231.67us       101  2.2930us     174ns  116.80us  cuDeviceGetAttribute\n",
      "                    0.01%  26.688us         1  26.688us  26.688us  26.688us  cuDeviceGetName\n",
      "                    0.00%  6.1910us         1  6.1910us  6.1910us  6.1910us  cuDeviceGetPCIBusId\n",
      "                    0.00%  1.9750us         3     658ns     250ns  1.1350us  cuDeviceGetCount\n",
      "                    0.00%  1.6440us         2     822ns     323ns  1.3210us  cuDeviceGet\n",
      "                    0.00%     354ns         1     354ns     354ns     354ns  cuDeviceGetUuid\n",
      "\n",
      "==163== Unified Memory profiling result:\n",
      "Device \"Tesla K80 (0)\"\n",
      "   Count  Avg Size  Min Size  Max Size  Total Size  Total Time  Name\n",
      "       6  1.3333MB  128.00KB  2.0000MB  8.000000MB  1.148695ms  Host To Device\n",
      "      84  146.29KB  4.0000KB  0.9961MB  12.00000MB  1.879344ms  Device To Host\n",
      "Total CPU Page faults: 42\n"
     ]
    }
   ],
   "source": [
    "!nvprof ./suma4"
   ]
  },
  {
   "cell_type": "markdown",
   "metadata": {
    "id": "DF9UNzpg5bLS"
   },
   "source": [
    "## P6 Compare con el tiempo de ejecución de un solo Thread y con la ejecución en CPU.¿Que puede deducir de estos comportamientos?\n",
    "\n",
    "Si observamos exclusivamente el tiempo de cálculo y comparamos con el ejemplo de un único bloque y 256 hilos por bloque podemos ver que los 1.387000 ms(4.266000 ms con syncronize) es ligeramente superior a los 3.968000 ms que teníamos inicialmente en el caso de CPU.\n",
    "\n",
    "A pesar de este resultado desfavorable, podemos ver que la tendencia a mejorado respecto a los 411.170000 ms que teníamos en el caso del paralelismo sin aprovechar, lo cual es una mejora del rendimiento de x100.\n",
    "\n",
    "###¿Se puede seguir optimizando?\n",
    "\n",
    "Un rotundo sí, para empezar podemos comenzar aumentar el nº de bloques para aumentar la carga de trabajo a paralelizar, esto supondrá una mejora siempre y cuando nuestro procesador/GPU continue teniendo cores libres.\n",
    "\n",
    "Otra opción, tal como se mencionó en clase una opción sería continuar aumentando el número de hilos(si la operación es \"compleja\" y \"paralelizable\") por lo que sería una buena opción comprobar su escalabilidad al continuar aumentando el nº de hilos, ya que los cores actuales pueden llegar a admitir hasta 1024 hilos por core de GPU.\n",
    "\n",
    "Otra posibilidad sería aplicar Coalescing a la función kernel, algo que haremos en secciones inferiores. \n",
    "\n",
    "También se podría tratar de aplicar Latency Hiding para tratar de reducir algo más los tiempos, ya que gran parte de los tiempos actualmente se nos va en las sincronizaciónes de los datos.\n",
    "\n",
    "Divergence-free mapping nos permitiría ahorrar en recursos como el nº de hilos usados, pero no así en tiempo, ya que seguirámos necesitando un mínimo de ciclos.\n",
    "\n",
    "Dynamic Warp Formation/Merging: al estar operando todo el rato una misma operación(en nuestro caso la suma) creemos que es posible aplicar metodos de warp dinamicos que nos ayuden a aprovechar mejor los recursos."
   ]
  },
  {
   "cell_type": "markdown",
   "metadata": {
    "id": "BI9dZY3ZM-b-"
   },
   "source": [
    "## P7 Realice el paralelismo correspondiente a ls Suma en la GPU con paralelismo <<<256,1>> y estudie el comportamiento de los tiempos de ejecución."
   ]
  },
  {
   "cell_type": "code",
   "execution_count": null,
   "metadata": {
    "colab": {
     "base_uri": "https://localhost:8080/"
    },
    "id": "ihVeCaBpu1jH",
    "outputId": "554ea4f9-d803-4549-988f-682047626a81"
   },
   "outputs": [
    {
     "name": "stdout",
     "output_type": "stream",
     "text": [
      "Overwriting suma4.cu\n"
     ]
    }
   ],
   "source": [
    "%%writefile suma4.cu\n",
    "\n",
    "#include <iostream>\n",
    "#include <math.h>\n",
    "#include <time.h>\n",
    "#include <sys/time.h>\n",
    "\n",
    "__global__\n",
    "void add(int n, float *x, float *y)\n",
    "{\n",
    "  int index = threadIdx.x;\n",
    "  int stride = blockDim.x;\n",
    "  for (int i = index; i < n; i += stride)\n",
    "      y[i] = x[i] + y[i];\n",
    "}\n",
    "\n",
    "int main(void) {\n",
    "    \n",
    "    int N = 1 <<20;  // N = 2^20 = 1024*1024= 1.048.576\n",
    "    struct timeval tv;\n",
    "\t  unsigned long long start;\n",
    "    float *x; // = new float[N];\n",
    "    float *y; // = new float[N]; \n",
    "\n",
    "  // Allocate Unified Memory -- accessible from CPU or GPU\n",
    "    cudaMallocManaged(&x, N*sizeof(float));\n",
    "    cudaMallocManaged(&y, N*sizeof(float));\n",
    "    \n",
    "    for (int i =0; i < N; i++ ){\n",
    "        x[i]= 1.0f;\n",
    "        y[i]= 2.0f;\n",
    "    }\n",
    "\n",
    "    gettimeofday(&tv, NULL); \n",
    "    start=tv.tv_sec*1000000+tv.tv_usec;\n",
    "   \n",
    "    add<<<256,1>>>(N, x, y);\n",
    "  \n",
    "    gettimeofday(&tv, NULL); \n",
    "\t  printf(\"Tiempo del cálculo suma 4 : %lf ms\\n\", (tv.tv_sec*1000000+tv.tv_usec - start)/1000.0);\n",
    "  \n",
    "   cudaDeviceSynchronize();\n",
    "    gettimeofday(&tv, NULL); \n",
    "\t  printf(\"Tiempo con el synchronize  : %lf ms\\n\", (tv.tv_sec*1000000+tv.tv_usec - start)/1000.0);\n",
    "\n",
    "    cudaDeviceSynchronize();\n",
    "\n",
    "   float maxError = 0.0f;\n",
    "  int contError = 0;\n",
    "   \n",
    "   for (int i=0; i <N; i++){\n",
    "       maxError=fmax(maxError,fabs(y[i]-3.0f));\n",
    "       if (y[i] != 3.0) contError++; \n",
    "   }\n",
    "   std::cout << \"Suma de \" << N << \" elementos\" << std::endl;\n",
    "   std::cout << \"Número de errores: \" <<contError << std::endl;\n",
    "   std::cout << \"Max error: \" <<maxError << std::endl;\n",
    "  \n",
    " \n",
    "  // Free memory\n",
    "   cudaFree (x);\n",
    "   cudaFree (y);\n",
    "   \n",
    "   return 0;\n",
    "}"
   ]
  },
  {
   "cell_type": "code",
   "execution_count": null,
   "metadata": {
    "colab": {
     "base_uri": "https://localhost:8080/"
    },
    "id": "p78lL7QUu_5V",
    "outputId": "56175dfd-9ebe-4557-b6fd-a98fb9e90e8c"
   },
   "outputs": [
    {
     "name": "stdout",
     "output_type": "stream",
     "text": [
      "sample_data  suma4  suma4.cu  suma5  suma5.cu\n"
     ]
    }
   ],
   "source": [
    "!ls"
   ]
  },
  {
   "cell_type": "markdown",
   "metadata": {
    "id": "FdmGs0Cgu_5a"
   },
   "source": [
    "Compilamos el archivo suma4.cu"
   ]
  },
  {
   "cell_type": "code",
   "execution_count": null,
   "metadata": {
    "colab": {
     "base_uri": "https://localhost:8080/"
    },
    "id": "Vh6i4cbou_5a",
    "outputId": "5ceed3b2-7cdf-40c2-a219-566c0ef6b9ba"
   },
   "outputs": [
    {
     "name": "stdout",
     "output_type": "stream",
     "text": [
      "nvcc warning : The 'compute_35', 'compute_37', 'compute_50', 'sm_35', 'sm_37' and 'sm_50' architectures are deprecated, and may be removed in a future release (Use -Wno-deprecated-gpu-targets to suppress warning).\n"
     ]
    }
   ],
   "source": [
    "!/usr/local/cuda/bin/nvcc -arch=sm_37 -rdc=true suma4.cu -o suma4 -lcudadevrt"
   ]
  },
  {
   "cell_type": "code",
   "execution_count": null,
   "metadata": {
    "colab": {
     "base_uri": "https://localhost:8080/"
    },
    "id": "cMDzNNBvu_5a",
    "outputId": "a8edbf27-771d-4524-be7e-3e8f6384fa3e"
   },
   "outputs": [
    {
     "name": "stdout",
     "output_type": "stream",
     "text": [
      "sample_data  suma4  suma4.cu  suma5  suma5.cu\n"
     ]
    }
   ],
   "source": [
    "!ls"
   ]
  },
  {
   "cell_type": "markdown",
   "metadata": {
    "id": "JGKkacxSu_5a"
   },
   "source": [
    "Corremos el fichero ejecutable"
   ]
  },
  {
   "cell_type": "code",
   "execution_count": null,
   "metadata": {
    "colab": {
     "base_uri": "https://localhost:8080/"
    },
    "id": "aquBxGupu_5a",
    "outputId": "3098e38f-51fd-4c30-823a-7056c472df02"
   },
   "outputs": [
    {
     "name": "stdout",
     "output_type": "stream",
     "text": [
      "Tiempo del cálculo suma 4 : 1.435000 ms\n",
      "Tiempo con el synchronize  : 887.820000 ms\n",
      "Suma de 1048576 elementos\n",
      "Número de errores: 1048575\n",
      "Max error: 219\n"
     ]
    }
   ],
   "source": [
    "!./suma4"
   ]
  },
  {
   "cell_type": "markdown",
   "metadata": {
    "id": "_rzRerK9u_5b"
   },
   "source": [
    "Hacemos el profile de ejecución"
   ]
  },
  {
   "cell_type": "code",
   "execution_count": null,
   "metadata": {
    "colab": {
     "base_uri": "https://localhost:8080/"
    },
    "id": "PZkEU8RPu_5b",
    "outputId": "271970c5-a54a-4789-8821-059ab51312d3"
   },
   "outputs": [
    {
     "name": "stdout",
     "output_type": "stream",
     "text": [
      "==577== NVPROF is profiling process 577, command: ./suma4\n",
      "==577== Warning: Auto boost enabled on device 0. Profiling results may be inconsistent.\n",
      "Tiempo del cálculo suma 4 : 1.153000 ms\n",
      "Tiempo con el synchronize  : 756.925000 ms\n",
      "Suma de 1048576 elementos\n",
      "Número de errores: 1048575\n",
      "Max error: 217\n",
      "==577== Profiling application: ./suma4\n",
      "==577== Profiling result:\n",
      "            Type  Time(%)      Time     Calls       Avg       Min       Max  Name\n",
      " GPU activities:  100.00%  755.74ms         1  755.74ms  755.74ms  755.74ms  add(int, float*, float*)\n",
      "      API calls:   78.11%  755.75ms         2  377.87ms  11.873us  755.73ms  cudaDeviceSynchronize\n",
      "                   21.61%  209.10ms         2  104.55ms  551.21us  208.55ms  cudaMallocManaged\n",
      "                    0.12%  1.1409ms         1  1.1409ms  1.1409ms  1.1409ms  cudaLaunchKernel\n",
      "                    0.09%  872.05us         2  436.03us  385.41us  486.64us  cudaFree\n",
      "                    0.05%  476.68us         1  476.68us  476.68us  476.68us  cuDeviceTotalMem\n",
      "                    0.02%  162.89us       101  1.6120us     139ns  67.958us  cuDeviceGetAttribute\n",
      "                    0.00%  23.345us         1  23.345us  23.345us  23.345us  cuDeviceGetName\n",
      "                    0.00%  6.3650us         1  6.3650us  6.3650us  6.3650us  cuDeviceGetPCIBusId\n",
      "                    0.00%  1.8300us         3     610ns     230ns     895ns  cuDeviceGetCount\n",
      "                    0.00%  1.2950us         2     647ns     281ns  1.0140us  cuDeviceGet\n",
      "                    0.00%     267ns         1     267ns     267ns     267ns  cuDeviceGetUuid\n",
      "\n",
      "==577== Unified Memory profiling result:\n",
      "Device \"Tesla K80 (0)\"\n",
      "   Count  Avg Size  Min Size  Max Size  Total Size  Total Time  Name\n",
      "       6  1.3333MB  128.00KB  2.0000MB  8.000000MB  814.9310us  Host To Device\n",
      "      84  146.29KB  4.0000KB  0.9961MB  12.00000MB  1.346056ms  Device To Host\n",
      "Total CPU Page faults: 42\n"
     ]
    }
   ],
   "source": [
    "!nvprof ./suma4"
   ]
  },
  {
   "cell_type": "markdown",
   "metadata": {
    "id": "M7d0qdJd2_kM"
   },
   "source": [
    "Si reutilizamos el código de apartados anteriores vemos que no funciona, esto es porque la función kernel add() que estamos usando en este momento no garantiza el paralelismo y puede conducir a un caso de DataRace, tal como se veía en apartados anteriores.\n",
    "\n",
    "Esta incompatibilidad se debe a que ahora en vez de paralelizar nuestra función en un único bloque con 256 hilos por bloque que pueden compartir información a traves de la memoria compartida interna al propio bloque, lo hacemos con 256 bloques de un único hilo que deben compartir su información por memoria global, la cual no parece poder sincronizarse a traves de la función cudaDeviceSynchronize(), ya que esta función opera a nivel de memoria compartida evitando la carrera de datos entre hilos. \n",
    "\n",
    "Para ello, simplemente deberemos modificar el código de la suma para que la función admita paralelismo entre distintos kernel(aplicando Coalescing a la función), tal como sería la propuesta realizada por el tutorial en los apartados siguientes.\n",
    "\n"
   ]
  },
  {
   "cell_type": "code",
   "execution_count": null,
   "metadata": {
    "colab": {
     "base_uri": "https://localhost:8080/"
    },
    "id": "XjsxTt3C98WG",
    "outputId": "41b03451-4bf6-4f2b-dbb3-fa91f55a3fe0"
   },
   "outputs": [
    {
     "name": "stdout",
     "output_type": "stream",
     "text": [
      "Writing suma4.cu\n"
     ]
    }
   ],
   "source": [
    "%%writefile suma4.cu\n",
    "\n",
    "#include <iostream>\n",
    "#include <math.h>\n",
    "#include <time.h>\n",
    "#include <sys/time.h>\n",
    "\n",
    "__global__\n",
    "void add(int n, float *x, float *y)\n",
    "{\n",
    "  int index = blockIdx.x * blockDim.x + threadIdx.x;\n",
    "  int stride = blockDim.x * gridDim.x;\n",
    " \n",
    "  for (int i = index; i < n; i += stride)\n",
    "    y[i] = x[i] + y[i];\n",
    "}\n",
    "\n",
    "int main(void) {\n",
    "    \n",
    "    int N = 1 <<20;  // N = 2^20 = 1024*1024= 1.048.576\n",
    "    struct timeval tv;\n",
    "\t  unsigned long long start;\n",
    "    float *x; // = new float[N];\n",
    "    float *y; // = new float[N]; \n",
    "\n",
    "  // Allocate Unified Memory -- accessible from CPU or GPU\n",
    "    cudaMallocManaged(&x, N*sizeof(float));\n",
    "    cudaMallocManaged(&y, N*sizeof(float));\n",
    "    \n",
    "    for (int i =0; i < N; i++ ){\n",
    "        x[i]= 1.0f;\n",
    "        y[i]= 2.0f;\n",
    "    }\n",
    "\n",
    "    gettimeofday(&tv, NULL); \n",
    "    start=tv.tv_sec*1000000+tv.tv_usec;\n",
    "   \n",
    "    add<<<256,1>>>(N, x, y);\n",
    "  \n",
    "    gettimeofday(&tv, NULL); \n",
    "\t  printf(\"Tiempo del cálculo suma 4 : %lf ms\\n\", (tv.tv_sec*1000000+tv.tv_usec - start)/1000.0);\n",
    "  \n",
    "   cudaDeviceSynchronize();\n",
    "    gettimeofday(&tv, NULL); \n",
    "\t  printf(\"Tiempo con el synchronize  : %lf ms\\n\", (tv.tv_sec*1000000+tv.tv_usec - start)/1000.0);\n",
    "\n",
    "    cudaDeviceSynchronize();\n",
    "\n",
    "   float maxError = 0.0f;\n",
    "  int contError = 0;\n",
    "   \n",
    "   for (int i=0; i <N; i++){\n",
    "       maxError=fmax(maxError,fabs(y[i]-3.0f));\n",
    "       if (y[i] != 3.0) contError++; \n",
    "   }\n",
    "   std::cout << \"Suma de \" << N << \" elementos\" << std::endl;\n",
    "   std::cout << \"Número de errores: \" <<contError << std::endl;\n",
    "   std::cout << \"Max error: \" <<maxError << std::endl;\n",
    "  \n",
    " \n",
    "  // Free memory\n",
    "   cudaFree (x);\n",
    "   cudaFree (y);\n",
    "   \n",
    "   return 0;\n",
    "}"
   ]
  },
  {
   "cell_type": "code",
   "execution_count": null,
   "metadata": {
    "colab": {
     "base_uri": "https://localhost:8080/"
    },
    "id": "9-wb_aLU98WH",
    "outputId": "4eda02f5-8786-4de6-aea9-8f2e2f3f8e8b"
   },
   "outputs": [
    {
     "name": "stdout",
     "output_type": "stream",
     "text": [
      "sample_data  suma4.cu\n"
     ]
    }
   ],
   "source": [
    "!ls"
   ]
  },
  {
   "cell_type": "markdown",
   "metadata": {
    "id": "kFIbOEQ_98WH"
   },
   "source": [
    "Compilamos el archivo suma4.cu"
   ]
  },
  {
   "cell_type": "code",
   "execution_count": null,
   "metadata": {
    "colab": {
     "base_uri": "https://localhost:8080/"
    },
    "id": "MjXIQNNT98WH",
    "outputId": "59165d0e-7fde-4719-ed3a-be4eea6a1b3e"
   },
   "outputs": [
    {
     "name": "stdout",
     "output_type": "stream",
     "text": [
      "nvcc warning : The 'compute_35', 'compute_37', 'compute_50', 'sm_35', 'sm_37' and 'sm_50' architectures are deprecated, and may be removed in a future release (Use -Wno-deprecated-gpu-targets to suppress warning).\n"
     ]
    }
   ],
   "source": [
    "!/usr/local/cuda/bin/nvcc -arch=sm_37 -rdc=true suma4.cu -o suma4 -lcudadevrt"
   ]
  },
  {
   "cell_type": "code",
   "execution_count": null,
   "metadata": {
    "colab": {
     "base_uri": "https://localhost:8080/"
    },
    "id": "nfWyCkQa98WH",
    "outputId": "93219db8-a1a4-4e55-98b1-1cb18884805a"
   },
   "outputs": [
    {
     "name": "stdout",
     "output_type": "stream",
     "text": [
      "sample_data  suma4  suma4.cu\n"
     ]
    }
   ],
   "source": [
    "!ls"
   ]
  },
  {
   "cell_type": "markdown",
   "metadata": {
    "id": "50ETyUF098WI"
   },
   "source": [
    "Corremos el fichero ejecutable"
   ]
  },
  {
   "cell_type": "code",
   "execution_count": null,
   "metadata": {
    "colab": {
     "base_uri": "https://localhost:8080/"
    },
    "id": "Dm3a8QFg98WI",
    "outputId": "5203159f-2c80-4f35-be9e-29df9c228feb"
   },
   "outputs": [
    {
     "name": "stdout",
     "output_type": "stream",
     "text": [
      "Tiempo del cálculo suma 4 : 1.585000 ms\n",
      "Tiempo con el synchronize  : 6.951000 ms\n",
      "Suma de 1048576 elementos\n",
      "Número de errores: 0\n",
      "Max error: 0\n"
     ]
    }
   ],
   "source": [
    "!./suma4"
   ]
  },
  {
   "cell_type": "markdown",
   "metadata": {
    "id": "BE9jieHg98WI"
   },
   "source": [
    "Hacemos el profile de ejecución"
   ]
  },
  {
   "cell_type": "code",
   "execution_count": null,
   "metadata": {
    "colab": {
     "base_uri": "https://localhost:8080/"
    },
    "id": "ZEJ2648d98WI",
    "outputId": "fb90c298-1f5c-4ca4-9668-cb177bc35e69"
   },
   "outputs": [
    {
     "name": "stdout",
     "output_type": "stream",
     "text": [
      "==158== NVPROF is profiling process 158, command: ./suma4\n",
      "==158== Warning: Auto boost enabled on device 0. Profiling results may be inconsistent.\n",
      "Tiempo del cálculo suma 4 : 1.517000 ms\n",
      "Tiempo con el synchronize  : 6.878000 ms\n",
      "Suma de 1048576 elementos\n",
      "Número de errores: 0\n",
      "Max error: 0\n",
      "==158== Profiling application: ./suma4\n",
      "==158== Profiling result:\n",
      "            Type  Time(%)      Time     Calls       Avg       Min       Max  Name\n",
      " GPU activities:  100.00%  5.3431ms         1  5.3431ms  5.3431ms  5.3431ms  add(int, float*, float*)\n",
      "      API calls:   97.08%  292.42ms         2  146.21ms  796.04us  291.62ms  cudaMallocManaged\n",
      "                    1.77%  5.3374ms         2  2.6687ms  7.4490us  5.3300ms  cudaDeviceSynchronize\n",
      "                    0.50%  1.5012ms         1  1.5012ms  1.5012ms  1.5012ms  cudaLaunchKernel\n",
      "                    0.38%  1.1466ms         2  573.28us  545.27us  601.29us  cudaFree\n",
      "                    0.19%  580.50us         1  580.50us  580.50us  580.50us  cuDeviceTotalMem\n",
      "                    0.06%  176.62us       101  1.7480us     151ns  68.478us  cuDeviceGetAttribute\n",
      "                    0.01%  26.602us         1  26.602us  26.602us  26.602us  cuDeviceGetName\n",
      "                    0.00%  7.6120us         1  7.6120us  7.6120us  7.6120us  cuDeviceGetPCIBusId\n",
      "                    0.00%  2.3920us         3     797ns     234ns  1.4150us  cuDeviceGetCount\n",
      "                    0.00%  1.6270us         2     813ns     291ns  1.3360us  cuDeviceGet\n",
      "                    0.00%     300ns         1     300ns     300ns     300ns  cuDeviceGetUuid\n",
      "\n",
      "==158== Unified Memory profiling result:\n",
      "Device \"Tesla K80 (0)\"\n",
      "   Count  Avg Size  Min Size  Max Size  Total Size  Total Time  Name\n",
      "       6  1.3333MB  128.00KB  2.0000MB  8.000000MB  1.158616ms  Host To Device\n",
      "      84  146.29KB  4.0000KB  0.9961MB  12.00000MB  1.882931ms  Device To Host\n",
      "Total CPU Page faults: 42\n"
     ]
    }
   ],
   "source": [
    "!nvprof ./suma4"
   ]
  },
  {
   "cell_type": "markdown",
   "metadata": {
    "id": "6t5pnphE-Xic"
   },
   "source": [
    "En este caso podemos observar como efectivamente, modificando la función kernel add() a una que sea compatible con paralelismo en bloque. Otra cosa a destacar son 6.878000 ms de ejecución que tiene esta solución, la cual es ligeramente inferior a la ejecución anterior (4.266000 ms) pese a que tenemos mayor número de bloques. Sunque continuamos sin ser mejor que la ejecución en CPU (3.968000 ms).\n",
    "\n",
    "De aquí extraemos una conclusión, y es que para este problema funciona mejor el paralelismo por hilos que el paralelismo por bloques, posiblemente esto se deba a que el acceso a memoria compartida de los hilos es más rápido en comparación de los accesos a memoria global requeridos en la sincronización en bloque."
   ]
  },
  {
   "cell_type": "markdown",
   "metadata": {
    "id": "5HJUj4mX9i3m"
   },
   "source": [
    "## Suma en la GPU con paralelismo de bloques\n",
    "\n",
    "---\n",
    "\n"
   ]
  },
  {
   "cell_type": "markdown",
   "metadata": {
    "id": "GpTeIrLu-lzb"
   },
   "source": [
    "https://developer.nvidia.com/blog/even-easier-introduction-cuda/"
   ]
  },
  {
   "cell_type": "markdown",
   "metadata": {
    "id": "FkFocA3N9i3o"
   },
   "source": [
    "Escribir en el directorio actual el fichero suma5.cu\n"
   ]
  },
  {
   "cell_type": "code",
   "execution_count": null,
   "metadata": {
    "colab": {
     "base_uri": "https://localhost:8080/"
    },
    "id": "tWIz31tA9i3o",
    "outputId": "7b1e115e-7296-419f-ea25-725314bbff70"
   },
   "outputs": [
    {
     "name": "stdout",
     "output_type": "stream",
     "text": [
      "Writing suma5.cu\n"
     ]
    }
   ],
   "source": [
    "%%writefile suma5.cu\n",
    "\n",
    "#include <iostream>\n",
    "#include <math.h>\n",
    "#include <time.h>\n",
    "#include <sys/time.h>\n",
    "\n",
    "__global__\n",
    "void add(int n, float *x, float *y)\n",
    "{\n",
    "  int index = blockIdx.x * blockDim.x + threadIdx.x;\n",
    "  int stride = blockDim.x * gridDim.x;\n",
    " \n",
    "  for (int i = index; i < n; i += stride)\n",
    "    y[i] = x[i] + y[i];\n",
    "}\n",
    "\n",
    "int main(void) {\n",
    "    \n",
    "  int N = 1 <<20;  // N = 2^20 = 1024*1024= 1.048.576\n",
    "  struct timeval tv;\n",
    "\tunsigned long long start;\n",
    "  float *x; // = new float[N];\n",
    "  float *y; // = new float[N]; \n",
    "\n",
    "  // Allocate Unified Memory -- accessible from CPU or GPU\n",
    "  cudaMallocManaged(&x, N*sizeof(float));\n",
    "  cudaMallocManaged(&y, N*sizeof(float));\n",
    "    \n",
    "  for (int i =0; i < N; i++ ){\n",
    "    x[i]= 1.0f;\n",
    "    y[i]= 2.0f;\n",
    "  }\n",
    "\n",
    "  int blockSize = 256;\n",
    "  int numBlocks = (N + blockSize - 1) / blockSize;\n",
    "    \n",
    "  gettimeofday(&tv, NULL); \n",
    "  start=tv.tv_sec*1000000+tv.tv_usec;\n",
    "   \n",
    "  add<<<numBlocks, blockSize>>>(N, x, y);\n",
    "  \n",
    "  gettimeofday(&tv, NULL); \n",
    "\tprintf(\"Tiempo del cálculo suma 5 : %lf ms\\n\", (tv.tv_sec*1000000+tv.tv_usec - start)/1000.0);\n",
    "  \n",
    "  cudaDeviceSynchronize();\n",
    "  gettimeofday(&tv, NULL); \n",
    "\tprintf(\"Tiempo con el synchronize  : %lf ms\\n\", (tv.tv_sec*1000000+tv.tv_usec - start)/1000.0);\n",
    "\n",
    "  float maxError = 0.0f;\n",
    "  int contError = 0;\n",
    "   \n",
    "  for (int i=0; i <N; i++){\n",
    "    maxError=fmax(maxError,fabs(y[i]-3.0f));\n",
    "    if (y[i] != 3.0) contError++; \n",
    "  }\n",
    "  \n",
    "  std::cout << \"Suma de \" << N << \" elementos\" << std::endl;\n",
    "  std::cout << \"Número de errores: \" <<contError << std::endl;\n",
    "  std::cout << \"Max error: \" <<maxError << std::endl;\n",
    "  \n",
    " \n",
    "  // Free memory\n",
    "  cudaFree (x);\n",
    "  cudaFree (y);\n",
    "   \n",
    "  return 0;\n",
    "}"
   ]
  },
  {
   "cell_type": "markdown",
   "metadata": {
    "id": "WgJHW6iWA1u4"
   },
   "source": [
    "Para entender los bloques y threads por bloque\n",
    "![image.png](data:image/png;base64,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)"
   ]
  },
  {
   "cell_type": "markdown",
   "metadata": {
    "id": "dP2TOMcgBObh"
   },
   "source": [
    "Update the kernel code to take into account the entire grid of thread blocks. CUDA provides gridDim.x, which contains the number of blocks in the grid, and blockIdx.x, which contains the index of the current thread block in the grid. Figure 1 illustrates the the approach to indexing into an array (one-dimensional) in CUDA using blockDim.x, gridDim.x, and threadIdx.x. The idea is that each thread gets its index by computing the offset to the beginning of its block (the block index times the block size: blockIdx.x * blockDim.x) and adding the thread’s index within the block (threadIdx.x). The code blockIdx.x * blockDim.x + threadIdx.x is idiomatic CUDA."
   ]
  },
  {
   "cell_type": "markdown",
   "metadata": {
    "id": "vocijn2w9i3t"
   },
   "source": [
    "Compilamos el archivo suma5.cu"
   ]
  },
  {
   "cell_type": "code",
   "execution_count": null,
   "metadata": {
    "colab": {
     "base_uri": "https://localhost:8080/"
    },
    "id": "pyCH-8Hi9i3u",
    "outputId": "bfd2f56f-1063-4dca-800c-709b7f96987d"
   },
   "outputs": [
    {
     "name": "stdout",
     "output_type": "stream",
     "text": [
      "nvcc warning : The 'compute_35', 'compute_37', 'compute_50', 'sm_35', 'sm_37' and 'sm_50' architectures are deprecated, and may be removed in a future release (Use -Wno-deprecated-gpu-targets to suppress warning).\n"
     ]
    }
   ],
   "source": [
    "!/usr/local/cuda/bin/nvcc -arch=sm_37 -rdc=true suma5.cu -o suma5 -lcudadevrt"
   ]
  },
  {
   "cell_type": "code",
   "execution_count": null,
   "metadata": {
    "colab": {
     "base_uri": "https://localhost:8080/"
    },
    "id": "XEA3FXIk9i3w",
    "outputId": "b2ccfa60-4850-4ce0-fe20-2a4ff699415a"
   },
   "outputs": [
    {
     "name": "stdout",
     "output_type": "stream",
     "text": [
      "sample_data  suma4  suma4.cu  suma5  suma5.cu\n"
     ]
    }
   ],
   "source": [
    "!ls"
   ]
  },
  {
   "cell_type": "markdown",
   "metadata": {
    "id": "hZYGdwe_9i3z"
   },
   "source": [
    "Corremos el fichero ejecutable"
   ]
  },
  {
   "cell_type": "code",
   "execution_count": null,
   "metadata": {
    "colab": {
     "base_uri": "https://localhost:8080/"
    },
    "id": "osP4-9FQ9i30",
    "outputId": "68667c3b-9cf6-4865-f83a-629696a3829a"
   },
   "outputs": [
    {
     "name": "stdout",
     "output_type": "stream",
     "text": [
      "Tiempo del cálculo suma 5 : 1.496000 ms\n",
      "Tiempo con el synchronize  : 1.610000 ms\n",
      "Suma de 1048576 elementos\n",
      "Número de errores: 0\n",
      "Max error: 0\n"
     ]
    }
   ],
   "source": [
    "!./suma5"
   ]
  },
  {
   "cell_type": "markdown",
   "metadata": {
    "id": "MxlvHWUx9i32"
   },
   "source": [
    "Hacemos el profile de ejecución"
   ]
  },
  {
   "cell_type": "code",
   "execution_count": null,
   "metadata": {
    "colab": {
     "base_uri": "https://localhost:8080/"
    },
    "id": "jmqKE2p99i32",
    "outputId": "667d1fac-15ca-4bee-9b77-4c109b730199"
   },
   "outputs": [
    {
     "name": "stdout",
     "output_type": "stream",
     "text": [
      "==255== NVPROF is profiling process 255, command: ./suma5\n",
      "==255== Warning: Auto boost enabled on device 0. Profiling results may be inconsistent.\n",
      "Tiempo del cálculo suma 5 : 1.501000 ms\n",
      "Tiempo con el synchronize  : 1.608000 ms\n",
      "Suma de 1048576 elementos\n",
      "Número de errores: 0\n",
      "Max error: 0\n",
      "==255== Profiling application: ./suma5\n",
      "==255== Profiling result:\n",
      "            Type  Time(%)      Time     Calls       Avg       Min       Max  Name\n",
      " GPU activities:  100.00%  94.111us         1  94.111us  94.111us  94.111us  add(int, float*, float*)\n",
      "      API calls:   98.38%  217.91ms         2  108.96ms  830.30us  217.08ms  cudaMallocManaged\n",
      "                    0.67%  1.4891ms         1  1.4891ms  1.4891ms  1.4891ms  cudaLaunchKernel\n",
      "                    0.51%  1.1317ms         2  565.84us  499.61us  632.08us  cudaFree\n",
      "                    0.27%  593.48us         1  593.48us  593.48us  593.48us  cuDeviceTotalMem\n",
      "                    0.11%  249.21us       101  2.4670us     140ns  145.12us  cuDeviceGetAttribute\n",
      "                    0.04%  86.461us         1  86.461us  86.461us  86.461us  cudaDeviceSynchronize\n",
      "                    0.01%  27.419us         1  27.419us  27.419us  27.419us  cuDeviceGetName\n",
      "                    0.00%  4.7080us         1  4.7080us  4.7080us  4.7080us  cuDeviceGetPCIBusId\n",
      "                    0.00%  1.9490us         3     649ns     195ns     986ns  cuDeviceGetCount\n",
      "                    0.00%  1.2920us         2     646ns     508ns     784ns  cuDeviceGet\n",
      "                    0.00%     244ns         1     244ns     244ns     244ns  cuDeviceGetUuid\n",
      "\n",
      "==255== Unified Memory profiling result:\n",
      "Device \"Tesla K80 (0)\"\n",
      "   Count  Avg Size  Min Size  Max Size  Total Size  Total Time  Name\n",
      "       6  1.3333MB  128.00KB  2.0000MB  8.000000MB  1.178804ms  Host To Device\n",
      "      84  146.29KB  4.0000KB  0.9961MB  12.00000MB  1.922157ms  Device To Host\n",
      "Total CPU Page faults: 42\n"
     ]
    }
   ],
   "source": [
    "!nvprof ./suma5"
   ]
  },
  {
   "cell_type": "markdown",
   "metadata": {
    "id": "0kUmHAEl9i34"
   },
   "source": [
    "##P8 Compare con el tiempo de ejecución con el resto de ejemplos anteriores.\n",
    "\n",
    "Con esta nueva implementación de la función kernel, y con la utilización de un nº de bloques que sea divisible entre el nº de hilos por bloque usados, finalmente logramos mejorar el tiempo de ejecución de CPU (3.968000 ms) hasta los 1.608000 ms, demostrando que para este tipo de problemas (operaciones simples que se repiten de forma iterativa, es decir, que sean paralelizables) este tipo de implementaciones funciona relativamente bien.\n",
    "\n",
    "###¿Que puede deducir de estos comportamientos?\n",
    "\n",
    "De esto podemos concluir que los ejemplos anteriores no se estaba utilizando el paralelismo de una forma inteligente, ya que bien no estabamos utilizando funciones kernel bien paralelizadas, no estabamos sincronizando la memoria de forma correcta(o de forma muy lenta) o no estabamos usando una buena configuración de nº bloques/hilos por bloques adecuada para el problema."
   ]
  },
  {
   "cell_type": "markdown",
   "metadata": {
    "id": "8kIYiodVADVl"
   },
   "source": [
    "## P9 Pruebe el último ejercicio con más threads por bloque"
   ]
  },
  {
   "cell_type": "code",
   "execution_count": null,
   "metadata": {
    "colab": {
     "base_uri": "https://localhost:8080/"
    },
    "id": "075w4KM74UV7",
    "outputId": "ec8158f4-a8f9-45b3-fc57-67b9c058cd8a"
   },
   "outputs": [
    {
     "name": "stdout",
     "output_type": "stream",
     "text": [
      "Writing suma6.cu\n"
     ]
    }
   ],
   "source": [
    "%%writefile suma6.cu\n",
    "\n",
    "#include <iostream>\n",
    "#include <math.h>\n",
    "#include <time.h>\n",
    "#include <sys/time.h>\n",
    "\n",
    "__global__\n",
    "void add(int n, float *x, float *y)\n",
    "{\n",
    "  int index = blockIdx.x * blockDim.x + threadIdx.x;\n",
    "  int stride = blockDim.x * gridDim.x;\n",
    "  for (int i = index; i < n; i += stride)\n",
    "    y[i] = x[i] + y[i];\n",
    "}\n",
    "\n",
    "int main(void) {\n",
    "    \n",
    "    int N = 1 <<20;  // N = 2^20 = 1024*1024= 1.048.576\n",
    "    struct timeval tv;\n",
    "\t  unsigned long long start;\n",
    "    float *x; // = new float[N];\n",
    "    float *y; // = new float[N]; \n",
    "\n",
    "  // Allocate Unified Memory -- accessible from CPU or GPU\n",
    "    cudaMallocManaged(&x, N*sizeof(float));\n",
    "    cudaMallocManaged(&y, N*sizeof(float));\n",
    "    \n",
    "    for (int i =0; i < N; i++ ){\n",
    "        x[i]= 1.0f;\n",
    "        y[i]= 2.0f;\n",
    "    }\n",
    "\n",
    "    int k = 2;\n",
    "    int blockSize = 256 * k;\n",
    "    int numBlocks = (N + blockSize - 1) / blockSize;\n",
    "    \n",
    "    gettimeofday(&tv, NULL); \n",
    "    start=tv.tv_sec*1000000+tv.tv_usec;\n",
    "   \n",
    "   add<<<numBlocks, blockSize>>>(N, x, y);\n",
    "  \n",
    "    gettimeofday(&tv, NULL); \n",
    "\t  printf(\"Tiempo del cálculo suma 5 : %lf ms\\n\", (tv.tv_sec*1000000+tv.tv_usec - start)/1000.0);\n",
    "  \n",
    "   cudaDeviceSynchronize();\n",
    "    gettimeofday(&tv, NULL); \n",
    "\t  printf(\"Tiempo con el synchronize  : %lf ms\\n\", (tv.tv_sec*1000000+tv.tv_usec - start)/1000.0);\n",
    "\n",
    "   float maxError = 0.0f;\n",
    "   int contError = 0;\n",
    "   \n",
    "   for (int i=0; i <N; i++){\n",
    "       maxError=fmax(maxError,fabs(y[i]-3.0f));\n",
    "       if (y[i] != 3.0) contError++; \n",
    "   }\n",
    "   std::cout << \"Suma de \" << N << \" elementos\" << std::endl;\n",
    "   std::cout << \"Número de errores: \" <<contError << std::endl;\n",
    "   std::cout << \"Max error: \" <<maxError << std::endl;\n",
    "  \n",
    " \n",
    "  // Free memory\n",
    "   cudaFree (x);\n",
    "   cudaFree (y);\n",
    "   \n",
    "   return 0;\n",
    "}"
   ]
  },
  {
   "cell_type": "code",
   "execution_count": null,
   "metadata": {
    "colab": {
     "base_uri": "https://localhost:8080/"
    },
    "id": "Wkvjp1dm4Z4v",
    "outputId": "03eee06a-24cb-472e-a2a9-e31314aff329"
   },
   "outputs": [
    {
     "name": "stdout",
     "output_type": "stream",
     "text": [
      "nvcc warning : The 'compute_35', 'compute_37', 'compute_50', 'sm_35', 'sm_37' and 'sm_50' architectures are deprecated, and may be removed in a future release (Use -Wno-deprecated-gpu-targets to suppress warning).\n"
     ]
    }
   ],
   "source": [
    "!/usr/local/cuda/bin/nvcc -arch=sm_37 -rdc=true suma6.cu -o suma6 -lcudadevrt"
   ]
  },
  {
   "cell_type": "code",
   "execution_count": null,
   "metadata": {
    "colab": {
     "base_uri": "https://localhost:8080/"
    },
    "id": "NSc0Rnrm4Z4w",
    "outputId": "099e3b9b-6dbc-4a55-afd8-e09ed5e69b2d"
   },
   "outputs": [
    {
     "name": "stdout",
     "output_type": "stream",
     "text": [
      "sample_data  stenciltest  stenciltest.cu  suma6  suma6.cu\n"
     ]
    }
   ],
   "source": [
    "!ls"
   ]
  },
  {
   "cell_type": "markdown",
   "metadata": {
    "id": "UVja90w_4Z4w"
   },
   "source": [
    "Corremos el fichero ejecutable"
   ]
  },
  {
   "cell_type": "code",
   "execution_count": null,
   "metadata": {
    "colab": {
     "base_uri": "https://localhost:8080/"
    },
    "id": "Wjd8QJ1Q4Z4w",
    "outputId": "aee9da63-7992-4b1c-f4a0-f809b652de15"
   },
   "outputs": [
    {
     "name": "stdout",
     "output_type": "stream",
     "text": [
      "Tiempo del cálculo suma 5 : 1.426000 ms\n",
      "Tiempo con el synchronize  : 1.549000 ms\n",
      "Suma de 1048576 elementos\n",
      "Número de errores: 0\n",
      "Max error: 0\n"
     ]
    }
   ],
   "source": [
    "!./suma6"
   ]
  },
  {
   "cell_type": "code",
   "execution_count": null,
   "metadata": {
    "colab": {
     "base_uri": "https://localhost:8080/"
    },
    "id": "ECtLApqV5Iar",
    "outputId": "2748b101-ad8a-40da-c6e5-04a5646cdf2f"
   },
   "outputs": [
    {
     "name": "stdout",
     "output_type": "stream",
     "text": [
      "Tiempo del cálculo suma 5 : 1.421000 ms\n",
      "Tiempo con el synchronize  : 1.542000 ms\n",
      "Suma de 1048576 elementos\n",
      "Número de errores: 0\n",
      "Max error: 0\n"
     ]
    }
   ],
   "source": [
    "!./suma6"
   ]
  },
  {
   "cell_type": "code",
   "execution_count": null,
   "metadata": {
    "colab": {
     "base_uri": "https://localhost:8080/"
    },
    "id": "lJvECoFM5Ih7",
    "outputId": "9f1264a4-7fab-475b-aa43-1bcb5c2f6529"
   },
   "outputs": [
    {
     "name": "stdout",
     "output_type": "stream",
     "text": [
      "Tiempo del cálculo suma 5 : 1.392000 ms\n",
      "Tiempo con el synchronize  : 1.513000 ms\n",
      "Suma de 1048576 elementos\n",
      "Número de errores: 0\n",
      "Max error: 0\n"
     ]
    }
   ],
   "source": [
    "!./suma6"
   ]
  },
  {
   "cell_type": "markdown",
   "metadata": {
    "id": "4tCbdHMy4Z4w"
   },
   "source": [
    "Hacemos el profile de ejecución"
   ]
  },
  {
   "cell_type": "code",
   "execution_count": null,
   "metadata": {
    "colab": {
     "base_uri": "https://localhost:8080/"
    },
    "id": "PIc2FcA_4Z4w",
    "outputId": "14b4bfd9-7fdc-4ca6-a886-e3c0c3e69478"
   },
   "outputs": [
    {
     "name": "stdout",
     "output_type": "stream",
     "text": [
      "==953== NVPROF is profiling process 953, command: ./suma6\n",
      "==953== Warning: Auto boost enabled on device 0. Profiling results may be inconsistent.\n",
      "Tiempo del cálculo suma 5 : 1.632000 ms\n",
      "Tiempo con el synchronize  : 1.747000 ms\n",
      "Suma de 1048576 elementos\n",
      "Número de errores: 0\n",
      "Max error: 0\n",
      "==953== Profiling application: ./suma6\n",
      "==953== Profiling result:\n",
      "            Type  Time(%)      Time     Calls       Avg       Min       Max  Name\n",
      " GPU activities:  100.00%  101.09us         1  101.09us  101.09us  101.09us  add(int, float*, float*)\n",
      "      API calls:   98.40%  221.80ms         2  110.90ms  794.86us  221.01ms  cudaMallocManaged\n",
      "                    0.72%  1.6257ms         1  1.6257ms  1.6257ms  1.6257ms  cudaLaunchKernel\n",
      "                    0.47%  1.0590ms         2  529.49us  448.29us  610.69us  cudaFree\n",
      "                    0.26%  574.89us         1  574.89us  574.89us  574.89us  cuDeviceTotalMem\n",
      "                    0.09%  200.98us       101  1.9890us     163ns  80.471us  cuDeviceGetAttribute\n",
      "                    0.04%  91.144us         1  91.144us  91.144us  91.144us  cudaDeviceSynchronize\n",
      "                    0.02%  40.550us         1  40.550us  40.550us  40.550us  cuDeviceGetName\n",
      "                    0.00%  5.3100us         1  5.3100us  5.3100us  5.3100us  cuDeviceGetPCIBusId\n",
      "                    0.00%  1.9510us         3     650ns     208ns  1.0200us  cuDeviceGetCount\n",
      "                    0.00%  1.4450us         2     722ns     267ns  1.1780us  cuDeviceGet\n",
      "                    0.00%     497ns         1     497ns     497ns     497ns  cuDeviceGetUuid\n",
      "\n",
      "==953== Unified Memory profiling result:\n",
      "Device \"Tesla K80 (0)\"\n",
      "   Count  Avg Size  Min Size  Max Size  Total Size  Total Time  Name\n",
      "       6  1.3333MB  128.00KB  2.0000MB  8.000000MB  1.268850ms  Host To Device\n",
      "      84  146.29KB  4.0000KB  0.9961MB  12.00000MB  1.913740ms  Device To Host\n",
      "Total CPU Page faults: 42\n"
     ]
    }
   ],
   "source": [
    "!nvprof ./suma6"
   ]
  },
  {
   "cell_type": "markdown",
   "metadata": {
    "id": "Tksn3DLs5O07"
   },
   "source": [
    "Vemos una ligera mejora ya que tarda en torno a 1.5ms, pero no es una mejora líneal ya que hemos duplicado el número de hilos usado por bloque, por lo que continuamos aumentando para ver su evolución."
   ]
  },
  {
   "cell_type": "code",
   "execution_count": null,
   "metadata": {
    "colab": {
     "base_uri": "https://localhost:8080/"
    },
    "id": "jIYFnO1F8Gym",
    "outputId": "8aae88bb-2bb7-4ecd-9c37-a4af9065f384"
   },
   "outputs": [
    {
     "name": "stdout",
     "output_type": "stream",
     "text": [
      "Overwriting suma6.cu\n"
     ]
    }
   ],
   "source": [
    "%%writefile suma6.cu\n",
    "\n",
    "#include <iostream>\n",
    "#include <math.h>\n",
    "#include <time.h>\n",
    "#include <sys/time.h>\n",
    "\n",
    "__global__\n",
    "void add(int n, float *x, float *y)\n",
    "{\n",
    "  int index = blockIdx.x * blockDim.x + threadIdx.x;\n",
    "  int stride = blockDim.x * gridDim.x;\n",
    "  for (int i = index; i < n; i += stride)\n",
    "    y[i] = x[i] + y[i];\n",
    "}\n",
    "\n",
    "int main(void) {\n",
    "    \n",
    "    int N = 1 <<20;  // N = 2^20 = 1024*1024= 1.048.576\n",
    "    struct timeval tv;\n",
    "\t  unsigned long long start;\n",
    "    float *x; // = new float[N];\n",
    "    float *y; // = new float[N]; \n",
    "\n",
    "  // Allocate Unified Memory -- accessible from CPU or GPU\n",
    "    cudaMallocManaged(&x, N*sizeof(float));\n",
    "    cudaMallocManaged(&y, N*sizeof(float));\n",
    "    \n",
    "    for (int i =0; i < N; i++ ){\n",
    "        x[i]= 1.0f;\n",
    "        y[i]= 2.0f;\n",
    "    }\n",
    "\n",
    "    int blockSize = 1024;\n",
    "    int numBlocks = (N + blockSize - 1) / blockSize;\n",
    "    \n",
    "    gettimeofday(&tv, NULL); \n",
    "    start=tv.tv_sec*1000000+tv.tv_usec;\n",
    "   \n",
    "   add<<<numBlocks, blockSize>>>(N, x, y);\n",
    "  \n",
    "    gettimeofday(&tv, NULL); \n",
    "\t  printf(\"Tiempo del cálculo suma 5 : %lf ms\\n\", (tv.tv_sec*1000000+tv.tv_usec - start)/1000.0);\n",
    "  \n",
    "   cudaDeviceSynchronize();\n",
    "    gettimeofday(&tv, NULL); \n",
    "\t  printf(\"Tiempo con el synchronize  : %lf ms\\n\", (tv.tv_sec*1000000+tv.tv_usec - start)/1000.0);\n",
    "\n",
    "   float maxError = 0.0f;\n",
    "   int contError = 0;\n",
    "   \n",
    "   for (int i=0; i <N; i++){\n",
    "       maxError=fmax(maxError,fabs(y[i]-3.0f));\n",
    "       if (y[i] != 3.0) contError++; \n",
    "   }\n",
    "   std::cout << \"Suma de \" << N << \" elementos\" << std::endl;\n",
    "   std::cout << \"Número de errores: \" <<contError << std::endl;\n",
    "   std::cout << \"Max error: \" <<maxError << std::endl;\n",
    "  \n",
    " \n",
    "  // Free memory\n",
    "   cudaFree (x);\n",
    "   cudaFree (y);\n",
    "   \n",
    "   return 0;\n",
    "}"
   ]
  },
  {
   "cell_type": "code",
   "execution_count": null,
   "metadata": {
    "colab": {
     "base_uri": "https://localhost:8080/"
    },
    "id": "ZN3XeN4v8Gyn",
    "outputId": "17453633-9af3-4b18-ad2d-8e88b256d27d"
   },
   "outputs": [
    {
     "name": "stdout",
     "output_type": "stream",
     "text": [
      "nvcc warning : The 'compute_35', 'compute_37', 'compute_50', 'sm_35', 'sm_37' and 'sm_50' architectures are deprecated, and may be removed in a future release (Use -Wno-deprecated-gpu-targets to suppress warning).\n"
     ]
    }
   ],
   "source": [
    "!/usr/local/cuda/bin/nvcc -arch=sm_37 -rdc=true suma6.cu -o suma6 -lcudadevrt"
   ]
  },
  {
   "cell_type": "code",
   "execution_count": null,
   "metadata": {
    "colab": {
     "base_uri": "https://localhost:8080/"
    },
    "id": "m80JrLQU8Gyn",
    "outputId": "6a50a8d3-87e9-43de-ad1d-c99ad7256be2"
   },
   "outputs": [
    {
     "name": "stdout",
     "output_type": "stream",
     "text": [
      "sample_data  stenciltest  stenciltest.cu  suma6  suma6.cu\n"
     ]
    }
   ],
   "source": [
    "!ls"
   ]
  },
  {
   "cell_type": "markdown",
   "metadata": {
    "id": "t8wR26KM8Gyn"
   },
   "source": [
    "Corremos el fichero ejecutable"
   ]
  },
  {
   "cell_type": "code",
   "execution_count": null,
   "metadata": {
    "colab": {
     "base_uri": "https://localhost:8080/"
    },
    "id": "nskVUedK8Gyo",
    "outputId": "afe4e5de-7ad8-453f-896f-83926d375ff3"
   },
   "outputs": [
    {
     "name": "stdout",
     "output_type": "stream",
     "text": [
      "Tiempo del cálculo suma 5 : 1.392000 ms\n",
      "Tiempo con el synchronize  : 1.515000 ms\n",
      "Suma de 1048576 elementos\n",
      "Número de errores: 0\n",
      "Max error: 0\n"
     ]
    }
   ],
   "source": [
    "!./suma6"
   ]
  },
  {
   "cell_type": "code",
   "execution_count": null,
   "metadata": {
    "colab": {
     "base_uri": "https://localhost:8080/"
    },
    "id": "q_jrFtf08Gyo",
    "outputId": "f2240fb4-e704-435f-a798-dceb1e4d01b8"
   },
   "outputs": [
    {
     "name": "stdout",
     "output_type": "stream",
     "text": [
      "Tiempo del cálculo suma 5 : 1.459000 ms\n",
      "Tiempo con el synchronize  : 1.582000 ms\n",
      "Suma de 1048576 elementos\n",
      "Número de errores: 0\n",
      "Max error: 0\n"
     ]
    }
   ],
   "source": [
    "!./suma6"
   ]
  },
  {
   "cell_type": "code",
   "execution_count": null,
   "metadata": {
    "colab": {
     "base_uri": "https://localhost:8080/"
    },
    "id": "GHvHABzy8Gyo",
    "outputId": "b21e7977-51b6-4838-96a6-a5d15d1c29c3"
   },
   "outputs": [
    {
     "name": "stdout",
     "output_type": "stream",
     "text": [
      "Tiempo del cálculo suma 5 : 1.514000 ms\n",
      "Tiempo con el synchronize  : 1.637000 ms\n",
      "Suma de 1048576 elementos\n",
      "Número de errores: 0\n",
      "Max error: 0\n"
     ]
    }
   ],
   "source": [
    "!./suma6"
   ]
  },
  {
   "cell_type": "markdown",
   "metadata": {
    "id": "6vwDf6MH8Gyo"
   },
   "source": [
    "Hacemos el profile de ejecución"
   ]
  },
  {
   "cell_type": "code",
   "execution_count": null,
   "metadata": {
    "colab": {
     "base_uri": "https://localhost:8080/"
    },
    "id": "89mm-Dip8Gyo",
    "outputId": "8b28fcb0-7757-4452-e90e-1955099f8563"
   },
   "outputs": [
    {
     "name": "stdout",
     "output_type": "stream",
     "text": [
      "==862== NVPROF is profiling process 862, command: ./suma6\n",
      "==862== Warning: Auto boost enabled on device 0. Profiling results may be inconsistent.\n",
      "Tiempo del cálculo suma 5 : 1.492000 ms\n",
      "Tiempo con el synchronize  : 1.613000 ms\n",
      "Suma de 1048576 elementos\n",
      "Número de errores: 0\n",
      "Max error: 0\n",
      "==862== Profiling application: ./suma6\n",
      "==862== Profiling result:\n",
      "            Type  Time(%)      Time     Calls       Avg       Min       Max  Name\n",
      " GPU activities:  100.00%  107.90us         1  107.90us  107.90us  107.90us  add(int, float*, float*)\n",
      "      API calls:   98.74%  281.46ms         2  140.73ms  781.78us  280.68ms  cudaMallocManaged\n",
      "                    0.52%  1.4782ms         1  1.4782ms  1.4782ms  1.4782ms  cudaLaunchKernel\n",
      "                    0.39%  1.1199ms         2  559.97us  504.08us  615.86us  cudaFree\n",
      "                    0.20%  579.01us         1  579.01us  579.01us  579.01us  cuDeviceTotalMem\n",
      "                    0.10%  292.29us       101  2.8930us     238ns  125.79us  cuDeviceGetAttribute\n",
      "                    0.03%  93.361us         1  93.361us  93.361us  93.361us  cudaDeviceSynchronize\n",
      "                    0.01%  27.131us         1  27.131us  27.131us  27.131us  cuDeviceGetName\n",
      "                    0.00%  7.4030us         1  7.4030us  7.4030us  7.4030us  cuDeviceGetPCIBusId\n",
      "                    0.00%  2.6600us         3     886ns     359ns  1.5560us  cuDeviceGetCount\n",
      "                    0.00%  1.8270us         2     913ns     465ns  1.3620us  cuDeviceGet\n",
      "                    0.00%     382ns         1     382ns     382ns     382ns  cuDeviceGetUuid\n",
      "\n",
      "==862== Unified Memory profiling result:\n",
      "Device \"Tesla K80 (0)\"\n",
      "   Count  Avg Size  Min Size  Max Size  Total Size  Total Time  Name\n",
      "       6  1.3333MB  128.00KB  2.0000MB  8.000000MB  1.172758ms  Host To Device\n",
      "      84  146.29KB  4.0000KB  0.9961MB  12.00000MB  1.878860ms  Device To Host\n",
      "Total CPU Page faults: 42\n"
     ]
    }
   ],
   "source": [
    "!nvprof ./suma6"
   ]
  },
  {
   "cell_type": "markdown",
   "metadata": {
    "id": "w8jc3UAB89M_"
   },
   "source": [
    "Da la sensación de que se produce algún tipo de saturación, es decir que añadir más hilos por bloque produce una mejora pirrica o simplemente no aporta ninguna mejora, siendo un desperdicio de recursos. Esta saturación se debe a que comparten el mismo procesador, y por lo tanto, comparten recursos limitados de memoria.\n",
    "\n",
    "Además de esto, tenemos que recordar que las GPUs actuales tienen un limite físico del nº de hilos que pueden llegar a alojar, siendo de 1024 actualmente, por lo que no tienen sentido seguir aumentando el número de hilos por bloque."
   ]
  },
  {
   "cell_type": "markdown",
   "metadata": {
    "id": "HXOeiNFcALJG"
   },
   "source": [
    "## P10 Pruebe el último ejercicio variando N para tamaños que no sean múltiplos del número de threads por bloque que se esté usando."
   ]
  },
  {
   "cell_type": "code",
   "execution_count": null,
   "metadata": {
    "colab": {
     "base_uri": "https://localhost:8080/"
    },
    "id": "lnsAXCzzFcoI",
    "outputId": "4cd77d5c-93bd-4199-d0d5-8208ce6e09c2"
   },
   "outputs": [
    {
     "name": "stdout",
     "output_type": "stream",
     "text": [
      "Overwriting suma6.cu\n"
     ]
    }
   ],
   "source": [
    "%%writefile suma6.cu\n",
    "\n",
    "#include <iostream>\n",
    "#include <math.h>\n",
    "#include <time.h>\n",
    "#include <sys/time.h>\n",
    "\n",
    "__global__\n",
    "void add(int n, float *x, float *y)\n",
    "{\n",
    "  int index = blockIdx.x * blockDim.x + threadIdx.x;\n",
    "  int stride = blockDim.x * gridDim.x;\n",
    "  for (int i = index; i < n; i += stride)\n",
    "    y[i] = x[i] + y[i];\n",
    "}\n",
    "\n",
    "int main(void) {\n",
    "    \n",
    "    int N = 1 <<20;  // N = 2^20 = 1024*1024= 1.048.576\n",
    "    struct timeval tv;\n",
    "\t  unsigned long long start;\n",
    "    float *x; // = new float[N];\n",
    "    float *y; // = new float[N]; \n",
    "\n",
    "  // Allocate Unified Memory -- accessible from CPU or GPU\n",
    "    cudaMallocManaged(&x, N*sizeof(float));\n",
    "    cudaMallocManaged(&y, N*sizeof(float));\n",
    "    \n",
    "    for (int i =0; i < N; i++ ){\n",
    "        x[i]= 1.0f;\n",
    "        y[i]= 2.0f;\n",
    "    }\n",
    "\n",
    "    int k = 2;\n",
    "    int blockSize = 256*k;\n",
    "    int numBlocks = (N + blockSize - 1) / (blockSize + 11);\n",
    "    \n",
    "    gettimeofday(&tv, NULL); \n",
    "    start=tv.tv_sec*1000000+tv.tv_usec;\n",
    "   \n",
    "   add<<<numBlocks, blockSize>>>(N, x, y);\n",
    "  \n",
    "    gettimeofday(&tv, NULL); \n",
    "\t  printf(\"Tiempo del cálculo suma 5 : %lf ms\\n\", (tv.tv_sec*1000000+tv.tv_usec - start)/1000.0);\n",
    "  \n",
    "   cudaDeviceSynchronize();\n",
    "    gettimeofday(&tv, NULL); \n",
    "\t  printf(\"Tiempo con el synchronize  : %lf ms\\n\", (tv.tv_sec*1000000+tv.tv_usec - start)/1000.0);\n",
    "\n",
    "   float maxError = 0.0f;\n",
    "   int contError = 0;\n",
    "   \n",
    "   for (int i=0; i <N; i++){\n",
    "       maxError=fmax(maxError,fabs(y[i]-3.0f));\n",
    "       if (y[i] != 3.0) contError++; \n",
    "   }\n",
    "   std::cout << \"Suma de \" << N << \" elementos\" << std::endl;\n",
    "   std::cout << \"Número de errores: \" <<contError << std::endl;\n",
    "   std::cout << \"Max error: \" <<maxError << std::endl;\n",
    "  \n",
    " \n",
    "  // Free memory\n",
    "   cudaFree (x);\n",
    "   cudaFree (y);\n",
    "   \n",
    "   return 0;\n",
    "}"
   ]
  },
  {
   "cell_type": "code",
   "execution_count": null,
   "metadata": {
    "colab": {
     "base_uri": "https://localhost:8080/"
    },
    "id": "S5REy-LyFcoI",
    "outputId": "3def0c85-cea0-4fc2-a3a1-53a99848b3c5"
   },
   "outputs": [
    {
     "name": "stdout",
     "output_type": "stream",
     "text": [
      "nvcc warning : The 'compute_35', 'compute_37', 'compute_50', 'sm_35', 'sm_37' and 'sm_50' architectures are deprecated, and may be removed in a future release (Use -Wno-deprecated-gpu-targets to suppress warning).\n"
     ]
    }
   ],
   "source": [
    "!/usr/local/cuda/bin/nvcc -arch=sm_37 -rdc=true suma6.cu -o suma6 -lcudadevrt"
   ]
  },
  {
   "cell_type": "code",
   "execution_count": null,
   "metadata": {
    "colab": {
     "base_uri": "https://localhost:8080/"
    },
    "id": "IWvlQGv7FcoI",
    "outputId": "1ec757bd-31f9-4519-9c7c-899969005e01"
   },
   "outputs": [
    {
     "name": "stdout",
     "output_type": "stream",
     "text": [
      "sample_data  stenciltest  stenciltest.cu  suma6  suma6.cu\n"
     ]
    }
   ],
   "source": [
    "!ls"
   ]
  },
  {
   "cell_type": "markdown",
   "metadata": {
    "id": "2khQXntmFcoI"
   },
   "source": [
    "Corremos el fichero ejecutable"
   ]
  },
  {
   "cell_type": "code",
   "execution_count": null,
   "metadata": {
    "colab": {
     "base_uri": "https://localhost:8080/"
    },
    "id": "DJHJSep2FcoI",
    "outputId": "9ba65145-a10a-452c-9a4b-88ff5423c87a"
   },
   "outputs": [
    {
     "name": "stdout",
     "output_type": "stream",
     "text": [
      "Tiempo del cálculo suma 5 : 1.506000 ms\n",
      "Tiempo con el synchronize  : 1.635000 ms\n",
      "Suma de 1048576 elementos\n",
      "Número de errores: 0\n",
      "Max error: 0\n"
     ]
    }
   ],
   "source": [
    "!./suma6"
   ]
  },
  {
   "cell_type": "code",
   "execution_count": null,
   "metadata": {
    "colab": {
     "base_uri": "https://localhost:8080/"
    },
    "id": "9s92lproFcoJ",
    "outputId": "9cf194a8-a073-44f6-e560-56925b9d5aee"
   },
   "outputs": [
    {
     "name": "stdout",
     "output_type": "stream",
     "text": [
      "Tiempo del cálculo suma 5 : 1.394000 ms\n",
      "Tiempo con el synchronize  : 1.515000 ms\n",
      "Suma de 1048576 elementos\n",
      "Número de errores: 0\n",
      "Max error: 0\n"
     ]
    }
   ],
   "source": [
    "!./suma6"
   ]
  },
  {
   "cell_type": "code",
   "execution_count": null,
   "metadata": {
    "colab": {
     "base_uri": "https://localhost:8080/"
    },
    "id": "IaOhErzUFcoJ",
    "outputId": "623f787e-5bf8-4390-813c-0acb91adc83d"
   },
   "outputs": [
    {
     "name": "stdout",
     "output_type": "stream",
     "text": [
      "Tiempo del cálculo suma 5 : 2.336000 ms\n",
      "Tiempo con el synchronize  : 2.459000 ms\n",
      "Suma de 1048576 elementos\n",
      "Número de errores: 0\n",
      "Max error: 0\n"
     ]
    }
   ],
   "source": [
    "!./suma6"
   ]
  },
  {
   "cell_type": "markdown",
   "metadata": {
    "id": "tlM1RDdCFcoJ"
   },
   "source": [
    "Hacemos el profile de ejecución"
   ]
  },
  {
   "cell_type": "code",
   "execution_count": null,
   "metadata": {
    "colab": {
     "base_uri": "https://localhost:8080/"
    },
    "id": "-Qaje1yCFcoJ",
    "outputId": "d18336c5-9f37-4e07-faeb-22573fa9707a"
   },
   "outputs": [
    {
     "name": "stdout",
     "output_type": "stream",
     "text": [
      "==993== NVPROF is profiling process 993, command: ./suma6\n",
      "==993== Warning: Auto boost enabled on device 0. Profiling results may be inconsistent.\n",
      "Tiempo del cálculo suma 5 : 1.536000 ms\n",
      "Tiempo con el synchronize  : 1.653000 ms\n",
      "Suma de 1048576 elementos\n",
      "Número de errores: 0\n",
      "Max error: 0\n",
      "==993== Profiling application: ./suma6\n",
      "==993== Profiling result:\n",
      "            Type  Time(%)      Time     Calls       Avg       Min       Max  Name\n",
      " GPU activities:  100.00%  102.98us         1  102.98us  102.98us  102.98us  add(int, float*, float*)\n",
      "      API calls:   98.41%  215.44ms         2  107.72ms  805.98us  214.63ms  cudaMallocManaged\n",
      "                    0.70%  1.5230ms         1  1.5230ms  1.5230ms  1.5230ms  cudaLaunchKernel\n",
      "                    0.50%  1.0847ms         2  542.36us  473.45us  611.26us  cudaFree\n",
      "                    0.24%  529.84us         1  529.84us  529.84us  529.84us  cuDeviceTotalMem\n",
      "                    0.09%  197.60us       101  1.9560us     161ns  85.906us  cuDeviceGetAttribute\n",
      "                    0.04%  92.081us         1  92.081us  92.081us  92.081us  cudaDeviceSynchronize\n",
      "                    0.01%  30.325us         1  30.325us  30.325us  30.325us  cuDeviceGetName\n",
      "                    0.00%  8.9200us         1  8.9200us  8.9200us  8.9200us  cuDeviceGetPCIBusId\n",
      "                    0.00%  2.4680us         3     822ns     246ns  1.1650us  cuDeviceGetCount\n",
      "                    0.00%  1.8180us         2     909ns     466ns  1.3520us  cuDeviceGet\n",
      "                    0.00%     316ns         1     316ns     316ns     316ns  cuDeviceGetUuid\n",
      "\n",
      "==993== Unified Memory profiling result:\n",
      "Device \"Tesla K80 (0)\"\n",
      "   Count  Avg Size  Min Size  Max Size  Total Size  Total Time  Name\n",
      "       6  1.3333MB  128.00KB  2.0000MB  8.000000MB  1.157850ms  Host To Device\n",
      "      84  146.29KB  4.0000KB  0.9961MB  12.00000MB  1.874133ms  Device To Host\n",
      "Total CPU Page faults: 42\n"
     ]
    }
   ],
   "source": [
    "!nvprof ./suma6"
   ]
  },
  {
   "cell_type": "markdown",
   "metadata": {
    "id": "8MNM9v4vIgjg"
   },
   "source": [
    "Como podemos ver obtenemos unos tiempos de ejecución peores en comparación con los apartados anteriores, de aquí concluimos que la causa de esto se debe a que cambiar el número de bloques de forma arbitraria, no beneficia al Coalescing, que requiere que nuestro número de bloques sea divisible entre el número de hilos por bloque, haciendo que el resultado de aumentar/disminuir el número de bloques sea contraproducente. "
   ]
  },
  {
   "cell_type": "markdown",
   "metadata": {
    "id": "JhlFpfkQIlhm"
   },
   "source": [
    "##P11 Suma de dos matrices"
   ]
  },
  {
   "cell_type": "markdown",
   "metadata": {
    "id": "j4MJZzWFaIUy"
   },
   "source": [
    "Para hacer este código nos basamos en el tutorial de CUDA https://docs.nvidia.com/cuda/cuda-c-programming-guide/ en el cual nos da cierta  intuiciones de como elaborar el la función de Kernel y la función de sincronización.\n",
    "\n",
    "En este caso, la guía nos recomienda la utilización de una función kernel que utilice tres argumentos, dos matrices A y B que serán las matrices a sumar y una tercera matriz C que será en la que almacenaremos los resultados.\n",
    "\n",
    "Se intento reducir la función de la usma de matrices a solo dos parametros(guradan el resultado de la suma en uno de los operandos), pero esto como era de esperar, resulto en problemas de paralelismo. Por lo que siguiendo la recomendación del tutorial citado, decidimos utilizar esta función kernel que reciba tres matrices por parámetro.\n",
    "\n",
    "Esta implementación esta limitada a que el número de bloques sea de 1 y en 1024 hilos por bloques."
   ]
  },
  {
   "cell_type": "code",
   "execution_count": null,
   "metadata": {
    "colab": {
     "base_uri": "https://localhost:8080/"
    },
    "id": "sxlToxgo6x6v",
    "outputId": "757755df-c097-409b-e95a-02c98486d358"
   },
   "outputs": [
    {
     "name": "stdout",
     "output_type": "stream",
     "text": [
      "Overwriting suma7.cu\n"
     ]
    }
   ],
   "source": [
    "%%writefile suma7.cu\n",
    "#include <stdio.h>\n",
    "#include <stdlib.h>\n",
    "#include <iostream>\n",
    "#include <math.h>\n",
    "#include <time.h>\n",
    "#include <sys/time.h>\n",
    "\n",
    "#define N 32\n",
    "\n",
    "__global__ void MatAdd(int A[N][N], int B[N][N], int C[N][N]){\n",
    "  //int i = threadIdx.x;\n",
    "  //int j = threadIdx.y;\n",
    "  int i = blockIdx.x * blockDim.x + threadIdx.x;\n",
    "  int j = blockIdx.y * blockDim.y + threadIdx.y;\n",
    "  \n",
    "  C[i][j] = A[i][j] + B[i][j];\n",
    "}\n",
    "\n",
    "int main(){\n",
    "\n",
    "  int A[N][N];\n",
    "  int B[N][N];\n",
    "  int C[N][N];\n",
    "\n",
    "  struct timeval tv;\n",
    "\tunsigned long long start;\n",
    "\n",
    "  for (int i=0; i<N; i++){\n",
    "    for (int j=0; j<N; j++){\n",
    "      A[i][j] = 1.0;\n",
    "      B[i][j] = 2.0;\n",
    "    }\n",
    "  }    \n",
    "\n",
    "  int (*pA)[N], (*pB)[N], (*pC)[N];\n",
    "\n",
    "  //reservamos memoria compartida, lo hacemos a traves de void**(comodin) \n",
    "  //porque c++, no admite float** \n",
    "  cudaMalloc((void**)&pA, (N*N)*sizeof(int));\n",
    "  cudaMalloc((void**)&pB, (N*N)*sizeof(int));\n",
    "  cudaMalloc((void**)&pC, (N*N)*sizeof(int));\n",
    "\n",
    "  cudaMemcpy(pA, A, (N*N)*sizeof(int), cudaMemcpyHostToDevice);\n",
    "  cudaMemcpy(pB, B, (N*N)*sizeof(int), cudaMemcpyHostToDevice);\n",
    "  cudaMemcpy(pC, C, (N*N)*sizeof(int), cudaMemcpyHostToDevice);\n",
    "\n",
    "  // Kernel invocation with one block of N * N * 1 threads\n",
    "  int numBlocks = 1;\n",
    "  dim3 threadsPerBlock(N, N);\n",
    "\n",
    "  gettimeofday(&tv, NULL); \n",
    "  start=tv.tv_sec*1000000+tv.tv_usec;\n",
    "\n",
    "  MatAdd<<<numBlocks,threadsPerBlock>>>(pA,pB,pC); //1 bloques y 1024 hilos\n",
    "\n",
    "  gettimeofday(&tv, NULL); \n",
    "\tprintf(\"Tiempo del cálculo suma de matrices : %lf ms\\n\", (tv.tv_sec*1000000+tv.tv_usec - start)/1000.0);\n",
    "  \n",
    "  cudaMemcpy(C, pC, (N*N)*sizeof(int), cudaMemcpyDeviceToHost);\n",
    "  \n",
    "  gettimeofday(&tv, NULL); \n",
    "\tprintf(\"Tiempo con el synchronize  : %lf ms\\n\", (tv.tv_sec*1000000+tv.tv_usec - start)/1000.0);\n",
    "\n",
    "  int contError = 0, maxError = 0;\n",
    "\n",
    "  for (int i=0; i<N; i++){\n",
    "    for (int j=0; j<N; j++){\n",
    "        maxError=fmax(maxError,fabs(C[i][j]-3));\n",
    "        if (C[i][j] != 3) contError++; \n",
    "    }\n",
    "  }\n",
    "\n",
    "  std::cout << \"Suma de matrices cuadradas de \" << N << \" elementos\" << std::endl;\n",
    "  std::cout << \"Número de errores: \" <<contError << std::endl;\n",
    "  std::cout << \"Max error: \" <<maxError << std::endl;\n",
    "  \n",
    "  // Free memory\n",
    "  cudaFree (pA);\n",
    "  cudaFree (pB);\n",
    "  cudaFree (pC);\n",
    "}"
   ]
  },
  {
   "cell_type": "code",
   "execution_count": null,
   "metadata": {
    "colab": {
     "base_uri": "https://localhost:8080/"
    },
    "id": "ZUudLmfzQKEW",
    "outputId": "e2f5fe99-4f37-474d-f600-317d8ced9af6"
   },
   "outputs": [
    {
     "name": "stdout",
     "output_type": "stream",
     "text": [
      "nvcc warning : The 'compute_35', 'compute_37', 'compute_50', 'sm_35', 'sm_37' and 'sm_50' architectures are deprecated, and may be removed in a future release (Use -Wno-deprecated-gpu-targets to suppress warning).\n"
     ]
    }
   ],
   "source": [
    "!/usr/local/cuda/bin/nvcc -arch=sm_37 -rdc=true suma7.cu -o suma7 -lcudadevrt"
   ]
  },
  {
   "cell_type": "code",
   "execution_count": null,
   "metadata": {
    "colab": {
     "base_uri": "https://localhost:8080/"
    },
    "id": "ooaaQkVOQKEW",
    "outputId": "622c0bc4-b74a-49db-9b4b-0e6f76e762f8"
   },
   "outputs": [
    {
     "name": "stdout",
     "output_type": "stream",
     "text": [
      "sample_data  suma7  suma7.cu\n"
     ]
    }
   ],
   "source": [
    "!ls"
   ]
  },
  {
   "cell_type": "markdown",
   "metadata": {
    "id": "TqhOAKekQKEW"
   },
   "source": [
    "Corremos el fichero ejecutable"
   ]
  },
  {
   "cell_type": "code",
   "execution_count": null,
   "metadata": {
    "colab": {
     "base_uri": "https://localhost:8080/"
    },
    "id": "68T_VZ4WQKEW",
    "outputId": "89c446a0-9aeb-4ac0-e843-7516beea8736"
   },
   "outputs": [
    {
     "name": "stdout",
     "output_type": "stream",
     "text": [
      "Tiempo del cálculo suma de matrices : 0.026000 ms\n",
      "Tiempo con el synchronize  : 0.092000 ms\n",
      "Suma de matrices cuadradas de 32 elementos\n",
      "Número de errores: 0\n",
      "Max error: 0\n"
     ]
    }
   ],
   "source": [
    "!./suma7"
   ]
  },
  {
   "cell_type": "code",
   "execution_count": null,
   "metadata": {
    "colab": {
     "base_uri": "https://localhost:8080/"
    },
    "id": "Od_YANbuVcGR",
    "outputId": "2e3af76f-e740-4031-e172-98134739aa07"
   },
   "outputs": [
    {
     "name": "stdout",
     "output_type": "stream",
     "text": [
      "==465== NVPROF is profiling process 465, command: ./suma7\n",
      "==465== Warning: Auto boost enabled on device 0. Profiling results may be inconsistent.\n",
      "Tiempo del cálculo suma de matrices : 0.026000 ms\n",
      "Tiempo con el synchronize  : 0.078000 ms\n",
      "Suma de matrices cuadradas de 32 elementos\n",
      "Número de errores: 0\n",
      "Max error: 0\n",
      "==465== Profiling application: ./suma7\n",
      "==465== Profiling result:\n",
      "            Type  Time(%)      Time     Calls       Avg       Min       Max  Name\n",
      " GPU activities:   54.83%  12.704us         1  12.704us  12.704us  12.704us  MatAdd(int[32]*, int[32]*, int[32]*)\n",
      "                   32.73%  7.5840us         3  2.5280us  2.4000us  2.7520us  [CUDA memcpy HtoD]\n",
      "                   12.43%  2.8800us         1  2.8800us  2.8800us  2.8800us  [CUDA memcpy DtoH]\n",
      "      API calls:   99.52%  197.30ms         3  65.765ms  2.0670us  197.29ms  cudaMalloc\n",
      "                    0.25%  496.36us         1  496.36us  496.36us  496.36us  cuDeviceTotalMem\n",
      "                    0.09%  184.46us       101  1.8260us     153ns  76.623us  cuDeviceGetAttribute\n",
      "                    0.07%  131.14us         3  43.711us  4.5060us  112.90us  cudaFree\n",
      "                    0.04%  78.202us         4  19.550us  7.0580us  29.066us  cudaMemcpy\n",
      "                    0.01%  27.551us         1  27.551us  27.551us  27.551us  cuDeviceGetName\n",
      "                    0.01%  23.519us         1  23.519us  23.519us  23.519us  cudaLaunchKernel\n",
      "                    0.00%  7.4970us         1  7.4970us  7.4970us  7.4970us  cuDeviceGetPCIBusId\n",
      "                    0.00%  2.2180us         3     739ns     171ns  1.0730us  cuDeviceGetCount\n",
      "                    0.00%  1.4440us         2     722ns     387ns  1.0570us  cuDeviceGet\n",
      "                    0.00%     283ns         1     283ns     283ns     283ns  cuDeviceGetUuid\n"
     ]
    }
   ],
   "source": [
    "!nvprof ./suma7"
   ]
  },
  {
   "cell_type": "markdown",
   "metadata": {
    "id": "2AFcJI5K3F2C"
   },
   "source": [
    "El problema de esta solución es su escasa escabilidad, ya que solo admite un tamaño de N máximo de 32, un único bloque y 1024 hilos. Tratamos de modificar el código para mejorar esta escabilidad.\n",
    "\n",
    "Para ello comenzamos cambiando la función kernel, de tal forma que ahora solo pasamos vectores por argumento en vez de matrices, esto nos obligará a la hora de calcular la suma calcular el indice de la posición a sumar.\n",
    "\n",
    "int index = col + row * N;\n",
    "\n",
    "Con esta modificación y la utilización del número de bloques, hilos y la función cudaDeviceSynchronize logramos aumentar el paralelismo y el tamaño de matrices cuadradas a sumar, en este caso hemos decidido probar con un tamaño de 128.\n",
    "\n"
   ]
  },
  {
   "cell_type": "code",
   "execution_count": null,
   "metadata": {
    "colab": {
     "base_uri": "https://localhost:8080/"
    },
    "id": "YFmYV8PtMlfu",
    "outputId": "ff361de4-7982-4489-dbcf-34b42d40dec2"
   },
   "outputs": [
    {
     "name": "stdout",
     "output_type": "stream",
     "text": [
      "Overwriting suma7.cu\n"
     ]
    }
   ],
   "source": [
    "%%writefile suma7.cu\n",
    "#include <stdio.h>\n",
    "#include <stdlib.h>\n",
    "#include <iostream>\n",
    "#include <math.h>\n",
    "#include <time.h>\n",
    "#include <sys/time.h>\n",
    "\n",
    "#define N 128\n",
    "#define BLOCK_DIM 32\n",
    "\n",
    "__global__ \n",
    "void matrixAdd (int *A, int *B, int *C) {\n",
    "    int col = blockIdx.x * blockDim.x + threadIdx.x;\n",
    "    int row = blockIdx.y * blockDim.y + threadIdx.y;\n",
    "\n",
    "    int index = col + row * N;\n",
    "\n",
    "    if (col < N && row < N) {\n",
    "        C[index] = A[index] + B[index];\n",
    "    }\n",
    "}\n",
    "\n",
    "int main() {\n",
    "    int A[N][N], B[N][N], C[N][N];\n",
    "    int *pA, *pB, *pC;\n",
    "\n",
    "    struct timeval tv;\n",
    "\t  unsigned long long start;\n",
    "\n",
    "    int size = N * N * sizeof(int);\n",
    "\n",
    "    for(int i=0; i<N; i++){\n",
    "        for (int j=0; j<N; j++){\n",
    "            A[i][j] = 1;\n",
    "            B[i][j] = 2;\n",
    "        }\n",
    "    }\n",
    "\n",
    "    cudaMalloc((void**)&pA, size);\n",
    "    cudaMalloc((void**)&pB, size);\n",
    "    cudaMalloc((void**)&pC, size);\n",
    "\n",
    "    cudaMemcpy(pA, A, size, cudaMemcpyHostToDevice);\n",
    "    cudaMemcpy(pB, B, size, cudaMemcpyHostToDevice);\n",
    "\n",
    "    dim3 dimBlock(BLOCK_DIM, BLOCK_DIM);\n",
    "    dim3 dimGrid((N+dimBlock.x-1)/dimBlock.x, (N+dimBlock.y-1)/dimBlock.y);\n",
    "\n",
    "    gettimeofday(&tv, NULL); \n",
    "    start=tv.tv_sec*1000000+tv.tv_usec;\n",
    "\n",
    "    matrixAdd<<<dimGrid,dimBlock>>>(pA,pB,pC);\n",
    "    \n",
    "    gettimeofday(&tv, NULL); \n",
    "\t  printf(\"Tiempo del cálculo suma de matrices : %lf ms\\n\", (tv.tv_sec*1000000+tv.tv_usec - start)/1000.0);\n",
    "\n",
    "    cudaDeviceSynchronize();\n",
    "    cudaMemcpy(C, pC, size, cudaMemcpyDeviceToHost);\n",
    "\n",
    "    gettimeofday(&tv, NULL); \n",
    "\t  printf(\"Tiempo con el synchronize  : %lf ms\\n\", (tv.tv_sec*1000000+tv.tv_usec - start)/1000.0);\n",
    "    \n",
    "    int contError = 0, maxError = 0;\n",
    "\n",
    "    for (int i=0; i<N; i++){\n",
    "      for (int j=0; j<N; j++){\n",
    "          maxError=fmax(maxError,fabs(C[i][j]-3));\n",
    "          if (C[i][j] != 3) contError++; \n",
    "      }\n",
    "    }\n",
    "\n",
    "    std::cout << \"Suma de matrices cuadradas de \" << N << \" elementos\" << std::endl;\n",
    "    std::cout << \"Número de errores: \" <<contError << std::endl;\n",
    "    std::cout << \"Max error: \" <<maxError << std::endl;\n",
    "\n",
    "    cudaFree(pA);\n",
    "    cudaFree(pB);\n",
    "    cudaFree(pC);\n",
    "}\n"
   ]
  },
  {
   "cell_type": "code",
   "execution_count": null,
   "metadata": {
    "colab": {
     "base_uri": "https://localhost:8080/"
    },
    "id": "4tzBG60zM8BG",
    "outputId": "7a661ef3-143a-4ffb-fb35-1280a6a07d75"
   },
   "outputs": [
    {
     "name": "stdout",
     "output_type": "stream",
     "text": [
      "nvcc warning : The 'compute_35', 'compute_37', 'compute_50', 'sm_35', 'sm_37' and 'sm_50' architectures are deprecated, and may be removed in a future release (Use -Wno-deprecated-gpu-targets to suppress warning).\n"
     ]
    }
   ],
   "source": [
    "!/usr/local/cuda/bin/nvcc -arch=sm_37 -rdc=true suma7.cu -o suma7 -lcudadevrt"
   ]
  },
  {
   "cell_type": "code",
   "execution_count": null,
   "metadata": {
    "colab": {
     "base_uri": "https://localhost:8080/"
    },
    "id": "K4vgql3rM8BG",
    "outputId": "7d15f1ed-b638-4059-b489-84add6bf80e0"
   },
   "outputs": [
    {
     "name": "stdout",
     "output_type": "stream",
     "text": [
      "sample_data  suma7  suma7.cu\n"
     ]
    }
   ],
   "source": [
    "!ls"
   ]
  },
  {
   "cell_type": "markdown",
   "metadata": {
    "id": "1hAGKPMdM8BG"
   },
   "source": [
    "Corremos el fichero ejecutable"
   ]
  },
  {
   "cell_type": "code",
   "execution_count": null,
   "metadata": {
    "colab": {
     "base_uri": "https://localhost:8080/"
    },
    "id": "-wdy9YriM8BG",
    "outputId": "8f244ac6-78dc-468b-e701-128cd90977ca"
   },
   "outputs": [
    {
     "name": "stdout",
     "output_type": "stream",
     "text": [
      "Tiempo del cálculo suma de matrices : 0.055000 ms\n",
      "Tiempo con el synchronize  : 0.199000 ms\n",
      "Suma de matrices cuadradas de 128 elementos\n",
      "Número de errores: 0\n",
      "Max error: 0\n"
     ]
    }
   ],
   "source": [
    "!./suma7"
   ]
  },
  {
   "cell_type": "code",
   "execution_count": null,
   "metadata": {
    "colab": {
     "base_uri": "https://localhost:8080/"
    },
    "id": "MOlF_SXXM8BH",
    "outputId": "162f0573-3f5a-4b79-bd6f-05f599b65247"
   },
   "outputs": [
    {
     "name": "stdout",
     "output_type": "stream",
     "text": [
      "==761== NVPROF is profiling process 761, command: ./suma7\n",
      "==761== Warning: Auto boost enabled on device 0. Profiling results may be inconsistent.\n",
      "Tiempo del cálculo suma de matrices : 0.028000 ms\n",
      "Tiempo con el synchronize  : 0.135000 ms\n",
      "Suma de matrices cuadradas de 128 elementos\n",
      "Número de errores: 0\n",
      "Max error: 0\n",
      "==761== Profiling application: ./suma7\n",
      "==761== Profiling result:\n",
      "            Type  Time(%)      Time     Calls       Avg       Min       Max  Name\n",
      " GPU activities:   68.29%  32.384us         2  16.192us  16.096us  16.288us  [CUDA memcpy HtoD]\n",
      "                   23.01%  10.912us         1  10.912us  10.912us  10.912us  [CUDA memcpy DtoH]\n",
      "                    8.70%  4.1280us         1  4.1280us  4.1280us  4.1280us  matrixAdd(int*, int*, int*)\n",
      "      API calls:   99.47%  214.21ms         3  71.405ms  3.6440us  214.20ms  cudaMalloc\n",
      "                    0.23%  503.54us         1  503.54us  503.54us  503.54us  cuDeviceTotalMem\n",
      "                    0.12%  250.17us       101  2.4760us     163ns  122.45us  cuDeviceGetAttribute\n",
      "                    0.07%  154.13us         3  51.376us  39.407us  71.128us  cudaMemcpy\n",
      "                    0.07%  144.51us         3  48.171us  13.053us  116.95us  cudaFree\n",
      "                    0.02%  33.028us         1  33.028us  33.028us  33.028us  cuDeviceGetName\n",
      "                    0.01%  25.931us         1  25.931us  25.931us  25.931us  cudaLaunchKernel\n",
      "                    0.00%  8.3480us         1  8.3480us  8.3480us  8.3480us  cudaDeviceSynchronize\n",
      "                    0.00%  6.6510us         1  6.6510us  6.6510us  6.6510us  cuDeviceGetPCIBusId\n",
      "                    0.00%  2.7650us         3     921ns     331ns  1.4650us  cuDeviceGetCount\n",
      "                    0.00%  1.8540us         2     927ns     322ns  1.5320us  cuDeviceGet\n",
      "                    0.00%     375ns         1     375ns     375ns     375ns  cuDeviceGetUuid\n"
     ]
    }
   ],
   "source": [
    "!nvprof ./suma7"
   ]
  },
  {
   "cell_type": "markdown",
   "metadata": {
    "id": "pcBMr-UM7bUM"
   },
   "source": [
    "##P12 Stencil1D"
   ]
  },
  {
   "cell_type": "markdown",
   "metadata": {
    "id": "KFu6ZPHFZ_UB"
   },
   "source": [
    "Compile el siguiente código, explique su funcionamiento y compruebe si la salida es correcta. En caso de que sea necesario realice las modificaciones oportunas."
   ]
  },
  {
   "cell_type": "markdown",
   "metadata": {
    "id": "8BAH1xcjUabN"
   },
   "source": [
    "## P12.2 Stencil sin memoria compartida\n",
    "\n",
    "Editamos el código para que no se haga uso de la memoria compartida"
   ]
  },
  {
   "cell_type": "code",
   "execution_count": null,
   "metadata": {
    "colab": {
     "base_uri": "https://localhost:8080/"
    },
    "id": "b2DvgPQmU4oa",
    "outputId": "10befd42-051e-47dc-d973-5b5058cb647e"
   },
   "outputs": [
    {
     "name": "stdout",
     "output_type": "stream",
     "text": [
      "Overwriting stenciltest_nosharedmem.cu\n"
     ]
    }
   ],
   "source": [
    "%%writefile stenciltest_nosharedmem.cu\n",
    "\n",
    "#include <stdio.h>\n",
    "#include <time.h>\n",
    "#include <sys/time.h>\n",
    "\n",
    "#define RADIUS        3\n",
    "#define BLOCK_SIZE    256\n",
    "#define NUM_ELEMENTS  (4096*2)\n",
    "\n",
    "// CUDA API error checking macro\n",
    "#define cudaCheck(error) \\\n",
    "  if (error != cudaSuccess) { \\\n",
    "    printf(\"Fatal error: %s at %s:%d\\n\", \\\n",
    "      cudaGetErrorString(error), \\\n",
    "      __FILE__, __LINE__); \\\n",
    "    exit(1); \\\n",
    "  }\n",
    "\n",
    "__global__ void stencil_1d(int *in, int *out) \n",
    "{\n",
    "    //__shared__ int temp[BLOCK_SIZE + 2 * RADIUS];\n",
    "    int lindex = threadIdx.x + RADIUS;\n",
    "\n",
    "  \n",
    "    // Apply the stencil\n",
    "    int result = 0;\n",
    "    for (int offset = -RADIUS ; offset <= RADIUS ; offset++)\n",
    "        result += in[lindex + offset];\n",
    "\n",
    "    // Store the result\n",
    "    out[lindex-RADIUS] = result;\n",
    "}\n",
    "\n",
    "int main()\n",
    "{\n",
    "  unsigned int i;\n",
    "  int h_in[NUM_ELEMENTS + 2 * RADIUS], h_out[NUM_ELEMENTS];\n",
    "  int *d_in, *d_out;\n",
    "  struct timeval tv;\n",
    "\tunsigned long long start;\n",
    "\n",
    "  // Initialize host data\n",
    "  for( i = 0; i < (NUM_ELEMENTS + 2*RADIUS); ++i )\n",
    "    h_in[i] = 1; // With a value of 1 and RADIUS of 3, all output values should be 7\n",
    "\n",
    "  // Allocate space on the device\n",
    "  cudaCheck( cudaMalloc( &d_in, (NUM_ELEMENTS + 2*RADIUS) * sizeof(int)) );\n",
    "  cudaCheck( cudaMalloc( &d_out, NUM_ELEMENTS * sizeof(int)) );\n",
    "\n",
    "  // Copy input data to device\n",
    "  cudaCheck( cudaMemcpy( d_in, h_in, (NUM_ELEMENTS + 2*RADIUS) * sizeof(int), cudaMemcpyHostToDevice) );\n",
    "\n",
    "\n",
    "  gettimeofday(&tv, NULL); \n",
    "  start=tv.tv_sec*1000000+tv.tv_usec;\n",
    "   \n",
    "  stencil_1d<<< (NUM_ELEMENTS + BLOCK_SIZE - 1)/BLOCK_SIZE, BLOCK_SIZE >>> (d_in, d_out);\n",
    "\n",
    "  gettimeofday(&tv, NULL); \n",
    "\tprintf(\"Tiempo del kernel stencil 1d: %lf ms\\n\", (tv.tv_sec*1000000+tv.tv_usec - start)/1000.0);\n",
    "\n",
    "  cudaCheck( cudaMemcpy( h_out, d_out, NUM_ELEMENTS * sizeof(int), cudaMemcpyDeviceToHost) );\n",
    "\n",
    "  // Verify every out value is 7\n",
    "  for( i = 0; i < NUM_ELEMENTS; ++i )\n",
    "    if (h_out[i] != 7)\n",
    "    {\n",
    "      printf(\"Element h_out[%d] == %d != 7\\n\", i, h_out[i]);\n",
    "      break;\n",
    "    }\n",
    "\n",
    "  if (i == NUM_ELEMENTS)\n",
    "    printf(\"SUCCESS!\\n\");\n",
    "\n",
    "  // Free out memory\n",
    "  cudaFree(d_in);\n",
    "  cudaFree(d_out);\n",
    "\n",
    "  return 0;\n",
    "}\n"
   ]
  },
  {
   "cell_type": "code",
   "execution_count": null,
   "metadata": {
    "colab": {
     "base_uri": "https://localhost:8080/"
    },
    "id": "zhH242rFVQhn",
    "outputId": "ae2cd87e-711d-465a-d45e-f526953a60c2"
   },
   "outputs": [
    {
     "name": "stdout",
     "output_type": "stream",
     "text": [
      "nvcc warning : The 'compute_35', 'compute_37', 'compute_50', 'sm_35', 'sm_37' and 'sm_50' architectures are deprecated, and may be removed in a future release (Use -Wno-deprecated-gpu-targets to suppress warning).\n",
      "Tiempo del kernel stencil 1d: 0.031000 ms\n",
      "Element h_out[256] == 0 != 7\n"
     ]
    }
   ],
   "source": [
    "!/usr/local/cuda/bin/nvcc -arch=sm_35 -rdc=true stenciltest_nosharedmem.cu -o ./stenciltest_nosharedmem -lcudadevrt\n",
    "!./stenciltest_nosharedmem"
   ]
  },
  {
   "cell_type": "code",
   "execution_count": null,
   "metadata": {
    "colab": {
     "base_uri": "https://localhost:8080/"
    },
    "id": "4-RdTggtVSCj",
    "outputId": "c286a820-9dd1-4916-9ad4-0167942ae49a"
   },
   "outputs": [
    {
     "name": "stdout",
     "output_type": "stream",
     "text": [
      "==1523== NVPROF is profiling process 1523, command: ./stenciltest_nosharedmem\n",
      "==1523== Warning: Auto boost enabled on device 0. Profiling results may be inconsistent.\n",
      "Element h_out[256] == 0 != 7\n",
      "==1523== Profiling application: ./stenciltest_nosharedmem\n",
      "==1523== Profiling result:\n",
      "            Type  Time(%)      Time     Calls       Avg       Min       Max  Name\n",
      " GPU activities:   43.25%  9.0230us         1  9.0230us  9.0230us  9.0230us  [CUDA memcpy HtoD]\n",
      "                   33.44%  6.9760us         1  6.9760us  6.9760us  6.9760us  [CUDA memcpy DtoH]\n",
      "                   23.31%  4.8640us         1  4.8640us  4.8640us  4.8640us  stencil_1d(int*, int*)\n",
      "      API calls:   99.48%  203.51ms         2  101.75ms  4.7560us  203.50ms  cudaMalloc\n",
      "                    0.25%  510.93us         1  510.93us  510.93us  510.93us  cuDeviceTotalMem\n",
      "                    0.11%  223.68us       101  2.2140us     171ns  82.601us  cuDeviceGetAttribute\n",
      "                    0.08%  162.23us         2  81.117us  13.047us  149.19us  cudaFree\n",
      "                    0.04%  80.971us         2  40.485us  30.660us  50.311us  cudaMemcpy\n",
      "                    0.02%  38.916us         1  38.916us  38.916us  38.916us  cudaLaunchKernel\n",
      "                    0.01%  27.225us         1  27.225us  27.225us  27.225us  cuDeviceGetName\n",
      "                    0.00%  5.1830us         1  5.1830us  5.1830us  5.1830us  cuDeviceGetPCIBusId\n",
      "                    0.00%  2.2890us         3     763ns     215ns  1.2150us  cuDeviceGetCount\n",
      "                    0.00%  2.2840us         2  1.1420us     419ns  1.8650us  cuDeviceGet\n",
      "                    0.00%     340ns         1     340ns     340ns     340ns  cuDeviceGetUuid\n"
     ]
    }
   ],
   "source": [
    "!nvprof ./stenciltest_nosharedmem"
   ]
  },
  {
   "cell_type": "markdown",
   "metadata": {
    "id": "ig72Zt0jZD3O"
   },
   "source": [
    "Observamos como entorno al 80% del tiempo se emplea copiando los datos de la memoria del CPU a la del GPU y viceversa. Esto es porque por cada elemento estamos accediendo a la memoria global 7 veces para poder leerlo.\n",
    "\n",
    "Es decir, que al cáculo de la operación solo se le dedica un 20% del tiempo total. Lo cual es bastante ineficiente. Además dado que hay carrera de datos obtenemos resultado erróneos.\n"
   ]
  },
  {
   "cell_type": "markdown",
   "metadata": {
    "id": "dcjRk4DRTy2T"
   },
   "source": [
    "## P12.2 Stencil sin _synthreads() y con memoria compartida\n",
    "Ejecutamos el código orginal dado\n",
    "\n"
   ]
  },
  {
   "cell_type": "code",
   "execution_count": null,
   "metadata": {
    "colab": {
     "base_uri": "https://localhost:8080/"
    },
    "id": "qGaG1nrF3hKZ",
    "outputId": "8de4e406-ca52-463f-eaaa-8421dde756d3"
   },
   "outputs": [
    {
     "name": "stdout",
     "output_type": "stream",
     "text": [
      "Overwriting stenciltest.cu\n"
     ]
    }
   ],
   "source": [
    "%%writefile stenciltest.cu\n",
    "\n",
    "#include <stdio.h>\n",
    "#include <time.h>\n",
    "#include <sys/time.h>\n",
    "\n",
    "#define RADIUS        3\n",
    "#define BLOCK_SIZE    256\n",
    "#define NUM_ELEMENTS  (4096*2)\n",
    "\n",
    "// CUDA API error checking macro\n",
    "#define cudaCheck(error) \\\n",
    "  if (error != cudaSuccess) { \\\n",
    "    printf(\"Fatal error: %s at %s:%d\\n\", \\\n",
    "      cudaGetErrorString(error), \\\n",
    "      __FILE__, __LINE__); \\\n",
    "    exit(1); \\\n",
    "  }\n",
    "\n",
    "__global__ void stencil_1d(int *in, int *out) \n",
    "{\n",
    "    __shared__ int temp[BLOCK_SIZE + 2 * RADIUS];\n",
    "    int gindex = threadIdx.x + (blockIdx.x * blockDim.x) + RADIUS;\n",
    "    int lindex = threadIdx.x + RADIUS;\n",
    "    \n",
    "\n",
    "    // Read input elements into shared memory\n",
    "    temp[lindex] = in[gindex];\n",
    "    if (threadIdx.x < RADIUS) \n",
    "    {\n",
    "        temp[lindex - RADIUS] = in[gindex - RADIUS];\n",
    "        temp[lindex + BLOCK_SIZE] = in[gindex + BLOCK_SIZE];\n",
    "    }\n",
    "\n",
    "    // Make sure all threads get to this point before proceeding!\n",
    "    //__syncthreads();\n",
    "\n",
    "    // Apply the stencil\n",
    "    int result = 0;\n",
    "    for (int offset = -RADIUS ; offset <= RADIUS ; offset++)\n",
    "        result += temp[lindex + offset];\n",
    "\n",
    "    // Store the result\n",
    "    out[gindex-RADIUS] = result;\n",
    "}\n",
    "\n",
    "int main()\n",
    "{\n",
    "  unsigned int i;\n",
    "  int h_in[NUM_ELEMENTS + 2 * RADIUS], h_out[NUM_ELEMENTS];\n",
    "  int *d_in, *d_out;\n",
    "  struct timeval tv;\n",
    "\tunsigned long long start;\n",
    "\n",
    "  // Initialize host data\n",
    "  for( i = 0; i < (NUM_ELEMENTS + 2*RADIUS); ++i )\n",
    "    h_in[i] = 1; // With a value of 1 and RADIUS of 3, all output values should be 7\n",
    "\n",
    "  // Allocate space on the device\n",
    "  cudaCheck( cudaMalloc( &d_in, (NUM_ELEMENTS + 2*RADIUS) * sizeof(int)) );\n",
    "  cudaCheck( cudaMalloc( &d_out, NUM_ELEMENTS * sizeof(int)) );\n",
    "\n",
    "  // Copy input data to device\n",
    "  cudaCheck( cudaMemcpy( d_in, h_in, (NUM_ELEMENTS + 2*RADIUS) * sizeof(int), cudaMemcpyHostToDevice) );\n",
    "\n",
    "\n",
    "  gettimeofday(&tv, NULL); \n",
    "  start=tv.tv_sec*1000000+tv.tv_usec;\n",
    "   \n",
    "  stencil_1d<<< (NUM_ELEMENTS + BLOCK_SIZE - 1)/BLOCK_SIZE, BLOCK_SIZE >>> (d_in, d_out);\n",
    "\n",
    "  gettimeofday(&tv, NULL); \n",
    "\tprintf(\"Tiempo del kernel stencil 1d: %lf ms\\n\", (tv.tv_sec*1000000+tv.tv_usec - start)/1000.0);\n",
    "\n",
    "  cudaCheck( cudaMemcpy( h_out, d_out, NUM_ELEMENTS * sizeof(int), cudaMemcpyDeviceToHost) );\n",
    "\n",
    "  // Verify every out value is 7\n",
    "  for( i = 0; i < NUM_ELEMENTS; ++i )\n",
    "    if (h_out[i] != 7)\n",
    "    {\n",
    "      printf(\"Element h_out[%d] == %d != 7\\n\", i, h_out[i]);\n",
    "      break;\n",
    "    }\n",
    "\n",
    "  if (i == NUM_ELEMENTS)\n",
    "    printf(\"SUCCESS!\\n\");\n",
    "\n",
    "  // Free out memory\n",
    "  cudaFree(d_in);\n",
    "  cudaFree(d_out);\n",
    "\n",
    "  return 0;\n",
    "}\n"
   ]
  },
  {
   "cell_type": "code",
   "execution_count": null,
   "metadata": {
    "colab": {
     "base_uri": "https://localhost:8080/"
    },
    "id": "wXahjwTKG4Xy",
    "outputId": "ac6cfbdd-16df-42ac-900d-8873c3082a55"
   },
   "outputs": [
    {
     "name": "stdout",
     "output_type": "stream",
     "text": [
      "nvcc warning : The 'compute_35', 'compute_37', 'compute_50', 'sm_35', 'sm_37' and 'sm_50' architectures are deprecated, and may be removed in a future release (Use -Wno-deprecated-gpu-targets to suppress warning).\n",
      "Tiempo del kernel stencil 1d: 0.013000 ms\n",
      "Element h_out[0] == 22 != 7\n"
     ]
    }
   ],
   "source": [
    "!/usr/local/cuda/bin/nvcc -arch=sm_35 -rdc=true stenciltest.cu -o ./stenciltest -lcudadevrt\n",
    "!./stenciltest"
   ]
  },
  {
   "cell_type": "code",
   "execution_count": null,
   "metadata": {
    "colab": {
     "base_uri": "https://localhost:8080/"
    },
    "id": "4t7fl5s2IIMw",
    "outputId": "ab7389eb-b23d-4474-88ad-81b51a880e22"
   },
   "outputs": [
    {
     "name": "stdout",
     "output_type": "stream",
     "text": [
      "==1218== NVPROF is profiling process 1218, command: ./stenciltest\n",
      "==1218== Warning: Auto boost enabled on device 0. Profiling results may be inconsistent.\n",
      "SUCCESS!\n",
      "==1218== Profiling application: ./stenciltest\n",
      "==1218== Profiling result:\n",
      "            Type  Time(%)      Time     Calls       Avg       Min       Max  Name\n",
      " GPU activities:   57.07%  13.440us         1  13.440us  13.440us  13.440us  [CUDA memcpy HtoD]\n",
      "                   28.67%  6.7520us         1  6.7520us  6.7520us  6.7520us  [CUDA memcpy DtoH]\n",
      "                   14.27%  3.3600us         1  3.3600us  3.3600us  3.3600us  stencil_1d(int*, int*)\n",
      "      API calls:   99.37%  194.38ms         2  97.189ms  4.8140us  194.37ms  cudaMalloc\n",
      "                    0.32%  622.96us         1  622.96us  622.96us  622.96us  cuDeviceTotalMem\n",
      "                    0.14%  282.67us       101  2.7980us     241ns  120.81us  cuDeviceGetAttribute\n",
      "                    0.07%  130.97us         2  65.483us  12.598us  118.37us  cudaFree\n",
      "                    0.06%  114.44us         2  57.221us  48.473us  65.969us  cudaMemcpy\n",
      "                    0.02%  31.026us         1  31.026us  31.026us  31.026us  cudaLaunchKernel\n",
      "                    0.02%  30.680us         1  30.680us  30.680us  30.680us  cuDeviceGetName\n",
      "                    0.00%  7.5530us         1  7.5530us  7.5530us  7.5530us  cuDeviceGetPCIBusId\n",
      "                    0.00%  2.2690us         3     756ns     288ns  1.1110us  cuDeviceGetCount\n",
      "                    0.00%  1.5380us         2     769ns     431ns  1.1070us  cuDeviceGet\n",
      "                    0.00%     455ns         1     455ns     455ns     455ns  cuDeviceGetUuid\n"
     ]
    }
   ],
   "source": [
    "!nvprof ./stenciltest"
   ]
  },
  {
   "cell_type": "markdown",
   "metadata": {
    "id": "CsGbrllLXB6i"
   },
   "source": [
    "Vemos como se reduce el tiempo de acceso a memoria debido a que ahora utilizamos memoria compartida entre los hilos del mismo bloque, lo que reduce el tiempo de cómputo. Hemos conseguido pasar de un tiempo de ejecución del kernel de 0.031000 ms ms a 0.013000 ms, todo ello mediante el uso de memoria compartida. Esto es debido a que mediante el uso de memoria compartida entre hilos del mismo bloque, no tenemos que cargar los datos desde memoria global repetidamente, lo cual es más costoso y se acaba traduciendo en un tiempo de ejecución mayor.\n",
    "\n",
    "Para aprovechar aún mas esta aceleración necesitamos un mayor número de hilos, es decir, que la operacion a realizar sea más grande, para que podamos apreciar una aceleración más clara y ver el potencial de paralelización de la gráfica.\n",
    "\n",
    "\n",
    "Además, vemos que no funciona, obtenemos errores. Vamos a realizar los cambios oportunos para que esto funcione. Hay que descomentar la línea __syncthreads() ya que si no se produce un Data Race. Esto es porque hay que esperar a que todos sus hilos copien su parte correspondiente de la entrada de la memoria global a la compartida. \n",
    "\n",
    "Si no se puede dar el caso de que, por ejemplo, el hilo \"15\" intente acceder a sus datos contíguos hasta el tamaño del radio(por ejemplo el 16), pero está leyendo datos aun no escritos en memoria compartida, ya que era el hilo \"1\" el que tenía que escribir esa parte del halo del input. Como el hilo \"1\" va más atrasado y tiene que ejecutar la condición de \"if (threadIdx.x < RADIUS)\" para copiar su parte del halo, el hilo 15 estaría leyendo un dato  de la memoria compartida(el 16) antes de que éste fuera escrito, es decir, que hay carrera de datos. \n",
    "Para solucionarlo hacemos un __syncthreads(), para que todos los hilos escriban su parte correspondiente en  la memoria compartida , antes de empezar a operar."
   ]
  },
  {
   "cell_type": "markdown",
   "metadata": {
    "id": "v0808NvIXnjq"
   },
   "source": [
    "## P12.3 Stencil con _synthreads() y con memoria compartida\n"
   ]
  },
  {
   "cell_type": "code",
   "execution_count": null,
   "metadata": {
    "colab": {
     "base_uri": "https://localhost:8080/"
    },
    "id": "C4K4Ik-uZfHU",
    "outputId": "c548bba2-3c4c-4181-ef96-d0726317f63d"
   },
   "outputs": [
    {
     "name": "stdout",
     "output_type": "stream",
     "text": [
      "Writing stenciltest_fix.cu\n"
     ]
    }
   ],
   "source": [
    "%%writefile stenciltest_fix.cu\n",
    "\n",
    "#include <stdio.h>\n",
    "#include <time.h>\n",
    "#include <sys/time.h>\n",
    "\n",
    "#define RADIUS        3\n",
    "#define BLOCK_SIZE    256\n",
    "#define NUM_ELEMENTS  (4096*2)\n",
    "\n",
    "// CUDA API error checking macro\n",
    "#define cudaCheck(error) \\\n",
    "  if (error != cudaSuccess) { \\\n",
    "    printf(\"Fatal error: %s at %s:%d\\n\", \\\n",
    "      cudaGetErrorString(error), \\\n",
    "      __FILE__, __LINE__); \\\n",
    "    exit(1); \\\n",
    "  }\n",
    "\n",
    "__global__ void stencil_1d(int *in, int *out) \n",
    "{\n",
    "    __shared__ int temp[BLOCK_SIZE + 2 * RADIUS];\n",
    "    int gindex = threadIdx.x + (blockIdx.x * blockDim.x) + RADIUS;\n",
    "    int lindex = threadIdx.x + RADIUS;\n",
    "\n",
    "    // Read input elements into shared memory\n",
    "    temp[lindex] = in[gindex];\n",
    "    if (threadIdx.x < RADIUS) \n",
    "    {\n",
    "        temp[lindex - RADIUS] = in[gindex - RADIUS];\n",
    "        temp[lindex + BLOCK_SIZE] = in[gindex + BLOCK_SIZE];\n",
    "    }\n",
    "\n",
    "    // Make sure all threads get to this point before proceeding!\n",
    "    __syncthreads();\n",
    "\n",
    "    // Apply the stencil\n",
    "    int result = 0;\n",
    "    for (int offset = -RADIUS ; offset <= RADIUS ; offset++)\n",
    "        result += temp[lindex + offset];\n",
    "\n",
    "    // Store the result\n",
    "    out[gindex-RADIUS] = result;\n",
    "}\n",
    "\n",
    "int main()\n",
    "{\n",
    "  unsigned int i;\n",
    "  int h_in[NUM_ELEMENTS + 2 * RADIUS], h_out[NUM_ELEMENTS];\n",
    "  int *d_in, *d_out;\n",
    "  struct timeval tv;\n",
    "\tunsigned long long start;\n",
    "\n",
    "  // Initialize host data\n",
    "  for( i = 0; i < (NUM_ELEMENTS + 2*RADIUS); ++i )\n",
    "    h_in[i] = 1; // With a value of 1 and RADIUS of 3, all output values should be 7\n",
    "\n",
    "  // Allocate space on the device\n",
    "  cudaCheck( cudaMalloc( &d_in, (NUM_ELEMENTS + 2*RADIUS) * sizeof(int)) );\n",
    "  cudaCheck( cudaMalloc( &d_out, NUM_ELEMENTS * sizeof(int)) );\n",
    "\n",
    "  // Copy input data to device\n",
    "  cudaCheck( cudaMemcpy( d_in, h_in, (NUM_ELEMENTS + 2*RADIUS) * sizeof(int), cudaMemcpyHostToDevice) );\n",
    "\n",
    "\n",
    "  gettimeofday(&tv, NULL); \n",
    "  start=tv.tv_sec*1000000+tv.tv_usec;\n",
    "   \n",
    "  stencil_1d<<< (NUM_ELEMENTS + BLOCK_SIZE - 1)/BLOCK_SIZE, BLOCK_SIZE >>> (d_in, d_out);\n",
    "\n",
    "  gettimeofday(&tv, NULL); \n",
    "\tprintf(\"Tiempo del kernel stencil 1d: %lf ms\\n\", (tv.tv_sec*1000000+tv.tv_usec - start)/1000.0);\n",
    " \n",
    "\n",
    "  cudaCheck( cudaMemcpy( h_out, d_out, NUM_ELEMENTS * sizeof(int), cudaMemcpyDeviceToHost) );\n",
    "\n",
    "  // Verify every out value is 7\n",
    "  for( i = 0; i < NUM_ELEMENTS; ++i )\n",
    "    if (h_out[i] != 7)\n",
    "    {\n",
    "      printf(\"Element h_out[%d] == %d != 7\\n\", i, h_out[i]);\n",
    "      break;\n",
    "    }\n",
    "\n",
    "  if (i == NUM_ELEMENTS)\n",
    "    printf(\"SUCCESS!\\n\");\n",
    "\n",
    "  // Free out memory\n",
    "  cudaFree(d_in);\n",
    "  cudaFree(d_out);\n",
    "\n",
    "  return 0;\n",
    "}\n"
   ]
  },
  {
   "cell_type": "code",
   "execution_count": null,
   "metadata": {
    "colab": {
     "base_uri": "https://localhost:8080/"
    },
    "id": "PRCawxuJZs2L",
    "outputId": "1a2b7f66-3908-466e-86d9-883f879eb79e"
   },
   "outputs": [
    {
     "name": "stdout",
     "output_type": "stream",
     "text": [
      "nvcc warning : The 'compute_35', 'compute_37', 'compute_50', 'sm_35', 'sm_37' and 'sm_50' architectures are deprecated, and may be removed in a future release (Use -Wno-deprecated-gpu-targets to suppress warning).\n",
      "Tiempo del kernel stencil 1d: 0.014000 ms\n",
      "SUCCESS!\n"
     ]
    }
   ],
   "source": [
    "!/usr/local/cuda/bin/nvcc -arch=sm_35 -rdc=true stenciltest_fix.cu -o ./stenciltest_fix -lcudadevrt\n",
    "!./stenciltest_fix"
   ]
  },
  {
   "cell_type": "code",
   "execution_count": null,
   "metadata": {
    "colab": {
     "base_uri": "https://localhost:8080/"
    },
    "id": "QX05nLUcR0vs",
    "outputId": "2e046460-842c-4f3e-f510-077b34fe2569"
   },
   "outputs": [
    {
     "name": "stdout",
     "output_type": "stream",
     "text": [
      "==1271== NVPROF is profiling process 1271, command: ./stenciltest\n",
      "==1271== Warning: Auto boost enabled on device 0. Profiling results may be inconsistent.\n",
      "SUCCESS!\n",
      "==1271== Profiling application: ./stenciltest\n",
      "==1271== Profiling result:\n",
      "            Type  Time(%)      Time     Calls       Avg       Min       Max  Name\n",
      " GPU activities:   47.15%  8.9920us         1  8.9920us  8.9920us  8.9920us  [CUDA memcpy HtoD]\n",
      "                   35.40%  6.7520us         1  6.7520us  6.7520us  6.7520us  [CUDA memcpy DtoH]\n",
      "                   17.45%  3.3280us         1  3.3280us  3.3280us  3.3280us  stencil_1d(int*, int*)\n",
      "      API calls:   99.52%  198.54ms         2  99.269ms  4.7560us  198.53ms  cudaMalloc\n",
      "                    0.24%  486.78us         1  486.78us  486.78us  486.78us  cuDeviceTotalMem\n",
      "                    0.09%  186.43us       101  1.8450us     160ns  67.986us  cuDeviceGetAttribute\n",
      "                    0.07%  146.61us         2  73.303us  13.967us  132.64us  cudaFree\n",
      "                    0.04%  87.211us         2  43.605us  38.462us  48.749us  cudaMemcpy\n",
      "                    0.01%  25.663us         1  25.663us  25.663us  25.663us  cudaLaunchKernel\n",
      "                    0.01%  23.069us         1  23.069us  23.069us  23.069us  cuDeviceGetName\n",
      "                    0.00%  6.7870us         1  6.7870us  6.7870us  6.7870us  cuDeviceGetPCIBusId\n",
      "                    0.00%  1.7410us         3     580ns     224ns     972ns  cuDeviceGetCount\n",
      "                    0.00%  1.3370us         2     668ns     227ns  1.1100us  cuDeviceGet\n",
      "                    0.00%     328ns         1     328ns     328ns     328ns  cuDeviceGetUuid\n"
     ]
    }
   ],
   "source": [
    "!nvprof ./stenciltest"
   ]
  },
  {
   "cell_type": "markdown",
   "metadata": {
    "id": "W0inllgSX35b"
   },
   "source": [
    "Ya no tenemos fallos de ejecución ya que hemos eliminado la carrera de datos con _syncthreads() para la memoria compartida utilizada en el kernel.\n",
    "\n",
    "Observamos un tiempo:0.014ms similar al ejemplo anterior, ya que también utilizamos memoria compartida. Es de esperar que tal vez tardase unos tiempo despcreciable más en este ejemplo debido a que estamos haciendo un _synthreads(), el cual tiene que esperar a todos los hilos para evitar carreras de datos.  "
   ]
  },
  {
   "cell_type": "markdown",
   "metadata": {
    "id": "PB2lFE_jvGos"
   },
   "source": [
    "#Partes 2: Computación cuántica\n",
    "\n",
    "Comenzamos exportando las librerias de quskit para poder emular los circuitos cuánticos"
   ]
  },
  {
   "cell_type": "code",
   "execution_count": null,
   "metadata": {
    "colab": {
     "base_uri": "https://localhost:8080/"
    },
    "id": "YBcsCKImSqgi",
    "outputId": "67e5092f-a870-4471-c2f4-2ba383fb7278"
   },
   "outputs": [
    {
     "name": "stdout",
     "output_type": "stream",
     "text": [
      "Collecting qiskit\n",
      "  Downloading qiskit-0.31.0.tar.gz (13 kB)\n",
      "Collecting qiskit-terra==0.18.3\n",
      "  Downloading qiskit_terra-0.18.3-cp37-cp37m-manylinux2010_x86_64.whl (6.1 MB)\n",
      "\u001b[K     |████████████████████████████████| 6.1 MB 13.1 MB/s \n",
      "\u001b[?25hCollecting qiskit-aer==0.9.1\n",
      "  Downloading qiskit_aer-0.9.1-cp37-cp37m-manylinux_2_12_x86_64.manylinux2010_x86_64.whl (17.9 MB)\n",
      "\u001b[K     |████████████████████████████████| 17.9 MB 120 kB/s \n",
      "\u001b[?25hCollecting qiskit-ibmq-provider==0.17.0\n",
      "  Downloading qiskit_ibmq_provider-0.17.0-py3-none-any.whl (236 kB)\n",
      "\u001b[K     |████████████████████████████████| 236 kB 50.6 MB/s \n",
      "\u001b[?25hCollecting qiskit-ignis==0.6.0\n",
      "  Downloading qiskit_ignis-0.6.0-py3-none-any.whl (207 kB)\n",
      "\u001b[K     |████████████████████████████████| 207 kB 49.5 MB/s \n",
      "\u001b[?25hCollecting qiskit-aqua==0.9.5\n",
      "  Downloading qiskit_aqua-0.9.5-py3-none-any.whl (2.1 MB)\n",
      "\u001b[K     |████████████████████████████████| 2.1 MB 33.7 MB/s \n",
      "\u001b[?25hRequirement already satisfied: numpy>=1.16.3 in /usr/local/lib/python3.7/dist-packages (from qiskit-aer==0.9.1->qiskit) (1.19.5)\n",
      "Requirement already satisfied: scipy>=1.0 in /usr/local/lib/python3.7/dist-packages (from qiskit-aer==0.9.1->qiskit) (1.4.1)\n",
      "Collecting docplex>=2.21.207\n",
      "  Downloading docplex-2.22.213.tar.gz (634 kB)\n",
      "\u001b[K     |████████████████████████████████| 634 kB 25.2 MB/s \n",
      "\u001b[?25hRequirement already satisfied: h5py<3.3.0 in /usr/local/lib/python3.7/dist-packages (from qiskit-aqua==0.9.5->qiskit) (3.1.0)\n",
      "Collecting retworkx>=0.8.0\n",
      "  Downloading retworkx-0.10.2-cp37-cp37m-manylinux_2_5_x86_64.manylinux1_x86_64.manylinux_2_12_x86_64.manylinux2010_x86_64.whl (1.4 MB)\n",
      "\u001b[K     |████████████████████████████████| 1.4 MB 37.9 MB/s \n",
      "\u001b[?25hRequirement already satisfied: setuptools>=40.1.0 in /usr/local/lib/python3.7/dist-packages (from qiskit-aqua==0.9.5->qiskit) (57.4.0)\n",
      "Requirement already satisfied: fastdtw<=0.3.4 in /usr/local/lib/python3.7/dist-packages (from qiskit-aqua==0.9.5->qiskit) (0.3.4)\n",
      "Collecting quandl\n",
      "  Downloading Quandl-3.6.2-py2.py3-none-any.whl (26 kB)\n",
      "Collecting dlx<=1.0.4\n",
      "  Downloading dlx-1.0.4.tar.gz (5.5 kB)\n",
      "Requirement already satisfied: psutil>=5 in /usr/local/lib/python3.7/dist-packages (from qiskit-aqua==0.9.5->qiskit) (5.4.8)\n",
      "Requirement already satisfied: scikit-learn>=0.20.0 in /usr/local/lib/python3.7/dist-packages (from qiskit-aqua==0.9.5->qiskit) (0.22.2.post1)\n",
      "Requirement already satisfied: sympy>=1.3 in /usr/local/lib/python3.7/dist-packages (from qiskit-aqua==0.9.5->qiskit) (1.7.1)\n",
      "Collecting yfinance>=0.1.62\n",
      "  Downloading yfinance-0.1.64.tar.gz (26 kB)\n",
      "Requirement already satisfied: pandas in /usr/local/lib/python3.7/dist-packages (from qiskit-aqua==0.9.5->qiskit) (1.1.5)\n",
      "Collecting requests-ntlm>=1.1.0\n",
      "  Downloading requests_ntlm-1.1.0-py2.py3-none-any.whl (5.7 kB)\n",
      "Requirement already satisfied: requests>=2.19 in /usr/local/lib/python3.7/dist-packages (from qiskit-ibmq-provider==0.17.0->qiskit) (2.23.0)\n",
      "Requirement already satisfied: urllib3>=1.21.1 in /usr/local/lib/python3.7/dist-packages (from qiskit-ibmq-provider==0.17.0->qiskit) (1.24.3)\n",
      "Collecting websocket-client>=1.0.1\n",
      "  Downloading websocket_client-1.2.1-py2.py3-none-any.whl (52 kB)\n",
      "\u001b[K     |████████████████████████████████| 52 kB 1.4 MB/s \n",
      "\u001b[?25hRequirement already satisfied: python-dateutil>=2.8.0 in /usr/local/lib/python3.7/dist-packages (from qiskit-ibmq-provider==0.17.0->qiskit) (2.8.2)\n",
      "Collecting symengine>0.7\n",
      "  Downloading symengine-0.8.1-cp37-cp37m-manylinux2010_x86_64.whl (38.2 MB)\n",
      "\u001b[K     |████████████████████████████████| 38.2 MB 25 kB/s \n",
      "\u001b[?25hCollecting tweedledum<2.0,>=1.1\n",
      "  Downloading tweedledum-1.1.1-cp37-cp37m-manylinux_2_12_x86_64.manylinux2010_x86_64.whl (943 kB)\n",
      "\u001b[K     |████████████████████████████████| 943 kB 41.0 MB/s \n",
      "\u001b[?25hCollecting ply>=3.10\n",
      "  Downloading ply-3.11-py2.py3-none-any.whl (49 kB)\n",
      "\u001b[K     |████████████████████████████████| 49 kB 6.1 MB/s \n",
      "\u001b[?25hCollecting python-constraint>=1.4\n",
      "  Downloading python-constraint-1.4.0.tar.bz2 (18 kB)\n",
      "Requirement already satisfied: jsonschema>=2.6 in /usr/local/lib/python3.7/dist-packages (from qiskit-terra==0.18.3->qiskit) (2.6.0)\n",
      "Collecting fastjsonschema>=2.10\n",
      "  Downloading fastjsonschema-2.15.1-py3-none-any.whl (21 kB)\n",
      "Requirement already satisfied: dill>=0.3 in /usr/local/lib/python3.7/dist-packages (from qiskit-terra==0.18.3->qiskit) (0.3.4)\n",
      "Requirement already satisfied: six in /usr/local/lib/python3.7/dist-packages (from docplex>=2.21.207->qiskit-aqua==0.9.5->qiskit) (1.15.0)\n",
      "Requirement already satisfied: cached-property in /usr/local/lib/python3.7/dist-packages (from h5py<3.3.0->qiskit-aqua==0.9.5->qiskit) (1.5.2)\n",
      "Requirement already satisfied: certifi>=2017.4.17 in /usr/local/lib/python3.7/dist-packages (from requests>=2.19->qiskit-ibmq-provider==0.17.0->qiskit) (2021.5.30)\n",
      "Requirement already satisfied: chardet<4,>=3.0.2 in /usr/local/lib/python3.7/dist-packages (from requests>=2.19->qiskit-ibmq-provider==0.17.0->qiskit) (3.0.4)\n",
      "Requirement already satisfied: idna<3,>=2.5 in /usr/local/lib/python3.7/dist-packages (from requests>=2.19->qiskit-ibmq-provider==0.17.0->qiskit) (2.10)\n",
      "Collecting ntlm-auth>=1.0.2\n",
      "  Downloading ntlm_auth-1.5.0-py2.py3-none-any.whl (29 kB)\n",
      "Collecting cryptography>=1.3\n",
      "  Downloading cryptography-35.0.0-cp36-abi3-manylinux_2_24_x86_64.whl (3.5 MB)\n",
      "\u001b[K     |████████████████████████████████| 3.5 MB 46.2 MB/s \n",
      "\u001b[?25hRequirement already satisfied: cffi>=1.12 in /usr/local/lib/python3.7/dist-packages (from cryptography>=1.3->requests-ntlm>=1.1.0->qiskit-ibmq-provider==0.17.0->qiskit) (1.14.6)\n",
      "Requirement already satisfied: pycparser in /usr/local/lib/python3.7/dist-packages (from cffi>=1.12->cryptography>=1.3->requests-ntlm>=1.1.0->qiskit-ibmq-provider==0.17.0->qiskit) (2.20)\n",
      "Requirement already satisfied: joblib>=0.11 in /usr/local/lib/python3.7/dist-packages (from scikit-learn>=0.20.0->qiskit-aqua==0.9.5->qiskit) (1.0.1)\n",
      "Requirement already satisfied: mpmath>=0.19 in /usr/local/lib/python3.7/dist-packages (from sympy>=1.3->qiskit-aqua==0.9.5->qiskit) (1.2.1)\n",
      "Requirement already satisfied: multitasking>=0.0.7 in /usr/local/lib/python3.7/dist-packages (from yfinance>=0.1.62->qiskit-aqua==0.9.5->qiskit) (0.0.9)\n",
      "Collecting lxml>=4.5.1\n",
      "  Downloading lxml-4.6.4-cp37-cp37m-manylinux_2_17_x86_64.manylinux2014_x86_64.manylinux_2_24_x86_64.whl (6.3 MB)\n",
      "\u001b[K     |████████████████████████████████| 6.3 MB 38.3 MB/s \n",
      "\u001b[?25hRequirement already satisfied: pytz>=2017.2 in /usr/local/lib/python3.7/dist-packages (from pandas->qiskit-aqua==0.9.5->qiskit) (2018.9)\n",
      "Requirement already satisfied: more-itertools in /usr/local/lib/python3.7/dist-packages (from quandl->qiskit-aqua==0.9.5->qiskit) (8.10.0)\n",
      "Collecting inflection>=0.3.1\n",
      "  Downloading inflection-0.5.1-py2.py3-none-any.whl (9.5 kB)\n",
      "Building wheels for collected packages: qiskit, dlx, docplex, python-constraint, yfinance\n",
      "  Building wheel for qiskit (setup.py) ... \u001b[?25l\u001b[?25hdone\n",
      "  Created wheel for qiskit: filename=qiskit-0.31.0-py3-none-any.whl size=11728 sha256=aa07d358b9b3abfdb81193ab49b902f22547828bbfbcb1a37509a909cf96dece\n",
      "  Stored in directory: /root/.cache/pip/wheels/29/dd/b2/1fe1a9ac92aaf75b267d893ae27329ea229f292a293017afc7\n",
      "  Building wheel for dlx (setup.py) ... \u001b[?25l\u001b[?25hdone\n",
      "  Created wheel for dlx: filename=dlx-1.0.4-py3-none-any.whl size=5719 sha256=dc7515c617b21d18cd8cb6953bf324bb01a34c442d18c0c73afa2eb9af3d9d50\n",
      "  Stored in directory: /root/.cache/pip/wheels/78/55/c8/dc61e772445a566b7608a476d151e9dcaf4e092b01b0c4bc3c\n",
      "  Building wheel for docplex (setup.py) ... \u001b[?25l\u001b[?25hdone\n",
      "  Created wheel for docplex: filename=docplex-2.22.213-py3-none-any.whl size=696881 sha256=0d86b22c4e4f4ae68c83ee6dfeeadd5328de179839938ad3502dcda74a18cbb8\n",
      "  Stored in directory: /root/.cache/pip/wheels/90/69/6b/1375c68a5b7ff94c40263b151c86f58bd72200bf0c465b5ba3\n",
      "  Building wheel for python-constraint (setup.py) ... \u001b[?25l\u001b[?25hdone\n",
      "  Created wheel for python-constraint: filename=python_constraint-1.4.0-py2.py3-none-any.whl size=24081 sha256=cdd0fd112be0d08e5308ac81b75f34cb333603e50f06f5ec59852d251842adb9\n",
      "  Stored in directory: /root/.cache/pip/wheels/07/27/db/1222c80eb1e431f3d2199c12569cb1cac60f562a451fe30479\n",
      "  Building wheel for yfinance (setup.py) ... \u001b[?25l\u001b[?25hdone\n",
      "  Created wheel for yfinance: filename=yfinance-0.1.64-py2.py3-none-any.whl size=24109 sha256=d8216ed747e4e8eb5443025e532d277c63b28a2074e402e4af13c72a7fc68d47\n",
      "  Stored in directory: /root/.cache/pip/wheels/86/fe/9b/a4d3d78796b699e37065e5b6c27b75cff448ddb8b24943c288\n",
      "Successfully built qiskit dlx docplex python-constraint yfinance\n",
      "Installing collected packages: tweedledum, symengine, retworkx, python-constraint, ply, fastjsonschema, qiskit-terra, ntlm-auth, lxml, inflection, cryptography, yfinance, websocket-client, requests-ntlm, quandl, qiskit-ignis, docplex, dlx, qiskit-ibmq-provider, qiskit-aqua, qiskit-aer, qiskit\n",
      "  Attempting uninstall: lxml\n",
      "    Found existing installation: lxml 4.2.6\n",
      "    Uninstalling lxml-4.2.6:\n",
      "      Successfully uninstalled lxml-4.2.6\n",
      "Successfully installed cryptography-35.0.0 dlx-1.0.4 docplex-2.22.213 fastjsonschema-2.15.1 inflection-0.5.1 lxml-4.6.4 ntlm-auth-1.5.0 ply-3.11 python-constraint-1.4.0 qiskit-0.31.0 qiskit-aer-0.9.1 qiskit-aqua-0.9.5 qiskit-ibmq-provider-0.17.0 qiskit-ignis-0.6.0 qiskit-terra-0.18.3 quandl-3.6.2 requests-ntlm-1.1.0 retworkx-0.10.2 symengine-0.8.1 tweedledum-1.1.1 websocket-client-1.2.1 yfinance-0.1.64\n"
     ]
    }
   ],
   "source": [
    "!pip3 install qiskit"
   ]
  },
  {
   "cell_type": "code",
   "execution_count": null,
   "metadata": {
    "id": "bwtqSSZsVDOb"
   },
   "outputs": [],
   "source": [
    "from qiskit import QuantumCircuit, ClassicalRegister, QuantumRegister, assemble, Aer, execute\n",
    "from qiskit.visualization import plot_histogram\n",
    "from numpy import pi"
   ]
  },
  {
   "cell_type": "markdown",
   "metadata": {
    "id": "UBomZvnjMwCL"
   },
   "source": [
    "## Puerta de Hadamard\n",
    "\n",
    "Esta puerta opera sobre un único qubit. Esta puerta realiza la operación de asignar el estado base $|0\\rangle$ a $\\frac{|0\\rangle + |1\\rangle}{\\sqrt {2}}(\\equiv |+\\rangle )$ y el estado base $|1\\rangle$ a $\\frac{|0\\rangle + |1\\rangle}{\\sqrt {2}}(\\equiv |-\\rangle )$ siendo la base {$|+\\rangle ,|-\\rangle$} a llamada base de Hadamard, y representa una rotación de $\\pi$ sobre el eje $\\frac{(\\hat x + \\hat z)}{\\sqrt {2}}$. \n",
    "\n",
    "Equivalentemente, es la combinación de dos rotaciones, una de $\\pi$ sobre el eje $\\hat z$ seguido de una rotación de $\\pi /2$ sobre el eje $\\hat y$ Se representa mediante la matriz de Hadamard:\n",
    "\n",
    "$H={\\frac {1}{\\sqrt {2}}}\\begin{bmatrix}1 & 1\\\\1 & -1\\end{bmatrix}$\n",
    "\n",
    "La puerta de Hadamard no es más que la representación de un qubit de la transformada cuántica de Fourier.\n",
    "\n",
    "Como las filas de la matriz son ortogonales, $H$ es una matriz unitaria.\n",
    "\n",
    "Pasamos a hacer una puerta H de un solo qubits y a ver su comportamiento, siendo el dibujo( y código) del circuito de la siguiente manera:"
   ]
  },
  {
   "cell_type": "code",
   "execution_count": null,
   "metadata": {
    "colab": {
     "base_uri": "https://localhost:8080/",
     "height": 92
    },
    "id": "GGofYVTQM3ci",
    "outputId": "6bf7d78f-2e36-448a-e4af-f216a6bd9b11"
   },
   "outputs": [
    {
     "data": {
      "text/html": [
       "<pre style=\"word-wrap: normal;white-space: pre;background: #fff0;line-height: 1.1;font-family: &quot;Courier New&quot;,Courier,monospace\">     ┌───┐┌───┐\n",
       "q_0: ┤ X ├┤ H ├\n",
       "     └───┘└───┘\n",
       "c: 1/══════════\n",
       "               </pre>"
      ],
      "text/plain": [
       "     ┌───┐┌───┐\n",
       "q_0: ┤ X ├┤ H ├\n",
       "     └───┘└───┘\n",
       "c: 1/══════════\n",
       "               "
      ]
     },
     "execution_count": 22,
     "metadata": {},
     "output_type": "execute_result"
    }
   ],
   "source": [
    "qreg_q = QuantumRegister(1, 'q')\n",
    "creg_c = ClassicalRegister(1, 'c')\n",
    "circuit = QuantumCircuit(qreg_q, creg_c)\n",
    "\n",
    "circuit.x(qreg_q[0])\n",
    "circuit.h(qreg_q[0])\n",
    "\n",
    "circuit.draw()"
   ]
  },
  {
   "cell_type": "markdown",
   "metadata": {
    "id": "l9jJxyWG50-6"
   },
   "source": [
    "Probamos ahora a calcular la probabilidad de la salida, en este caso al medir el cubit hemos obtenido que este ha colpasado el valor de 0, por lo que tomará dicho estado con un 100% de probabilidad. "
   ]
  },
  {
   "cell_type": "code",
   "execution_count": null,
   "metadata": {
    "colab": {
     "base_uri": "https://localhost:8080/",
     "height": 377
    },
    "id": "dqObLVMmNesD",
    "outputId": "7c6fc818-639d-4b39-ba7d-4897a1aa3985"
   },
   "outputs": [
    {
     "name": "stderr",
     "output_type": "stream",
     "text": [
      "/usr/local/lib/python3.7/dist-packages/qiskit/utils/deprecation.py:62: DeprecationWarning: Using a qobj for run() is deprecated as of qiskit-aer 0.9.0 and will be removed no sooner than 3 months from that release date. Transpiled circuits should now be passed directly using `backend.run(circuits, **run_options).\n",
      "  return func(*args, **kwargs)\n"
     ]
    },
    {
     "data": {
      "image/png": "[encoded data removed]",
      "text/plain": [
       "<Figure size 504x360 with 1 Axes>"
      ]
     },
     "execution_count": 23,
     "metadata": {},
     "output_type": "execute_result"
    }
   ],
   "source": [
    "sim = Aer.get_backend('aer_simulator') \n",
    "qobj = assemble(circuit)\n",
    "counts = sim.run(qobj).result().get_counts()\n",
    "plot_histogram(counts)"
   ]
  },
  {
   "cell_type": "markdown",
   "metadata": {
    "id": "-Ot6K0fN6_Vm"
   },
   "source": [
    "Ahora bien, cuando aplicamos varias simulaciones, podemos aplicar la ley de los grandes números. Lo cual termina por suavizar las probabilidades de todos los estados posibles (0 y 1 en este caso), tal como se puede apreciar en las probabilidades del IBM Quantum Composer.\n",
    "\n",
    "Como era de esperar, se cumple la propia definición de la puerta, ya que el qubit tiene una probabilidad inicial del 50% de colapsar a uno y otro de los dos estados."
   ]
  },
  {
   "cell_type": "markdown",
   "metadata": {
    "id": "z1zq52FP4qF3"
   },
   "source": [
    "![image.png](data:image/png;base64,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)"
   ]
  },
  {
   "cell_type": "markdown",
   "metadata": {
    "id": "wnakh0XZ7BE4"
   },
   "source": [
    "Probamos ahora a añadir un nuevo qubit con su puerta Hadamard correspondiente y simulamos el circuito."
   ]
  },
  {
   "cell_type": "code",
   "execution_count": null,
   "metadata": {
    "colab": {
     "base_uri": "https://localhost:8080/",
     "height": 122
    },
    "id": "DLiYT5JU4cZR",
    "outputId": "44ea5208-aae7-45c2-c667-6e8d1c82022d"
   },
   "outputs": [
    {
     "data": {
      "text/html": [
       "<pre style=\"word-wrap: normal;white-space: pre;background: #fff0;line-height: 1.1;font-family: &quot;Courier New&quot;,Courier,monospace\">     ┌───┐┌───┐\n",
       "q_0: ┤ X ├┤ H ├\n",
       "     ├───┤├───┤\n",
       "q_1: ┤ X ├┤ H ├\n",
       "     └───┘└───┘\n",
       "c: 2/══════════\n",
       "               </pre>"
      ],
      "text/plain": [
       "     ┌───┐┌───┐\n",
       "q_0: ┤ X ├┤ H ├\n",
       "     ├───┤├───┤\n",
       "q_1: ┤ X ├┤ H ├\n",
       "     └───┘└───┘\n",
       "c: 2/══════════\n",
       "               "
      ]
     },
     "execution_count": 21,
     "metadata": {},
     "output_type": "execute_result"
    }
   ],
   "source": [
    "qreg_q = QuantumRegister(2, 'q')\n",
    "creg_c = ClassicalRegister(2, 'c')\n",
    "circuit = QuantumCircuit(qreg_q, creg_c)\n",
    "\n",
    "circuit.x(qreg_q[0])\n",
    "circuit.x(qreg_q[1])\n",
    "circuit.h(qreg_q[0])\n",
    "circuit.h(qreg_q[1])\n",
    "\n",
    "circuit.draw()"
   ]
  },
  {
   "cell_type": "markdown",
   "metadata": {
    "id": "KesWwMjN7UpH"
   },
   "source": [
    "En esta ocasión de la combinación de cuatro estados posibles (00, 01, 10, 11) colpasa al estado de 00 con un 100% de probabilidad(se ha despejado la incertidumbre)."
   ]
  },
  {
   "cell_type": "code",
   "execution_count": null,
   "metadata": {
    "colab": {
     "base_uri": "https://localhost:8080/",
     "height": 385
    },
    "id": "DdPWWaFo4eKQ",
    "outputId": "9f9b3fd1-b5ac-4db2-b0e8-986561bbed4a"
   },
   "outputs": [
    {
     "name": "stderr",
     "output_type": "stream",
     "text": [
      "/usr/local/lib/python3.7/dist-packages/qiskit/utils/deprecation.py:62: DeprecationWarning: Using a qobj for run() is deprecated as of qiskit-aer 0.9.0 and will be removed no sooner than 3 months from that release date. Transpiled circuits should now be passed directly using `backend.run(circuits, **run_options).\n",
      "  return func(*args, **kwargs)\n"
     ]
    },
    {
     "data": {
      "image/png": "[encoded data removed]",
      "text/plain": [
       "<Figure size 504x360 with 1 Axes>"
      ]
     },
     "execution_count": 20,
     "metadata": {},
     "output_type": "execute_result"
    }
   ],
   "source": [
    "sim = Aer.get_backend('aer_simulator') \n",
    "qobj = assemble(circuit)\n",
    "counts = sim.run(qobj).result().get_counts()\n",
    "plot_histogram(counts)"
   ]
  },
  {
   "cell_type": "markdown",
   "metadata": {
    "id": "fGoDHwMA6oeg"
   },
   "source": [
    "De nuevo si repitieramos la simulación, podríamos obtener el mismo u otro de los tres estados diferentes. Por lo que volviendo a aplicar un limite al infinio y con el terema de los grandes número terminariamos obteniendo la siguiende distribución de probabilidades.\n",
    "\n",
    "De nuevo podemos ver que la distribución es uniforme entre los cuatro estados dados."
   ]
  },
  {
   "cell_type": "markdown",
   "metadata": {
    "id": "gzhuhamL45Gw"
   },
   "source": [
    "![image.png](data:image/png;base64,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)"
   ]
  },
  {
   "cell_type": "markdown",
   "metadata": {
    "id": "NUYnbobWUEzp"
   },
   "source": [
    "## Entrelazamiento\n",
    "\n",
    "Es un fenómeno de la mecánica cuántica demostrable mediante experimentación en la cual un conjunto de partículas entrelazadas, no se pueden definir como partículas individuales con estados definidos independientes, sino como un sistema con una función de onda única para todo el sistema.  \n",
    "\n",
    "Dicho de una forma más coloquial, el estado de un qubit entrelazado dependerá de su pareja y viceversa, por lo que si midierámos el estado de uno de ellos podríamos conocer el estado del otro sin problemas. El entrelacamiento entre dos qubits se puede emular en circuito cuántico con una puerta H en el primer qubit y una puerta CNOt entre el par de qubits(para entrelazar)."
   ]
  },
  {
   "cell_type": "code",
   "execution_count": null,
   "metadata": {
    "colab": {
     "base_uri": "https://localhost:8080/",
     "height": 122
    },
    "id": "pLvZtm1uB1k0",
    "outputId": "6607eebe-d51d-4e2a-997d-5e8374c0b960"
   },
   "outputs": [
    {
     "data": {
      "text/html": [
       "<pre style=\"word-wrap: normal;white-space: pre;background: #fff0;line-height: 1.1;font-family: &quot;Courier New&quot;,Courier,monospace\">     ┌───┐     \n",
       "q_0: ┤ H ├──■──\n",
       "     └───┘┌─┴─┐\n",
       "q_1: ─────┤ X ├\n",
       "          └───┘\n",
       "c: 2/══════════\n",
       "               </pre>"
      ],
      "text/plain": [
       "     ┌───┐     \n",
       "q_0: ┤ H ├──■──\n",
       "     └───┘┌─┴─┐\n",
       "q_1: ─────┤ X ├\n",
       "          └───┘\n",
       "c: 2/══════════\n",
       "               "
      ]
     },
     "execution_count": 30,
     "metadata": {},
     "output_type": "execute_result"
    }
   ],
   "source": [
    "qreg_q = QuantumRegister(2, 'q')\n",
    "creg_c = ClassicalRegister(2, 'c')\n",
    "circuit = QuantumCircuit(qreg_q, creg_c)\n",
    "\n",
    "circuit.h(qreg_q[0])\n",
    "circuit.cx(qreg_q[0], qreg_q[1])\n",
    "\n",
    "circuit.draw()"
   ]
  },
  {
   "cell_type": "markdown",
   "metadata": {
    "id": "RS4u-XOdCO6b"
   },
   "source": [
    "Procedemos a realizar un medición y ver que ocurre, en este caso podemos ver claramente como ambos qubits al estar correlacionados han colapsado al mismo estado, para descartar que esto es una \"casualidad\", procedemos a emular multiples veces mediante IBM Quantum Composer."
   ]
  },
  {
   "cell_type": "code",
   "execution_count": null,
   "metadata": {
    "colab": {
     "base_uri": "https://localhost:8080/",
     "height": 385
    },
    "id": "y8AJzKlAB45E",
    "outputId": "647f6bc4-7fa9-46ed-e494-541cfc404dd0"
   },
   "outputs": [
    {
     "name": "stderr",
     "output_type": "stream",
     "text": [
      "/usr/local/lib/python3.7/dist-packages/qiskit/utils/deprecation.py:62: DeprecationWarning: Using a qobj for run() is deprecated as of qiskit-aer 0.9.0 and will be removed no sooner than 3 months from that release date. Transpiled circuits should now be passed directly using `backend.run(circuits, **run_options).\n",
      "  return func(*args, **kwargs)\n"
     ]
    },
    {
     "data": {
      "image/png": "[encoded data removed]",
      "text/plain": [
       "<Figure size 504x360 with 1 Axes>"
      ]
     },
     "execution_count": 31,
     "metadata": {},
     "output_type": "execute_result"
    }
   ],
   "source": [
    "sim = Aer.get_backend('aer_simulator') \n",
    "qobj = assemble(circuit)\n",
    "counts = sim.run(qobj).result().get_counts()\n",
    "plot_histogram(counts)"
   ]
  },
  {
   "cell_type": "markdown",
   "metadata": {
    "id": "n67P3JUiD350"
   },
   "source": [
    "Tal como esperabamos, pese a que tenemos dos qubits y por lo tanto cuatro estados posibles, tal como vimos en el apartado anterior, en este caso solo obtenemos dos estados de los posibles debido a la correlación de los qubits. \n",
    "\n",
    "Demostrando así el funcionamiento del entrelazamiento, ya que cuando unos de los qubits mida un estado, con una probabilidad del 50%, el otro tomará ese mismo estado con una probabilidadl del 100% y de ahi que la probabilidades conjuntas de tomar uno u otro estado sean del 50%."
   ]
  },
  {
   "cell_type": "markdown",
   "metadata": {
    "id": "-f8lxCuDDXWT"
   },
   "source": [
    "![image.png](data:image/png;base64,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)"
   ]
  },
  {
   "cell_type": "markdown",
   "metadata": {
    "id": "CkdwXTPzEpFL"
   },
   "source": [
    "Pero este no es el código que nos pide exactamente en elenuciado, sino una pequeña modificación del circuito de entrelazamiento, ya que nuestro caso se ha añadido una puerta NOT al primer qubit.\n",
    "\n",
    "Esto lo que provocará naturalmente es que el primer qubit tomará el estado opuesto al qubit con el que esta entrelazado, por lo qu ene vez de tomar los estado 00 y 11 respectivamente como en el caso anterior, tomaremos el estado 01 o 10 con una probabilidad del 50% en cada uno."
   ]
  },
  {
   "cell_type": "code",
   "execution_count": null,
   "metadata": {
    "colab": {
     "base_uri": "https://localhost:8080/",
     "height": 122
    },
    "id": "OhEur-Q7Ejb9",
    "outputId": "9d7cbaf5-a4a1-408d-ca2a-be0ccc928da3"
   },
   "outputs": [
    {
     "data": {
      "text/html": [
       "<pre style=\"word-wrap: normal;white-space: pre;background: #fff0;line-height: 1.1;font-family: &quot;Courier New&quot;,Courier,monospace\">     ┌───┐     ┌───┐┌─┐\n",
       "q_0: ┤ H ├──■──┤ X ├┤M├\n",
       "     └───┘┌─┴─┐└┬─┬┘└╥┘\n",
       "q_1: ─────┤ X ├─┤M├──╫─\n",
       "          └───┘ └╥┘  ║ \n",
       "c: 2/════════════╩═══╩═\n",
       "                 1   0 </pre>"
      ],
      "text/plain": [
       "     ┌───┐     ┌───┐┌─┐\n",
       "q_0: ┤ H ├──■──┤ X ├┤M├\n",
       "     └───┘┌─┴─┐└┬─┬┘└╥┘\n",
       "q_1: ─────┤ X ├─┤M├──╫─\n",
       "          └───┘ └╥┘  ║ \n",
       "c: 2/════════════╩═══╩═\n",
       "                 1   0 "
      ]
     },
     "execution_count": 28,
     "metadata": {},
     "output_type": "execute_result"
    }
   ],
   "source": [
    "qreg_q = QuantumRegister(2, 'q')\n",
    "creg_c = ClassicalRegister(2, 'c')\n",
    "circuit = QuantumCircuit(qreg_q, creg_c)\n",
    "\n",
    "circuit.h(qreg_q[0])              #H\n",
    "circuit.cx(qreg_q[0], qreg_q[1])  #XOR\n",
    "circuit.x(qreg_q[0])              #X\n",
    "\n",
    "circuit.measure(qreg_q[0], creg_c[0])\n",
    "circuit.measure(qreg_q[1], creg_c[1])\n",
    "\n",
    "circuit.draw()"
   ]
  },
  {
   "cell_type": "code",
   "execution_count": null,
   "metadata": {
    "colab": {
     "base_uri": "https://localhost:8080/",
     "height": 385
    },
    "id": "7GKr4CY9FfEG",
    "outputId": "5c756828-ad18-4e65-a4a1-f1ea3bbec0ce"
   },
   "outputs": [
    {
     "name": "stderr",
     "output_type": "stream",
     "text": [
      "/usr/local/lib/python3.7/dist-packages/qiskit/utils/deprecation.py:62: DeprecationWarning: Using a qobj for run() is deprecated as of qiskit-aer 0.9.0 and will be removed no sooner than 3 months from that release date. Transpiled circuits should now be passed directly using `backend.run(circuits, **run_options).\n",
      "  return func(*args, **kwargs)\n"
     ]
    },
    {
     "data": {
      "image/png": "[encoded data removed]",
      "text/plain": [
       "<Figure size 504x360 with 1 Axes>"
      ]
     },
     "execution_count": 29,
     "metadata": {},
     "output_type": "execute_result"
    }
   ],
   "source": [
    "sim = Aer.get_backend('aer_simulator') \n",
    "qobj = assemble(circuit)\n",
    "counts = sim.run(qobj).result().get_counts()\n",
    "plot_histogram(counts)"
   ]
  },
  {
   "cell_type": "markdown",
   "metadata": {
    "id": "CVyA2tmv5H8I"
   },
   "source": [
    "![image.png](data:image/png;base64,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)"
   ]
  },
  {
   "cell_type": "markdown",
   "metadata": {
    "id": "BxWTS5bvR5b5"
   },
   "source": [
    "## Generación de números aleatorios (4bits)\n",
    "\n",
    "Conociendo que las puertas H nos dan con una probabilidad del 50% con cada qubit un generador de números aleatorios sería tan simple como aplicar una puerta H sobre tantos qubits como terminos queramos que tenga el número, recordemos que generaremos números en una base binaria."
   ]
  },
  {
   "cell_type": "code",
   "execution_count": null,
   "metadata": {
    "colab": {
     "base_uri": "https://localhost:8080/",
     "height": 182
    },
    "id": "k5DgrnDkHMED",
    "outputId": "eff015cc-f846-49e6-ea8a-be21ac1866ee"
   },
   "outputs": [
    {
     "data": {
      "text/html": [
       "<pre style=\"word-wrap: normal;white-space: pre;background: #fff0;line-height: 1.1;font-family: &quot;Courier New&quot;,Courier,monospace\">     ┌───┐\n",
       "q_0: ┤ H ├\n",
       "     ├───┤\n",
       "q_1: ┤ H ├\n",
       "     ├───┤\n",
       "q_2: ┤ H ├\n",
       "     ├───┤\n",
       "q_3: ┤ H ├\n",
       "     └───┘\n",
       "c: 4/═════\n",
       "          </pre>"
      ],
      "text/plain": [
       "     ┌───┐\n",
       "q_0: ┤ H ├\n",
       "     ├───┤\n",
       "q_1: ┤ H ├\n",
       "     ├───┤\n",
       "q_2: ┤ H ├\n",
       "     ├───┤\n",
       "q_3: ┤ H ├\n",
       "     └───┘\n",
       "c: 4/═════\n",
       "          "
      ]
     },
     "execution_count": 34,
     "metadata": {},
     "output_type": "execute_result"
    }
   ],
   "source": [
    "qreg_q = QuantumRegister(4, 'q')\n",
    "creg_c = ClassicalRegister(4, 'c')\n",
    "circuit = QuantumCircuit(qreg_q, creg_c)\n",
    "\n",
    "circuit.h(qreg_q[0])\n",
    "circuit.h(qreg_q[1])\n",
    "circuit.h(qreg_q[2])\n",
    "circuit.h(qreg_q[3])\n",
    "\n",
    "circuit.draw()"
   ]
  },
  {
   "cell_type": "code",
   "execution_count": null,
   "metadata": {
    "colab": {
     "base_uri": "https://localhost:8080/",
     "height": 401
    },
    "id": "FECdr48AHlNb",
    "outputId": "54d7a1ae-7dc4-40cf-e8fc-307e6a80033c"
   },
   "outputs": [
    {
     "name": "stderr",
     "output_type": "stream",
     "text": [
      "/usr/local/lib/python3.7/dist-packages/qiskit/utils/deprecation.py:62: DeprecationWarning: Using a qobj for run() is deprecated as of qiskit-aer 0.9.0 and will be removed no sooner than 3 months from that release date. Transpiled circuits should now be passed directly using `backend.run(circuits, **run_options).\n",
      "  return func(*args, **kwargs)\n"
     ]
    },
    {
     "data": {
      "image/png": "[encoded data removed]",
      "text/plain": [
       "<Figure size 504x360 with 1 Axes>"
      ]
     },
     "execution_count": 35,
     "metadata": {},
     "output_type": "execute_result"
    }
   ],
   "source": [
    "sim = Aer.get_backend('aer_simulator') \n",
    "qobj = assemble(circuit)\n",
    "counts = sim.run(qobj).result().get_counts()\n",
    "plot_histogram(counts)"
   ]
  },
  {
   "cell_type": "markdown",
   "metadata": {
    "id": "kESrq8dMHyUx"
   },
   "source": [
    "Como viene siendo habitual al realizar una única medición colpasaremos a uno de los números aleatorios de los 16 estados disponibles, si volvemos aplicar las leyes de los grandes números acabamos por obtener la siguiente distribución uniforme."
   ]
  },
  {
   "cell_type": "markdown",
   "metadata": {
    "id": "c-buKcCPHrUR"
   },
   "source": [
    "![image.png](data:image/png;base64,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)"
   ]
  },
  {
   "cell_type": "markdown",
   "metadata": {
    "id": "tP-OMKNcHxDx"
   },
   "source": [
    "Este aún así no es el único circuito que hay para generar números aleatorios, ya que podríamos elaborar este segundo circuito basado en entrelazamiento y obtner un generador de números aleatorios."
   ]
  },
  {
   "cell_type": "code",
   "execution_count": null,
   "metadata": {
    "colab": {
     "base_uri": "https://localhost:8080/",
     "height": 182
    },
    "id": "ZU91iPn_OBxr",
    "outputId": "f4890af1-d713-499c-c98d-6f21cf696ecb"
   },
   "outputs": [
    {
     "data": {
      "text/html": [
       "<pre style=\"word-wrap: normal;white-space: pre;background: #fff0;line-height: 1.1;font-family: &quot;Courier New&quot;,Courier,monospace\">     ┌───┐          ┌─┐                        \n",
       "q_0: ┤ H ├──■───────┤M├────────────────────────\n",
       "     ├───┤  │       └╥┘     ┌─┐                \n",
       "q_1: ┤ H ├──┼────■───╫──────┤M├────────────────\n",
       "     ├───┤  │    │   ║      └╥┘     ┌─┐        \n",
       "q_2: ┤ H ├──┼────┼───╫───■───╫──────┤M├────────\n",
       "     └───┘┌─┴─┐┌─┴─┐ ║ ┌─┴─┐ ║ ┌───┐└╥┘┌───┐┌─┐\n",
       "q_3: ─────┤ X ├┤ X ├─╫─┤ X ├─╫─┤ H ├─╫─┤ X ├┤M├\n",
       "          └───┘└───┘ ║ └───┘ ║ └───┘ ║ └───┘└╥┘\n",
       "c: 4/════════════════╩═══════╩═══════╩═══════╩═\n",
       "                     0       1       2       3 </pre>"
      ],
      "text/plain": [
       "     ┌───┐          ┌─┐                        \n",
       "q_0: ┤ H ├──■───────┤M├────────────────────────\n",
       "     ├───┤  │       └╥┘     ┌─┐                \n",
       "q_1: ┤ H ├──┼────■───╫──────┤M├────────────────\n",
       "     ├───┤  │    │   ║      └╥┘     ┌─┐        \n",
       "q_2: ┤ H ├──┼────┼───╫───■───╫──────┤M├────────\n",
       "     └───┘┌─┴─┐┌─┴─┐ ║ ┌─┴─┐ ║ ┌───┐└╥┘┌───┐┌─┐\n",
       "q_3: ─────┤ X ├┤ X ├─╫─┤ X ├─╫─┤ H ├─╫─┤ X ├┤M├\n",
       "          └───┘└───┘ ║ └───┘ ║ └───┘ ║ └───┘└╥┘\n",
       "c: 4/════════════════╩═══════╩═══════╩═══════╩═\n",
       "                     0       1       2       3 "
      ]
     },
     "execution_count": 32,
     "metadata": {},
     "output_type": "execute_result"
    }
   ],
   "source": [
    "qreg_q = QuantumRegister(4, 'q')\n",
    "creg_c = ClassicalRegister(4, 'c')\n",
    "circuit = QuantumCircuit(qreg_q, creg_c)\n",
    "\n",
    "circuit.h(qreg_q[0])\n",
    "circuit.cx(qreg_q[0], qreg_q[3])\n",
    "circuit.h(qreg_q[1])\n",
    "circuit.cx(qreg_q[1], qreg_q[3])\n",
    "circuit.h(qreg_q[2])\n",
    "circuit.cx(qreg_q[2], qreg_q[3])\n",
    "circuit.h(qreg_q[3])\n",
    "circuit.x(qreg_q[3])\n",
    "\n",
    "circuit.measure(qreg_q[0], creg_c[0])\n",
    "circuit.measure(qreg_q[1], creg_c[1])\n",
    "circuit.measure(qreg_q[2], creg_c[2])\n",
    "circuit.measure(qreg_q[3], creg_c[3])\n",
    "\n",
    "circuit.draw()"
   ]
  },
  {
   "cell_type": "code",
   "execution_count": null,
   "metadata": {
    "colab": {
     "base_uri": "https://localhost:8080/",
     "height": 402
    },
    "id": "1vwNhsLEOE9i",
    "outputId": "2a9b8f9e-318c-41f1-ce91-3c0f87ba56b1"
   },
   "outputs": [
    {
     "name": "stderr",
     "output_type": "stream",
     "text": [
      "/usr/local/lib/python3.7/dist-packages/qiskit/utils/deprecation.py:62: DeprecationWarning: Using a qobj for run() is deprecated as of qiskit-aer 0.9.0 and will be removed no sooner than 3 months from that release date. Transpiled circuits should now be passed directly using `backend.run(circuits, **run_options).\n",
      "  return func(*args, **kwargs)\n"
     ]
    },
    {
     "data": {
      "image/png": "[encoded data removed]",
      "text/plain": [
       "<Figure size 504x360 with 1 Axes>"
      ]
     },
     "execution_count": 33,
     "metadata": {},
     "output_type": "execute_result"
    }
   ],
   "source": [
    "sim = Aer.get_backend('aer_simulator') \n",
    "qobj = assemble(circuit)\n",
    "counts = sim.run(qobj).result().get_counts()\n",
    "plot_histogram(counts)"
   ]
  },
  {
   "cell_type": "markdown",
   "metadata": {
    "id": "pzC-RvhCGTei"
   },
   "source": [
    "En este caso al colapasar no obtenemso una distribución uniforme(pseudoaleatoria) de los 16 estados disponibles, si volvemos aplicar las leyes de los grandes números acabamos por obtener la siguiente distribución uniforme.\n",
    " "
   ]
  },
  {
   "cell_type": "markdown",
   "metadata": {
    "id": "TXWBDqeCGLVT"
   },
   "source": [
    "![generador_aleatorio.PNG](data:image/png;base64,iVBORw0KGgoAAAANSUhEUgAAAiYAAAGcCAYAAADtd2vIAAAAAXNSR0IArs4c6QAAAARnQU1BAACxjwv8YQUAAAAJcEhZcwAADsMAAA7DAcdvqGQAAC+oSURBVHhe7d3vcxxXvefx/WsslKzQDcIIxmWVwCJKoss4CjgWKLGtSQQKsVFpgrJRkOUhkZWs0Ny9tXe917tPtrYqYG/to91HS5VrudReTH4QoCpQW0XVJSQBAtxn3LBPv3u+PXNmunvOSFaf0z2t0fvBq2amT3dPT6u7z6e7z2n9qxMnTggAAMCgnDx5MqLvCSYAAGCgCCYAAKA0CCYAAKA0CCYAAKA0CCYAAKA0CCYAAKA0CCYAAKA0CCYAAKA0CCYAAKA0CCYAAKA0CCYAAKA0CCYAAKA0CCYAAORsb28v8sMf/lB+9atfyfe+9z355je/6Ry3zF588cWIqywUggkAADn58pe/HAURpcFEw4jSYGJDio7jmrZszp07Jx999FFE37vGCSFoMHntF60FTvjwB/KyY9x795q889GH8oNvu8ruxUHTa/lH8uE/vNz6/N13Esv88j98aH7HO/JaZ/xe0e/2/p0AgGGiQcQGEle50jKtK/cbpyw0LPzyl7+M2OCQh+DBpFPBx4Z99IvXEsMOJ+9gkpIKJr10fvsHFQDA8aZXQTRwTE9PJ4brlRIVH6bj6LhH5cpJ3nIPJgdX9AchmAAAjpZ+t2j0Nk6/4TpNevhxVEwwsRV5u9L/gV5FMenwne/a8bSyb9/6MZLzaAeL7/5APuyMkwoG0Xd0p+/OVx00/cvygw9j06SDSfzzt+PzMNpXgqLbPYmrQq15psezoqtInfnkE3L0smA6qcdp2VFseAUAZafHVm0/4irbj07DcbnoWzntANEbHJLDkvNph5ZYWIiCQCIsxCr36HP8CskB0x8mmER0fskwkQwmrfnF10Pi97jmnwouIdh7m65wosPYAQAgH67bNUqPy/sde7W87G1NHn744YirLJTgwaR7JaBt30q+z7BE2Ghf8UjcinENs1JB48DpAwcTXfb9fo/OLzV9XlzhhFACAPnS467rGKu3cPT42y982HJXWRloILF1e57hJPcrJgmOENJ7G8S4p2DSDROuQHRwMLHjBA4mUfDoXZ54GInG7wzvF7DCiIcTQgkA5E+Ps/0asuqVlH7BRI/NBJMSBBPnsMNcMemZvoRXTPbj+v2B2XBCKAGA/Okxt1/42C+Y9LsFVCYaSPIMJWrwwSSq6ONBIj2fVnl8vlEQsPNJzzMKNelgss/0oYNJTzBKlkdXd/adfz50RyCUAED+9rsls18w4eSxpQTBRLXCg71ElJyHln0o7/zCVO6dcZLBIKrsbZmZ/2saBFJXXPpPnwoS7WDTWc6eZW6Nr/Oxy5kMJslx7DK9/O2XO/NILG/qtwAAjja9bZ5uZ6LDNJTocKXvdZgt13F1uP18nAUNJgAAoPsoehs+9NXe4rHiZXqi2q9dynFDMAEAIAcaPjSc6KurXOmVEg0l+41TFhoWjtwj6QEAQJdeDYnfvtEgomxoUUflSsmR/Cd+AAAgScOJhhENJtrA1V5FOQpXSdJefPHFiKssFIIJAAAoDYIJAAAoDYIJAAAoDYIJAAAoDYIJAAAoDYIJAAAoDYIJAAAoDYIJAAAoDYIJAAAoDYIJAAAoDYIJAAAoDYIJAAAoDYIJAAAoDYIJAAAoDYIJAAAoDYIJAAAoDYIJAAAoDYIJAAAoDYIJAAAoDYIJAAAoDYIJAAAoDYIJAAAoDYIJAAAoDYIJAAAoDYIJAAAoDYIJAAAoDYIJAAAoDYIJAAAoDYIJAAAoDYIJAAAoDYIJAAAoDYIJAAAojSEPJhWpNZrSbDakdqpfWdtaNVl+tt4tc04PAABCG+JgUpW6CRWNpaoJIL3BorLUiIWRVkipn7XlOm1sGg0pjZpU2tMCAIB8DG0w0eDRWKqY9xo60sHEMUzDhw0q8ff9xgcAAMEN8RUTyxUqUldE1KmaNNpXRZJXU1qqa/ErKgAAIA8EEzssQDD52Mc+JisrKzIzMwMAwJHgqs8G6ZgGk3xu5Wgw+c53vuMsAwAABzumwSSfxq8EEwAA/AxvMNFbM53uvl3x2zF6e6ZTlrp1k5z+4KslimACAICfY3DFpDgEEwAA/BBMAiKYAADgh2ASEMEEAAA/BJOACCYAAPghmAREMAEAwA/BJCCCCQAAfggmARFMAADwQzAJiGACAIAfgklABBMAAPwQTAIimAAA4IdgEhDBBAAAPwSTgAgmAAD4IZgERDABAMAPwSQgggkAAH4IJgERTAAA8EMwCYhgAgCAH4JJQAQTAAD8EEwCIpgAAOCHYBIQwQQAAD8Ek4AIJgAA+CGYBEQwAQDAD8EkIIIJAAB+CCYBEUwAAPBDMAmIYAIAgB+CSUAEEwAA/BBMAiKYAADgh2ASEMEEAAA/BJOACCYAAPghmAREMAEAwA/BJCCCCQAAfggmARFMAADwQzAJiGACAIAfgklABBMAAPwQTAIimAAA4IdgEhDBBAAAPwSTgAgmAAD4IZgERDABAMAPwSQgggkAAH4IJgERTAAA8EMwCYhgAgCAH4JJQAQTAAD8EEwCIpgAAODnGAeTqtSbTWlajZpU4uVn692yZkNqp2JlfRBMAADwc2yDSXWtKY2lSp/PGlpiYURDSjq4OBBMAADwc2yDSWWp0T+YaBBZq3bKTpyoSK1x8FUTggkAAH6ObTBRGk7s7Zr62dTwRDBpBZf4OC4EEwAA/BzbYLLfrRyfYLK3tydnzpwBAOBIcNVng3RMg0mqDYk6VZOGbUfieStnZGQEAIAjwVWfDdIxDSYaNJJXTJJXSWj8CgDAIBzTYKIO6C6sV1A65QdfLVEEEwAA/BzjYBIewQQAAD8Ek4AIJgAA+CGYBEQwAQDAD8EkIIIJAAB+CCYBEUwAAPBDMAmIYAIAgB+CSUAEEwAA/BBMAiKYAADgh2ASEMEEAAA/BJOACCYAAPghmAREMAEAwA/BJCCCCQAAfggmARFMAADwQzAJiGACAIAfgklABBMAAPwQTAIimAAA4IdgEhDBBAAAPwSTgAgmAAD4IZgERDABAMAPwSQgggkAAH4IJgERTAAA8EMwCYhgAgCAH4JJQAQTAAD8EEwCIpgAAOCHYBIQwQQAAD8Ek4AIJgAA+CGYBEQwAQDAD8EkIIIJAAB+CCYBEUwAAPBDMAmIYAIAgJ9cg8nW7bty927aHbl5yT3+UUcwAQDATy7B5OKNO1EIuXXNVX5Rbn5fA8ot2eopO9oIJgAA+AkfTC7dlFs3LrrLErbk1u0tx/Cji2ACAICfXK6YHFcEEwAA/BQTTC7dlDvxdiZDdqXEIpgAAOAnp2CyJTdjt3Mu3riVaPC6dXv42pcoggkAAH5yu2ISNYD9/k25qJ+v3epeJdGrJ3b4kCGYAADgJ7dgEmnfwol652g40ds4QxpKFMEEAAA/+QaTtuh5JkPariSOYAIAgJ/8r5jYQBJdMRnOtiUWwQQAAD85BZP2Q9T0tk37Fk7rYWtbcqvzfvgQTAAA8JNTMEk9PC310DV65QAAAJecgkn6/+SU9//jVNea0mw2pbFUSZadrUfDWxpSOxUr64NgAgCAn9yCyVFQWWpIc63qKKtKPR5GNKQ0alLpGS+JYAIAgJ/jG0xO1aTRL2xoEEkElorUGgdfNSGYAADgJ3wwSbUn6W+w/8RPb+HUl0w4sbdrYiHFdSUlGv9s97MLwQQAAD+5XDGJnvq6T7uSVvuTQTaA1SsgyTCiwcO2M/EJJnt7e3LmzBkAAI4EV302SLkEk5Z2l+FOA9iuwXcXdtyaid++8byVo68AABwFrvpskHIMJuWmV0XiPXHiV0xo/AoAwGAc22DSuZ1j25ikbt1EjWNtGd2FAQAoxDEOJuERTAAA8EMwCYhgAgCAn5yDyWC7BBeNYAIAgJ/8r5i0/4lfOXrj5ItgAgCAn/yDSUzn/+fofx12lB91BBMAAPwMJphYQxZQCCYAAPjJP5hcuil32kEkeStHH8A2yKe/hkcwAQDAT87BZEtuDeltGxeCCQAAfvK/YnKMEEwAAPDDFZOACCYAAPgZQDAZvrYlFsEEAAA/uQWTnh44cUP60DWCCQAAfgZwxWR4EUwAAPCTczA5XggmAAD4ySGYbMmtu/aZJa33vbdzaGMCAAB6ccUkIIIJAAB+CCYBEUwAAPAzgGBCd2EAAOCWQzDp164kjmACAAB6DeCKyfAimAAA4IdgEhDBBAAAPzkEE7oLu8oAAMDBuGISEMEEAAA/BJOACCYAAPjJP5hcu9VzK6d1m2f4EEwAAPCTczDRNibp9iSuYcOBYAIAgJ/8g0nPfxfmAWsAAMAt52ByQi7euCU3L8WGXbopt25cTIwzLAgmAAD4ySGY9OsiHMcVEwAA0Cv3KybHCcEEAAA/BJOACCYAAPgZQDCh8SsAAHDLPZhcvHGnt43J7S3nuEcdwQQAAD85B5PuM0s0oHT+fw7BBAAAOOQfTNrPMekGE27lAAAAt5yDyQnZun2n9RwTfTS9Xim5dFPu9Dx0bTgQTAAA8JN7MImukNxo3bpptTcZzqslimACAICfAoLJ8UEwAQDAT/7BhP8uDAAA7lHOwaTbK2f/YcOBYAIAgJ/8gwn/XRgAANyjnIMJ/10YAADcuxyCid6qSbYp6VWmKyZVqTeb0mzUpBIffrYuTR0eaUjtVKysD4IJAAB+cr9iUm4VqTWaUl+qSSMRTDSsxMKIhpR0cHEgmAAA4OdYB5PKUkMaSxU5cSoVTDSIrFVj42qAOfiqCcEEAAA/+QcTfdJr4jZO+0mwrnGLFA8jqWCigSUZTE5Ida0p9bPdzy4EEwAA/OQcTLQHTiqIlOKR9KkrIAGDyd7ennzuc58DAOBIcNVng5RzMClpd2ENIp2GrXF1qWq5560cfQUA4Chw1WeDdEyvmKSk25jQ+BUAgIHIOZgYZW1jEtcTTNrDOldSDr5aoggmAAD4yT+YHCMEEwAA/BBMAiKYAADgJ+dgMrz/sM+FYAIAgJ/cr5hs3S5hm5KcEEwAAPBTwBWTeMNXi/8uDAAAeuV+xeQ4IZgAAOAn12CydVuvjnArBwAA3Jucgok+WM2Ekttb5n3rds6ta67xhgvBBAAAPzkFk9Sj6K/dkjs3LqbGGT4EEwAA/BBMAiKYAADgh2ASEMEEAAA/+QWTni7CcXQXBgAAvXIKJscTwQQAAD8Ek4AIJgAA+CGYBEQwAQDAD8EkIIIJAAB+CCYBEUwAAPBDMAmIYAIAgB+CSUAEEwAA/BBMAiKYAADgh2ASEMEEAAA/BJOACCYAAPghmAREMAEAwA/BJCCCCQAAfggmARFMAADwQzAJiGACAIAfgklABBMAAPwQTAIimAAA4IdgEhDBBAAAPwSTgAgmAAD4IZgERDABAMAPwSQgggkAAH4IJgERTAAA8EMwCYhgAgCAH4JJQAQTAAD8EEwCIpgAAOCHYBIQwQQAAD8Ek4AIJgAA+CGYBEQwAQDAD8EkIIIJAAB+CCYBEUwAAPBDMAmIYAIAgJ9jHEwqUms0pdlsaSxVkuVn652yZrMhtVOxsj4IJgAA+Dm2waS6Fg8jVambAFI/a8v1cyyMaEhp1KTSnrYfggkAAH6OaTCpSCV1BUSDSieYaBBZq8bK9erKwVdNCCYAAPg5tldMkpJXSCpLjVQwSQWXPggmAAD4IZi0b+PE25j4BJO9vT357Gc/CwDAkeCqzwbpeAeTUzVpJNqWtHneyhkdHQUA4Ehw1WeDdHyDSdTrpi5VVxmNXwEAGIhjGkySXYU74ldJ2ldT6C4MAEBxju8VkxwQTAAA8EMwCYhgAgCAH4JJQAQTAAD8EEwCIpgAAOCHYBIQwQQAAD8Ek4AIJgAA+CGYBEQwAQDAD8EkIIIJAAB+CCYBEUwAAPBDMAmIYAIAgB+CSUAEEwAA/BBMAiKYAADgh2ASEMEEAAA/BJOACCYAAPghmAREMAEAwA/BJCCCCQAAfggmARFMAADwQzAJiGACAIAfgklABBMAAPwQTAIimAAA4IdgEhDBBAAAPwSTgAgmAAD4IZgERDABAMAPwSQgggkAAH4IJgERTAAA8EMwCYhgAgCAH4JJQAQTAAD8EEwCIpgAAOCHYBIQwQQAAD8Ek4AIJgAA+CGYBHRQMBk5eVr+9bP/Poj7Fr7p/A7LNU1Wrvlb9z2+5pwmi5HJzzq/w3JNk5Vr/pZr/Kxc87c+9tl55zRZ3PfXS87vsFzTZOWav3V/bds5TRYj9405v0ONfPwTzmmyuP9iw/kdlmuarFzzt+6rLjunyeJjU3/t/A7LNU1WrvlbrvGzcs3fGql83jlNFvd98bLzOyzXNFm55m/dt7jhnCaLkU98xvkdZUUwCehegsnE/5AgDgom49/5P87pDuuvmj92zt/SYOKaLouDgskn/vv/c053WGOX/845f+vj/+Y153SH9cB//b1z/pYGE9d0WRwUTB74+//rnO6wPt74n875WxpMXNNlcVAwcU2TxUHBZHz7fzmnO6wHbrzjnL+lwcQ1XRYHBZMHXvtn53SHNfbN/+KcvzW2etM53WF94r/92Tl/S4OJa7osDgomf/W3bzmnO6zxV/63c/6WBhPXdFkQTI4xgokfgkl2BJPsCCbZEUyyI5j0RzAJiGDih2CSHcEkO4JJdgST7Agm/RFMAiKY+CGYZEcwyY5gkh3BJDuCSX8Ek4AIJn4IJtkRTLIjmGRHMMmOYNIfwSQggokfgkl2BJPsCCbZEUyyI5j0RzAJiGDih2CSHcEkO4JJdgST7Agm/RFMAiKY+CGYZEcwyY5gkh3BJDuCSX8Ek4AIJn4IJtkRTLIjmGRHMMmOYNIfwSQggokfgkl2BJPsCCbZEUyyI5j0RzAJiGDih2CSHcEkO4JJdgST7Agm/RFM+jlbl2az2daQ2inHOCkEEz8Ek+wIJtkRTLIjmGRHMOmPYOJUlXo8jGhIadSk0jNeEsHED8EkO4JJdgST7Agm2RFM+iOYuGgQWavGhlWk1jj4qgnBxA/BJDuCSXYEk+wIJtkRTPojmDhUlhqpYHJCqmtNqZ9NjpdGMPFDMMmOYJIdwSQ7gkl2BJP+CCYOPsGk0WjIyy+/7PTiq38rG//2P+xrc+/vZetv/pOzLM31HZZr/LRr/+4/O4enueZvucZP09+jv8tVlvR3zu+w3NN0vbh7o7DfVNT36Hq72rzpLEtzfYflGj+tyHX3re/8R2dZ3Le3X3F+h7q2s+ucJk6/Y9i2h3vfl/y+q+h9Sb/PVRbnmr/lGj/tOB9bN1/5G+d3WF/+8pedddqgEExcMt7KUZOTk17Onz8vV65ccZaFtre3J5/+9KedZSFdvnxZFhYWnGUhPfLII/Liiy86y0K7du2azMzMOMtCunDhgiwvLzvLQpqampKdnR1nWWjPPfeczM/PO8tCeuyxx6RerzvLQnvllVfk9OnTzrKQvva1r8mTTz7pLAvpwQcflK2tLWdZaN/61rfk4YcfdpaF9JWvfEW+/vWvO8tC+sxnPhNdOXeVhfaNb3xDHn/8cWfZYXzyk5901meDQjBxytb4NYQvfOEL8tWvftVZFpoGk5GREWdZSFqxVqvJK1B50Irh+eefd5aFdvXq1c6Ok6dz585FFZGrLKTx8XHZ3t52loWmB9PPf/7zzrKQZmdno1DsKgtNQ93YWP9bT6FcvHhRvvSlLznLQtITFg0MrrLQXnjhBTl16pSzLKRHH31UnnrqKWdZSKOjo7K7u+ssC21lZUXm5uacZUcZwaSfUzVpHLK7cAgEk+wIJtkRTPwQTLIjmGRHMEEhCCbZEUyyI5j4IZhkRzDJjmCCQhBMsiOYZEcw8UMwyY5gkh3BBIXQRkhFNUTS7ykimBT1m4ped8P0mzSYsO6y0+8pIpgM67obpt+kwWTY1l3RCCYAAKA0CCYAAKA0CCYAAKA0CCYAAKA0CCZlMTImUw/Ny/xjszL1QP6N6Apx/4TMVM1vqs5IZXzUPc4RM3pyRqqPzUv1TEXG73ePc9SMnZ412928zE6Ny9iIe5wjhX3pSBjGfWkYf9MgEExKoSIXtnal8fyqrF5Zl81Xm9LcXpflakVGneN7OD0n1UoBB7axOVm9viOba+Y3rW3I9m5TdrdWZWF6wj2+h8kHqzI94S4LaWxuVXaub0r9yqrUN7Zld8/8za4s5PDdk6YSmpaJAkJC5cmG7DbWzXa3KutXd6W5ty3rT1elEvqgOjIlc3lszz3Yl3ywL2VX2G8qbF8aHIJJGZyty87leF/0UZk4syCrjabsvLAoU8F2qjE5t74ru+bAtrO54jywjZ+cCLLB6z9C3HxisjtMz2Kry7JxvSnbz87JeGxcP9Oy/JL5TXtNaazVHBXFmEycDHHWrP8vaVMWPxUbNjYl1ac3ZMdU5pcfGY+N62l62VQ+GhIaUl9yhISxCZkYSw3LYqQq9Z3LMhfbvvSMb+FKQ5o7G7J4Ojaup7EvrkfPdmiaA/fKeUdFMW5+U4gwxL7kgX0pu+J+U2H70gARTEpg0py1bj815SgblemnGrJzZU7Gesqy0IPptiw/2DqwrW+bs8lGXRYfah9AR2bl8vV1OTeenu7w5q40pf6oo2xkQubXdqTxZKW3LBNzMDVnxOcmJmTm/Ko02hXF/On2AfRTi7L50rJMe1dI5qx1ry7zrvlMzEv9ekMuhPq3BXowff6cqQRaIWF3z5wtPzMvU+0D6OTipmwvT/dOd1iTF6TxUk2mHGWj0zVpXF+VuSAH7dbBdHt5RsZOV2XZbINRRfHEbOcAOvvsjqw/7n/wZl/ywb6UXXG/qah9aZAIJmVwylQQehCbdJSNmI16z1QQ6eEZRRv103ZHNGeTDy1K3ZxNRun7ikn3ibPN7KLLmlvLMuM6MJ+uyfbWBZlMD89o+ultWf9i++CpZ5OPrcimOZvUimLF7LiJs83MxkwFYSoBc0BwnaFOPbVtKogQ36P0zNVsDzYUmDOv+Wc2zZmXnsmumEowdWaWmd720IOYe7nnn2vK6lzv8EzGzsm6Vmrtz6MnZ2VxrWEOqlpRrMpG6spNZuxLXtiXsirwNxW1Lw0QwaQkxh9cls1dxz3Jz5nEv7koE7FxvYzNy8ozvZd/x05fkM1mqJ20ZfLxuuzs9rZZGH98XXaenU2M62V6UVYX02fJpqI4aw7orwbcSUcm5dxzO7Lb02ZhXM49vyOXH4qN62n6iVVZnEoNv39CqubgtxuowouMz8jy1d3eNgsjevZstodg98fHZF4fn/1AaripKC5sNgNVeC3sSx7Yl7Ir7DcVty8NCsGkTO6vmDS/Idsmze9eXW83dGtILeC9/r4euSzba9VAl7ljJlppXhuCbW/UZfV58/56XaoBLnEfZPKJTWkshbrM3TUxa86Mt3alaSqKjbVVWTfvd8y6c50phTUpi1fz+E/Xo1IxZ8Ybejvi1U1Zv1I3703FvuS6JRLYyJxc3jbbQ6BbRh3sS0GxL927gf2mvPalASCYDNBopSq1Z1Zl9ZmaLDw01e2qOTIm4xNTMmuGjYfYyEYmZPr8ctTzYvmJqsycTDdqM4l+vSHL0/Fhgd0/LhOVGZktrBvdjDnjr3cv4WZmKu1qTVbMultZWpBZe7/dGB2fkMqZWZmpjMfOjrLruz1YZ8wZ/3Pnwld4MWMPTMjUQ8V1sx3/4ro0OrdDPExMy8LT2hNnWRarM93Gf+xLAbAvZRH6Nx0k2L5UAgSTQdGGZNc3ZPn8vMyfr8nq5k63EVOoy6Vt2hhq+8pi9KyKxafNxmvOIqNGbYG7Oo7NmYPOY46DQHCmEnpmUWZ7KoXwtHHczgvLsmDW3cLSaud+++Js4K6aBW4P0+dXuo00c1TY9hA1NN2W1Sf02SWLsvy8vd8+H7zbc1H7knYRrsUaaeaHfcnH0O1LJUEwGZDpZW10mDwr1UZMtRd2ZPfqhXDdGrWh1PVuQ6lI1KhNW93vyOrZUK23J2TRHAAaV81BYDfZStyqPBTo+RgPXZadxmZUKWxvxHoNWObseS7IMx6mZVkbUiYqB23kWJON67uy+WS4Wx2FbQ8ntBJvyKY20tzecBzsJmR6LsRzH4rbHsa0nUW6Z4U2ctReGNdXw93qKGxfOiETWolvaSPNXWmsOYLDqdkwz1BhX/IwfPtSWRBMBmT22d2encea0m6Nz8w4yw5tQs8eUgdTa3xe6jsbshCogePc5e2ogVe3lXirsV501qcH9VCtxfWMSBsxxnoNRI03z7TOXLRnQZgGYObA82r6YNo2MiW1xo6sPOgoy6Cw7SG6t95q1Dp2el5W9GzSHOxWz7dvf2j3yquLQXp5FLU9RJV4ny6f44/WzVn6QpgGrwXuS1E7FW3Uev+EzD5RbwWH9WWpRsFBuyrvyOVHHNMdFvuSh+Hbl8qCYDIop/U5ERuyOO046zllyoJ1ARyX6tpO9CAmV3KvrgXsEmoPpvaz3vePnh1gzvoa27Gulb66B4TWZ7133X6WxHZDtnf6HAAzmFoyB7IXFmXacTaiD74K1gWwsO2h1ZBxc7F7Fqz341vPQ9iWxkvmbNN2F/VV1PYwXpX6dXPgnnOd2ZuyYF2EC9yXooaMl2W281nbtrSeLbK7Zbbx7T4B6dDYl3wM3b5UEgSTARqdXoye3ph4iJGhqT7ohmYOanPPaMpOXQaMzvLCHXhOjMzI/ONTvQ3KNNHvBfweY/KRBZk92Tt8ejn0Tjoq00/o0xuTD2ZqneVtB23kWNj28Kk5WXjIUYlrd9pgFZ5R4PZwYmJOVvSSevwhZ0Z0xWQ9YCPHovYlY+bRc442JmNy7vlmuArPYF/yMIz7UgkQTAYtOhNqd9Xc3ZEd/d8eQe+DdkUt1aPuhuas6/qOeQ17X7wffdZCmKcrHkCfvaEPU8qj+6Seodjupzu67ppB74t3FLg9pGlFVMQTI/PbHlq9PqKumuZMcmfHvIZsYxIzqH3pxLipiII8ffUA7Etejv6+NFgEk4Lt241NuzaGSr6687u6T7aNjofqwta/C2DLuDnDXJWFAA+b2nfdqalFWX8q4MOm+hkr6L/whtweDjQli+s1mc39dxW1PYzKeKj/wluafclURHMrsnre/5YH+1Kejt6+VDYEkyIV1Y2twO6TdAHMbhi7Vxe17tiXPAzhvjSM3auPWxfhOIJJgYrqxlZY90m6AHoYxu7VRa079iUfw7cvDWP36uPXRTiOYFKgorqxFdZ9ki6AXoave3Vx6459Kbth3JeGr3v18esiHEcwKVJR3dgK6z5pDmR0AcxuCLtXF7bu2JeyG8Z9aQi7Vx+3LsJxBJOCFdaNrajuk2bHpAtgRsPYvbqodWewL2U3dPuSMXTdq49ZF+E4gskgFNaNrbjuk1GapwtgEEPRvTolt3XHvpTdMdiXhqJ7dcqwdhGOI5jkbWSy9e/Xr+9E/6p82d5f7ZSH68Y2/uCi1K+aA8z1TVl/pta+v2rLA3afHJ+RxbVN8z3mzO75FalVU43aAnYBnHzUHDhfMr/ppQ2pP72Q/G+uha07FagL4EHbQ8AugPuuOxWqS+hB20NR3ScL6xIacF86CN1pvYTqXn2gorpXD3EX4TiCSc70zKCxPCuVCf0X2POd+6vrSzMy7hg/Mz0zuL4uC1MTMqH/5v0Je391VeYnHeNnNi7nnt+R9fNT5nv0X+QvyqqeRWqjtkcDHwD0cu/WssxWzG+qzMj80+ZMIWrUVpOZkGcmha27AreHotZdgdvD5OKGNK4syHTn/n5ORuZkZWtdlquV3Lu56lNktUFjxdGuJKhPLcqGNtIM0mNkHwWuu8K2h6LWnVHY9lByBJNcaUv7usynzwwmWl3zdtaqwSoj7T2w/VT6cu+oVKL/fNqQ2un4cA/6j8xeqslUavhoZV5WG7vSWAp3yVl7D9QfTQ0fmZDZpQ1zdl4Pdhm9sHVX4PZQ1LorbnuYlAtb21J/1gas5Z7un7OXVmQuRCU1tyq7L1zuBqzzqS6tp87JshnmX/HOyeqrG3LZNmjsqWQrcu5pMyxAJTX5ZEO21y63G2k6gsNDF2TF2cD3kApbd8VtD4WtuwK3h7IjmORKn02wKYvOy256ptmU+llX2eHp8xZ2L885y6Kz50ZNKq6yw9KGV6/26aam91m3TUV+ylGWgT5voV/XO73P2jQVuavssApbdwVuD0Wtu2K3B1MR6fqJ2ka0rmpp483oTFa7cYZqTKm/qf037/YiaUh9qXUmO3c5VG8SbZjZXj/3V6TavqrVWKu1KtlHLodrXKvbcftvPjG90AoOZltciYKD9jQJ1Li2sHVX4PZQ1LorcnsoOYJJzsbP1qMz1IWeNgvaAn470ZXOi7bcNzvM5tO9D+I5MTIvdVN5dLrSedJujbtXl51PP5x/bjfqe58enknUVXNH6ufTbRaM0zXZ1ucJxIdlVeC6K2x7KGrdGYVtD7EKItJ+lkTUeNOcYW4uhrp1FKsg2sPssyS0IWrzutkeXEEsAw3FjaVKd5h9DoepZPUJs8HWnYbi7bpUY8sdPVtkQ4NDU3bN9hCmi3Bx66647aGodVfk9lBuBJMCjD+oT29stVlYODMZVRSjJ02F1/fsOSNtWHkl9iAebaBndtZpfWhSvD98AJOPmjMUs1NGl1CnWv8rZOxz+nyEgAceNT4T3eawD2aa1AZ6ZmedX9sJeOAxClx3hW0PRa07o5jtYUIqjkC371WbjMYmp3pDqrHflahMxiZlyhHotNLdCfXwsbaJiiOkRkHChMcQDx9rK2zdFbg9FLXuitweyoxgUhRN89rdUHt+aMPKnU1ZeSSf7nKjJ2da3Q2v70ZnDtvri/l0ATSV3Ix2N3yp1aVx96V1WQzWHiNp7LT+N9fNVjfNXXOAe2YubGPRtsLWXYHbQ1HrrsjtIU4fPha2wutjrCr17SKetjkm1bXtsBVeP/pAtSIqvMLWXYHbQ1HrrsjtoSQIJgCOMBPwHj8ns0V0ddVbEmdjl9lzo5fvq4HaNe1v7PQ5OfdQmDYf+yps3RW3PRS27grcHsqCYAIAAEqDYAIAAEqDYAIAAEqDYAIAAEqDYAIAAEqDYAIAAEqDYAIAAEqDYAIAAEqDYAIAAEqDYAIAAEqDYAIAAEqDYAIAAEqDYAIAAEqDYAIAAEqDYAIAAEqDYAIAAEqDYAIAAEqDYAIAAEqDYAIAAEqDYAIAAEqDYAIAAEqDYAIAAEqDYAIAAEqDYAIAAEqDYAIAAEqDYAIAAEqDYAIgvGu35O7dW7LlKgtiS271m/+lm3Ln+zfloqssi9x/C4A4ggkwMBfl5vfvmkqvLWRlGsDFG3fk1jV3WQ8NA7e33GW5KDCYBGWW+xDLtnX7jty85C4DhhXBBBiQrdt35c6Ni53PGgTuFlq5749gkgeCCXAQggkwCFp5uirWa1udYVFQcV1NaVe8N02waZXrfLSi7h1X53Hnxk1nWU+Y0FsW7c8amjrfbceJlrk7vBNaolsddnj7N6XDgWucSCtg3Oz81lRFnJguXnZwMOmun+Q8E78tvozxdWh0fl/qt/T9u8T1WyedYd1lci9P8mpaN8D2WUbjnpYLOAIIJsAgaMW1X+WRLtfPqYBgK6VWxWYr6VaFZstalVW3Am8FlXYlp/PpE0yUzjde8W2ZgNNZnlRlnZ42UR4tbyxEJKZtVbSdZUr8bvNbbvRbvgOCSbzSTi3Lzfhviv3GxLrR+ceXP7G8yfUZX0ct+jeIhSGz3Il13plX63O/5emZz76f72W5gKOBYAIMQqIC7pWsJFWs4klXbqlQ0L+yNeLT6vtDBJOo3J6Rq32WIfE96bJ9KtT0b9PlT3xnZz6p6eLS6yfxffo+Nj+j8xs7vy9e+RuJ+cWmT/ymJF130TiJ5TCcy9Yet61/MNHfnBy3O/69LRdwFBBMgEHoqaDURbnYroS0YitXMElVkgcsQ7w8CheJyjI+r/2CSaos8R0Zg8m+v7FNp9cKPr6eEvNrseGjZ/oYG6z6XjE57Drv95tj7mW5gDIjmAAD0TrDjYeGViXWrni0wupXgR2ickuHAi1LVJKxis41brdy0yAQqyT3Wz4VX8Z0hZpY/n2Cyb7Ld0AwiZfFljU5j9bfIL6ukr+3PY/08nbet6ZJBkil8019v/3OxLz2X56eYLJv+b0sF3A0EEyAgWlVNNHl9/gZeltUabnKUpXbQcHkjqm87uU7ovFi8+mU2WH6PXY+t29Gy54MOVrmqsxT0yYCxT7BxEgsX7sRb+u3tddd6vd052F+d+f7eiv3zvAbulyt7794aSvx9+gEgPgyXbooF+O/xfX95jsuXrPrQ6V/rw6zy9R/eXR8e/WjGzLs9C3dZbyX5QKOBoIJMMSiYMKZM4AjhGACDDGCCYCjhmACAABKg2ACAABKg2ACAABKg2ACAABKg2ACAABKg2ACAABKg2ACAABKg2ACAABKg2ACAABKg2ACAABKg2ACAABKg2ACAABKg2ACAABKg2ACAABKg2ACAABKg2ACAABKg2ACAABKg2ACAABKIxFM/vlf/iJ/+vNfpPX6UfRq6Wc77E/x4ZHUuPr5o9arLYvGa88j0i6L+2Pi9S/R6x///C+tV8t8jsp0eMqP331fXv/NB9Fr3N1fvxd5/b122W/MeOb9G+//tjWs/dm+j9Nx7sbK9XN6HHX33fc6799477fyxm/MeL9+X95873fylvHGux/Im2bY62aYpcN+omU6nnn/+j+9F72+9RsdZr7L0Pdvvmum+ycd57fyVtubWmZef2LKVVRmXpV+tmVvv/f7yM8++EPnvZ3m7fc+NK86rPVq/fT9P5j56/SxYWact9uv8fc/e/+P5r0O+0PCT941820P19e3fv276L0dPyoz3/OzD/4Yvdrv1VddHn0ff9Xx9NUOi09nh3WGm892fnY6W27f2+nsePrefrbjxKe15fresr/Ran13azpbpq867s9/+6fueGYd/OTd35lXM1/9PkPf22GqtW5b7+04Ssex76PfGfscZ8tsuX7W15+bZbPztN/xdns7sduNvtfXn76v66O7PcW3Nx0nXm63LTtMtze7Pb6tw3SeZvtP0+3f0v1D9xX1k/fN+OY12m/0u3Ve7c9aFu1LZl9+w+zv+mrfvxnte2bf0eFt9jig+2X0WYfreO//Lnr9se7bul/rvm7ex73+we+iVy1T9nPaj/QYoK/6Wedj/KMeD8z4Sofr9DqepePr/Oz7fzTHEH2Nj2eXSct0OS09JtnlVvZzvNwer9Rbv/1967jUXgfKvk8MM94y6/fH5nhp16Oy61Vf4+/fMuswPtyK/h76tzPv9fXHemzTv6+Obz5HZe2/tz0u2ldbFn/V8V43r0qPrXpctcdYO8wO1886PP7Zltv3drr4dqH0s10ndlntb7DLY3WWta21jeu2bNb1r3WYmc686jDdL+w+9LZuv2Z8fbX7ge4jOr6Op+y+ZPcnq7sP6v6m82y9tw63/+vxpXv8jh+vdF72+Kc6829/1nHi5faYaIdFx7t2WXRc1O9sf46z07XK9btbv1mPH/a3R8FkP+lg0n1tBYr4ON3hrfH+aIZb8WmUhorWeK33NoRE07Xfx7Xm1w4kdrh5H+0Q7Q3MhhHV2fDaO2o6YPzo17+JPmu40LJ40PiRHiza48XZceOBROfz1gftA4BuuGbji3aENrsTxne27kZtdgKzoetGqhuobtx2w7YbbTQ8tZHqxq3iO4WtJHQc+xp/39oAuhuKbnAaROx7+1k3+s4GpK9aZobZjd5+1o052qDNxq1spWw3dtdrxCyDjqsbrt2Q4xuqXUYttxt3fDx9tctoy6Nx9dWw4+hrp6w9ng5Xdmezw7Rch9lp7Hjxae3v1d+S+D3t3xcv02nSw+yB4ucfaFjR4S12Hcff62v0W8yrpZ/fMn+fzu90jKuv9sBk/2Z6ULLzt97S7Su1baTpcD1IRNtb+3P61b7XcaIDir7X4Vpu2O3cHpB1e7fBxA6zwUP3D31vw0lrP2kN07J4MLEVoVaOWpHYz1pmA8mbWsHoOFpm3ttQogFF6T7+Rjsg2CBgw4J9TbPjxss1PLxhAoANJhpG4jSE6DT2O+IhxwaUdJkOe9PM0wYOG0SiIGU+63Ir+9mWxY9z+morW/saXyf2eGnXo9JgEl+/tswOi4JH+7Nlx4vK9O+o08Rfzd/Mvlpaudu/dbpM6bDONmA+63g2XOjrXRN49NUGFftq2XFtmS3X4SoeRPRV14sNK3a5o2Uww6PtS6fVUNMOJVGZGdZiys12akNJdLyOtv3WMN03LN3uf/qB2adi00b7Smxfsq+6P+mrpZ/1xDR+jLLHscPv/2afNscke+yy84xLHxf1c/rVvtdx7HHSDrPDrXR5fFj8N7fCyYfy/wEnMZFGElmU1AAAAABJRU5ErkJggg==)"
   ]
  },
  {
   "cell_type": "markdown",
   "metadata": {
    "id": "VNaZ3kFmR8MH"
   },
   "source": [
    "## Generación de números aleatorios (8 bits)\n",
    "\n",
    "Demostrado un ejemplo de 4qubits de prueba pasamos al caso de 8 qubits, el cual es exactamente igual."
   ]
  },
  {
   "cell_type": "code",
   "execution_count": null,
   "metadata": {
    "colab": {
     "base_uri": "https://localhost:8080/",
     "height": 647
    },
    "id": "Oj8onhDwSGV3",
    "outputId": "09760c63-c00f-4500-9e29-faceece32812"
   },
   "outputs": [
    {
     "data": {
      "text/html": [
       "<pre style=\"word-wrap: normal;white-space: pre;background: #fff0;line-height: 1.1;font-family: &quot;Courier New&quot;,Courier,monospace\">     ┌───┐          ┌─┐                                                        »\n",
       "q_0: ┤ H ├──■───────┤M├────────────────────────────────────────────────────────»\n",
       "     ├───┤  │       └╥┘     ┌─┐                                                »\n",
       "q_1: ┤ H ├──┼────■───╫──────┤M├────────────────────────────────────────────────»\n",
       "     ├───┤  │    │   ║      └╥┘     ┌─┐                                        »\n",
       "q_2: ┤ H ├──┼────┼───╫───■───╫──────┤M├────────────────────────────────────────»\n",
       "     ├───┤  │    │   ║   │   ║      └╥┘     ┌─┐                                »\n",
       "q_3: ┤ H ├──┼────┼───╫───┼───╫───■───╫──────┤M├────────────────────────────────»\n",
       "     ├───┤  │    │   ║   │   ║   │   ║      └╥┘     ┌─┐                        »\n",
       "q_4: ┤ H ├──┼────┼───╫───┼───╫───┼───╫───■───╫──────┤M├────────────────────────»\n",
       "     ├───┤  │    │   ║   │   ║   │   ║   │   ║      └╥┘     ┌─┐                »\n",
       "q_5: ┤ H ├──┼────┼───╫───┼───╫───┼───╫───┼───╫───■───╫──────┤M├────────────────»\n",
       "     ├───┤  │    │   ║   │   ║   │   ║   │   ║   │   ║      └╥┘     ┌─┐        »\n",
       "q_6: ┤ H ├──┼────┼───╫───┼───╫───┼───╫───┼───╫───┼───╫───■───╫──────┤M├────────»\n",
       "     ├───┤  │    │   ║   │   ║   │   ║   │   ║   │   ║   │   ║      └╥┘     ┌─┐»\n",
       "q_7: ┤ H ├──┼────┼───╫───┼───╫───┼───╫───┼───╫───┼───╫───┼───╫───■───╫──────┤M├»\n",
       "     └───┘┌─┴─┐┌─┴─┐ ║ ┌─┴─┐ ║ ┌─┴─┐ ║ ┌─┴─┐ ║ ┌─┴─┐ ║ ┌─┴─┐ ║ ┌─┴─┐ ║ ┌───┐└╥┘»\n",
       "q_8: ─────┤ X ├┤ X ├─╫─┤ X ├─╫─┤ X ├─╫─┤ X ├─╫─┤ X ├─╫─┤ X ├─╫─┤ X ├─╫─┤ H ├─╫─»\n",
       "          └───┘└───┘ ║ └───┘ ║ └───┘ ║ └───┘ ║ └───┘ ║ └───┘ ║ └───┘ ║ └───┘ ║ »\n",
       "c: 9/════════════════╩═══════╩═══════╩═══════╩═══════╩═══════╩═══════╩═══════╩═»\n",
       "                     0       1       2       3       4       5       6       7 »\n",
       "«             \n",
       "«q_0: ────────\n",
       "«             \n",
       "«q_1: ────────\n",
       "«             \n",
       "«q_2: ────────\n",
       "«             \n",
       "«q_3: ────────\n",
       "«             \n",
       "«q_4: ────────\n",
       "«             \n",
       "«q_5: ────────\n",
       "«             \n",
       "«q_6: ────────\n",
       "«             \n",
       "«q_7: ────────\n",
       "«     ┌───┐┌─┐\n",
       "«q_8: ┤ X ├┤M├\n",
       "«     └───┘└╥┘\n",
       "«c: 9/══════╩═\n",
       "«           8 </pre>"
      ],
      "text/plain": [
       "     ┌───┐          ┌─┐                                                        »\n",
       "q_0: ┤ H ├──■───────┤M├────────────────────────────────────────────────────────»\n",
       "     ├───┤  │       └╥┘     ┌─┐                                                »\n",
       "q_1: ┤ H ├──┼────■───╫──────┤M├────────────────────────────────────────────────»\n",
       "     ├───┤  │    │   ║      └╥┘     ┌─┐                                        »\n",
       "q_2: ┤ H ├──┼────┼───╫───■───╫──────┤M├────────────────────────────────────────»\n",
       "     ├───┤  │    │   ║   │   ║      └╥┘     ┌─┐                                »\n",
       "q_3: ┤ H ├──┼────┼───╫───┼───╫───■───╫──────┤M├────────────────────────────────»\n",
       "     ├───┤  │    │   ║   │   ║   │   ║      └╥┘     ┌─┐                        »\n",
       "q_4: ┤ H ├──┼────┼───╫───┼───╫───┼───╫───■───╫──────┤M├────────────────────────»\n",
       "     ├───┤  │    │   ║   │   ║   │   ║   │   ║      └╥┘     ┌─┐                »\n",
       "q_5: ┤ H ├──┼────┼───╫───┼───╫───┼───╫───┼───╫───■───╫──────┤M├────────────────»\n",
       "     ├───┤  │    │   ║   │   ║   │   ║   │   ║   │   ║      └╥┘     ┌─┐        »\n",
       "q_6: ┤ H ├──┼────┼───╫───┼───╫───┼───╫───┼───╫───┼───╫───■───╫──────┤M├────────»\n",
       "     ├───┤  │    │   ║   │   ║   │   ║   │   ║   │   ║   │   ║      └╥┘     ┌─┐»\n",
       "q_7: ┤ H ├──┼────┼───╫───┼───╫───┼───╫───┼───╫───┼───╫───┼───╫───■───╫──────┤M├»\n",
       "     └───┘┌─┴─┐┌─┴─┐ ║ ┌─┴─┐ ║ ┌─┴─┐ ║ ┌─┴─┐ ║ ┌─┴─┐ ║ ┌─┴─┐ ║ ┌─┴─┐ ║ ┌───┐└╥┘»\n",
       "q_8: ─────┤ X ├┤ X ├─╫─┤ X ├─╫─┤ X ├─╫─┤ X ├─╫─┤ X ├─╫─┤ X ├─╫─┤ X ├─╫─┤ H ├─╫─»\n",
       "          └───┘└───┘ ║ └───┘ ║ └───┘ ║ └───┘ ║ └───┘ ║ └───┘ ║ └───┘ ║ └───┘ ║ »\n",
       "c: 9/════════════════╩═══════╩═══════╩═══════╩═══════╩═══════╩═══════╩═══════╩═»\n",
       "                     0       1       2       3       4       5       6       7 »\n",
       "«             \n",
       "«q_0: ────────\n",
       "«             \n",
       "«q_1: ────────\n",
       "«             \n",
       "«q_2: ────────\n",
       "«             \n",
       "«q_3: ────────\n",
       "«             \n",
       "«q_4: ────────\n",
       "«             \n",
       "«q_5: ────────\n",
       "«             \n",
       "«q_6: ────────\n",
       "«             \n",
       "«q_7: ────────\n",
       "«     ┌───┐┌─┐\n",
       "«q_8: ┤ X ├┤M├\n",
       "«     └───┘└╥┘\n",
       "«c: 9/══════╩═\n",
       "«           8 "
      ]
     },
     "execution_count": 36,
     "metadata": {},
     "output_type": "execute_result"
    }
   ],
   "source": [
    "qreg_q = QuantumRegister(9, 'q')\n",
    "creg_c = ClassicalRegister(9, 'c')\n",
    "circuit = QuantumCircuit(qreg_q, creg_c)\n",
    "\n",
    "circuit.h(qreg_q[0])\n",
    "circuit.cx(qreg_q[0], qreg_q[8])\n",
    "circuit.h(qreg_q[1])\n",
    "circuit.cx(qreg_q[1], qreg_q[8])\n",
    "circuit.h(qreg_q[2])\n",
    "circuit.cx(qreg_q[2], qreg_q[8])\n",
    "circuit.h(qreg_q[3])\n",
    "circuit.cx(qreg_q[3], qreg_q[8])\n",
    "circuit.h(qreg_q[4])\n",
    "circuit.cx(qreg_q[4], qreg_q[8])\n",
    "circuit.h(qreg_q[5])\n",
    "circuit.cx(qreg_q[5], qreg_q[8])\n",
    "circuit.h(qreg_q[6])\n",
    "circuit.cx(qreg_q[6], qreg_q[8])\n",
    "circuit.h(qreg_q[7])\n",
    "circuit.cx(qreg_q[7], qreg_q[8])\n",
    "circuit.h(qreg_q[8])\n",
    "circuit.x(qreg_q[8])\n",
    "\n",
    "circuit.measure(qreg_q[0], creg_c[0])\n",
    "circuit.measure(qreg_q[1], creg_c[1])\n",
    "circuit.measure(qreg_q[2], creg_c[2])\n",
    "circuit.measure(qreg_q[3], creg_c[3])\n",
    "circuit.measure(qreg_q[4], creg_c[4])\n",
    "circuit.measure(qreg_q[5], creg_c[5])\n",
    "circuit.measure(qreg_q[6], creg_c[6])\n",
    "circuit.measure(qreg_q[7], creg_c[7])\n",
    "circuit.measure(qreg_q[8], creg_c[8])\n",
    "\n",
    "circuit.draw()"
   ]
  },
  {
   "cell_type": "code",
   "execution_count": null,
   "metadata": {
    "colab": {
     "base_uri": "https://localhost:8080/",
     "height": 444
    },
    "id": "1jH-ckQQTaRA",
    "outputId": "7e6864d7-d9b1-4c89-9254-ca4bc99c47fd"
   },
   "outputs": [
    {
     "name": "stderr",
     "output_type": "stream",
     "text": [
      "/usr/local/lib/python3.7/dist-packages/qiskit/utils/deprecation.py:62: DeprecationWarning: Using a qobj for run() is deprecated as of qiskit-aer 0.9.0 and will be removed no sooner than 3 months from that release date. Transpiled circuits should now be passed directly using `backend.run(circuits, **run_options).\n",
      "  return func(*args, **kwargs)\n"
     ]
    },
    {
     "data": {
      "image/png": "[encoded data removed]",
      "text/plain": [
       "<Figure size 504x360 with 1 Axes>"
      ]
     },
     "execution_count": 30,
     "metadata": {},
     "output_type": "execute_result"
    }
   ],
   "source": [
    "sim = Aer.get_backend('aer_simulator') \n",
    "qobj = assemble(circuit)\n",
    "counts = sim.run(qobj).result().get_counts()\n",
    "plot_histogram(counts)"
   ]
  },
  {
   "cell_type": "markdown",
   "metadata": {
    "id": "ww8LACwO5LpI"
   },
   "source": [
    "No podemos mostrar las probabilidades que nos da en IBM Quantum Composer, ya que no es compatible con tamaño de palabrás superiores a 6 qubits, a pesar de ello  y tal como se vió en el ejemplo de una plabra de 4qubits, obtendríamos una distribución uniforme con todos los estados igual de equiprobables."
   ]
  },
  {
   "cell_type": "markdown",
   "metadata": {
    "id": "j_4gHkiKUsu4"
   },
   "source": [
    "## Sumador de 2 qbits\n",
    "\n",
    "Antes de empezar a códificar el circuito cuántico que hará de sumador, recordamos todas las posibilidades que tenemos en un sumador de 2 bits binario:\n",
    "\n",
    "* 0+0 = 00 (0 en decimal)\n",
    "* 0+1 = 01 (1 en decimal)\n",
    "* 1+0 = 01 (1 en decimal)\n",
    "* 1+1 = 10 (2 en decimal)\n",
    "\n",
    "Viendo esta comnbinación de bits en entrada/salida se puede apreciar que no solamente bastará con puertas NOT, por lo que vamos a requerir puertas más potentes. Para el segundoi bit podemos observar que hay dos casos, si ambos bits tienen el mismo valor(en cuyo caso dan 0 en el primer bit) o en el que ambos bits tiene valores diferentes (en cuyo caso resultan en un 1 en el primer bit), por lo tanto este primer bit se puede resolver con una XOR clásica, al estar trabajando en un circuito cuántico utilizaremos su equivalente una CNOT.\n",
    "\n",
    "El problema es que como queremos que las puertas sean reversibles, necesitamos que este resultado se guarde en un tercer qubits, por lo que usaremos dos CNOT que relacionarán el tercer qubits con el primer y segundo qubits respectivamente.\n",
    "\n",
    "Para el segundo qubit de la suma, tenemos otros dos casos, el caso en el que ambos qubits son 1 y por lo tanto el segundo qubit debe ser un 1 y el resto de casos donde tomarán un 0. Esto se resolverá con una puerta Toffoli con dos entradas, cuyo resultado se guardará en un cuarto qubit, haciendo así la puerta reversible.\n",
    "\n",
    "Por último para inicializar los dos qubits a 1, usaremos dos puertas CNOT en cada qubit, ya que IBM Quantum Composer (y en general el estándar de los circuitos cuánticos) instancia las entradas a 0. Como resultado estono nos debería dar 10, ya que recordemos que 1+1 =10."
   ]
  },
  {
   "cell_type": "code",
   "execution_count": null,
   "metadata": {
    "colab": {
     "base_uri": "https://localhost:8080/",
     "height": 182
    },
    "id": "FxuXv5BdSyeU",
    "outputId": "cf1aad52-c7d8-4973-92b3-46da60d40aca"
   },
   "outputs": [
    {
     "data": {
      "text/html": [
       "<pre style=\"word-wrap: normal;white-space: pre;background: #fff0;line-height: 1.1;font-family: &quot;Courier New&quot;,Courier,monospace\">     ┌───┐ ░                 ░       \n",
       "q_0: ┤ X ├─░───■─────────■───░───────\n",
       "     ├───┤ ░   │         │   ░       \n",
       "q_1: ┤ X ├─░───┼────■────■───░───────\n",
       "     └───┘ ░ ┌─┴─┐┌─┴─┐  │   ░ ┌─┐   \n",
       "q_2: ──────░─┤ X ├┤ X ├──┼───░─┤M├───\n",
       "           ░ └───┘└───┘┌─┴─┐ ░ └╥┘┌─┐\n",
       "q_3: ──────░───────────┤ X ├─░──╫─┤M├\n",
       "           ░           └───┘ ░  ║ └╥┘\n",
       "c: 2/═══════════════════════════╩══╩═\n",
       "                                0  1 </pre>"
      ],
      "text/plain": [
       "     ┌───┐ ░                 ░       \n",
       "q_0: ┤ X ├─░───■─────────■───░───────\n",
       "     ├───┤ ░   │         │   ░       \n",
       "q_1: ┤ X ├─░───┼────■────■───░───────\n",
       "     └───┘ ░ ┌─┴─┐┌─┴─┐  │   ░ ┌─┐   \n",
       "q_2: ──────░─┤ X ├┤ X ├──┼───░─┤M├───\n",
       "           ░ └───┘└───┘┌─┴─┐ ░ └╥┘┌─┐\n",
       "q_3: ──────░───────────┤ X ├─░──╫─┤M├\n",
       "           ░           └───┘ ░  ║ └╥┘\n",
       "c: 2/═══════════════════════════╩══╩═\n",
       "                                0  1 "
      ]
     },
     "execution_count": 4,
     "metadata": {},
     "output_type": "execute_result"
    }
   ],
   "source": [
    "#source: https://qiskit.org/textbook/ch-states/atoms-computation.html\n",
    "qc_ha = QuantumCircuit(4,2)\n",
    "\n",
    "# encode inputs in qubits 0 and 1\n",
    "qc_ha.x(0) # For a=0, remove the this line. For a=1, leave it.\n",
    "qc_ha.x(1) # For b=0, remove the this line. For b=1, leave it.\n",
    "qc_ha.barrier()\n",
    "\n",
    "# use cnots to write the XOR of the inputs on qubit 2\n",
    "qc_ha.cx(0,2)\n",
    "qc_ha.cx(1,2)\n",
    "\n",
    "# use ccx to write the AND of the inputs on qubit 3\n",
    "qc_ha.ccx(0,1,3)\n",
    "qc_ha.barrier()\n",
    "\n",
    "# extract outputs\n",
    "qc_ha.measure(2,0) # extract XOR value\n",
    "qc_ha.measure(3,1) # extract AND value\n",
    "\n",
    "qc_ha.draw()"
   ]
  },
  {
   "cell_type": "markdown",
   "metadata": {
    "id": "yZkdUfbxTTgL"
   },
   "source": [
    "Realizamos una simulación, la cual da el resultado que esperabamos."
   ]
  },
  {
   "cell_type": "code",
   "execution_count": null,
   "metadata": {
    "colab": {
     "base_uri": "https://localhost:8080/",
     "height": 385
    },
    "id": "lj6kzvtUUL0k",
    "outputId": "c6fc28a3-2bd1-4e5d-bfe6-f0879e15ecec"
   },
   "outputs": [
    {
     "name": "stderr",
     "output_type": "stream",
     "text": [
      "/usr/local/lib/python3.7/dist-packages/qiskit/utils/deprecation.py:62: DeprecationWarning: Using a qobj for run() is deprecated as of qiskit-aer 0.9.0 and will be removed no sooner than 3 months from that release date. Transpiled circuits should now be passed directly using `backend.run(circuits, **run_options).\n",
      "  return func(*args, **kwargs)\n"
     ]
    },
    {
     "data": {
      "image/png": "[encoded data removed]",
      "text/plain": [
       "<Figure size 504x360 with 1 Axes>"
      ]
     },
     "execution_count": 13,
     "metadata": {},
     "output_type": "execute_result"
    }
   ],
   "source": [
    "sim = Aer.get_backend('aer_simulator') \n",
    "qobj = assemble(qc_ha)\n",
    "counts = sim.run(qobj).result().get_counts()\n",
    "plot_histogram(counts)"
   ]
  },
  {
   "cell_type": "markdown",
   "metadata": {
    "id": "7Du7JF7Ughfq"
   },
   "source": [
    "# PARTE 3: EJERCICIOS OPCIONALES"
   ]
  },
  {
   "cell_type": "markdown",
   "metadata": {
    "id": "hHqEMDJJg0Yx"
   },
   "source": [
    "## 3.1 Multiplicación de Matrices"
   ]
  },
  {
   "cell_type": "markdown",
   "metadata": {
    "id": "Erdp3EFduPSB"
   },
   "source": [
    "Partiendo del código inicial de la práctica, donde consideramos multiplicaciones de matrices de NxN y utilizamos hilos, de tal\n",
    "manera que el (i,j)-ésimo hilo lee la fila i de la matriz A y la columna j de la\n",
    "matriz B para calcular el dato C[i][j] de la matriz resultante.\n",
    "\n",
    "En este código, solo se utiliza un bloque con 16x16 Threads y el reparto\n",
    "de trabajo a los threads se ha definido de manera bidimensional.\n",
    "En la ejecución serie de la CPU las operaciones relizadas son O(N3)\n",
    "mientras que para la GPU se ha reducido a O(N2) las operaciones que\n",
    "realiza cada thread.\n"
   ]
  },
  {
   "cell_type": "code",
   "execution_count": 79,
   "metadata": {
    "colab": {
     "base_uri": "https://localhost:8080/",
     "height": 0
    },
    "id": "dHcg1bVdiwo4",
    "outputId": "3f627930-56d2-4ef4-fe6a-7e690dfac6ec"
   },
   "outputs": [
    {
     "name": "stdout",
     "output_type": "stream",
     "text": [
      "Overwriting mat_mul_inicial.cu\n"
     ]
    }
   ],
   "source": [
    "%%writefile mat_mul_inicial.cu\n",
    "\n",
    "#include <stdio.h>\n",
    "#include <iostream>\n",
    "#define N 16\n",
    "void matrixMultCPU(int a[N][N], int b[N][N], int c[N][N]) {\n",
    "  int n,m;\n",
    "  for (int i = 0; i < N; i++) {\n",
    "    for (int j = 0; j < N; j++) {\n",
    "      int sum = 0;\n",
    "      for (int k = 0; k < N; k++) {\n",
    "        m = a[i][k];\n",
    "        n = b[k][j];\n",
    "        sum += m * n;\n",
    "      }\n",
    "      c[i][j] = sum;\n",
    "    }\n",
    "  }\n",
    "}\n",
    "\n",
    "__global__ void matrixMultGPU(int *a, int *b, int *c) {\n",
    "  int k, sum = 0;\n",
    "  int col = threadIdx.x + blockDim.x * blockIdx.x;\n",
    "  int fil = threadIdx.y + blockDim.y * blockIdx.y;\n",
    "  if (col < N && fil < N) {\n",
    "    for (k = 0; k < N; k++) {\n",
    "      sum += a[fil * N + k] * b[k * N + col];\n",
    "    }\n",
    "    c[fil * N + col] = sum;\n",
    "  }\n",
    "}\n",
    "\n",
    "int main() {\n",
    "    \n",
    "  int a[N][N], b[N][N], c[N][N];\n",
    "  int *dev_a, *dev_b, *dev_c;\n",
    "  int i,j;\n",
    "  //int cont;\n",
    "\n",
    "  // Allocate CUDA events that we'll use for timing\n",
    "  cudaEvent_t start;\n",
    "  cudaEventCreate(&start);\n",
    "  cudaEvent_t stop;\n",
    "  cudaEventCreate(&stop);\n",
    "\n",
    "  /* inicializando variables con datos*/\n",
    "  for (i = 0; i < N; i++) {\n",
    "    for (j = 0; j < N; j++) {\n",
    "      a[i][j] = 1.0;\n",
    "      b[i][j] = 2.0;\n",
    "    }\n",
    "  }\n",
    "\n",
    "  int size = N * N * sizeof(int);\n",
    "  cudaMalloc((void **) &dev_a, size);\n",
    "  cudaMalloc((void **) &dev_b, size);\n",
    "  cudaMalloc((void **) &dev_c, size);\n",
    "  cudaMemcpy(dev_a, a, size, cudaMemcpyHostToDevice);\n",
    "  cudaMemcpy(dev_b, b, size, cudaMemcpyHostToDevice);\n",
    "  dim3 dimGrid(1, 1);\n",
    "  dim3 dimBlock(N, N);\n",
    "\n",
    "\n",
    "  // Record the start event\n",
    "  cudaEventRecord(start, NULL);\n",
    "  // Repita la ejecucion del kernel 1000 veces para eliminar efectos de arranque en frio\n",
    "  int nIter = 1000;\n",
    "\n",
    "  for (int j = 0; j < nIter; j++){\n",
    "    //kernel <<< grid, threads >>>\n",
    "    matrixMultGPU<<<dimGrid, dimBlock>>>(dev_a, dev_b, dev_c);\n",
    "  }\n",
    "    \n",
    "\n",
    "\n",
    "  // Record the stop event\n",
    "  cudaEventRecord(stop, NULL);\n",
    "\n",
    "  // Wait for the stop event to complete\n",
    "  cudaEventSynchronize(stop);\n",
    "  float msecTotal = 0.0f;\n",
    "  cudaEventElapsedTime(&msecTotal, start, stop);\n",
    "\n",
    "  // Compute and print the performance\n",
    "  float msecPerKernelExecution = msecTotal / nIter;\n",
    "  printf(\"\\n msecPerKernelExecution: %lf\", msecPerKernelExecution);\n",
    "  //double flopsPerMMull = 2.0 * N * N * N;\n",
    "  float flopsPerMMull = 2.0 * N * N * N;\n",
    "  printf(\"\\n flopsPerMMull: %lf\", flopsPerMMull);\n",
    "  //double gigaFlops = (flopsPerMMull * 1.0e-9f) /(msecPerKernelExecution / 1000.0f);\n",
    "  float gigaFlops = (flopsPerMMull * 1.0e-9f) /(msecPerKernelExecution / 1000.0f);\n",
    "  printf(\"\\n gigaFlops: %lf\", gigaFlops);\n",
    "\n",
    "  cudaMemcpy(c, dev_c, size, cudaMemcpyDeviceToHost);\n",
    "  cudaFree(dev_a);\n",
    "  cudaFree(dev_b);\n",
    "  cudaFree(dev_c);\n",
    "\n",
    "  float c_value = 2*N;\n",
    "  int contError = 0, maxError = 0;\n",
    "  //Comprobamos errores\n",
    "   for (int i=0; i<N; i++){\n",
    "    for (int j=0; j<N; j++){\n",
    "        maxError=fmax(maxError,fabs(c[i][j]-c_value));\n",
    "        if (c[i][j] != c_value) contError++; \n",
    "    }\n",
    "  }\n",
    "\n",
    "  std::cout << \"\\n Multiplicación de matrices cuadradas de \" << N << \" elementos\" << std::endl;\n",
    "  std::cout << \"\\n Número de errores: \" <<contError << std::endl;\n",
    "  std::cout << \"\\nMax error: \" <<maxError << std::endl;\n",
    "\n",
    "  // imprimiendo\n",
    "  /*\n",
    "  for (int y = 0; y < N; y++) {\n",
    "    for (int x = 0; x < N; x++) {\n",
    "      printf(\"[%d][%d]=%d \", y, x, c[y][x]);\n",
    "    }\n",
    "    printf(\"\\n\");\n",
    "  }\n",
    "  */\n",
    "  return 0;\n",
    "}"
   ]
  },
  {
   "cell_type": "code",
   "execution_count": 80,
   "metadata": {
    "colab": {
     "base_uri": "https://localhost:8080/",
     "height": 0
    },
    "id": "6sa23gymhQqm",
    "outputId": "ae21d7c0-1ba7-4bc4-9207-e83c6dbd23e4"
   },
   "outputs": [
    {
     "name": "stdout",
     "output_type": "stream",
     "text": [
      "==2567== NVPROF is profiling process 2567, command: ./mat_mul_inicial\n",
      "==2567== Warning: Auto boost enabled on device 0. Profiling results may be inconsistent.\n",
      "\n",
      " msecPerKernelExecution: 0.017336\n",
      " flopsPerMMull: 65536.000000\n",
      " gigaFlops: 3.780376\n",
      " Multiplicación de matrices cuadradas de 32 elementos\n",
      "\n",
      " Número de errores: 0\n",
      "\n",
      "Max error: 0\n",
      "==2567== Profiling application: ./mat_mul_inicial\n",
      "==2567== Profiling result:\n",
      "            Type  Time(%)      Time     Calls       Avg       Min       Max  Name\n",
      " GPU activities:   99.93%  12.055ms      1000  12.055us  11.744us  12.736us  matrixMultGPU(int*, int*, int*)\n",
      "                    0.04%  5.1840us         2  2.5920us  2.4320us  2.7520us  [CUDA memcpy HtoD]\n",
      "                    0.02%  2.9440us         1  2.9440us  2.9440us  2.9440us  [CUDA memcpy DtoH]\n",
      "      API calls:   91.81%  200.78ms         2  100.39ms  1.0540us  200.78ms  cudaEventCreate\n",
      "                    4.45%  9.7346ms      1000  9.7340us  4.2040us  1.3772ms  cudaLaunchKernel\n",
      "                    3.19%  6.9789ms         1  6.9789ms  6.9789ms  6.9789ms  cudaEventSynchronize\n",
      "                    0.24%  515.90us         1  515.90us  515.90us  515.90us  cuDeviceTotalMem\n",
      "                    0.09%  206.99us       101  2.0490us     160ns  80.337us  cuDeviceGetAttribute\n",
      "                    0.07%  162.44us         3  54.145us  2.5980us  155.96us  cudaMalloc\n",
      "                    0.07%  149.70us         3  49.899us  3.1840us  137.71us  cudaFree\n",
      "                    0.03%  74.474us         3  24.824us  13.481us  36.784us  cudaMemcpy\n",
      "                    0.02%  44.951us         2  22.475us  4.5790us  40.372us  cudaEventRecord\n",
      "                    0.01%  29.992us         1  29.992us  29.992us  29.992us  cuDeviceGetName\n",
      "                    0.00%  7.6400us         1  7.6400us  7.6400us  7.6400us  cuDeviceGetPCIBusId\n",
      "                    0.00%  3.0810us         1  3.0810us  3.0810us  3.0810us  cudaEventElapsedTime\n",
      "                    0.00%  2.1110us         3     703ns     226ns  1.2020us  cuDeviceGetCount\n",
      "                    0.00%  1.3820us         2     691ns     227ns  1.1550us  cuDeviceGet\n",
      "                    0.00%     349ns         1     349ns     349ns     349ns  cuDeviceGetUuid\n"
     ]
    }
   ],
   "source": [
    "!nvprof ./mat_mul_inicial"
   ]
  },
  {
   "cell_type": "markdown",
   "metadata": {
    "id": "YPV9YjbsiI91"
   },
   "source": [
    "![image.png](data:image/png;base64,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)"
   ]
  },
  {
   "cell_type": "markdown",
   "metadata": {
    "id": "MxGJJSbQiJ_H"
   },
   "source": [
    "Vemos como el rendimiento es el mismo para matrices de 16*16 que de 32*32(que es el máximo pudiente utilizar solo un bloque). Esto es debido a que utilizando solo un bloque, este puede paralelizar todos sus hilos, utilice todos en la operación o no. En el caso de las matrices N=16 el proceso es el mismo que con N=32, solo que a utiliza menos hilos en paralelo, pero que tardan lo mismo. Vamos a ver cómo podemos optimizar esto para poder admitir matrices de mayor tamaño.\n"
   ]
  },
  {
   "cell_type": "markdown",
   "metadata": {
    "id": "KN_sYFwstGf3"
   },
   "source": [
    "A partir de este código vamos a realizar diversas optimizaciones"
   ]
  },
  {
   "cell_type": "markdown",
   "metadata": {
    "id": "7cqarWtctLZy"
   },
   "source": [
    "### **3.1.1 Variar el número de hilos por bloque, ajustar el tamaño de particionado (tiling) y añadiendo uso de memoria compartida.**"
   ]
  },
  {
   "cell_type": "markdown",
   "metadata": {
    "id": "FQfBdq-61LS8"
   },
   "source": [
    "En el kernel anterior el tamaño de las matrices estaba limitado al número de hilos maximo por bloque, que era de N=32 (32*32 = 1024 hilos ), ya que cada hilo se encargaba de una fila y una columna en la operación de multiplicación, lo cual resultaba en un único valor de la matriz final por hilo.\n",
    "\n",
    "Ahora dividimos las matrices en tiles( o losas o mosaicos). Además hacemos dicha implementación utilizando simultáneamente memoria compartida.\n",
    "\n",
    "El proceso es el siguiente.(Multiplicación matrices M*N)\n",
    "\n",
    "Se cargan los mosaicos de entrada (A y B) desde memoria global a memoria\n",
    "compartida en paralelo (todos los hilos contribuyen). Estos mosaicos reutilizan el\n",
    "espacio de memoria compartida, **reduciendo el acceso a memoria global en un factor de N  si las losas tiene tamaño N*N**.\n",
    "\n",
    "Hacemos __syncthreads() para evitar carrera de datos en la lectura de memoria, ya que cada hilo lee una casilla de la matriz M(fila) y otra de la N(columna).\n",
    "\n",
    "Se calcula la multiplicación en fases:\n",
    "Se calculan los productos y sumas. Hacemos un __syncthreads() para comprobar que todos los hilos del mosaico han terminado. Obtenemos un resultado temporal. Cargamos otros 2 mosaicos para la siguiente fase  repetimos el proceso.\n",
    "\n",
    "Como resultado final, con la suma de los resultados intemedios, obtemos para cada casilla de la matriz resultado su valor final.\n",
    "\n",
    "Cabe destacar que los hilos de un bloque se enumeran en orden \"column major\", esto es, hilos\n",
    "consecutivos difieren en la dimensión x (no en la y), por eso en los mosaicos se\n",
    "almacenan y acceden en memoria compartida de forma invertida traspuesta."
   ]
  },
  {
   "cell_type": "code",
   "execution_count": 50,
   "metadata": {
    "colab": {
     "base_uri": "https://localhost:8080/",
     "height": 0
    },
    "id": "ZYzzvTv_tc1c",
    "outputId": "eb2ca68c-49a5-4c8a-90be-1b2f273e6ec8"
   },
   "outputs": [
    {
     "name": "stdout",
     "output_type": "stream",
     "text": [
      "Overwriting tiles_mat_mul_inicial.cu\n"
     ]
    }
   ],
   "source": [
    "%%writefile tiles_mat_mul_inicial.cu\n",
    "\n",
    "#include <stdio.h>\n",
    "#include <iostream>\n",
    "#define N 64\n",
    "#define TILE_WIDTH 32 //Lo configuramos al máximo ya que 32*32=1024 hilos máximos por bloque\n",
    "\n",
    "__global__ void MatrixMulKernel(float* d_M, float* d_N, float* d_P,int Width) {\n",
    "    \n",
    "  __shared__ float Mds[TILE_WIDTH][TILE_WIDTH];\n",
    "  __shared__ float Nds[TILE_WIDTH][TILE_WIDTH];\n",
    "  int bx = blockIdx.x; int by = blockIdx.y;\n",
    "  int tx = threadIdx.x; int ty = threadIdx.y;\n",
    "\n",
    "  //Identify the row and column of the d_P element to work on\n",
    "  int Row = by * TILE_WIDTH + ty;\n",
    "  int Col = bx * TILE_WIDTH + tx;\n",
    "\n",
    "  float Pvalue = 0;\n",
    "  // Loop over the d_M and d_N tiles required to compute d_P element\n",
    "  for (int m = 0; m < Width/TILE_WIDTH; ++m) {\n",
    "    // Coolaborative loading of d_M and d_N tiles into shared memory\n",
    "    Mds[ty][tx] = d_M[Row*Width + m*TILE_WIDTH + tx];\n",
    "    Nds[ty][tx] = d_N[(m*TILE_WIDTH + ty)*Width + Col];\n",
    "    __syncthreads();\n",
    "\n",
    "    for (int k = 0; k < TILE_WIDTH; ++k) {\n",
    "      Pvalue += Mds[ty][k] * Nds[k][tx];\n",
    "    }\n",
    "    __syncthreads();\n",
    "  }\n",
    "  d_P[Row*Width + Col] = Pvalue;\n",
    "\n",
    "}\n",
    "\n",
    "\n",
    "int main() {\n",
    "    \n",
    "  float a[N][N], b[N][N], c[N][N];\n",
    "  float *dev_a, *dev_b, *dev_c;\n",
    "  int i,j;\n",
    "  //int cont;\n",
    "\n",
    "  // Allocate CUDA events that we'll use for timing\n",
    "  cudaEvent_t start;\n",
    "  cudaEventCreate(&start);\n",
    "  cudaEvent_t stop;\n",
    "  cudaEventCreate(&stop);\n",
    "\n",
    "  /* inicializando variables con datos*/\n",
    "  for (i = 0; i < N; i++) {\n",
    "    for (j = 0; j < N; j++) {\n",
    "      a[i][j] = 1.0;\n",
    "      b[i][j] = 2.0;\n",
    "    }\n",
    "  }\n",
    "\n",
    "  int size = N * N * sizeof(float);\n",
    "  cudaMalloc((void **) &dev_a, size);\n",
    "  cudaMalloc((void **) &dev_b, size);\n",
    "  cudaMalloc((void **) &dev_c, size);\n",
    "  cudaMemcpy(dev_a, a, size, cudaMemcpyHostToDevice);\n",
    "  cudaMemcpy(dev_b, b, size, cudaMemcpyHostToDevice);\n",
    "  dim3 dimGrid(N/TILE_WIDTH, N/TILE_WIDTH);\n",
    "  dim3 dimBlock(TILE_WIDTH, TILE_WIDTH);\n",
    "\n",
    "\n",
    "  \n",
    "\n",
    "  // Record the start event\n",
    "  cudaEventRecord(start, NULL);\n",
    "  // Repita la ejecucion del kernel 1000 veces para eliminar efectos de arranque en frio\n",
    "  int nIter = 1000;\n",
    "\n",
    "  for (int j = 0; j < nIter; j++){\n",
    "    //kernel <<< grid, threads >>>\n",
    "    MatrixMulKernel<<<dimGrid, dimBlock>>>(dev_a, dev_b, dev_c,N);\n",
    "  }\n",
    "    \n",
    "\n",
    "\n",
    "  // Record the stop event\n",
    "  cudaEventRecord(stop, NULL);\n",
    "\n",
    "  // Wait for the stop event to complete\n",
    "  cudaEventSynchronize(stop);\n",
    "  float msecTotal = 0.0f;\n",
    "  cudaEventElapsedTime(&msecTotal, start, stop);\n",
    "\n",
    "  // Compute and print the performance\n",
    "  float msecPerKernelExecution = msecTotal / nIter;\n",
    "  printf(\"\\n msecPerKernelExecution: %lf\", msecPerKernelExecution);\n",
    "  //double flopsPerMMull = 2.0 * N * N * N;\n",
    "  float flopsPerMMull = 2.0 * N * N * N;\n",
    "  printf(\"\\n flopsPerMMull: %lf\", flopsPerMMull);\n",
    "  //double gigaFlops = (flopsPerMMull * 1.0e-9f) /(msecPerKernelExecution / 1000.0f);\n",
    "  float gigaFlops = (flopsPerMMull * 1.0e-9f) /(msecPerKernelExecution / 1000.0f);\n",
    "  printf(\"\\n gigaFlops: %lf\", gigaFlops);\n",
    "\n",
    "  cudaMemcpy(c, dev_c, size, cudaMemcpyDeviceToHost);\n",
    "  cudaFree(dev_a);\n",
    "  cudaFree(dev_b);\n",
    "  cudaFree(dev_c);\n",
    "\n",
    "  float c_value = 2*N;\n",
    "  int contError = 0, maxError = 0;\n",
    "  //Comprobamos errores\n",
    "   for (int i=0; i<N; i++){\n",
    "    for (int j=0; j<N; j++){\n",
    "        maxError=fmax(maxError,fabs(c[i][j]-c_value));\n",
    "        if (c[i][j] != c_value) contError++; \n",
    "    }\n",
    "  }\n",
    "\n",
    "  std::cout << \"\\n Multiplicación de matrices cuadradas de \" << N << \" elementos\" << std::endl;\n",
    "  std::cout << \"\\n Número de errores: \" <<contError << std::endl;\n",
    "  std::cout << \"\\nMax error: \" <<maxError << std::endl;\n",
    "\n",
    "  // imprimiendo\n",
    "  /*\n",
    "  for (int y = 0; y < N; y++) {\n",
    "    for (int x = 0; x < N; x++) {\n",
    "      printf(\"[%d][%d]=%d \", y, x, c[y][x]);\n",
    "    }\n",
    "    printf(\"\\n\");\n",
    "  }\n",
    "  */\n",
    "  return 0;\n",
    "}"
   ]
  },
  {
   "cell_type": "markdown",
   "metadata": {
    "id": "L3EiFcRWVQmQ"
   },
   "source": [
    "Calculamos ahora la tabla de Tiempos varianto el tamaño de matrices en la macro del codigo superior:"
   ]
  },
  {
   "cell_type": "code",
   "execution_count": 51,
   "metadata": {
    "colab": {
     "base_uri": "https://localhost:8080/",
     "height": 0
    },
    "id": "dQzaAGnbL0NT",
    "outputId": "8af976b8-11d3-4a36-eb6c-359d8e2af1bb"
   },
   "outputs": [
    {
     "name": "stdout",
     "output_type": "stream",
     "text": [
      "nvcc warning : The 'compute_35', 'compute_37', 'compute_50', 'sm_35', 'sm_37' and 'sm_50' architectures are deprecated, and may be removed in a future release (Use -Wno-deprecated-gpu-targets to suppress warning).\n",
      "\n",
      " msecPerKernelExecution: 0.017731\n",
      " flopsPerMMull: 524288.000000\n",
      " gigaFlops: 29.568829\n",
      " Multiplicación de matrices cuadradas de 64 elementos\n",
      "\n",
      " Número de errores: 0\n",
      "\n",
      "Max error: 0\n",
      "==1844== NVPROF is profiling process 1844, command: ./tiles_mat_mul_inicial\n",
      "==1844== Warning: Auto boost enabled on device 0. Profiling results may be inconsistent.\n",
      "==1844== Warning: Profiling results might be incorrect with current version of nvcc compiler used to compile cuda app. Compile with nvcc compiler 9.0 or later version to get correct profiling results. Ignore this warning if code is already compiled with the recommended nvcc version \n",
      "\n",
      " msecPerKernelExecution: 0.017810\n",
      " flopsPerMMull: 524288.000000\n",
      " gigaFlops: 29.437342\n",
      " Multiplicación de matrices cuadradas de 64 elementos\n",
      "\n",
      " Número de errores: 0\n",
      "\n",
      "Max error: 0\n",
      "==1844== Profiling application: ./tiles_mat_mul_inicial\n",
      "==1844== Profiling result:\n",
      "            Type  Time(%)      Time     Calls       Avg       Min       Max  Name\n",
      " GPU activities:   99.88%  13.234ms      1000  13.233us  13.024us  13.984us  MatrixMulKernel(float*, float*, float*, int)\n",
      "                    0.08%  10.624us         2  5.3120us  5.1840us  5.4400us  [CUDA memcpy HtoD]\n",
      "                    0.04%  4.8000us         1  4.8000us  4.8000us  4.8000us  [CUDA memcpy DtoH]\n",
      "      API calls:   91.90%  209.11ms         2  104.55ms  1.1920us  209.11ms  cudaEventCreate\n",
      "                    4.33%  9.8425ms         1  9.8425ms  9.8425ms  9.8425ms  cudaEventSynchronize\n",
      "                    3.23%  7.3385ms      1000  7.3380us  4.3650us  296.03us  cudaLaunchKernel\n",
      "                    0.22%  495.84us         1  495.84us  495.84us  495.84us  cuDeviceTotalMem\n",
      "                    0.11%  244.07us         3  81.357us  2.5600us  236.99us  cudaMalloc\n",
      "                    0.09%  201.50us       101  1.9950us     158ns  93.646us  cuDeviceGetAttribute\n",
      "                    0.08%  180.33us         3  60.108us  2.7780us  157.85us  cudaFree\n",
      "                    0.04%  87.963us         3  29.321us  18.515us  45.270us  cudaMemcpy\n",
      "                    0.01%  24.155us         1  24.155us  24.155us  24.155us  cuDeviceGetName\n",
      "                    0.01%  14.705us         2  7.3520us  6.3390us  8.3660us  cudaEventRecord\n",
      "                    0.00%  5.2730us         1  5.2730us  5.2730us  5.2730us  cuDeviceGetPCIBusId\n",
      "                    0.00%  3.6540us         1  3.6540us  3.6540us  3.6540us  cudaEventElapsedTime\n",
      "                    0.00%  1.9910us         3     663ns     233ns  1.0980us  cuDeviceGetCount\n",
      "                    0.00%  1.5580us         2     779ns     331ns  1.2270us  cuDeviceGet\n",
      "                    0.00%     309ns         1     309ns     309ns     309ns  cuDeviceGetUuid\n"
     ]
    }
   ],
   "source": [
    "!/usr/local/cuda/bin/nvcc -arch=sm_35 -rdc=true tiles_mat_mul_inicial.cu -o ./tiles_mat_mul_inicial -lcudadevrt\n",
    "!./tiles_mat_mul_inicial\n",
    "!nvprof ./tiles_mat_mul_inicial"
   ]
  },
  {
   "cell_type": "markdown",
   "metadata": {
    "id": "7ajNRA-PXz9Z"
   },
   "source": [
    "![Screenshot_4.png](data:image/png;base64,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)"
   ]
  },
  {
   "cell_type": "markdown",
   "metadata": {
    "id": "4I_HzbDZYbXK"
   },
   "source": [
    "**¿Qué conclusiones puedes sacar a partir de estos números?**\n",
    "\n",
    "\n",
    "Podemos ver como para matrices realmente grandes como es el caso de matrices 512*512 obtenemos un tiempo de ejecución del kernel que apenas llega a 1 milisegundo, lo cual es bastante impresionante y que muestra el gran potencial que tiene paralelizar estas operaciones tan constosas para un CPU mediante GPUS.\n",
    "\n",
    "Siguiendo con el ejemplo de matrices 512*512 obtenemos uos 290 GFLOPS, es decir, 290x10^9 operaciones de coma flotante por segundo, lo cual es muy costoso para un CPU y requeriría de tiempos mucho mayores para la realizar tantas operaciones en coma flotante.\n",
    "\n",
    "Comparando con la tabla de arriba, dado que no podemos utilizar matrices mayores de N=32, no podemos hacer una comparativa reseñable con el kernel dado, puesto que la aceleración se ve cuando tenemos muchos hilos, con varios bloques y en el caso anterior solo disponíamos de un bloque. Es decir, necesitaríamos otro kernel para poder hacer una comparativa de rendimiento(aunque para matrices de hasta 32*32 podemos asegurar que el primero es más rapido, también debido a no necesita coordinar bloques de hilos ni reducir suboperaciones)"
   ]
  },
  {
   "cell_type": "markdown",
   "metadata": {
    "id": "8bxqINoXtQel"
   },
   "source": [
    "### **3.1.2 Optimizaciones adicionales: Aplicar desenrollamiento de bucles (unrolling).**"
   ]
  },
  {
   "cell_type": "markdown",
   "metadata": {
    "id": "tx-YoiL0j73D"
   },
   "source": [
    "En las GPUs hacer desenrollamiento de bucles parece acelarar la ejecución de algunos cálculos, especialemente cuando estos son grandes. Vamos a probar este unrolling a nuestro último kernel. Esto lo conseguimos utilizando #pragma unroll  antes del bucle a desenrollar\n"
   ]
  },
  {
   "cell_type": "code",
   "execution_count": 103,
   "metadata": {
    "colab": {
     "base_uri": "https://localhost:8080/",
     "height": 0
    },
    "id": "cucRofsqtdjM",
    "outputId": "8f48880c-20b5-4c84-ca67-26f9af3f0072"
   },
   "outputs": [
    {
     "name": "stdout",
     "output_type": "stream",
     "text": [
      "Overwriting tiles_mat_mul_unrolling.cu\n"
     ]
    }
   ],
   "source": [
    "%%writefile tiles_mat_mul_unrolling.cu\n",
    "\n",
    "#include <stdio.h>\n",
    "#include <iostream>\n",
    "#define N 512\n",
    "#define TILE_WIDTH 32 \n",
    "//Lo configuramos al máximo ya que 32*32=1024 hilos máximos por bloque\n",
    "\n",
    "__global__ void MatrixMulKernel(float* d_M, float* d_N, float* d_P,int Width) {\n",
    "    \n",
    "  __shared__ float Mds[TILE_WIDTH][TILE_WIDTH];\n",
    "  __shared__ float Nds[TILE_WIDTH][TILE_WIDTH];\n",
    "  int bx = blockIdx.x; int by = blockIdx.y;\n",
    "  int tx = threadIdx.x; int ty = threadIdx.y;\n",
    "\n",
    "  //Identify the row and column of the d_P element to work on\n",
    "  int Row = by * TILE_WIDTH + ty;\n",
    "  int Col = bx * TILE_WIDTH + tx;\n",
    "\n",
    "  float Pvalue = 0;\n",
    "  // Loop over the d_M and d_N tiles required to compute d_P element\n",
    "  for (int m = 0; m < Width/TILE_WIDTH; ++m) {\n",
    "    // Coolaborative loading of d_M and d_N tiles into shared memory\n",
    "    Mds[ty][tx] = d_M[Row*Width + m*TILE_WIDTH + tx];\n",
    "    Nds[ty][tx] = d_N[(m*TILE_WIDTH + ty)*Width + Col];\n",
    "    __syncthreads();\n",
    "\n",
    "    #pragma unroll\n",
    "    for (int k = 0; k < TILE_WIDTH; ++k) {\n",
    "      Pvalue += Mds[ty][k] * Nds[k][tx];\n",
    "    }\n",
    "    __syncthreads();\n",
    "  }\n",
    "  d_P[Row*Width + Col] = Pvalue;\n",
    "\n",
    "}\n",
    "\n",
    "\n",
    "int main() {\n",
    "    \n",
    "  float a[N][N], b[N][N], c[N][N];\n",
    "  float *dev_a, *dev_b, *dev_c;\n",
    "  int i,j;\n",
    "  //int cont;\n",
    "\n",
    "  // Allocate CUDA events that we'll use for timing\n",
    "  cudaEvent_t start;\n",
    "  cudaEventCreate(&start);\n",
    "  cudaEvent_t stop;\n",
    "  cudaEventCreate(&stop);\n",
    "\n",
    "  /* inicializando variables con datos*/\n",
    "  for (i = 0; i < N; i++) {\n",
    "    for (j = 0; j < N; j++) {\n",
    "      a[i][j] = 1.0;\n",
    "      b[i][j] = 2.0;\n",
    "    }\n",
    "  }\n",
    "\n",
    "  int size = N * N * sizeof(float);\n",
    "  cudaMalloc((void **) &dev_a, size);\n",
    "  cudaMalloc((void **) &dev_b, size);\n",
    "  cudaMalloc((void **) &dev_c, size);\n",
    "  cudaMemcpy(dev_a, a, size, cudaMemcpyHostToDevice);\n",
    "  cudaMemcpy(dev_b, b, size, cudaMemcpyHostToDevice);\n",
    "  dim3 dimGrid(N/TILE_WIDTH, N/TILE_WIDTH);\n",
    "  dim3 dimBlock(TILE_WIDTH, TILE_WIDTH);\n",
    "\n",
    "\n",
    "  \n",
    "\n",
    "  // Record the start event\n",
    "  cudaEventRecord(start, NULL);\n",
    "  // Repita la ejecucion del kernel 1000 veces para eliminar efectos de arranque en frio\n",
    "  int nIter = 1000;\n",
    "\n",
    "  for (int j = 0; j < nIter; j++){\n",
    "    //kernel <<< grid, threads >>>\n",
    "    MatrixMulKernel<<<dimGrid, dimBlock>>>(dev_a, dev_b, dev_c,N);\n",
    "  }\n",
    "    \n",
    "\n",
    "\n",
    "  // Record the stop event\n",
    "  cudaEventRecord(stop, NULL);\n",
    "\n",
    "  // Wait for the stop event to complete\n",
    "  cudaEventSynchronize(stop);\n",
    "  float msecTotal = 0.0f;\n",
    "  cudaEventElapsedTime(&msecTotal, start, stop);\n",
    "\n",
    "  // Compute and print the performance\n",
    "  float msecPerKernelExecution = msecTotal / nIter;\n",
    "  printf(\"\\n msecPerKernelExecution: %lf\", msecPerKernelExecution);\n",
    "  //double flopsPerMMull = 2.0 * N * N * N;\n",
    "  float flopsPerMMull = 2.0 * N * N * N;\n",
    "  printf(\"\\n flopsPerMMull: %lf\", flopsPerMMull);\n",
    "  //double gigaFlops = (flopsPerMMull * 1.0e-9f) /(msecPerKernelExecution / 1000.0f);\n",
    "  float gigaFlops = (flopsPerMMull * 1.0e-9f) /(msecPerKernelExecution / 1000.0f);\n",
    "  printf(\"\\n gigaFlops: %lf\", gigaFlops);\n",
    "\n",
    "  cudaMemcpy(c, dev_c, size, cudaMemcpyDeviceToHost);\n",
    "  cudaFree(dev_a);\n",
    "  cudaFree(dev_b);\n",
    "  cudaFree(dev_c);\n",
    "\n",
    "  float c_value = 2*N;\n",
    "  int contError = 0, maxError = 0;\n",
    "  //Comprobamos errores\n",
    "   for (int i=0; i<N; i++){\n",
    "    for (int j=0; j<N; j++){\n",
    "        maxError=fmax(maxError,fabs(c[i][j]-c_value));\n",
    "        if (c[i][j] != c_value) contError++; \n",
    "    }\n",
    "  }\n",
    "\n",
    "  std::cout << \"\\n Multiplicación de matrices cuadradas de \" << N << \" elementos\" << std::endl;\n",
    "  std::cout << \"\\n Número de errores: \" <<contError << std::endl;\n",
    "  std::cout << \"\\nMax error: \" <<maxError << std::endl;\n",
    "\n",
    "  // imprimiendo\n",
    "  /*\n",
    "  for (int y = 0; y < N; y++) {\n",
    "    for (int x = 0; x < N; x++) {\n",
    "      printf(\"[%d][%d]=%d \", y, x, c[y][x]);\n",
    "    }\n",
    "    printf(\"\\n\");\n",
    "  }\n",
    "  */\n",
    "  return 0;\n",
    "}"
   ]
  },
  {
   "cell_type": "code",
   "execution_count": 104,
   "metadata": {
    "colab": {
     "base_uri": "https://localhost:8080/",
     "height": 0
    },
    "id": "SX-rEqQWkPhz",
    "outputId": "0be6cb9c-8eb5-4bb8-dedd-16dacf21a923"
   },
   "outputs": [
    {
     "name": "stdout",
     "output_type": "stream",
     "text": [
      "nvcc warning : The 'compute_35', 'compute_37', 'compute_50', 'sm_35', 'sm_37' and 'sm_50' architectures are deprecated, and may be removed in a future release (Use -Wno-deprecated-gpu-targets to suppress warning).\n"
     ]
    }
   ],
   "source": [
    "!/usr/local/cuda/bin/nvcc -arch=sm_35 -rdc=true tiles_mat_mul_unrolling.cu  -o ./tiles_mat_mul_unrolling -lcudadevrt\n"
   ]
  },
  {
   "cell_type": "code",
   "execution_count": 106,
   "metadata": {
    "colab": {
     "base_uri": "https://localhost:8080/",
     "height": 0
    },
    "id": "diazZ-vTnF27",
    "outputId": "2fc8ce98-aa58-4d1a-e996-bf7d681629ab"
   },
   "outputs": [
    {
     "name": "stdout",
     "output_type": "stream",
     "text": [
      "==3158== NVPROF is profiling process 3158, command: ./tiles_mat_mul_unrolling\n",
      "==3158== Warning: Auto boost enabled on device 0. Profiling results may be inconsistent.\n",
      "==3158== Warning: Profiling results might be incorrect with current version of nvcc compiler used to compile cuda app. Compile with nvcc compiler 9.0 or later version to get correct profiling results. Ignore this warning if code is already compiled with the recommended nvcc version \n",
      "\n",
      " msecPerKernelExecution: 0.926327\n",
      " flopsPerMMull: 268435456.000000\n",
      " gigaFlops: 289.784607\n",
      " Multiplicación de matrices cuadradas de 512 elementos\n",
      "\n",
      " Número de errores: 0\n",
      "\n",
      "Max error: 0\n",
      "==3158== Profiling application: ./tiles_mat_mul_unrolling\n",
      "==3158== Profiling result:\n",
      "            Type  Time(%)      Time     Calls       Avg       Min       Max  Name\n",
      " GPU activities:   99.97%  922.06ms      1000  922.06us  909.72us  944.92us  MatrixMulKernel(float*, float*, float*, int)\n",
      "                    0.02%  182.05us         2  91.023us  90.719us  91.327us  [CUDA memcpy HtoD]\n",
      "                    0.01%  88.032us         1  88.032us  88.032us  88.032us  [CUDA memcpy DtoH]\n",
      "      API calls:   83.05%  921.60ms         1  921.60ms  921.60ms  921.60ms  cudaEventSynchronize\n",
      "                   16.31%  180.94ms         2  90.471ms  1.0200us  180.94ms  cudaEventCreate\n",
      "                    0.40%  4.4818ms      1000  4.4810us  4.0130us  62.720us  cudaLaunchKernel\n",
      "                    0.10%  1.0579ms         3  352.64us  109.86us  762.91us  cudaMemcpy\n",
      "                    0.05%  514.27us         1  514.27us  514.27us  514.27us  cuDeviceTotalMem\n",
      "                    0.04%  472.63us         3  157.54us  125.16us  213.93us  cudaFree\n",
      "                    0.03%  379.11us         3  126.37us  111.22us  153.01us  cudaMalloc\n",
      "                    0.02%  172.44us       101  1.7070us     160ns  69.462us  cuDeviceGetAttribute\n",
      "                    0.00%  23.746us         1  23.746us  23.746us  23.746us  cuDeviceGetName\n",
      "                    0.00%  8.4920us         2  4.2460us  3.5480us  4.9440us  cudaEventRecord\n",
      "                    0.00%  8.0030us         1  8.0030us  8.0030us  8.0030us  cudaEventElapsedTime\n",
      "                    0.00%  5.5330us         1  5.5330us  5.5330us  5.5330us  cuDeviceGetPCIBusId\n",
      "                    0.00%  1.9350us         3     645ns     238ns  1.0620us  cuDeviceGetCount\n",
      "                    0.00%  1.3920us         2     696ns     256ns  1.1360us  cuDeviceGet\n",
      "                    0.00%     362ns         1     362ns     362ns     362ns  cuDeviceGetUuid\n"
     ]
    }
   ],
   "source": [
    "!nvprof ./tiles_mat_mul_unrolling"
   ]
  },
  {
   "cell_type": "markdown",
   "metadata": {
    "id": "V6h1B-Udn73Y"
   },
   "source": [
    "Observamos tras varias ejecuciones de varios tamaños de matrices que los tiempos y demás metricas estudiadas son similares a la optimización sin utilizar el #prama unrolling. De acuerdo a la guía de programación, esto puede ser debido a que por defecto, la GPU intenta hacer desenrollamiento de los bucles por defecto. Por lo que ahora, con el pragma, no estamos cambiando nada, ya que el la optimización del último kernel ya se incluía el unrolling.\n",
    "\n",
    "Es por ello, que obviamos la realización de la tabla comparativa, dado que tras varias ejecuciones de todos los tamaños, se obtienen valores del mismo rango, lo que nos indica que la optimización ya se estaba realizando."
   ]
  },
  {
   "cell_type": "markdown",
   "metadata": {
    "id": "PgNnK0gLqhGG"
   },
   "source": [
    "## 3.1.3 **Cambio a precisión double**\n",
    "\n",
    " Migramos el código del kernel optimizado  aritmética en\n",
    "doble precisión"
   ]
  },
  {
   "cell_type": "code",
   "execution_count": 124,
   "metadata": {
    "colab": {
     "base_uri": "https://localhost:8080/",
     "height": 0
    },
    "id": "8U8Gw4SJpE9V",
    "outputId": "a3d5ca66-e712-467e-abad-2c1fd7bddffa"
   },
   "outputs": [
    {
     "name": "stdout",
     "output_type": "stream",
     "text": [
      "Overwriting tiles_mat_mul_double.cu\n"
     ]
    }
   ],
   "source": [
    "%%writefile tiles_mat_mul_double.cu\n",
    "\n",
    "#include <stdio.h>\n",
    "#include <iostream>\n",
    "#define N 128\n",
    "#define TILE_WIDTH 32 //Lo configuramos al máximo ya que 32*32=1024 hilos máximos por bloque\n",
    "\n",
    "__global__ void MatrixMulKernel(double* d_M, double* d_N, double* d_P,int Width) {\n",
    "    \n",
    "  __shared__ double Mds[TILE_WIDTH][TILE_WIDTH];\n",
    "  __shared__ double Nds[TILE_WIDTH][TILE_WIDTH];\n",
    "  int bx = blockIdx.x; int by = blockIdx.y;\n",
    "  int tx = threadIdx.x; int ty = threadIdx.y;\n",
    "\n",
    "  //Identify the row and column of the d_P element to work on\n",
    "  int Row = by * TILE_WIDTH + ty;\n",
    "  int Col = bx * TILE_WIDTH + tx;\n",
    "\n",
    "  double Pvalue = 0;\n",
    "  // Loop over the d_M and d_N tiles required to compute d_P element\n",
    "  for (int m = 0; m < Width/TILE_WIDTH; ++m) {\n",
    "    // Coolaborative loading of d_M and d_N tiles into shared memory\n",
    "    Mds[ty][tx] = d_M[Row*Width + m*TILE_WIDTH + tx];\n",
    "    Nds[ty][tx] = d_N[(m*TILE_WIDTH + ty)*Width + Col];\n",
    "    __syncthreads();\n",
    "\n",
    "    for (int k = 0; k < TILE_WIDTH; ++k) {\n",
    "      Pvalue += Mds[ty][k] * Nds[k][tx];\n",
    "    }\n",
    "    __syncthreads();\n",
    "  }\n",
    "  d_P[Row*Width + Col] = Pvalue;\n",
    "\n",
    "}\n",
    "\n",
    "\n",
    "int main() {\n",
    "    \n",
    "  double a[N][N], b[N][N], c[N][N];\n",
    "  double *dev_a, *dev_b, *dev_c;\n",
    "  int i,j;\n",
    "  //int cont;\n",
    "\n",
    "  // Allocate CUDA events that we'll use for timing\n",
    "  cudaEvent_t start;\n",
    "  cudaEventCreate(&start);\n",
    "  cudaEvent_t stop;\n",
    "  cudaEventCreate(&stop);\n",
    "\n",
    "  /* inicializando variables con datos*/\n",
    "  for (i = 0; i < N; i++) {\n",
    "    for (j = 0; j < N; j++) {\n",
    "      a[i][j] = 1.0;\n",
    "      b[i][j] = 2.0;\n",
    "    }\n",
    "  }\n",
    "\n",
    "  int size = N * N * sizeof(double);\n",
    "  cudaMalloc((void **) &dev_a, size);\n",
    "  cudaMalloc((void **) &dev_b, size);\n",
    "  cudaMalloc((void **) &dev_c, size);\n",
    "  cudaMemcpy(dev_a, a, size, cudaMemcpyHostToDevice);\n",
    "  cudaMemcpy(dev_b, b, size, cudaMemcpyHostToDevice);\n",
    "  dim3 dimGrid(N/TILE_WIDTH, N/TILE_WIDTH);\n",
    "  dim3 dimBlock(TILE_WIDTH, TILE_WIDTH);\n",
    "\n",
    "\n",
    "  \n",
    "\n",
    "  // Record the start event\n",
    "  cudaEventRecord(start, NULL);\n",
    "  // Repita la ejecucion del kernel 1000 veces para eliminar efectos de arranque en frio\n",
    "  int nIter = 1000;\n",
    "\n",
    "  for (int j = 0; j < nIter; j++){\n",
    "    //kernel <<< grid, threads >>>\n",
    "    MatrixMulKernel<<<dimGrid, dimBlock>>>(dev_a, dev_b, dev_c,N);\n",
    "  }\n",
    "    \n",
    "\n",
    "\n",
    "  // Record the stop event\n",
    "  cudaEventRecord(stop, NULL);\n",
    "\n",
    "  // Wait for the stop event to complete\n",
    "  cudaEventSynchronize(stop);\n",
    "  float msecTotal = 0.0f;\n",
    "  cudaEventElapsedTime(&msecTotal, start, stop);\n",
    "\n",
    "  // Compute and print the performance\n",
    "  float msecPerKernelExecution = msecTotal / nIter;\n",
    "  printf(\"\\n msecPerKernelExecution: %lf\", msecPerKernelExecution);\n",
    "  //double flopsPerMMull = 2.0 * N * N * N;\n",
    "  float flopsPerMMull = 2.0 * N * N * N;\n",
    "  printf(\"\\n flopsPerMMull: %lf\", flopsPerMMull);\n",
    "  //double gigaFlops = (flopsPerMMull * 1.0e-9f) /(msecPerKernelExecution / 1000.0f);\n",
    "  float gigaFlops = (flopsPerMMull * 1.0e-9f) /(msecPerKernelExecution / 1000.0f);\n",
    "  printf(\"\\n gigaFlops: %lf\", gigaFlops);\n",
    "\n",
    "  cudaMemcpy(c, dev_c, size, cudaMemcpyDeviceToHost);\n",
    "  cudaFree(dev_a);\n",
    "  cudaFree(dev_b);\n",
    "  cudaFree(dev_c);\n",
    "\n",
    "  double c_value = 2*N;\n",
    "  int contError = 0, maxError = 0;\n",
    "  //Comprobamos errores\n",
    "   for (int i=0; i<N; i++){\n",
    "    for (int j=0; j<N; j++){\n",
    "        maxError=fmax(maxError,fabs(c[i][j]-c_value));\n",
    "        if (c[i][j] != c_value) contError++; \n",
    "    }\n",
    "  }\n",
    "\n",
    "  std::cout << \"\\n Multiplicación de matrices cuadradas de \" << N << \" elementos\" << std::endl;\n",
    "  std::cout << \"\\n Número de errores: \" <<contError << std::endl;\n",
    "  std::cout << \"\\nMax error: \" <<maxError << std::endl;\n",
    "\n",
    "  // imprimiendo\n",
    "  /*\n",
    "  for (int y = 0; y < N; y++) {\n",
    "    for (int x = 0; x < N; x++) {\n",
    "      printf(\"[%d][%d]=%d \", y, x, c[y][x]);\n",
    "    }\n",
    "    printf(\"\\n\");\n",
    "  }\n",
    "  */\n",
    "  return 0;\n",
    "}"
   ]
  },
  {
   "cell_type": "code",
   "execution_count": 125,
   "metadata": {
    "colab": {
     "base_uri": "https://localhost:8080/",
     "height": 0
    },
    "id": "FqgEUBY3pFFh",
    "outputId": "b0920032-0223-4965-f6c6-a44369da061a"
   },
   "outputs": [
    {
     "name": "stdout",
     "output_type": "stream",
     "text": [
      "nvcc warning : The 'compute_35', 'compute_37', 'compute_50', 'sm_35', 'sm_37' and 'sm_50' architectures are deprecated, and may be removed in a future release (Use -Wno-deprecated-gpu-targets to suppress warning).\n",
      "\n",
      " msecPerKernelExecution: 0.049757\n",
      " flopsPerMMull: 4194304.000000\n",
      " gigaFlops: 84.296310\n",
      " Multiplicación de matrices cuadradas de 128 elementos\n",
      "\n",
      " Número de errores: 0\n",
      "\n",
      "Max error: 0\n",
      "==3729== NVPROF is profiling process 3729, command: ./tiles_mat_mul_double\n",
      "==3729== Warning: Auto boost enabled on device 0. Profiling results may be inconsistent.\n",
      "==3729== Warning: Profiling results might be incorrect with current version of nvcc compiler used to compile cuda app. Compile with nvcc compiler 9.0 or later version to get correct profiling results. Ignore this warning if code is already compiled with the recommended nvcc version \n",
      "\n",
      " msecPerKernelExecution: 0.049993\n",
      " flopsPerMMull: 4194304.000000\n",
      " gigaFlops: 83.897408\n",
      " Multiplicación de matrices cuadradas de 128 elementos\n",
      "\n",
      " Número de errores: 0\n",
      "\n",
      "Max error: 0\n",
      "==3729== Profiling application: ./tiles_mat_mul_double\n",
      "==3729== Profiling result:\n",
      "            Type  Time(%)      Time     Calls       Avg       Min       Max  Name\n",
      " GPU activities:   99.86%  45.247ms      1000  45.246us  43.072us  46.208us  MatrixMulKernel(double*, double*, double*, int)\n",
      "                    0.09%  41.920us         2  20.960us  20.352us  21.568us  [CUDA memcpy HtoD]\n",
      "                    0.04%  20.000us         1  20.000us  20.000us  20.000us  [CUDA memcpy DtoH]\n",
      "      API calls:   78.30%  183.25ms         2  91.625ms     845ns  183.25ms  cudaEventCreate\n",
      "                   18.74%  43.865ms         1  43.865ms  43.865ms  43.865ms  cudaEventSynchronize\n",
      "                    2.43%  5.6780ms      1000  5.6770us  4.6360us  56.885us  cudaLaunchKernel\n",
      "                    0.21%  491.92us         1  491.92us  491.92us  491.92us  cuDeviceTotalMem\n",
      "                    0.09%  216.38us         3  72.126us  36.560us  132.14us  cudaMemcpy\n",
      "                    0.07%  169.17us       101  1.6740us     170ns  70.005us  cuDeviceGetAttribute\n",
      "                    0.07%  158.85us         3  52.950us  2.2280us  152.69us  cudaMalloc\n",
      "                    0.06%  142.34us         3  47.447us  3.0340us  129.35us  cudaFree\n",
      "                    0.02%  36.080us         1  36.080us  36.080us  36.080us  cuDeviceGetName\n",
      "                    0.00%  8.9340us         2  4.4670us  4.2690us  4.6650us  cudaEventRecord\n",
      "                    0.00%  6.6250us         1  6.6250us  6.6250us  6.6250us  cuDeviceGetPCIBusId\n",
      "                    0.00%  4.3740us         1  4.3740us  4.3740us  4.3740us  cudaEventElapsedTime\n",
      "                    0.00%  1.9880us         3     662ns     220ns     924ns  cuDeviceGetCount\n",
      "                    0.00%  1.5060us         2     753ns     366ns  1.1400us  cuDeviceGet\n",
      "                    0.00%     319ns         1     319ns     319ns     319ns  cuDeviceGetUuid\n"
     ]
    }
   ],
   "source": [
    "!/usr/local/cuda/bin/nvcc -arch=sm_35 -rdc=true tiles_mat_mul_double.cu -o ./tiles_mat_mul_double -lcudadevrt\n",
    "!./tiles_mat_mul_double\n",
    "!nvprof ./tiles_mat_mul_double"
   ]
  },
  {
   "cell_type": "markdown",
   "metadata": {
    "id": "11G_noV6sbYW"
   },
   "source": [
    "Vamos a ver la tabla comparativa"
   ]
  },
  {
   "cell_type": "markdown",
   "metadata": {
    "id": "voMU_541sd-a"
   },
   "source": [
    "![image.png](data:image/png;base64,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)"
   ]
  },
  {
   "cell_type": "markdown",
   "metadata": {
    "id": "WnU0nijFsfWs"
   },
   "source": [
    "Vemos como las operaciones en coma flotente por unidad de tiempo(GFLOPs) se ven cosiderablemente castigadas. Esta diferencia es mayor a medida que aumentamos el tamaño de las matrices. La diferencia más grande las vemos en las matrices de 512*512.\n",
    "\n",
    "También vemos que en consecuencia, los tiempos de acceso de GPU-CPU y viceversa también se ven bastantes penalizados. En el caso de N=512 se ven hasta duplicados. Como consecuencia de esto vemos que el tiempo de ejecución del kernel es mayor. Todo indica a que no es solo debido a una mayor precisión en los números. Muy probablemente debido a que a para tamaños grandes, llenemos la memoria compartida y/o registros(cuyo tamaño es limitado) y tengamos que hacer uso en conjunto de la memoria global(a pesar de haber especificado en los bloques solo compartida) para que la misma no se desborde y podamos obtener un cormportamiento correcto.\n"
   ]
  }
 ],
 "metadata": {
  "accelerator": "GPU",
  "colab": {
   "collapsed_sections": [
    "Mg0xg8sShDJN",
    "vreaPZpqF_NG",
    "emXuYnmEJi8c",
    "gYqbgwF2Ey2E",
    "Dwbiv0LGNd2c",
    "bZRK8kdhN50m",
    "tPeOg_2DN503",
    "R520eYI-OVtf",
    "581_6XfWOVty",
    "5hKgX8yw5bLC",
    "DF9UNzpg5bLS",
    "BI9dZY3ZM-b-",
    "0kUmHAEl9i34",
    "8kIYiodVADVl",
    "pcBMr-UM7bUM",
    "UBomZvnjMwCL",
    "NUYnbobWUEzp",
    "BxWTS5bvR5b5",
    "VNaZ3kFmR8MH"
   ],
   "name": "Practica2.ipynb",
   "provenance": [],
   "toc_visible": true
  },
  "kernelspec": {
   "display_name": "Python 3 (ipykernel)",
   "language": "python",
   "name": "python3"
  },
  "language_info": {
   "codemirror_mode": {
    "name": "ipython",
    "version": 3
   },
   "file_extension": ".py",
   "mimetype": "text/x-python",
   "name": "python",
   "nbconvert_exporter": "python",
   "pygments_lexer": "ipython3",
   "version": "3.8.5"
  }
 },
 "nbformat": 4,
 "nbformat_minor": 1
}
